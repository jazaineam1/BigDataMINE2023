{
 "cells": [
  {
   "cell_type": "code",
   "execution_count": 1,
   "metadata": {},
   "outputs": [
    {
     "name": "stderr",
     "output_type": "stream",
     "text": [
      "WARNING:root:Requests made without an app_token will be subject to strict throttling limits.\n"
     ]
    }
   ],
   "source": [
    "\n",
    "\n",
    "import pandas as pd\n",
    "from sodapy import Socrata\n",
    "\n",
    "\n",
    "client = Socrata(\"www.datos.gov.co\", None)\n",
    "\n",
    "\n",
    "results = client.get(\"rpmr-utcd\", limit=2000000)\n",
    "\n",
    "# Convert to pandas DataFrame\n",
    "results_df = pd.DataFrame.from_records(results)"
   ]
  },
  {
   "cell_type": "code",
   "execution_count": 9,
   "metadata": {},
   "outputs": [
    {
     "data": {
      "text/plain": [
       "26433"
      ]
     },
     "execution_count": 9,
     "metadata": {},
     "output_type": "execute_result"
    }
   ],
   "source": [
    "results_df.query(\"municipio_entidad=='CALI'\")['municipio_entidad'].count()"
   ]
  },
  {
   "cell_type": "code",
   "execution_count": 16,
   "metadata": {},
   "outputs": [
    {
     "name": "stdout",
     "output_type": "stream",
     "text": [
      "Archivo Parquet guardado: C:/Users/nib1l/OneDrive/Documents/Parquet_secop/Secop_ii_0.parquet\n",
      "Archivo Parquet guardado: C:/Users/nib1l/OneDrive/Documents/Parquet_secop/Secop_ii_1.parquet\n",
      "Archivo Parquet guardado: C:/Users/nib1l/OneDrive/Documents/Parquet_secop/Secop_ii_2.parquet\n",
      "Archivo Parquet guardado: C:/Users/nib1l/OneDrive/Documents/Parquet_secop/Secop_ii_3.parquet\n",
      "Archivo Parquet guardado: C:/Users/nib1l/OneDrive/Documents/Parquet_secop/Secop_ii_4.parquet\n",
      "Archivo Parquet guardado: C:/Users/nib1l/OneDrive/Documents/Parquet_secop/Secop_ii_5.parquet\n",
      "Archivo Parquet guardado: C:/Users/nib1l/OneDrive/Documents/Parquet_secop/Secop_ii_6.parquet\n",
      "Archivo Parquet guardado: C:/Users/nib1l/OneDrive/Documents/Parquet_secop/Secop_ii_7.parquet\n",
      "Archivo Parquet guardado: C:/Users/nib1l/OneDrive/Documents/Parquet_secop/Secop_ii_8.parquet\n",
      "Archivo Parquet guardado: C:/Users/nib1l/OneDrive/Documents/Parquet_secop/Secop_ii_9.parquet\n",
      "Archivo Parquet guardado: C:/Users/nib1l/OneDrive/Documents/Parquet_secop/Secop_ii_10.parquet\n",
      "Archivo Parquet guardado: C:/Users/nib1l/OneDrive/Documents/Parquet_secop/Secop_ii_11.parquet\n",
      "Archivo Parquet guardado: C:/Users/nib1l/OneDrive/Documents/Parquet_secop/Secop_ii_12.parquet\n",
      "Archivo Parquet guardado: C:/Users/nib1l/OneDrive/Documents/Parquet_secop/Secop_ii_13.parquet\n",
      "Archivo Parquet guardado: C:/Users/nib1l/OneDrive/Documents/Parquet_secop/Secop_ii_14.parquet\n",
      "Archivo Parquet guardado: C:/Users/nib1l/OneDrive/Documents/Parquet_secop/Secop_ii_15.parquet\n",
      "Archivo Parquet guardado: C:/Users/nib1l/OneDrive/Documents/Parquet_secop/Secop_ii_16.parquet\n",
      "Archivo Parquet guardado: C:/Users/nib1l/OneDrive/Documents/Parquet_secop/Secop_ii_17.parquet\n",
      "Archivo Parquet guardado: C:/Users/nib1l/OneDrive/Documents/Parquet_secop/Secop_ii_18.parquet\n",
      "Archivo Parquet guardado: C:/Users/nib1l/OneDrive/Documents/Parquet_secop/Secop_ii_19.parquet\n",
      "Archivo Parquet guardado: C:/Users/nib1l/OneDrive/Documents/Parquet_secop/Secop_ii_20.parquet\n",
      "Archivo Parquet guardado: C:/Users/nib1l/OneDrive/Documents/Parquet_secop/Secop_ii_21.parquet\n",
      "Archivo Parquet guardado: C:/Users/nib1l/OneDrive/Documents/Parquet_secop/Secop_ii_22.parquet\n",
      "Archivo Parquet guardado: C:/Users/nib1l/OneDrive/Documents/Parquet_secop/Secop_ii_23.parquet\n",
      "Archivo Parquet guardado: C:/Users/nib1l/OneDrive/Documents/Parquet_secop/Secop_ii_24.parquet\n",
      "Archivo Parquet guardado: C:/Users/nib1l/OneDrive/Documents/Parquet_secop/Secop_ii_25.parquet\n",
      "Archivo Parquet guardado: C:/Users/nib1l/OneDrive/Documents/Parquet_secop/Secop_ii_26.parquet\n",
      "Archivo Parquet guardado: C:/Users/nib1l/OneDrive/Documents/Parquet_secop/Secop_ii_27.parquet\n",
      "Archivo Parquet guardado: C:/Users/nib1l/OneDrive/Documents/Parquet_secop/Secop_ii_28.parquet\n",
      "Archivo Parquet guardado: C:/Users/nib1l/OneDrive/Documents/Parquet_secop/Secop_ii_29.parquet\n",
      "Archivo Parquet guardado: C:/Users/nib1l/OneDrive/Documents/Parquet_secop/Secop_ii_30.parquet\n",
      "Archivo Parquet guardado: C:/Users/nib1l/OneDrive/Documents/Parquet_secop/Secop_ii_31.parquet\n",
      "Archivo Parquet guardado: C:/Users/nib1l/OneDrive/Documents/Parquet_secop/Secop_ii_32.parquet\n",
      "Archivo Parquet guardado: C:/Users/nib1l/OneDrive/Documents/Parquet_secop/Secop_ii_33.parquet\n",
      "Archivo Parquet guardado: C:/Users/nib1l/OneDrive/Documents/Parquet_secop/Secop_ii_34.parquet\n",
      "Archivo Parquet guardado: C:/Users/nib1l/OneDrive/Documents/Parquet_secop/Secop_ii_35.parquet\n",
      "Archivo Parquet guardado: C:/Users/nib1l/OneDrive/Documents/Parquet_secop/Secop_ii_36.parquet\n",
      "Archivo Parquet guardado: C:/Users/nib1l/OneDrive/Documents/Parquet_secop/Secop_ii_37.parquet\n",
      "Archivo Parquet guardado: C:/Users/nib1l/OneDrive/Documents/Parquet_secop/Secop_ii_38.parquet\n",
      "Archivo Parquet guardado: C:/Users/nib1l/OneDrive/Documents/Parquet_secop/Secop_ii_39.parquet\n",
      "Archivo Parquet guardado: C:/Users/nib1l/OneDrive/Documents/Parquet_secop/Secop_ii_40.parquet\n",
      "Archivo Parquet guardado: C:/Users/nib1l/OneDrive/Documents/Parquet_secop/Secop_ii_41.parquet\n",
      "Archivo Parquet guardado: C:/Users/nib1l/OneDrive/Documents/Parquet_secop/Secop_ii_42.parquet\n",
      "Archivo Parquet guardado: C:/Users/nib1l/OneDrive/Documents/Parquet_secop/Secop_ii_43.parquet\n"
     ]
    },
    {
     "ename": "",
     "evalue": "",
     "output_type": "error",
     "traceback": [
      "\u001b[1;31mThe Kernel crashed while executing code in the the current cell or a previous cell. Please review the code in the cell(s) to identify a possible cause of the failure. Click <a href='https://aka.ms/vscodeJupyterKernelCrash'>here</a> for more info. View Jupyter <a href='command:jupyter.viewOutput'>log</a> for further details."
     ]
    }
   ],
   "source": [
    "import pandas as pd\n",
    "\n",
    "# Especifica el tamaño máximo de cada archivo Parquet en filas\n",
    "max_rows_per_parquet = 75000  # Por ejemplo, 100 mil de filas por archivo Parquet\n",
    "\n",
    "# Lee el archivo CSV en trozos y conviértelos a archivos Parquet\n",
    "csv_file_path = 'C:/Users/nib1l/Downloads/SECOP_II_-_Contratos_Electr_nicos.csv'\n",
    "chunksize = max_rows_per_parquet\n",
    "columns_to_select=['Nombre Entidad','Nit Entidad','Departamento','Ciudad','Sector','Estado Contrato','Descripcion del Proceso','Tipo de Contrato','Modalidad de Contratacion',\n",
    "                   'Fecha de Firma','Fecha de Inicio del Contrato','Fecha de Fin del Contrato','Documento Proveedor','Proveedor Adjudicado','Es Pyme','Valor del Contrato',\n",
    "                   'URLProceso','Nacionalidad Representante Legal','Género Representante Legal','Objeto del Contrato']\n",
    "reader = pd.read_csv(csv_file_path, chunksize=chunksize,usecols=columns_to_select)\n",
    "i=34\n",
    "for i, chunk in enumerate(reader):\n",
    "    parquet_file_path = f'C:/Users/nib1l/OneDrive/Documents/Parquet_secop/Secop_ii_{i}.parquet'\n",
    "    chunk.to_parquet(parquet_file_path)\n",
    "    print(f'Archivo Parquet guardado: {parquet_file_path}')\n"
   ]
  },
  {
   "cell_type": "code",
   "execution_count": 5,
   "metadata": {},
   "outputs": [
    {
     "data": {
      "text/plain": [
       "'c:\\\\Users\\\\nib1l\\\\AppData\\\\Local\\\\Programs\\\\Microsoft VS Code'"
      ]
     },
     "execution_count": 5,
     "metadata": {},
     "output_type": "execute_result"
    }
   ],
   "source": [
    "import os\n",
    "os.getcwd()"
   ]
  }
 ],
 "metadata": {
  "kernelspec": {
   "display_name": "dask-env",
   "language": "python",
   "name": "python3"
  },
  "language_info": {
   "codemirror_mode": {
    "name": "ipython",
    "version": 3
   },
   "file_extension": ".py",
   "mimetype": "text/x-python",
   "name": "python",
   "nbconvert_exporter": "python",
   "pygments_lexer": "ipython3",
   "version": "3.9.12"
  }
 },
 "nbformat": 4,
 "nbformat_minor": 2
}

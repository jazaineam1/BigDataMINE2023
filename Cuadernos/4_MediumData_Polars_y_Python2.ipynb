{
  "cells": [
    {
      "cell_type": "markdown",
      "metadata": {
        "id": "view-in-github",
        "colab_type": "text"
      },
      "source": [
        "<a href=\"https://colab.research.google.com/github/jazaineam1/BigDataMINE2023/blob/main/Cuadernos/4_MediumData_Polars_y_Python2.ipynb\" target=\"_parent\"><img src=\"https://colab.research.google.com/assets/colab-badge.svg\" alt=\"Open In Colab\"/></a>"
      ]
    },
    {
      "cell_type": "markdown",
      "metadata": {
        "id": "w2_G6P76nRPf"
      },
      "source": [
        "# ***Procesamiento de Medium Data en Python***\n",
        "\n",
        "## ***Universidad Externado de Colombia***\n",
        "\n",
        ">## ***Maestría en Inteligencia de Negocios***\n",
        "![Imágen1](https://www.uexternado.edu.co/wp-content/uploads/2020/07/logo-uec.png)\n",
        "\n",
        "jazaineam@unal.edu.co\n",
        "\n",
        "\n",
        ">## ***Big Data.***\n",
        ">## ***Docente: Antonino Zainea Maya.***"
      ]
    },
    {
      "cell_type": "markdown",
      "metadata": {
        "id": "zlXBf6LyVgfp"
      },
      "source": [
        "![](https://w7.pngwing.com/pngs/838/716/png-transparent-we-bare-bears-characters-polar-bear-giant-panda-grizzly-bear-mammal-polar-bear-white-animals-cat-like-mammal.png)"
      ]
    },
    {
      "cell_type": "markdown",
      "metadata": {
        "id": "hHZet6gxpnnX"
      },
      "source": [
        "El término \"Medium Data\" no es tan comúnmente definido o utilizado en la industria de la tecnología de la información como lo son \"Big Data\" o \"Small Data\". Sin embargo, podemos entender \"Medium Data\" como un término que se sitúa en el medio de estos dos, tanto en términos de volumen de datos como de complejidad en su manejo y análisis. Aquí te explico más detalladamente:\n",
        "\n",
        "### Concepto de Medium Data\n",
        "\n",
        "- **Tamaño y Escala:** Los datos de tamaño medio son más grandes y complejos que los pequeños conjuntos de datos (como una hoja de cálculo con registros de clientes de una pequeña empresa), pero no alcanzan el volumen o la variedad de Big Data (como los generados por redes sociales a nivel global o sensores de IoT a gran escala).\n",
        "\n",
        "- **Características:** Estos datos pueden incluir diversas fuentes y tipos, pero aún son manejables con herramientas y tecnologías de análisis de datos estándar. Pueden requerir cierto grado de procesamiento y capacidad de almacenamiento, pero no en la misma medida que el Big Data.\n",
        "\n",
        "- **Escalabilidad:** Un desafío clave es la escalabilidad. A medida que una organización crece, sus datos pueden empezar a acercarse al umbral del Big Data, lo que requiere una reevaluación de las herramientas y estrategias de manejo de datos.\n"
      ]
    },
    {
      "cell_type": "markdown",
      "metadata": {
        "id": "F20Y0VGxrQfj"
      },
      "source": [
        "\n",
        "### ¿Qué es Pandas?\n",
        "\n",
        "- **Biblioteca de Código Abierto:** Escrita en Python, proporciona estructuras de datos de alto rendimiento y herramientas de análisis.\n",
        "- **Estructuras de Datos:** Ofrece dos estructuras principales, Series (unidimensional) y DataFrame (bidimensional).\n",
        "- **Manipulación y Análisis de Datos:** Ideal para limpieza, transformación, agregación y visualización de datos.\n",
        "- **Lectura y Escritura de Datos:** Soporta varios formatos como CSV, Excel, SQL, entre otros.\n",
        "- **Uso de NumPy:** Tradicionalmente, ha utilizado NumPy para operaciones de bajo nivel y manipulación de arrays.\n",
        "\n",
        "Pandas 2.0, lanzado el 3 de abril de 2023, representa tres años de desarrollo y trae novedades como una mejor integración con matrices de extensión y soporte para DataFrames en PyArrow. Además, introduce una resolución de fecha y hora que no se basa en nanosegundos y efectúa varios cambios en la API debido a la desaprobación forzada de ciertas características. La compatibilidad de código con la versión 2.0 depende de que no haya advertencias en la versión 1.5.3 o anteriores.\n",
        "\n",
        "### Cambios y Novedades en Pandas 2.0\n",
        "\n",
        "#### 1. **Adopción de Apache Arrow en lugar de NumPy:**\n",
        "\n",
        "PyArrow representa una evolución significativa en Pandas 2.0, permitiendo un uso más eficiente de la memoria al procesar grandes conjuntos de datos. Tradicionalmente, Pandas se basaba en NumPy, que es efectivo pero puede ser ineficiente en memoria para conjuntos de datos grandes. PyArrow, construido sobre el formato de datos en columnas Apache Arrow, mejora este aspecto al proporcionar estructuras optimizadas para datos tabulares grandes que están diseñadas para ser rápidas y para minimizar el uso de memoria.\n",
        "\n",
        "Con PyArrow, los usuarios de Pandas pueden esperar una menor huella de memoria y una mejora en el rendimiento general, lo que hace que Pandas sea más viable para trabajar con datos a gran escala que antes requerirían la transición a herramientas como Spark o Dask. Además, PyArrow facilita la interoperabilidad con otros sistemas de procesamiento de datos y formatos de almacenamiento, lo que contribuye a un ecosistema de datos más integrado y eficiente.\n",
        "\n",
        "#### 2. Los tipos de datos que aceptan valores NULL ahora son posibles\n",
        "\n",
        "Pandas 2.0 ha mejorado significativamente el manejo de valores nulos al introducir tipos de datos que aceptan valores NULL. En versiones anteriores, los tipos de datos de NumPy, como los enteros, no podían representar valores nulos, lo que llevaba a conversiones automáticas e indeseadas a tipos flotantes cuando se encontraban valores nulos en columnas enteras.\n",
        "\n",
        "Con Pandas 1.0 se introdujeron tipos de datos anulables, pero su adopción requería esfuerzos adicionales por parte del usuario. Ahora, en la última versión, el manejo de valores nulos se ha simplificado mucho más. Al importar datos con `read_csv`, se puede utilizar el argumento `use_nullable_dtypes=True` para que las columnas se configuren automáticamente con tipos de datos que permiten valores nulos, eliminando las conversiones no deseadas y haciendo que el trabajo con datos faltantes sea más directo y menos propenso a errores.\n",
        "\n"
      ]
    },
    {
      "cell_type": "markdown",
      "metadata": {
        "id": "nmJhQ-axVgfq"
      },
      "source": [
        "#### 3. Mejora del rendimiento de copia en escritura\n",
        "\n",
        "La técnica de \"Copy-on-Write\" (Copia en Escritura) en Pandas 2.0 es una estrategia de optimización de memoria que mejora el rendimiento y reduce el uso de memoria al manejar grandes conjuntos de datos. Funciona de manera similar a las operaciones diferidas en Spark, donde las operaciones se ejecutan solo cuando es necesario. Al crear una copia de un objeto de Pandas, como un DataFrame, se genera una referencia a los datos originales, y una nueva copia se crea solo si se hacen modificaciones. Esto minimiza las copias redundantes de datos y reduce el uso de memoria."
      ]
    },
    {
      "cell_type": "markdown",
      "metadata": {
        "id": "i98-EcuhVgfr"
      },
      "source": [
        "### 4. Tipos numéricos NumPy admitidos por índice\n",
        "En Pandas 2.0, la funcionalidad de los índices se ha mejorado para soportar una gama más amplia de tipos numéricos de NumPy, incluyendo tipos de menor tamaño de bits como int8, int16, int32, entre otros. Anteriormente, solo se admitían tipos como int64, uint64 y float64. Esta actualización permite la creación de índices de menor tamaño, como los de 32 bits, en situaciones que antes generaban índices de 64 bits, mejorando así la eficiencia en términos de uso de memoria."
      ]
    },
    {
      "cell_type": "markdown",
      "metadata": {
        "id": "L6YchJUwVgfr"
      },
      "source": [
        "#### 5. Resolución que no es de nanosegundos en marcas de tiempo\n",
        "Se ha mejorado la resolución de las marcas de tiempo, superando la anterior limitación de solo representarlas en nanosegundos. Ahora, se soportan resoluciones como segundos, milisegundos y microsegundos, permitiendo representar rangos de tiempo mucho más amplios, de hasta aproximadamente +/- 2.9e11 años. Esta mejora es especialmente útil para análisis de series temporales que abarcan periodos extensos, superando las restricciones de fecha anteriores.\n",
        "\n",
        "#### 6. Formato de análisis coherente para fechas y horas\n",
        "\n",
        "El proceso de análisis de fechas y horas con la función `to_datetime()` ha sido modificado para usar un formato consistente basado en el primer valor no nulo (NA). Antes, esta función determinaba el formato de cada elemento de forma independiente, lo cual podía ser problemático. Ahora, los usuarios también pueden especificar un formato particular si lo desean, y este formato especificado prevalecerá en el análisis.\n",
        "\n",
        "Antes,\n",
        "```python\n",
        "ser = pd.Series(['13-01-2000', '12-01-2000'])\n",
        "pd.to_datetime(ser)\n",
        "Out[2]:\n",
        "0   2000-01-13\n",
        "1   2000-12-01\n",
        "dtype: datetime64[ns]\n",
        "\n",
        "```\n",
        "\n",
        "Ahora,\n",
        "\n",
        "```\n",
        "ser = pd.Series(['13-01-2000', '12-01-2000'])\n",
        "\n",
        "pd.to_datetime(ser)\n",
        "Out[43]:\n",
        "0   2000-01-13\n",
        "1   2000-01-12\n",
        "dtype: datetime64[ns]\n",
        "\n",
        "```\n",
        "\n",
        "Puedes ver los cambios adicionales acá https://pandas.pydata.org/docs/dev/whatsnew/v2.0.0.html#backwards-incompatible-api-changes"
      ]
    },
    {
      "cell_type": "markdown",
      "metadata": {
        "id": "xqtbE6KZVgfr"
      },
      "source": [
        "## Polars\n",
        "\n",
        "Puedes ver más en [Cheat seet](https://franzdiebold.github.io/polars-cheat-sheet/Polars_cheat_sheet.pdf).\n",
        "\n",
        "Polars combina la flexibilidad y facilidad de uso de Python con la velocidad y escalabilidad de Rust. Es rápido gracias a su núcleo escrito en Rust, un lenguaje eficiente en memoria con rendimiento comparable a C o C++. Polars puede utilizar todos los núcleos de CPU en paralelo y admite conjuntos de datos grandes. Su API intuitiva es fácil de usar para quienes conocen bibliotecas como Pandas. Además, utiliza Apache Arrow para ejecutar consultas vectorizadas y almacenamiento de datos columnar para un procesamiento en memoria rápido. Estas características lo hacen una biblioteca atractiva para el procesamiento de datos."
      ]
    },
    {
      "cell_type": "code",
      "execution_count": 1,
      "metadata": {
        "id": "q2m0WBcqVgfs",
        "outputId": "ea9e88b1-18c3-4056-8dee-7dce12600b8e",
        "colab": {
          "base_uri": "https://localhost:8080/"
        }
      },
      "outputs": [
        {
          "output_type": "stream",
          "name": "stdout",
          "text": [
            "Requirement already satisfied: polars in /usr/local/lib/python3.10/dist-packages (0.20.2)\n"
          ]
        }
      ],
      "source": [
        "# instalación de polars\n",
        "!pip install polars"
      ]
    },
    {
      "cell_type": "code",
      "execution_count": 2,
      "metadata": {
        "id": "hQ3cGYzTVgft",
        "outputId": "aa08f046-50f0-48a6-80bd-81c0a50871d8",
        "colab": {
          "base_uri": "https://localhost:8080/",
          "height": 36
        }
      },
      "outputs": [
        {
          "output_type": "execute_result",
          "data": {
            "text/plain": [
              "'0.20.2'"
            ],
            "application/vnd.google.colaboratory.intrinsic+json": {
              "type": "string"
            }
          },
          "metadata": {},
          "execution_count": 2
        }
      ],
      "source": [
        "import polars as pl\n",
        "pl.__version__"
      ]
    },
    {
      "cell_type": "markdown",
      "metadata": {
        "id": "ekbJN4iBVgft"
      },
      "source": [
        "Si la importación de Polars se realiza sin errores, significa que has instalado con éxito la versión básica de Polars. Esta instalación ligera te permite comenzar sin dependencias adicionales. Para acceder a las características más avanzadas de Polars, que incluyen la interacción con el ecosistema de Python y fuentes de datos externas, necesitas instalar Polars con banderas de características específicas. Por ejemplo, para convertir DataFrames de Polars a DataFrames de pandas y arrays de NumPy, debes instalar Polars con el comando correspondiente que incluya estas características."
      ]
    },
    {
      "cell_type": "code",
      "execution_count": 3,
      "metadata": {
        "id": "WTXxtgAIVgfu",
        "outputId": "048ba6cc-eeb8-4f98-c6ff-1a8ea275491a",
        "colab": {
          "base_uri": "https://localhost:8080/"
        }
      },
      "outputs": [
        {
          "output_type": "stream",
          "name": "stdout",
          "text": [
            "Requirement already satisfied: polars[numpy,pandas] in /usr/local/lib/python3.10/dist-packages (0.20.2)\n",
            "Requirement already satisfied: numpy>=1.16.0 in /usr/local/lib/python3.10/dist-packages (from polars[numpy,pandas]) (1.23.5)\n",
            "Requirement already satisfied: pyarrow>=7.0.0 in /usr/local/lib/python3.10/dist-packages (from polars[numpy,pandas]) (10.0.1)\n",
            "Requirement already satisfied: pandas in /usr/local/lib/python3.10/dist-packages (from polars[numpy,pandas]) (1.5.3)\n",
            "Requirement already satisfied: python-dateutil>=2.8.1 in /usr/local/lib/python3.10/dist-packages (from pandas->polars[numpy,pandas]) (2.8.2)\n",
            "Requirement already satisfied: pytz>=2020.1 in /usr/local/lib/python3.10/dist-packages (from pandas->polars[numpy,pandas]) (2023.3.post1)\n",
            "Requirement already satisfied: six>=1.5 in /usr/local/lib/python3.10/dist-packages (from python-dateutil>=2.8.1->pandas->polars[numpy,pandas]) (1.16.0)\n"
          ]
        }
      ],
      "source": [
        "pip install \"polars[numpy, pandas]\""
      ]
    },
    {
      "cell_type": "markdown",
      "metadata": {
        "id": "8O2Na_ioVgfu"
      },
      "source": [
        "Este comando instala el núcleo de Polars junto con la funcionalidad necesaria para convertir DataFrames de Polars a objetos de pandas y NumPy. La lista completa de dependencias opcionales que se pueden instalar con Polars está disponible en la documentación de Polars. Alternativamente, para obtener todas las características, se puede instalar Polars con todas las dependencias opcionales usando el comando:\n",
        "```\n",
        "pip install \"polars[all]\"\n",
        "```"
      ]
    },
    {
      "cell_type": "markdown",
      "metadata": {
        "id": "-iK-2jiSVgfu"
      },
      "source": [
        "#### Crear y leer DataFrames"
      ]
    },
    {
      "cell_type": "code",
      "execution_count": 4,
      "metadata": {
        "id": "UFP-9lVDVgfu"
      },
      "outputs": [],
      "source": [
        "df = pl.DataFrame(\n",
        "    {\n",
        "        \"nrs\": [1, 2, 3, None, 5],\n",
        "        \"names\": [\"foo\", \"ham\", \"spam\", \"egg\", None],\n",
        "        \"random\": [0.3, 0.7, 0.1, 0.9, 0.6],\n",
        "        \"groups\": [\"A\", \"A\", \"B\", \"C\", \"B\"],\n",
        "    }\n",
        ")"
      ]
    },
    {
      "cell_type": "code",
      "execution_count": 5,
      "metadata": {
        "id": "iOY3VrheVgfu",
        "outputId": "123836a3-078e-49b2-898e-249e2e153cc0",
        "colab": {
          "base_uri": "https://localhost:8080/",
          "height": 255
        }
      },
      "outputs": [
        {
          "output_type": "execute_result",
          "data": {
            "text/plain": [
              "shape: (5, 5)\n",
              "┌──────────────┬─────────────┬──────────────┬─────────────┬─────────┐\n",
              "│ sepal_length ┆ sepal_width ┆ petal_length ┆ petal_width ┆ species │\n",
              "│ ---          ┆ ---         ┆ ---          ┆ ---         ┆ ---     │\n",
              "│ f64          ┆ f64         ┆ f64          ┆ f64         ┆ str     │\n",
              "╞══════════════╪═════════════╪══════════════╪═════════════╪═════════╡\n",
              "│ 5.1          ┆ 3.5         ┆ 1.4          ┆ 0.2         ┆ setosa  │\n",
              "│ 4.9          ┆ 3.0         ┆ 1.4          ┆ 0.2         ┆ setosa  │\n",
              "│ 4.7          ┆ 3.2         ┆ 1.3          ┆ 0.2         ┆ setosa  │\n",
              "│ 4.6          ┆ 3.1         ┆ 1.5          ┆ 0.2         ┆ setosa  │\n",
              "│ 5.0          ┆ 3.6         ┆ 1.4          ┆ 0.2         ┆ setosa  │\n",
              "└──────────────┴─────────────┴──────────────┴─────────────┴─────────┘"
            ],
            "text/html": [
              "<div><style>\n",
              ".dataframe > thead > tr,\n",
              ".dataframe > tbody > tr {\n",
              "  text-align: right;\n",
              "  white-space: pre-wrap;\n",
              "}\n",
              "</style>\n",
              "<small>shape: (5, 5)</small><table border=\"1\" class=\"dataframe\"><thead><tr><th>sepal_length</th><th>sepal_width</th><th>petal_length</th><th>petal_width</th><th>species</th></tr><tr><td>f64</td><td>f64</td><td>f64</td><td>f64</td><td>str</td></tr></thead><tbody><tr><td>5.1</td><td>3.5</td><td>1.4</td><td>0.2</td><td>&quot;setosa&quot;</td></tr><tr><td>4.9</td><td>3.0</td><td>1.4</td><td>0.2</td><td>&quot;setosa&quot;</td></tr><tr><td>4.7</td><td>3.2</td><td>1.3</td><td>0.2</td><td>&quot;setosa&quot;</td></tr><tr><td>4.6</td><td>3.1</td><td>1.5</td><td>0.2</td><td>&quot;setosa&quot;</td></tr><tr><td>5.0</td><td>3.6</td><td>1.4</td><td>0.2</td><td>&quot;setosa&quot;</td></tr></tbody></table></div>"
            ]
          },
          "metadata": {},
          "execution_count": 5
        }
      ],
      "source": [
        "#leer csv\n",
        "df = pl.read_csv(\"https://j.mp/iriscsv\", has_header=True)\n",
        "df.head()"
      ]
    },
    {
      "cell_type": "code",
      "execution_count": 6,
      "metadata": {
        "id": "MT-K48MmVgfu"
      },
      "outputs": [],
      "source": [
        "%%capture\n",
        "pip install sodapy"
      ]
    },
    {
      "cell_type": "code",
      "execution_count": null,
      "metadata": {
        "id": "7sXmoxyHVgfv",
        "outputId": "480fcd6c-8ba1-43b5-cb7e-87877abb1063",
        "colab": {
          "base_uri": "https://localhost:8080/"
        }
      },
      "outputs": [
        {
          "output_type": "stream",
          "name": "stderr",
          "text": [
            "WARNING:root:Requests made without an app_token will be subject to strict throttling limits.\n"
          ]
        }
      ],
      "source": [
        "import pandas as pd\n",
        "from sodapy import Socrata\n",
        "\n",
        "\n",
        "client = Socrata(\"www.datos.gov.co\", None)\n",
        "results = client.get(\"jbjy-vk9h\", limit=1000000)"
      ]
    },
    {
      "cell_type": "code",
      "source": [
        "datos_pagina.shape"
      ],
      "metadata": {
        "id": "PgT1yWVcyHED"
      },
      "execution_count": null,
      "outputs": []
    },
    {
      "cell_type": "code",
      "execution_count": null,
      "metadata": {
        "id": "MoeRHfVSVgfv"
      },
      "outputs": [],
      "source": [
        "datos_pagina = pl.DataFrame(results,infer_schema_length=0)\n",
        "datos_pagina.head()"
      ]
    },
    {
      "cell_type": "code",
      "execution_count": 9,
      "metadata": {
        "id": "qOIp2k7bVgfv",
        "outputId": "a92c5170-a6b2-43dd-d841-6bd3a0b1a5c9",
        "colab": {
          "base_uri": "https://localhost:8080/"
        }
      },
      "outputs": [
        {
          "output_type": "execute_result",
          "data": {
            "text/plain": [
              "polars.dataframe.frame.DataFrame"
            ]
          },
          "metadata": {},
          "execution_count": 9
        }
      ],
      "source": [
        "type(datos_pagina)"
      ]
    },
    {
      "cell_type": "markdown",
      "metadata": {
        "id": "gsza-wKkVgfv"
      },
      "source": [
        "#### Cambiar tipo de datos"
      ]
    },
    {
      "cell_type": "code",
      "execution_count": 10,
      "metadata": {
        "id": "QAICncS9Vgfv",
        "outputId": "815c398c-f7d9-4abc-cf34-eb7af1007685",
        "colab": {
          "base_uri": "https://localhost:8080/"
        }
      },
      "outputs": [
        {
          "output_type": "stream",
          "name": "stderr",
          "text": [
            "<ipython-input-10-32c4e34012a8>:3: ChronoFormatWarning: Detected the pattern `.%f` in the chrono format string. This pattern should not be used to parse values after a decimal point. Use `%.f` instead. See the full specification: https://docs.rs/chrono/latest/chrono/format/strftime\n",
            "  datos_pagina = datos_pagina.with_columns(pl.col(\"fecha_de_firma\").str.to_datetime(formato_fecha, strict=False))\n",
            "<ipython-input-10-32c4e34012a8>:4: ChronoFormatWarning: Detected the pattern `.%f` in the chrono format string. This pattern should not be used to parse values after a decimal point. Use `%.f` instead. See the full specification: https://docs.rs/chrono/latest/chrono/format/strftime\n",
            "  datos_pagina = datos_pagina.with_columns(pl.col(\"fecha_de_inicio_del_contrato\").str.to_datetime(formato_fecha, strict=False))\n",
            "<ipython-input-10-32c4e34012a8>:5: ChronoFormatWarning: Detected the pattern `.%f` in the chrono format string. This pattern should not be used to parse values after a decimal point. Use `%.f` instead. See the full specification: https://docs.rs/chrono/latest/chrono/format/strftime\n",
            "  datos_pagina = datos_pagina.with_columns(pl.col(\"fecha_de_fin_del_contrato\").str.to_datetime(formato_fecha, strict=False))\n"
          ]
        }
      ],
      "source": [
        "formato_fecha = \"%Y-%m-%dT%H:%M:%S.%f\"\n",
        "datos_pagina = datos_pagina.with_columns(pl.col(\"nit_entidad\").cast(pl.Float32))\n",
        "datos_pagina = datos_pagina.with_columns(pl.col(\"fecha_de_firma\").str.to_datetime(formato_fecha, strict=False))\n",
        "datos_pagina = datos_pagina.with_columns(pl.col(\"fecha_de_inicio_del_contrato\").str.to_datetime(formato_fecha, strict=False))\n",
        "datos_pagina = datos_pagina.with_columns(pl.col(\"fecha_de_fin_del_contrato\").str.to_datetime(formato_fecha, strict=False))\n",
        "datos_pagina = datos_pagina.with_columns(pl.col(\"valor_del_contrato\").cast(pl.Float32))\n",
        "datos_pagina = datos_pagina.with_columns(pl.col(\"valor_de_pago_adelantado\").cast(pl.Float32))\n",
        "datos_pagina = datos_pagina.with_columns(pl.col(\"valor_facturado\").cast(pl.Float32))\n",
        "datos_pagina = datos_pagina.with_columns(pl.col(\"valor_pendiente_de_pago\").cast(pl.Float32))\n",
        "datos_pagina = datos_pagina.with_columns(pl.col(\"valor_pagado\").cast(pl.Float32))\n",
        "datos_pagina = datos_pagina.with_columns(pl.col(\"valor_amortizado\").cast(pl.Float32))\n",
        "datos_pagina = datos_pagina.with_columns(pl.col(\"valor_pendiente_de\").cast(pl.Float32))\n",
        "datos_pagina = datos_pagina.with_columns(pl.col(\"valor_pendiente_de_ejecucion\").cast(pl.Float32))\n",
        "datos_pagina = datos_pagina.with_columns(pl.col(\"saldo_cdp\").cast(pl.Float32))\n",
        "datos_pagina = datos_pagina.with_columns(pl.col(\"saldo_vigencia\").cast(pl.Float32))\n",
        "datos_pagina = datos_pagina.with_columns(pl.col(\"dias_adicionados\").cast(pl.Float32))\n",
        "datos_pagina = datos_pagina.with_columns(pl.col(\"presupuesto_general_de_la_nacion_pgn\").cast(pl.Float32))\n",
        "datos_pagina = datos_pagina.with_columns(pl.col(\"sistema_general_de_participaciones\").cast(pl.Float32))\n",
        "datos_pagina = datos_pagina.with_columns(pl.col(\"sistema_general_de_regal_as\").cast(pl.Float32))\n",
        "datos_pagina = datos_pagina.with_columns(pl.col(\"recursos_propios_alcald_as_gobernaciones_y_resguardos_ind_genas_\").cast(pl.Float32))\n",
        "datos_pagina = datos_pagina.with_columns(pl.col(\"recursos_de_credito\").cast(pl.Float32))\n",
        "datos_pagina = datos_pagina.with_columns(pl.col(\"recursos_propios\").cast(pl.Float32))\n",
        "\n",
        "\n"
      ]
    },
    {
      "cell_type": "code",
      "execution_count": 11,
      "metadata": {
        "id": "ll2QzAU2Vgfv",
        "outputId": "ae7d86ba-0b68-4223-8b43-adaab89dce80",
        "colab": {
          "base_uri": "https://localhost:8080/"
        }
      },
      "outputs": [
        {
          "output_type": "execute_result",
          "data": {
            "text/plain": [
              "[Utf8,\n",
              " Float32,\n",
              " Utf8,\n",
              " Utf8,\n",
              " Utf8,\n",
              " Utf8,\n",
              " Utf8,\n",
              " Utf8,\n",
              " Utf8,\n",
              " Utf8,\n",
              " Utf8,\n",
              " Utf8,\n",
              " Utf8,\n",
              " Utf8,\n",
              " Utf8,\n",
              " Utf8,\n",
              " Utf8,\n",
              " Utf8,\n",
              " Datetime(time_unit='ns', time_zone=None),\n",
              " Datetime(time_unit='ns', time_zone=None),\n",
              " Datetime(time_unit='ns', time_zone=None),\n",
              " Utf8,\n",
              " Utf8,\n",
              " Utf8,\n",
              " Utf8,\n",
              " Utf8,\n",
              " Utf8,\n",
              " Utf8,\n",
              " Utf8,\n",
              " Utf8,\n",
              " Utf8,\n",
              " Utf8,\n",
              " Utf8,\n",
              " Utf8,\n",
              " Float32,\n",
              " Float32,\n",
              " Float32,\n",
              " Float32,\n",
              " Float32,\n",
              " Float32,\n",
              " Float32,\n",
              " Float32,\n",
              " Utf8,\n",
              " Utf8,\n",
              " Utf8,\n",
              " Float32,\n",
              " Float32,\n",
              " Utf8,\n",
              " Float32,\n",
              " Utf8,\n",
              " Utf8,\n",
              " Struct({'url': Utf8}),\n",
              " Utf8,\n",
              " Utf8,\n",
              " Utf8,\n",
              " Utf8,\n",
              " Utf8,\n",
              " Utf8,\n",
              " Float32,\n",
              " Float32,\n",
              " Float32,\n",
              " Float32,\n",
              " Float32,\n",
              " Float32,\n",
              " Utf8,\n",
              " Utf8,\n",
              " Utf8]"
            ]
          },
          "metadata": {},
          "execution_count": 11
        }
      ],
      "source": [
        "datos_pagina.dtypes"
      ]
    },
    {
      "cell_type": "markdown",
      "metadata": {
        "id": "q841UJejVgfv"
      },
      "source": [
        "#### Escritura en parquet"
      ]
    },
    {
      "cell_type": "code",
      "execution_count": 12,
      "metadata": {
        "id": "6gXjQUFXVgfw"
      },
      "outputs": [],
      "source": [
        "datos_pagina.write_parquet(\"c:\\\\Users\\\\nib1l\\\\Downloads\\\\datos.parquet\")"
      ]
    },
    {
      "cell_type": "markdown",
      "metadata": {
        "id": "uM-zpwOFVgfw"
      },
      "source": [
        "#### Lectura de parquet"
      ]
    },
    {
      "cell_type": "code",
      "execution_count": 13,
      "metadata": {
        "id": "ITUZ1-ySVgfw",
        "outputId": "9a6fb4e5-6bfc-4687-b40b-2b4579ee66d3",
        "colab": {
          "base_uri": "https://localhost:8080/",
          "height": 361
        }
      },
      "outputs": [
        {
          "output_type": "execute_result",
          "data": {
            "text/plain": [
              "shape: (5, 67)\n",
              "┌───────────┬───────────┬───────────┬───────────┬───┬───────────┬───────────┬───────────┬──────────┐\n",
              "│ nombre_en ┆ nit_entid ┆ departame ┆ ciudad    ┆ … ┆ recursos_ ┆ codigo_en ┆ codigo_pr ┆ objeto_d │\n",
              "│ tidad     ┆ ad        ┆ nto       ┆ ---       ┆   ┆ propios   ┆ tidad     ┆ oveedor   ┆ el_contr │\n",
              "│ ---       ┆ ---       ┆ ---       ┆ str       ┆   ┆ ---       ┆ ---       ┆ ---       ┆ ato      │\n",
              "│ str       ┆ f32       ┆ str       ┆           ┆   ┆ f32       ┆ str       ┆ str       ┆ ---      │\n",
              "│           ┆           ┆           ┆           ┆   ┆           ┆           ┆           ┆ str      │\n",
              "╞═══════════╪═══════════╪═══════════╪═══════════╪═══╪═══════════╪═══════════╪═══════════╪══════════╡\n",
              "│ AGENCIA   ┆ 9.0094892 ┆ Distrito  ┆ Bogotá    ┆ … ┆ 0.0       ┆ 702066010 ┆ 702083288 ┆ Prestar  │\n",
              "│ NACIONAL  ┆ 8e8       ┆ Capital   ┆           ┆   ┆           ┆           ┆           ┆ sus serv │\n",
              "│ DE        ┆           ┆ de Bogotá ┆           ┆   ┆           ┆           ┆           ┆ icios    │\n",
              "│ TIERRAS - ┆           ┆           ┆           ┆   ┆           ┆           ┆           ┆ jurídico │\n",
              "│ AN…       ┆           ┆           ┆           ┆   ┆           ┆           ┆           ┆ s …      │\n",
              "│ SECRETARI ┆ 8.9040e9  ┆ Valle del ┆ Cali      ┆ … ┆ 0.0       ┆ 709412027 ┆ 710837337 ┆ Prestaci │\n",
              "│ A DE INFR ┆           ┆ Cauca     ┆           ┆   ┆           ┆           ┆           ┆ ón de    │\n",
              "│ AESTRUCTU ┆           ┆           ┆           ┆   ┆           ┆           ┆           ┆ Servicio │\n",
              "│ RA - …    ┆           ┆           ┆           ┆   ┆           ┆           ┆           ┆ s Profes │\n",
              "│           ┆           ┆           ┆           ┆   ┆           ┆           ┆           ┆ io…      │\n",
              "│ INSTITUCI ┆ 8.9098016 ┆ Antioquia ┆ Medellín  ┆ … ┆ 0.0       ┆ 704629146 ┆ 714239985 ┆ El Contr │\n",
              "│ ÓN UNIVER ┆ e8        ┆           ┆           ┆   ┆           ┆           ┆           ┆ atista   │\n",
              "│ SITARIA   ┆           ┆           ┆           ┆   ┆           ┆           ┆           ┆ de       │\n",
              "│ COLEGI…   ┆           ┆           ┆           ┆   ┆           ┆           ┆           ┆ manera   │\n",
              "│           ┆           ┆           ┆           ┆   ┆           ┆           ┆           ┆ indepen… │\n",
              "│ DISTRITO  ┆ 8.9010201 ┆ Atlántico ┆ Barranqui ┆ … ┆ 0.0       ┆ 702442096 ┆ 709472161 ┆ PRESTACI │\n",
              "│ ESPECIAL  ┆ 6e8       ┆           ┆ lla       ┆   ┆           ┆           ┆           ┆ ÓN DE    │\n",
              "│ INDUSTRIA ┆           ┆           ┆           ┆   ┆           ┆           ┆           ┆ SERVICIO │\n",
              "│ L Y P…    ┆           ┆           ┆           ┆   ┆           ┆           ┆           ┆ S DE     │\n",
              "│           ┆           ┆           ┆           ┆   ┆           ┆           ┆           ┆ APOYO…   │\n",
              "│ CORPORACI ┆ 8.9050528 ┆ Norte de  ┆ Cúcuta    ┆ … ┆ 1.25e7    ┆ 706029618 ┆ 718389844 ┆ PRESTACI │\n",
              "│ ON        ┆ e8        ┆ Santander ┆           ┆   ┆           ┆           ┆           ┆ ÓN DE    │\n",
              "│ AUTONOMA  ┆           ┆           ┆           ┆   ┆           ┆           ┆           ┆ SERVICIO │\n",
              "│ REGIONAL  ┆           ┆           ┆           ┆   ┆           ┆           ┆           ┆ S PROFES │\n",
              "│ DE…       ┆           ┆           ┆           ┆   ┆           ┆           ┆           ┆ IO…      │\n",
              "└───────────┴───────────┴───────────┴───────────┴───┴───────────┴───────────┴───────────┴──────────┘"
            ],
            "text/html": [
              "<div><style>\n",
              ".dataframe > thead > tr,\n",
              ".dataframe > tbody > tr {\n",
              "  text-align: right;\n",
              "  white-space: pre-wrap;\n",
              "}\n",
              "</style>\n",
              "<small>shape: (5, 67)</small><table border=\"1\" class=\"dataframe\"><thead><tr><th>nombre_entidad</th><th>nit_entidad</th><th>departamento</th><th>ciudad</th><th>localizaci_n</th><th>orden</th><th>sector</th><th>rama</th><th>entidad_centralizada</th><th>proceso_de_compra</th><th>id_contrato</th><th>referencia_del_contrato</th><th>estado_contrato</th><th>codigo_de_categoria_principal</th><th>descripcion_del_proceso</th><th>tipo_de_contrato</th><th>modalidad_de_contratacion</th><th>justificacion_modalidad_de</th><th>fecha_de_firma</th><th>fecha_de_inicio_del_contrato</th><th>fecha_de_fin_del_contrato</th><th>condiciones_de_entrega</th><th>tipodocproveedor</th><th>documento_proveedor</th><th>proveedor_adjudicado</th><th>es_grupo</th><th>es_pyme</th><th>habilita_pago_adelantado</th><th>liquidaci_n</th><th>obligaci_n_ambiental</th><th>obligaciones_postconsumo</th><th>reversion</th><th>origen_de_los_recursos</th><th>destino_gasto</th><th>valor_del_contrato</th><th>valor_de_pago_adelantado</th><th>valor_facturado</th><th>valor_pendiente_de_pago</th><th>valor_pagado</th><th>valor_amortizado</th><th>valor_pendiente_de</th><th>valor_pendiente_de_ejecucion</th><th>estado_bpin</th><th>c_digo_bpin</th><th>anno_bpin</th><th>saldo_cdp</th><th>saldo_vigencia</th><th>espostconflicto</th><th>dias_adicionados</th><th>puntos_del_acuerdo</th><th>pilares_del_acuerdo</th><th>urlproceso</th><th>nombre_representante_legal</th><th>nacionalidad_representante_legal</th><th>domicilio_representante_legal</th><th>tipo_de_identificaci_n_representante_legal</th><th>identificaci_n_representante_legal</th><th>g_nero_representante_legal</th><th>presupuesto_general_de_la_nacion_pgn</th><th>sistema_general_de_participaciones</th><th>sistema_general_de_regal_as</th><th>recursos_propios_alcald_as_gobernaciones_y_resguardos_ind_genas_</th><th>recursos_de_credito</th><th>recursos_propios</th><th>codigo_entidad</th><th>codigo_proveedor</th><th>objeto_del_contrato</th></tr><tr><td>str</td><td>f32</td><td>str</td><td>str</td><td>str</td><td>str</td><td>str</td><td>str</td><td>str</td><td>str</td><td>str</td><td>str</td><td>str</td><td>str</td><td>str</td><td>str</td><td>str</td><td>str</td><td>datetime[ns]</td><td>datetime[ns]</td><td>datetime[ns]</td><td>str</td><td>str</td><td>str</td><td>str</td><td>str</td><td>str</td><td>str</td><td>str</td><td>str</td><td>str</td><td>str</td><td>str</td><td>str</td><td>f32</td><td>f32</td><td>f32</td><td>f32</td><td>f32</td><td>f32</td><td>f32</td><td>f32</td><td>str</td><td>str</td><td>str</td><td>f32</td><td>f32</td><td>str</td><td>f32</td><td>str</td><td>str</td><td>struct[1]</td><td>str</td><td>str</td><td>str</td><td>str</td><td>str</td><td>str</td><td>f32</td><td>f32</td><td>f32</td><td>f32</td><td>f32</td><td>f32</td><td>str</td><td>str</td><td>str</td></tr></thead><tbody><tr><td>&quot;AGENCIA NACION…</td><td>9.00948928e8</td><td>&quot;Distrito Capit…</td><td>&quot;Bogotá&quot;</td><td>&quot;Colombia, Bogo…</td><td>&quot;Nacional&quot;</td><td>&quot;agricultura&quot;</td><td>&quot;Ejecutivo&quot;</td><td>&quot;Centralizada&quot;</td><td>&quot;CO1.BDOS.16613…</td><td>&quot;CO1.PCCNTR.212…</td><td>&quot;ANT-CDPS-131-2…</td><td>&quot;En ejecución&quot;</td><td>&quot;V1.80121700&quot;</td><td>&quot;Prestar sus se…</td><td>&quot;Prestación de …</td><td>&quot;Contratación d…</td><td>&quot;Servicios prof…</td><td>2021-01-19 00:00:00</td><td>2021-01-28 00:00:00</td><td>2021-12-25 00:00:00</td><td>&quot;A convenir&quot;</td><td>&quot;Cédula de Ciud…</td><td>&quot;1019025797&quot;</td><td>&quot;JOISSE SMITH A…</td><td>&quot;No&quot;</td><td>&quot;No&quot;</td><td>&quot;No&quot;</td><td>&quot;No&quot;</td><td>&quot;No&quot;</td><td>&quot;No&quot;</td><td>&quot;No&quot;</td><td>&quot;Distribuido&quot;</td><td>&quot;Inversión&quot;</td><td>1.17763336e8</td><td>0.0</td><td>1.17763336e8</td><td>7.004e7</td><td>4.7723332e7</td><td>0.0</td><td>0.0</td><td>7.004e7</td><td>&quot;Válido&quot;</td><td>&quot;2020011000016&quot;</td><td>&quot;2021&quot;</td><td>3.4198e9</td><td>0.0</td><td>&quot;Si&quot;</td><td>0.0</td><td>&quot;ReformaRuralIn…</td><td>&quot;OSPRUDS&quot;</td><td>{&quot;https://community.secop.gov.co/Public/Tendering/OpportunityDetail/Index?noticeUID=CO1.NTC.1658141&amp;isFromPublicArea=True&amp;isModal=true&amp;asPopupView=true&quot;}</td><td>&quot;JOISSE SMITH A…</td><td>&quot;CO&quot;</td><td>&quot;Calle 7 No. 90…</td><td>&quot;Cédula de Ciud…</td><td>&quot;1019025797&quot;</td><td>&quot;Femenino&quot;</td><td>1.17763336e8</td><td>0.0</td><td>0.0</td><td>0.0</td><td>0.0</td><td>0.0</td><td>&quot;702066010&quot;</td><td>&quot;702083288&quot;</td><td>&quot;Prestar sus se…</td></tr><tr><td>&quot;SECRETARIA DE …</td><td>8.9040e9</td><td>&quot;Valle del Cauc…</td><td>&quot;Cali&quot;</td><td>&quot;Colombia,  Val…</td><td>&quot;Territorial&quot;</td><td>&quot;Servicio Públi…</td><td>&quot;Ejecutivo&quot;</td><td>&quot;Centralizada&quot;</td><td>&quot;CO1.BDOS.21648…</td><td>&quot;CO1.PCCNTR.275…</td><td>&quot;1.310.02-59.2-…</td><td>&quot;En ejecución&quot;</td><td>&quot;V1.72141003&quot;</td><td>&quot;Prestación de …</td><td>&quot;Prestación de …</td><td>&quot;Contratación d…</td><td>&quot;Servicios prof…</td><td>2021-08-12 00:00:00</td><td>2021-08-17 00:00:00</td><td>2021-12-31 00:00:00</td><td>&quot;A convenir&quot;</td><td>&quot;Cédula de Ciud…</td><td>&quot;34317568&quot;</td><td>&quot;Victoria Eugen…</td><td>&quot;No&quot;</td><td>&quot;No&quot;</td><td>&quot;No&quot;</td><td>&quot;No&quot;</td><td>&quot;No&quot;</td><td>&quot;No&quot;</td><td>&quot;No&quot;</td><td>&quot;Distribuido&quot;</td><td>&quot;Inversión&quot;</td><td>1.65e7</td><td>0.0</td><td>1.65e7</td><td>0.0</td><td>1.65e7</td><td>0.0</td><td>0.0</td><td>0.0</td><td>&quot;Válido&quot;</td><td>&quot;2020003760195&quot;</td><td>&quot;2023&quot;</td><td>1.5365e9</td><td>0.0</td><td>&quot;No&quot;</td><td>0.0</td><td>&quot;No aplica&quot;</td><td>&quot;No aplica&quot;</td><td>{&quot;https://community.secop.gov.co/Public/Tendering/OpportunityDetail/Index?noticeUID=CO1.NTC.2168642&amp;isFromPublicArea=True&amp;isModal=true&amp;asPopupView=true&quot;}</td><td>&quot;Victoria Eugen…</td><td>&quot;CO&quot;</td><td>&quot;No Definido&quot;</td><td>&quot;Sin Descripcio…</td><td>&quot;Sin Descripcio…</td><td>&quot;No Definido&quot;</td><td>0.0</td><td>0.0</td><td>0.0</td><td>1.65e7</td><td>0.0</td><td>0.0</td><td>&quot;709412027&quot;</td><td>&quot;710837337&quot;</td><td>&quot;Prestación de …</td></tr><tr><td>&quot;INSTITUCIÓN UN…</td><td>8.9098016e8</td><td>&quot;Antioquia&quot;</td><td>&quot;Medellín&quot;</td><td>&quot;Colombia,  Ant…</td><td>&quot;Territorial&quot;</td><td>&quot;Educación Naci…</td><td>&quot;Ejecutivo&quot;</td><td>&quot;Centralizada&quot;</td><td>&quot;CO1.BDOS.30981…</td><td>&quot;CO1.PCCNTR.387…</td><td>&quot;CMA-CD-9797-94…</td><td>&quot;En ejecución&quot;</td><td>&quot;V1.80111600&quot;</td><td>&quot;El Contratista…</td><td>&quot;Prestación de …</td><td>&quot;Contratación d…</td><td>&quot;Servicios prof…</td><td>2022-08-03 00:00:00</td><td>2022-08-04 00:00:00</td><td>2023-01-01 00:00:00</td><td>&quot;No Definido&quot;</td><td>&quot;Cédula de Ciud…</td><td>&quot;8356403&quot;</td><td>&quot;GUSTAVO ADOLFO…</td><td>&quot;No&quot;</td><td>&quot;No&quot;</td><td>&quot;No&quot;</td><td>&quot;No&quot;</td><td>&quot;No&quot;</td><td>&quot;No&quot;</td><td>&quot;No&quot;</td><td>&quot;Distribuido&quot;</td><td>&quot;Funcionamiento…</td><td>1.096155e7</td><td>0.0</td><td>1.096155e7</td><td>0.0</td><td>1.096155e7</td><td>0.0</td><td>0.0</td><td>0.0</td><td>&quot;No Válido&quot;</td><td>&quot;No Definido&quot;</td><td>&quot;No D&quot;</td><td>4.2622e9</td><td>0.0</td><td>&quot;No&quot;</td><td>0.0</td><td>&quot;No aplica&quot;</td><td>&quot;No aplica&quot;</td><td>{&quot;https://community.secop.gov.co/Public/Tendering/OpportunityDetail/Index?noticeUID=CO1.NTC.3100647&amp;isFromPublicArea=True&amp;isModal=true&amp;asPopupView=true&quot;}</td><td>&quot;GUSTAVO ADOLFO…</td><td>&quot;CO&quot;</td><td>&quot;No Definido&quot;</td><td>&quot;Sin Descripcio…</td><td>&quot;Sin Descripcio…</td><td>&quot;No Definido&quot;</td><td>0.0</td><td>0.0</td><td>0.0</td><td>1.096155e7</td><td>0.0</td><td>0.0</td><td>&quot;704629146&quot;</td><td>&quot;714239985&quot;</td><td>&quot;El Contratista…</td></tr><tr><td>&quot;DISTRITO ESPEC…</td><td>8.90102016e8</td><td>&quot;Atlántico&quot;</td><td>&quot;Barranquilla&quot;</td><td>&quot;Colombia,  Atl…</td><td>&quot;Territorial&quot;</td><td>&quot;Servicio Públi…</td><td>&quot;Ejecutivo&quot;</td><td>&quot;Centralizada&quot;</td><td>&quot;CO1.BDOS.16947…</td><td>&quot;CO1.PCCNTR.216…</td><td>&quot;CD-57-2021-045…</td><td>&quot;En ejecución&quot;</td><td>&quot;V1.80111600&quot;</td><td>&quot;PRESTACIÓN DE …</td><td>&quot;Prestación de …</td><td>&quot;Contratación d…</td><td>&quot;Servicios prof…</td><td>2021-01-28 00:00:00</td><td>2021-02-02 00:00:00</td><td>2022-01-01 00:00:00</td><td>&quot;No Definido&quot;</td><td>&quot;Cédula de Ciud…</td><td>&quot;72142696&quot;</td><td>&quot;ANGEL VICENTE …</td><td>&quot;No&quot;</td><td>&quot;No&quot;</td><td>&quot;No&quot;</td><td>&quot;No&quot;</td><td>&quot;No&quot;</td><td>&quot;No&quot;</td><td>&quot;No&quot;</td><td>&quot;Distribuido&quot;</td><td>&quot;Inversión&quot;</td><td>2.023425e7</td><td>0.0</td><td>2.023425e7</td><td>0.0</td><td>2.023425e7</td><td>0.0</td><td>0.0</td><td>0.0</td><td>&quot;Válido&quot;</td><td>&quot;2021080010005&quot;</td><td>&quot;2021&quot;</td><td>2.0023e9</td><td>0.0</td><td>&quot;No&quot;</td><td>0.0</td><td>&quot;No aplica&quot;</td><td>&quot;No aplica&quot;</td><td>{&quot;https://community.secop.gov.co/Public/Tendering/OpportunityDetail/Index?noticeUID=CO1.NTC.1690930&amp;isFromPublicArea=True&amp;isModal=true&amp;asPopupView=true&quot;}</td><td>&quot;ANGEL VICENTE …</td><td>&quot;CO&quot;</td><td>&quot;No Definido&quot;</td><td>&quot;Sin Descripcio…</td><td>&quot;Sin Descripcio…</td><td>&quot;No Definido&quot;</td><td>0.0</td><td>0.0</td><td>0.0</td><td>2.023425e7</td><td>0.0</td><td>0.0</td><td>&quot;702442096&quot;</td><td>&quot;709472161&quot;</td><td>&quot;PRESTACIÓN DE …</td></tr><tr><td>&quot;CORPORACION AU…</td><td>8.9050528e8</td><td>&quot;Norte de Santa…</td><td>&quot;Cúcuta&quot;</td><td>&quot;Colombia,  Nor…</td><td>&quot;Corporación Au…</td><td>&quot;Ambiente y Des…</td><td>&quot;Corporación Au…</td><td>&quot;Centralizada&quot;</td><td>&quot;CO1.BDOS.45379…</td><td>&quot;CO1.PCCNTR.505…</td><td>&quot;CD633-2023&quot;</td><td>&quot;En ejecución&quot;</td><td>&quot;V1.80111600&quot;</td><td>&quot;PRESTACIÓN DE …</td><td>&quot;Prestación de …</td><td>&quot;Contratación d…</td><td>&quot;Servicios prof…</td><td>2023-06-14 00:00:00</td><td>2023-06-20 00:00:00</td><td>2023-11-20 00:00:00</td><td>&quot;No Definido&quot;</td><td>&quot;Cédula de Ciud…</td><td>&quot;1090421847&quot;</td><td>&quot;erika yurley p…</td><td>&quot;No&quot;</td><td>&quot;No&quot;</td><td>&quot;No&quot;</td><td>&quot;No&quot;</td><td>&quot;No&quot;</td><td>&quot;No&quot;</td><td>&quot;No&quot;</td><td>&quot;Recursos Propi…</td><td>&quot;Inversión&quot;</td><td>1.25e7</td><td>0.0</td><td>1.25e7</td><td>2.5e6</td><td>1e7</td><td>0.0</td><td>0.0</td><td>2.5e6</td><td>&quot;No Válido&quot;</td><td>&quot;No Definido&quot;</td><td>&quot;No D&quot;</td><td>1.25e7</td><td>0.0</td><td>&quot;No&quot;</td><td>0.0</td><td>&quot;No aplica&quot;</td><td>&quot;No aplica&quot;</td><td>{&quot;https://community.secop.gov.co/Public/Tendering/OpportunityDetail/Index?noticeUID=CO1.NTC.4544009&amp;isFromPublicArea=True&amp;isModal=true&amp;asPopupView=true&quot;}</td><td>&quot;ERIKA YURLEY P…</td><td>&quot;CO&quot;</td><td>&quot;CALLE 22  11-4…</td><td>&quot;Cédula de Ciud…</td><td>&quot;1090421847&quot;</td><td>&quot;Femenino&quot;</td><td>0.0</td><td>0.0</td><td>0.0</td><td>0.0</td><td>0.0</td><td>1.25e7</td><td>&quot;706029618&quot;</td><td>&quot;718389844&quot;</td><td>&quot;PRESTACIÓN DE …</td></tr></tbody></table></div>"
            ]
          },
          "metadata": {},
          "execution_count": 13
        }
      ],
      "source": [
        "datos_pagina = pl.read_parquet(\"c:\\\\Users\\\\nib1l\\\\Downloads\\\\datos.parquet\")\n",
        "datos_pagina.head()"
      ]
    },
    {
      "cell_type": "markdown",
      "metadata": {
        "id": "t2anwCDwVgfw"
      },
      "source": [
        "#### Expresiones Polars\n",
        "Las expresiones en Polars se pueden realizar en secuencia, lo que mejora la legibilidad del código. En este ejemplo, estamos filtrando filas y luego agrupando los resultados"
      ]
    },
    {
      "cell_type": "code",
      "execution_count": 14,
      "metadata": {
        "id": "YHu0E3QOVgfw",
        "outputId": "07153346-66cf-4bf8-fa81-837d35c73145",
        "colab": {
          "base_uri": "https://localhost:8080/",
          "height": 916
        }
      },
      "outputs": [
        {
          "output_type": "stream",
          "name": "stderr",
          "text": [
            "<ipython-input-14-2e5b73c669f4>:2: DeprecationWarning: `groupby` is deprecated. It has been renamed to `group_by`.\n",
            "  datos_pagina.filter(pl.col(\"orden\") < 'Territorial').groupby(\"sector\").agg(pl.col('valor_del_contrato').sum())\n"
          ]
        },
        {
          "output_type": "execute_result",
          "data": {
            "text/plain": [
              "shape: (26, 2)\n",
              "┌───────────────────────────────────┬────────────────────┐\n",
              "│ sector                            ┆ valor_del_contrato │\n",
              "│ ---                               ┆ ---                │\n",
              "│ str                               ┆ f32                │\n",
              "╞═══════════════════════════════════╪════════════════════╡\n",
              "│ Minas y Energía                   ┆ 2.4212e11          │\n",
              "│ Relaciones Exteriores             ┆ 1.0881e10          │\n",
              "│ Tecnologías de la Información y … ┆ 1.8242e11          │\n",
              "│ Inteligencia Estratégica y Contr… ┆ 5.54322944e8       │\n",
              "│ …                                 ┆ …                  │\n",
              "│ Transporte                        ┆ 1.5481e12          │\n",
              "│ No aplica/No pertenece            ┆ 4.7227e11          │\n",
              "│ defensa                           ┆ 1.7991e12          │\n",
              "│ Vivienda, Ciudad y Territorio     ┆ 1.3034e11          │\n",
              "└───────────────────────────────────┴────────────────────┘"
            ],
            "text/html": [
              "<div><style>\n",
              ".dataframe > thead > tr,\n",
              ".dataframe > tbody > tr {\n",
              "  text-align: right;\n",
              "  white-space: pre-wrap;\n",
              "}\n",
              "</style>\n",
              "<small>shape: (26, 2)</small><table border=\"1\" class=\"dataframe\"><thead><tr><th>sector</th><th>valor_del_contrato</th></tr><tr><td>str</td><td>f32</td></tr></thead><tbody><tr><td>&quot;Minas y Energí…</td><td>2.4212e11</td></tr><tr><td>&quot;Relaciones Ext…</td><td>1.0881e10</td></tr><tr><td>&quot;Tecnologías de…</td><td>1.8242e11</td></tr><tr><td>&quot;Inteligencia E…</td><td>5.54322944e8</td></tr><tr><td>&quot;Educación Naci…</td><td>2.2019e11</td></tr><tr><td>&quot;agricultura&quot;</td><td>1.9011e11</td></tr><tr><td>&quot;deportes&quot;</td><td>8.6406e10</td></tr><tr><td>&quot;Servicio Públi…</td><td>1.1029e12</td></tr><tr><td>&quot;Trabajo&quot;</td><td>2.7865e11</td></tr><tr><td>&quot;Inclusión Soci…</td><td>2.3225e11</td></tr><tr><td>&quot;Ley de Justici…</td><td>6.7197e11</td></tr><tr><td>&quot;Cultura&quot;</td><td>1.7419e11</td></tr><tr><td>&hellip;</td><td>&hellip;</td></tr><tr><td>&quot;Ciencia Tecnol…</td><td>2.4807e10</td></tr><tr><td>&quot;Información Es…</td><td>1.1133e11</td></tr><tr><td>&quot;Hacienda y Cré…</td><td>1.8152e11</td></tr><tr><td>&quot;Industria&quot;</td><td>9.6632e10</td></tr><tr><td>&quot;interior&quot;</td><td>1.2535e11</td></tr><tr><td>&quot;Presidencia de…</td><td>1.3277e11</td></tr><tr><td>&quot;No Definido&quot;</td><td>0.0</td></tr><tr><td>&quot;Salud y Protec…</td><td>1.1866e12</td></tr><tr><td>&quot;Transporte&quot;</td><td>1.5481e12</td></tr><tr><td>&quot;No aplica/No p…</td><td>4.7227e11</td></tr><tr><td>&quot;defensa&quot;</td><td>1.7991e12</td></tr><tr><td>&quot;Vivienda, Ciud…</td><td>1.3034e11</td></tr></tbody></table></div>"
            ]
          },
          "metadata": {},
          "execution_count": 14
        }
      ],
      "source": [
        "# Filtrar filas donde la columna 'nrs' sea menor que 4 y luego agrupar por la columna 'groups' y sumar todas las columnas.\n",
        "datos_pagina.filter(pl.col(\"orden\") < 'Territorial').groupby(\"sector\").agg(pl.col('valor_del_contrato').sum())\n"
      ]
    },
    {
      "cell_type": "markdown",
      "metadata": {
        "id": "wfSQZEC_Vgfw"
      },
      "source": [
        "ALgunas de las funciones que son posibles usar son\n",
        "\n",
        "| Función | Descripción |\n",
        "|---------|-------------|\n",
        "| `sum()` | Calcula la suma de los valores de la columna. |\n",
        "| `mean()` | Calcula el promedio de los valores de la columna. |\n",
        "| `min()` | Encuentra el valor mínimo en la columna. |\n",
        "| `max()` | Encuentra el valor máximo en la columna. |\n",
        "| `count()` | Cuenta el número de elementos en la columna. |\n",
        "| `median()` | Calcula la mediana de los valores de la columna. |\n",
        "| `std()` | Calcula la desviación estándar de los valores de la columna. |\n",
        "| `var()` | Calcula la varianza de los valores de la columna. |\n",
        "| `quantile(q)` | Calcula el cuantil (por ejemplo, mediana para `q=0.5`). |\n",
        "| `first()` | Obtiene el primer valor de la columna en un grupo. |\n",
        "| `last()` | Obtiene el último valor de la columna en un grupo. |\n",
        "| `unique()` | Devuelve valores únicos de la columna. |\n",
        "| `list()` | Agrega los valores de la columna en una lista (útil en agrupaciones). |\n",
        "| `sort()` | Ordena los valores de la columna. |\n",
        "| `apply(func)` | Aplica una función personalizada a los valores de la columna. |\n",
        "| `is_null()` | Devuelve una máscara booleana indicando si los valores son nulos. |\n",
        "| `is_not_null()` | Devuelve una máscara booleana indicando si los valores no son nulos. |\n",
        "| `is_finite()` | Comprueba si los valores son finitos. |\n",
        "| `is_infinite()` | Comprueba si los valores son infinitos. |\n",
        "| `clip(min_val, max_val)` | Limita los valores a un rango definido. |\n",
        "| `alias(new_name)` | Renombra la columna (útil en agrupaciones y selecciones). |\n"
      ]
    },
    {
      "cell_type": "markdown",
      "metadata": {
        "id": "zk--RcTqVgfw"
      },
      "source": [
        "#### Múltiples filtros"
      ]
    },
    {
      "cell_type": "code",
      "execution_count": 15,
      "metadata": {
        "id": "kUYE2slTVgfw",
        "outputId": "53c978e0-196a-4a60-a2a7-bc9001cd6f3b",
        "colab": {
          "base_uri": "https://localhost:8080/",
          "height": 396
        }
      },
      "outputs": [
        {
          "output_type": "execute_result",
          "data": {
            "text/plain": [
              "shape: (5, 67)\n",
              "┌────────────┬────────────┬───────────┬────────┬───┬───────────┬───────────┬───────────┬───────────┐\n",
              "│ nombre_ent ┆ nit_entida ┆ departame ┆ ciudad ┆ … ┆ recursos_ ┆ codigo_en ┆ codigo_pr ┆ objeto_de │\n",
              "│ idad       ┆ d          ┆ nto       ┆ ---    ┆   ┆ propios   ┆ tidad     ┆ oveedor   ┆ l_contrat │\n",
              "│ ---        ┆ ---        ┆ ---       ┆ str    ┆   ┆ ---       ┆ ---       ┆ ---       ┆ o         │\n",
              "│ str        ┆ f32        ┆ str       ┆        ┆   ┆ f32       ┆ str       ┆ str       ┆ ---       │\n",
              "│            ┆            ┆           ┆        ┆   ┆           ┆           ┆           ┆ str       │\n",
              "╞════════════╪════════════╪═══════════╪════════╪═══╪═══════════╪═══════════╪═══════════╪═══════════╡\n",
              "│ SECRETARIA ┆ 8.9040e9   ┆ Valle del ┆ Cali   ┆ … ┆ 0.0       ┆ 709412027 ┆ 710837337 ┆ Prestació │\n",
              "│ DE INFRAES ┆            ┆ Cauca     ┆        ┆   ┆           ┆           ┆           ┆ n de      │\n",
              "│ TRUCTURA - ┆            ┆           ┆        ┆   ┆           ┆           ┆           ┆ Servicios │\n",
              "│ …          ┆            ┆           ┆        ┆   ┆           ┆           ┆           ┆ Profesio… │\n",
              "│ SANTIAGO   ┆ 8.9039904e ┆ Valle del ┆ Cali   ┆ … ┆ 0.0       ┆ 704063197 ┆ 710107392 ┆ PRESTAR   │\n",
              "│ DE CALI    ┆ 8          ┆ Cauca     ┆        ┆   ┆           ┆           ┆           ┆ SERVICIOS │\n",
              "│ DISTRITO   ┆            ┆           ┆        ┆   ┆           ┆           ┆           ┆ PROFESION │\n",
              "│ ESPECI…    ┆            ┆           ┆        ┆   ┆           ┆           ┆           ┆ ALES …    │\n",
              "│ METRO CALI ┆ 8.05013184 ┆ Valle del ┆ Cali   ┆ … ┆ 5.7e6     ┆ 705352060 ┆ 714098738 ┆ PRESTAR   │\n",
              "│ S.A        ┆ e8         ┆ Cauca     ┆        ┆   ┆           ┆           ┆           ┆ LOS       │\n",
              "│ ACUERDO DE ┆            ┆           ┆        ┆   ┆           ┆           ┆           ┆ SERVICIOS │\n",
              "│ REESTR…    ┆            ┆           ┆        ┆   ┆           ┆           ┆           ┆ DE APOYO  │\n",
              "│            ┆            ┆           ┆        ┆   ┆           ┆           ┆           ┆ A…        │\n",
              "│ SANTIAGO   ┆ 8.9039904e ┆ Valle del ┆ Cali   ┆ … ┆ 0.0       ┆ 702364142 ┆ 709444681 ┆ Prestació │\n",
              "│ DE CALI    ┆ 8          ┆ Cauca     ┆        ┆   ┆           ┆           ┆           ┆ n de      │\n",
              "│ DISTRITO   ┆            ┆           ┆        ┆   ┆           ┆           ┆           ┆ servicios │\n",
              "│ ESPECI…    ┆            ┆           ┆        ┆   ┆           ┆           ┆           ┆ de Apoyo… │\n",
              "│ INSTITUTO  ┆ 8.05012864 ┆ Valle del ┆ Cali   ┆ … ┆ 0.0       ┆ 701715203 ┆ 710598699 ┆ Prestar   │\n",
              "│ DEL        ┆ e8         ┆ Cauca     ┆        ┆   ┆           ┆           ┆           ┆ los       │\n",
              "│ DEPORTE,   ┆            ┆           ┆        ┆   ┆           ┆           ┆           ┆ servicios │\n",
              "│ LA EDUCAC… ┆            ┆           ┆        ┆   ┆           ┆           ┆           ┆ de APOYO  │\n",
              "│            ┆            ┆           ┆        ┆   ┆           ┆           ┆           ┆ A…        │\n",
              "└────────────┴────────────┴───────────┴────────┴───┴───────────┴───────────┴───────────┴───────────┘"
            ],
            "text/html": [
              "<div><style>\n",
              ".dataframe > thead > tr,\n",
              ".dataframe > tbody > tr {\n",
              "  text-align: right;\n",
              "  white-space: pre-wrap;\n",
              "}\n",
              "</style>\n",
              "<small>shape: (5, 67)</small><table border=\"1\" class=\"dataframe\"><thead><tr><th>nombre_entidad</th><th>nit_entidad</th><th>departamento</th><th>ciudad</th><th>localizaci_n</th><th>orden</th><th>sector</th><th>rama</th><th>entidad_centralizada</th><th>proceso_de_compra</th><th>id_contrato</th><th>referencia_del_contrato</th><th>estado_contrato</th><th>codigo_de_categoria_principal</th><th>descripcion_del_proceso</th><th>tipo_de_contrato</th><th>modalidad_de_contratacion</th><th>justificacion_modalidad_de</th><th>fecha_de_firma</th><th>fecha_de_inicio_del_contrato</th><th>fecha_de_fin_del_contrato</th><th>condiciones_de_entrega</th><th>tipodocproveedor</th><th>documento_proveedor</th><th>proveedor_adjudicado</th><th>es_grupo</th><th>es_pyme</th><th>habilita_pago_adelantado</th><th>liquidaci_n</th><th>obligaci_n_ambiental</th><th>obligaciones_postconsumo</th><th>reversion</th><th>origen_de_los_recursos</th><th>destino_gasto</th><th>valor_del_contrato</th><th>valor_de_pago_adelantado</th><th>valor_facturado</th><th>valor_pendiente_de_pago</th><th>valor_pagado</th><th>valor_amortizado</th><th>valor_pendiente_de</th><th>valor_pendiente_de_ejecucion</th><th>estado_bpin</th><th>c_digo_bpin</th><th>anno_bpin</th><th>saldo_cdp</th><th>saldo_vigencia</th><th>espostconflicto</th><th>dias_adicionados</th><th>puntos_del_acuerdo</th><th>pilares_del_acuerdo</th><th>urlproceso</th><th>nombre_representante_legal</th><th>nacionalidad_representante_legal</th><th>domicilio_representante_legal</th><th>tipo_de_identificaci_n_representante_legal</th><th>identificaci_n_representante_legal</th><th>g_nero_representante_legal</th><th>presupuesto_general_de_la_nacion_pgn</th><th>sistema_general_de_participaciones</th><th>sistema_general_de_regal_as</th><th>recursos_propios_alcald_as_gobernaciones_y_resguardos_ind_genas_</th><th>recursos_de_credito</th><th>recursos_propios</th><th>codigo_entidad</th><th>codigo_proveedor</th><th>objeto_del_contrato</th></tr><tr><td>str</td><td>f32</td><td>str</td><td>str</td><td>str</td><td>str</td><td>str</td><td>str</td><td>str</td><td>str</td><td>str</td><td>str</td><td>str</td><td>str</td><td>str</td><td>str</td><td>str</td><td>str</td><td>datetime[ns]</td><td>datetime[ns]</td><td>datetime[ns]</td><td>str</td><td>str</td><td>str</td><td>str</td><td>str</td><td>str</td><td>str</td><td>str</td><td>str</td><td>str</td><td>str</td><td>str</td><td>str</td><td>f32</td><td>f32</td><td>f32</td><td>f32</td><td>f32</td><td>f32</td><td>f32</td><td>f32</td><td>str</td><td>str</td><td>str</td><td>f32</td><td>f32</td><td>str</td><td>f32</td><td>str</td><td>str</td><td>struct[1]</td><td>str</td><td>str</td><td>str</td><td>str</td><td>str</td><td>str</td><td>f32</td><td>f32</td><td>f32</td><td>f32</td><td>f32</td><td>f32</td><td>str</td><td>str</td><td>str</td></tr></thead><tbody><tr><td>&quot;SECRETARIA DE …</td><td>8.9040e9</td><td>&quot;Valle del Cauc…</td><td>&quot;Cali&quot;</td><td>&quot;Colombia,  Val…</td><td>&quot;Territorial&quot;</td><td>&quot;Servicio Públi…</td><td>&quot;Ejecutivo&quot;</td><td>&quot;Centralizada&quot;</td><td>&quot;CO1.BDOS.21648…</td><td>&quot;CO1.PCCNTR.275…</td><td>&quot;1.310.02-59.2-…</td><td>&quot;En ejecución&quot;</td><td>&quot;V1.72141003&quot;</td><td>&quot;Prestación de …</td><td>&quot;Prestación de …</td><td>&quot;Contratación d…</td><td>&quot;Servicios prof…</td><td>2021-08-12 00:00:00</td><td>2021-08-17 00:00:00</td><td>2021-12-31 00:00:00</td><td>&quot;A convenir&quot;</td><td>&quot;Cédula de Ciud…</td><td>&quot;34317568&quot;</td><td>&quot;Victoria Eugen…</td><td>&quot;No&quot;</td><td>&quot;No&quot;</td><td>&quot;No&quot;</td><td>&quot;No&quot;</td><td>&quot;No&quot;</td><td>&quot;No&quot;</td><td>&quot;No&quot;</td><td>&quot;Distribuido&quot;</td><td>&quot;Inversión&quot;</td><td>1.65e7</td><td>0.0</td><td>1.65e7</td><td>0.0</td><td>1.65e7</td><td>0.0</td><td>0.0</td><td>0.0</td><td>&quot;Válido&quot;</td><td>&quot;2020003760195&quot;</td><td>&quot;2023&quot;</td><td>1.5365e9</td><td>0.0</td><td>&quot;No&quot;</td><td>0.0</td><td>&quot;No aplica&quot;</td><td>&quot;No aplica&quot;</td><td>{&quot;https://community.secop.gov.co/Public/Tendering/OpportunityDetail/Index?noticeUID=CO1.NTC.2168642&amp;isFromPublicArea=True&amp;isModal=true&amp;asPopupView=true&quot;}</td><td>&quot;Victoria Eugen…</td><td>&quot;CO&quot;</td><td>&quot;No Definido&quot;</td><td>&quot;Sin Descripcio…</td><td>&quot;Sin Descripcio…</td><td>&quot;No Definido&quot;</td><td>0.0</td><td>0.0</td><td>0.0</td><td>1.65e7</td><td>0.0</td><td>0.0</td><td>&quot;709412027&quot;</td><td>&quot;710837337&quot;</td><td>&quot;Prestación de …</td></tr><tr><td>&quot;SANTIAGO DE CA…</td><td>8.9039904e8</td><td>&quot;Valle del Cauc…</td><td>&quot;Cali&quot;</td><td>&quot;Colombia,  Val…</td><td>&quot;Territorial&quot;</td><td>&quot;No aplica/No p…</td><td>&quot;Ejecutivo&quot;</td><td>&quot;Centralizada&quot;</td><td>&quot;CO1.BDOS.35484…</td><td>&quot;CO1.PCCNTR.424…</td><td>&quot;4182.010.26.1.…</td><td>&quot;Cerrado&quot;</td><td>&quot;V1.80111500&quot;</td><td>&quot;PRESTAR SERVIC…</td><td>&quot;Prestación de …</td><td>&quot;Contratación d…</td><td>&quot;Servicios prof…</td><td>2022-11-22 00:00:00</td><td>2022-11-23 00:00:00</td><td>2022-12-31 00:00:00</td><td>&quot;A convenir&quot;</td><td>&quot;Cédula de Ciud…</td><td>&quot;1115073326&quot;</td><td>&quot;YESSICA LORENA…</td><td>&quot;No&quot;</td><td>&quot;No&quot;</td><td>&quot;No&quot;</td><td>&quot;No&quot;</td><td>&quot;No&quot;</td><td>&quot;No&quot;</td><td>&quot;No&quot;</td><td>&quot;Distribuido&quot;</td><td>&quot;Inversión&quot;</td><td>1.0108e7</td><td>0.0</td><td>0.0</td><td>1.0108e7</td><td>0.0</td><td>0.0</td><td>0.0</td><td>1.0108e7</td><td>&quot;No Válido&quot;</td><td>&quot;No Definido&quot;</td><td>&quot;No D&quot;</td><td>1.0108e7</td><td>0.0</td><td>&quot;No&quot;</td><td>0.0</td><td>&quot;No aplica&quot;</td><td>&quot;No aplica&quot;</td><td>{&quot;https://community.secop.gov.co/Public/Tendering/OpportunityDetail/Index?noticeUID=CO1.NTC.3554718&amp;isFromPublicArea=True&amp;isModal=true&amp;asPopupView=true&quot;}</td><td>&quot;YESSICA LORENA…</td><td>&quot;CO&quot;</td><td>&quot;CALLE 9 # 5 -3…</td><td>&quot;Cédula de Ciud…</td><td>&quot;1115073326&quot;</td><td>&quot;Femenino&quot;</td><td>0.0</td><td>0.0</td><td>0.0</td><td>1.0108e7</td><td>0.0</td><td>0.0</td><td>&quot;704063197&quot;</td><td>&quot;710107392&quot;</td><td>&quot;PRESTAR SERVIC…</td></tr><tr><td>&quot;METRO CALI S.A…</td><td>8.05013184e8</td><td>&quot;Valle del Cauc…</td><td>&quot;Cali&quot;</td><td>&quot;Colombia,  Val…</td><td>&quot;Territorial&quot;</td><td>&quot;Transporte&quot;</td><td>&quot;Corporación Au…</td><td>&quot;Centralizada&quot;</td><td>&quot;CO1.BDOS.54171…</td><td>&quot;CO1.PCCNTR.573…</td><td>&quot;917.104.2.224.…</td><td>&quot;En ejecución&quot;</td><td>&quot;V1.80111501&quot;</td><td>&quot;PRESTAR LOS SE…</td><td>&quot;Prestación de …</td><td>&quot;Contratación r…</td><td>&quot;Regla aplicabl…</td><td>2024-01-14 00:00:00</td><td>2024-01-16 00:00:00</td><td>2024-03-01 00:00:00</td><td>&quot;Como acordado …</td><td>&quot;Cédula de Ciud…</td><td>&quot;1113513690&quot;</td><td>&quot;Yesid Herrera …</td><td>&quot;No&quot;</td><td>&quot;No&quot;</td><td>&quot;No&quot;</td><td>&quot;No&quot;</td><td>&quot;No&quot;</td><td>&quot;No&quot;</td><td>&quot;No&quot;</td><td>&quot;Recursos Propi…</td><td>&quot;Funcionamiento…</td><td>5.7e6</td><td>0.0</td><td>0.0</td><td>5.7e6</td><td>0.0</td><td>0.0</td><td>0.0</td><td>5.7e6</td><td>&quot;No Válido&quot;</td><td>&quot;No Definido&quot;</td><td>&quot;No D&quot;</td><td>2.66e8</td><td>0.0</td><td>&quot;No&quot;</td><td>0.0</td><td>&quot;No aplica&quot;</td><td>&quot;No aplica&quot;</td><td>{&quot;https://community.secop.gov.co/Public/Tendering/OpportunityDetail/Index?noticeUID=CO1.NTC.5429931&amp;isFromPublicArea=True&amp;isModal=true&amp;asPopupView=true&quot;}</td><td>&quot;YESID HERRERA …</td><td>&quot;CO&quot;</td><td>&quot;No Definido&quot;</td><td>&quot;Sin Descripcio…</td><td>&quot;Sin Descripcio…</td><td>&quot;No Definido&quot;</td><td>0.0</td><td>0.0</td><td>0.0</td><td>0.0</td><td>0.0</td><td>5.7e6</td><td>&quot;705352060&quot;</td><td>&quot;714098738&quot;</td><td>&quot;PRESTAR LOS SE…</td></tr><tr><td>&quot;SANTIAGO DE CA…</td><td>8.9039904e8</td><td>&quot;Valle del Cauc…</td><td>&quot;Cali&quot;</td><td>&quot;Colombia,  Val…</td><td>&quot;Territorial&quot;</td><td>&quot;No aplica/No p…</td><td>&quot;Ejecutivo&quot;</td><td>&quot;Centralizada&quot;</td><td>&quot;CO1.BDOS.21297…</td><td>&quot;CO1.PCCNTR.271…</td><td>&quot;4164.010.26.1.…</td><td>&quot;Cerrado&quot;</td><td>&quot;V1.80111500&quot;</td><td>&quot;Prestación de …</td><td>&quot;Prestación de …</td><td>&quot;Contratación d…</td><td>&quot;Servicios prof…</td><td>2021-07-28 00:00:00</td><td>2021-07-29 00:00:00</td><td>2021-10-15 00:00:00</td><td>&quot;A convenir&quot;</td><td>&quot;Cédula de Ciud…</td><td>&quot;1143847407&quot;</td><td>&quot;DANIELA JOANNA…</td><td>&quot;No&quot;</td><td>&quot;No&quot;</td><td>&quot;No&quot;</td><td>&quot;No&quot;</td><td>&quot;No&quot;</td><td>&quot;No&quot;</td><td>&quot;No&quot;</td><td>&quot;Distribuido&quot;</td><td>&quot;Inversión&quot;</td><td>9.462e6</td><td>0.0</td><td>0.0</td><td>9.462e6</td><td>0.0</td><td>0.0</td><td>0.0</td><td>9.462e6</td><td>&quot;Válido&quot;</td><td>&quot;2020760010096&quot;</td><td>&quot;2023&quot;</td><td>9.462e6</td><td>0.0</td><td>&quot;No&quot;</td><td>0.0</td><td>&quot;No aplica&quot;</td><td>&quot;No aplica&quot;</td><td>{&quot;https://community.secop.gov.co/Public/Tendering/OpportunityDetail/Index?noticeUID=CO1.NTC.2131537&amp;isFromPublicArea=True&amp;isModal=true&amp;asPopupView=true&quot;}</td><td>&quot;DANIELA JOANNA…</td><td>&quot;CO&quot;</td><td>&quot;No Definido&quot;</td><td>&quot;Sin Descripcio…</td><td>&quot;Sin Descripcio…</td><td>&quot;No Definido&quot;</td><td>0.0</td><td>0.0</td><td>0.0</td><td>9.462e6</td><td>0.0</td><td>0.0</td><td>&quot;702364142&quot;</td><td>&quot;709444681&quot;</td><td>&quot;Prestación de …</td></tr><tr><td>&quot;INSTITUTO DEL …</td><td>8.05012864e8</td><td>&quot;Valle del Cauc…</td><td>&quot;Cali&quot;</td><td>&quot;Colombia,  Val…</td><td>&quot;Territorial&quot;</td><td>&quot;deportes&quot;</td><td>&quot;Ejecutivo&quot;</td><td>&quot;Centralizada&quot;</td><td>&quot;CO1.BDOS.42501…</td><td>&quot;CO1.PCCNTR.485…</td><td>&quot;IND-23-3101&quot;</td><td>&quot;Modificado&quot;</td><td>&quot;V1.80111600&quot;</td><td>&quot;Prestar los se…</td><td>&quot;Prestación de …</td><td>&quot;Contratación d…</td><td>&quot;Servicios prof…</td><td>2023-04-14 00:00:00</td><td>2023-04-14 00:00:00</td><td>2023-12-16 00:00:00</td><td>&quot;Como acordado …</td><td>&quot;Cédula de Ciud…</td><td>&quot;12831254&quot;</td><td>&quot;ARIEL CHAVEZ O…</td><td>&quot;No&quot;</td><td>&quot;No&quot;</td><td>&quot;No&quot;</td><td>&quot;No&quot;</td><td>&quot;No&quot;</td><td>&quot;No&quot;</td><td>&quot;No&quot;</td><td>&quot;Distribuido&quot;</td><td>&quot;Inversión&quot;</td><td>2.772e7</td><td>0.0</td><td>0.0</td><td>2.772e7</td><td>0.0</td><td>0.0</td><td>0.0</td><td>2.772e7</td><td>&quot;No Válido&quot;</td><td>&quot;No Definido&quot;</td><td>&quot;No D&quot;</td><td>2.772e7</td><td>0.0</td><td>&quot;No&quot;</td><td>45.0</td><td>&quot;No aplica&quot;</td><td>&quot;No aplica&quot;</td><td>{&quot;https://community.secop.gov.co/Public/Tendering/OpportunityDetail/Index?noticeUID=CO1.NTC.4279568&amp;isFromPublicArea=True&amp;isModal=true&amp;asPopupView=true&quot;}</td><td>&quot;ARIEL CHAVEZ O…</td><td>&quot;CO&quot;</td><td>&quot;CRA. 98C # 60-…</td><td>&quot;Cédula de Ciud…</td><td>&quot;12831254&quot;</td><td>&quot;No Definido&quot;</td><td>0.0</td><td>0.0</td><td>0.0</td><td>2.772e7</td><td>0.0</td><td>0.0</td><td>&quot;701715203&quot;</td><td>&quot;710598699&quot;</td><td>&quot;Prestar los se…</td></tr></tbody></table></div>"
            ]
          },
          "metadata": {},
          "execution_count": 15
        }
      ],
      "source": [
        "datos_pagina.filter((pl.col('orden')=='Territorial') & (pl.col('ciudad')=='Cali')).head()"
      ]
    },
    {
      "cell_type": "markdown",
      "metadata": {
        "id": "ZxsyMsuFVgfw"
      },
      "source": [
        "Por supuesto, aquí tienes la tabla actualizada:\n",
        "\n",
        "| Operador | Descripción                                     |\n",
        "|----------|-------------------------------------------------|\n",
        "| `&`      | Operador lógico `AND` (Y lógico). Combina dos o más condiciones y todas deben ser verdaderas. |\n",
        "| `\\|`      | Operador lógico `OR` (O lógico). Combina dos o más condiciones y al menos una debe ser verdadera. |\n",
        "| `~`      | Operador lógico `NOT` (NO lógico). Niega una condición, invirtiendo su resultado. |\n",
        "\n",
        "Si tienes alguna otra pregunta o necesitas más información, no dudes en preguntar."
      ]
    },
    {
      "cell_type": "markdown",
      "metadata": {
        "id": "Gw6rEqLsVgfw"
      },
      "source": [
        "#### Seleccion de columnas"
      ]
    },
    {
      "cell_type": "code",
      "execution_count": 16,
      "metadata": {
        "id": "QgezWQ7DVgfx",
        "outputId": "4fae313c-babd-40fb-b709-c3303d9bfbb2",
        "colab": {
          "base_uri": "https://localhost:8080/",
          "height": 255
        }
      },
      "outputs": [
        {
          "output_type": "execute_result",
          "data": {
            "text/plain": [
              "shape: (5, 3)\n",
              "┌────────────────────────────┬──────────────┬────────────────────┐\n",
              "│ departamento               ┆ ciudad       ┆ valor_del_contrato │\n",
              "│ ---                        ┆ ---          ┆ ---                │\n",
              "│ str                        ┆ str          ┆ f32                │\n",
              "╞════════════════════════════╪══════════════╪════════════════════╡\n",
              "│ Distrito Capital de Bogotá ┆ Bogotá       ┆ 1.17763336e8       │\n",
              "│ Valle del Cauca            ┆ Cali         ┆ 1.65e7             │\n",
              "│ Antioquia                  ┆ Medellín     ┆ 1.096155e7         │\n",
              "│ Atlántico                  ┆ Barranquilla ┆ 2.023425e7         │\n",
              "│ Norte de Santander         ┆ Cúcuta       ┆ 1.25e7             │\n",
              "└────────────────────────────┴──────────────┴────────────────────┘"
            ],
            "text/html": [
              "<div><style>\n",
              ".dataframe > thead > tr,\n",
              ".dataframe > tbody > tr {\n",
              "  text-align: right;\n",
              "  white-space: pre-wrap;\n",
              "}\n",
              "</style>\n",
              "<small>shape: (5, 3)</small><table border=\"1\" class=\"dataframe\"><thead><tr><th>departamento</th><th>ciudad</th><th>valor_del_contrato</th></tr><tr><td>str</td><td>str</td><td>f32</td></tr></thead><tbody><tr><td>&quot;Distrito Capit…</td><td>&quot;Bogotá&quot;</td><td>1.17763336e8</td></tr><tr><td>&quot;Valle del Cauc…</td><td>&quot;Cali&quot;</td><td>1.65e7</td></tr><tr><td>&quot;Antioquia&quot;</td><td>&quot;Medellín&quot;</td><td>1.096155e7</td></tr><tr><td>&quot;Atlántico&quot;</td><td>&quot;Barranquilla&quot;</td><td>2.023425e7</td></tr><tr><td>&quot;Norte de Santa…</td><td>&quot;Cúcuta&quot;</td><td>1.25e7</td></tr></tbody></table></div>"
            ]
          },
          "metadata": {},
          "execution_count": 16
        }
      ],
      "source": [
        "datos_pagina.select(['departamento','ciudad','valor_del_contrato']).head()"
      ]
    },
    {
      "cell_type": "code",
      "execution_count": 1,
      "metadata": {
        "id": "yMaY3_GaVgfx",
        "outputId": "92ebcad6-b1a8-4fb9-c747-4b35e924c2fc",
        "colab": {
          "base_uri": "https://localhost:8080/",
          "height": 175
        }
      },
      "outputs": [
        {
          "output_type": "error",
          "ename": "NameError",
          "evalue": "name 'datos_pagina' is not defined",
          "traceback": [
            "\u001b[0;31m---------------------------------------------------------------------------\u001b[0m",
            "\u001b[0;31mNameError\u001b[0m                                 Traceback (most recent call last)",
            "\u001b[0;32m<ipython-input-1-7ec8dce9f12a>\u001b[0m in \u001b[0;36m<cell line: 1>\u001b[0;34m()\u001b[0m\n\u001b[0;32m----> 1\u001b[0;31m \u001b[0mdatos_pagina\u001b[0m\u001b[0;34m.\u001b[0m\u001b[0mselect\u001b[0m\u001b[0;34m(\u001b[0m\u001b[0mpl\u001b[0m\u001b[0;34m.\u001b[0m\u001b[0mcol\u001b[0m\u001b[0;34m(\u001b[0m\u001b[0;34m\"^n*l$\"\u001b[0m\u001b[0;34m)\u001b[0m\u001b[0;34m)\u001b[0m\u001b[0;34m.\u001b[0m\u001b[0mhead\u001b[0m\u001b[0;34m(\u001b[0m\u001b[0;34m)\u001b[0m\u001b[0;34m\u001b[0m\u001b[0;34m\u001b[0m\u001b[0m\n\u001b[0m",
            "\u001b[0;31mNameError\u001b[0m: name 'datos_pagina' is not defined"
          ]
        }
      ],
      "source": [
        "datos_pagina.select(pl.col(\"^n*l$\")).head()"
      ]
    },
    {
      "cell_type": "markdown",
      "metadata": {
        "id": "T19syaSKVgfx"
      },
      "source": [
        "### ¿Qué son las expresiones regulares (regex)?\n",
        "\n",
        "Las expresiones regulares, o regex, son patrones de búsqueda utilizados para coincidir y manipular cadenas de texto. Son extremadamente útiles para realizar tareas como búsqueda, extracción y validación de datos basados en patrones.\n",
        "\n",
        "\n",
        "#### 1. Sintaxis Básica:\n",
        "\n",
        "- `\\d`: Coincide con cualquier dígito (0-9).\n",
        "  - Ejemplo: `\\d{3}` coincidirá con tres dígitos.\n",
        "\n",
        "- `\\w`: Coincide con cualquier carácter de palabra (letras, números, guiones bajos).\n",
        "  - Ejemplo: `\\w+` coincidirá con una o más letras/números.\n",
        "\n",
        "- `.`: Coincide con cualquier carácter.\n",
        "  - Ejemplo: `a.c` coincidirá con \"abc\", \"adc\", etc.\n",
        "\n",
        "#### 2. Caracteres Básicos:\n",
        "\n",
        "- `.`: Coincide con cualquier carácter excepto el salto de línea.\n",
        "  - Ejemplo: `a.c` coincidirá con \"abc\" pero no con \"a\\nc\".\n",
        "\n",
        "- `\\D`: Coincide con cualquier cosa que no sea un dígito.\n",
        "  - Ejemplo: `\\D+` coincidirá con cualquier cadena que no contenga dígitos.\n",
        "\n",
        "#### 3. Cuantificadores:\n",
        "\n",
        "- `*`: Coincide con 0 o más repeticiones del carácter anterior.\n",
        "  - Ejemplo: `ab*c` coincidirá con \"ac\", \"abc\", \"abbc\", etc.\n",
        "\n",
        "- `+`: Coincide con 1 o más repeticiones del carácter anterior.\n",
        "  - Ejemplo: `ab+c` coincidirá con \"abc\", \"abbc\", pero no con \"ac\".\n",
        "\n",
        "- `?`: Coincide con 0 o 1 repetición del carácter anterior.\n",
        "  - Ejemplo: `ab?c` coincidirá con \"ac\" y \"abc\".\n",
        "\n",
        "- `{n}`: Coincide con exactamente n repeticiones del carácter anterior.\n",
        "  - Ejemplo: `\\d{3}` coincidirá con tres dígitos.\n",
        "\n",
        "#### 4. Conjuntos de Caracteres:\n",
        "\n",
        "- `[aeiou]`: Coincide con cualquier vocal.\n",
        "  - Ejemplo: `[aeiou]+` coincidirá con una o más vocales.\n",
        "\n",
        "- `[^aeiou]`: Coincide con cualquier cosa que no sea una vocal.\n",
        "  - Ejemplo: `[^aeiou]+` coincidirá con cadenas sin vocales.\n",
        "\n",
        "#### 5. Anclajes:\n",
        "\n",
        "- `^`: Coincide con el inicio de la cadena.\n",
        "  - Ejemplo: `^start` coincidirá solo si la cadena comienza con \"start\".\n",
        "\n",
        "- `$`: Coincide con el final de la cadena.\n",
        "  - Ejemplo: `end$` coincidirá solo si la cadena termina con \"end\".\n",
        "\n",
        "#### 6. Grupos y Capturas:\n",
        "\n",
        "- `()`: Agrupa elementos para aplicar cuantificadores.\n",
        "  - Ejemplo: `(ab)+` coincidirá con \"ab\", \"abab\", \"ababab\", etc.\n",
        "\n",
        "#### 7. Metacaracteres Especiales:\n",
        "\n",
        "- `\\`: Escapa un carácter especial.\n",
        "  - Ejemplo: `a\\.b` coincidirá con \"a.b\" pero no con \"aab\".\n",
        "\n",
        "- `|`: Alternancia, coincide con A o B.\n",
        "  - Ejemplo: `cat|dog` coincidirá con \"cat\" o \"dog\".\n",
        "\n",
        "\n",
        "### Ejemplos de uso:\n",
        "\n",
        "1. **Búsqueda de correos electrónicos**:\n",
        "   - Patrón: `[\\w\\.-]+@[\\w\\.-]+`\n",
        "   - Significado: Coincide con direcciones de correo electrónico válidas.\n",
        "\n",
        "2. **Búsqueda de números de teléfono**:\n",
        "   - Patrón: `\\d{3}-\\d{2}-\\d{4}`\n",
        "   - Significado: Coincide con números de teléfono en formato XXX-XX-XXXX.\n",
        "\n",
        "3. **Extracción de fechas**:\n",
        "   - Patrón: `\\d{2}/\\d{2}/\\d{4}`\n",
        "   - Significado: Coincide con fechas en formato DD/MM/AAAA.\n",
        "\n",
        "4. **Validación de contraseñas seguras**:\n",
        "   - Patrón: `^(?=.*[a-z])(?=.*[A-Z])(?=.*\\d).{8,}$`\n",
        "   - Significado: Valida contraseñas que contengan al menos una minúscula, una mayúscula, un número y tengan al menos 8 caracteres de longitud.\n"
      ]
    },
    {
      "cell_type": "markdown",
      "metadata": {
        "id": "tyi-vTENVgfx"
      },
      "source": [
        "### Ejercicio\n",
        "\n",
        "1. Descargue la información de Secop integrado  de datos abiertos con el id `rpmr-utcd`\n",
        "2. Generé el parquet e indique el tamaño del archivo\n",
        "3. Realice la carga del archivo desde polars solamente seleccionando las variables Municipio Entidad, Estado proceso y Valor Contrato.\n",
        "4. Filtre los municicipos que inician con 'Cal' tome en cuenta este formato `filter(pl.col(\"ciudad\").str.contains(\"formato regex\"))`\n",
        "5. Agrupe por estado del proceso y realice el calculo del promedio del valor del contrato.\n"
      ]
    },
    {
      "cell_type": "markdown",
      "metadata": {
        "id": "0PHz_XI9Vgfx"
      },
      "source": [
        "#### Manejo de nulos"
      ]
    },
    {
      "cell_type": "code",
      "execution_count": 18,
      "metadata": {
        "id": "lDZL2fh_Vgf1",
        "outputId": "18f44bed-f6d5-401c-fc9e-62ce9e660992",
        "colab": {
          "base_uri": "https://localhost:8080/",
          "height": 361
        }
      },
      "outputs": [
        {
          "output_type": "execute_result",
          "data": {
            "text/plain": [
              "shape: (5, 67)\n",
              "┌───────────┬───────────┬───────────┬───────────┬───┬───────────┬───────────┬───────────┬──────────┐\n",
              "│ nombre_en ┆ nit_entid ┆ departame ┆ ciudad    ┆ … ┆ recursos_ ┆ codigo_en ┆ codigo_pr ┆ objeto_d │\n",
              "│ tidad     ┆ ad        ┆ nto       ┆ ---       ┆   ┆ propios   ┆ tidad     ┆ oveedor   ┆ el_contr │\n",
              "│ ---       ┆ ---       ┆ ---       ┆ str       ┆   ┆ ---       ┆ ---       ┆ ---       ┆ ato      │\n",
              "│ str       ┆ f32       ┆ str       ┆           ┆   ┆ f32       ┆ str       ┆ str       ┆ ---      │\n",
              "│           ┆           ┆           ┆           ┆   ┆           ┆           ┆           ┆ str      │\n",
              "╞═══════════╪═══════════╪═══════════╪═══════════╪═══╪═══════════╪═══════════╪═══════════╪══════════╡\n",
              "│ AGENCIA   ┆ 9.0094892 ┆ Distrito  ┆ Bogotá    ┆ … ┆ 0.0       ┆ 702066010 ┆ 702083288 ┆ Prestar  │\n",
              "│ NACIONAL  ┆ 8e8       ┆ Capital   ┆           ┆   ┆           ┆           ┆           ┆ sus serv │\n",
              "│ DE        ┆           ┆ de Bogotá ┆           ┆   ┆           ┆           ┆           ┆ icios    │\n",
              "│ TIERRAS - ┆           ┆           ┆           ┆   ┆           ┆           ┆           ┆ jurídico │\n",
              "│ AN…       ┆           ┆           ┆           ┆   ┆           ┆           ┆           ┆ s …      │\n",
              "│ SECRETARI ┆ 8.9040e9  ┆ Valle del ┆ Cali      ┆ … ┆ 0.0       ┆ 709412027 ┆ 710837337 ┆ Prestaci │\n",
              "│ A DE INFR ┆           ┆ Cauca     ┆           ┆   ┆           ┆           ┆           ┆ ón de    │\n",
              "│ AESTRUCTU ┆           ┆           ┆           ┆   ┆           ┆           ┆           ┆ Servicio │\n",
              "│ RA - …    ┆           ┆           ┆           ┆   ┆           ┆           ┆           ┆ s Profes │\n",
              "│           ┆           ┆           ┆           ┆   ┆           ┆           ┆           ┆ io…      │\n",
              "│ INSTITUCI ┆ 8.9098016 ┆ Antioquia ┆ Medellín  ┆ … ┆ 0.0       ┆ 704629146 ┆ 714239985 ┆ El Contr │\n",
              "│ ÓN UNIVER ┆ e8        ┆           ┆           ┆   ┆           ┆           ┆           ┆ atista   │\n",
              "│ SITARIA   ┆           ┆           ┆           ┆   ┆           ┆           ┆           ┆ de       │\n",
              "│ COLEGI…   ┆           ┆           ┆           ┆   ┆           ┆           ┆           ┆ manera   │\n",
              "│           ┆           ┆           ┆           ┆   ┆           ┆           ┆           ┆ indepen… │\n",
              "│ DISTRITO  ┆ 8.9010201 ┆ Atlántico ┆ Barranqui ┆ … ┆ 0.0       ┆ 702442096 ┆ 709472161 ┆ PRESTACI │\n",
              "│ ESPECIAL  ┆ 6e8       ┆           ┆ lla       ┆   ┆           ┆           ┆           ┆ ÓN DE    │\n",
              "│ INDUSTRIA ┆           ┆           ┆           ┆   ┆           ┆           ┆           ┆ SERVICIO │\n",
              "│ L Y P…    ┆           ┆           ┆           ┆   ┆           ┆           ┆           ┆ S DE     │\n",
              "│           ┆           ┆           ┆           ┆   ┆           ┆           ┆           ┆ APOYO…   │\n",
              "│ CORPORACI ┆ 8.9050528 ┆ Norte de  ┆ Cúcuta    ┆ … ┆ 1.25e7    ┆ 706029618 ┆ 718389844 ┆ PRESTACI │\n",
              "│ ON        ┆ e8        ┆ Santander ┆           ┆   ┆           ┆           ┆           ┆ ÓN DE    │\n",
              "│ AUTONOMA  ┆           ┆           ┆           ┆   ┆           ┆           ┆           ┆ SERVICIO │\n",
              "│ REGIONAL  ┆           ┆           ┆           ┆   ┆           ┆           ┆           ┆ S PROFES │\n",
              "│ DE…       ┆           ┆           ┆           ┆   ┆           ┆           ┆           ┆ IO…      │\n",
              "└───────────┴───────────┴───────────┴───────────┴───┴───────────┴───────────┴───────────┴──────────┘"
            ],
            "text/html": [
              "<div><style>\n",
              ".dataframe > thead > tr,\n",
              ".dataframe > tbody > tr {\n",
              "  text-align: right;\n",
              "  white-space: pre-wrap;\n",
              "}\n",
              "</style>\n",
              "<small>shape: (5, 67)</small><table border=\"1\" class=\"dataframe\"><thead><tr><th>nombre_entidad</th><th>nit_entidad</th><th>departamento</th><th>ciudad</th><th>localizaci_n</th><th>orden</th><th>sector</th><th>rama</th><th>entidad_centralizada</th><th>proceso_de_compra</th><th>id_contrato</th><th>referencia_del_contrato</th><th>estado_contrato</th><th>codigo_de_categoria_principal</th><th>descripcion_del_proceso</th><th>tipo_de_contrato</th><th>modalidad_de_contratacion</th><th>justificacion_modalidad_de</th><th>fecha_de_firma</th><th>fecha_de_inicio_del_contrato</th><th>fecha_de_fin_del_contrato</th><th>condiciones_de_entrega</th><th>tipodocproveedor</th><th>documento_proveedor</th><th>proveedor_adjudicado</th><th>es_grupo</th><th>es_pyme</th><th>habilita_pago_adelantado</th><th>liquidaci_n</th><th>obligaci_n_ambiental</th><th>obligaciones_postconsumo</th><th>reversion</th><th>origen_de_los_recursos</th><th>destino_gasto</th><th>valor_del_contrato</th><th>valor_de_pago_adelantado</th><th>valor_facturado</th><th>valor_pendiente_de_pago</th><th>valor_pagado</th><th>valor_amortizado</th><th>valor_pendiente_de</th><th>valor_pendiente_de_ejecucion</th><th>estado_bpin</th><th>c_digo_bpin</th><th>anno_bpin</th><th>saldo_cdp</th><th>saldo_vigencia</th><th>espostconflicto</th><th>dias_adicionados</th><th>puntos_del_acuerdo</th><th>pilares_del_acuerdo</th><th>urlproceso</th><th>nombre_representante_legal</th><th>nacionalidad_representante_legal</th><th>domicilio_representante_legal</th><th>tipo_de_identificaci_n_representante_legal</th><th>identificaci_n_representante_legal</th><th>g_nero_representante_legal</th><th>presupuesto_general_de_la_nacion_pgn</th><th>sistema_general_de_participaciones</th><th>sistema_general_de_regal_as</th><th>recursos_propios_alcald_as_gobernaciones_y_resguardos_ind_genas_</th><th>recursos_de_credito</th><th>recursos_propios</th><th>codigo_entidad</th><th>codigo_proveedor</th><th>objeto_del_contrato</th></tr><tr><td>str</td><td>f32</td><td>str</td><td>str</td><td>str</td><td>str</td><td>str</td><td>str</td><td>str</td><td>str</td><td>str</td><td>str</td><td>str</td><td>str</td><td>str</td><td>str</td><td>str</td><td>str</td><td>datetime[ns]</td><td>datetime[ns]</td><td>datetime[ns]</td><td>str</td><td>str</td><td>str</td><td>str</td><td>str</td><td>str</td><td>str</td><td>str</td><td>str</td><td>str</td><td>str</td><td>str</td><td>str</td><td>f32</td><td>f32</td><td>f32</td><td>f32</td><td>f32</td><td>f32</td><td>f32</td><td>f32</td><td>str</td><td>str</td><td>str</td><td>f32</td><td>f32</td><td>str</td><td>f32</td><td>str</td><td>str</td><td>struct[1]</td><td>str</td><td>str</td><td>str</td><td>str</td><td>str</td><td>str</td><td>f32</td><td>f32</td><td>f32</td><td>f32</td><td>f32</td><td>f32</td><td>str</td><td>str</td><td>str</td></tr></thead><tbody><tr><td>&quot;AGENCIA NACION…</td><td>9.00948928e8</td><td>&quot;Distrito Capit…</td><td>&quot;Bogotá&quot;</td><td>&quot;Colombia, Bogo…</td><td>&quot;Nacional&quot;</td><td>&quot;agricultura&quot;</td><td>&quot;Ejecutivo&quot;</td><td>&quot;Centralizada&quot;</td><td>&quot;CO1.BDOS.16613…</td><td>&quot;CO1.PCCNTR.212…</td><td>&quot;ANT-CDPS-131-2…</td><td>&quot;En ejecución&quot;</td><td>&quot;V1.80121700&quot;</td><td>&quot;Prestar sus se…</td><td>&quot;Prestación de …</td><td>&quot;Contratación d…</td><td>&quot;Servicios prof…</td><td>2021-01-19 00:00:00</td><td>2021-01-28 00:00:00</td><td>2021-12-25 00:00:00</td><td>&quot;A convenir&quot;</td><td>&quot;Cédula de Ciud…</td><td>&quot;1019025797&quot;</td><td>&quot;JOISSE SMITH A…</td><td>&quot;No&quot;</td><td>&quot;No&quot;</td><td>&quot;No&quot;</td><td>&quot;No&quot;</td><td>&quot;No&quot;</td><td>&quot;No&quot;</td><td>&quot;No&quot;</td><td>&quot;Distribuido&quot;</td><td>&quot;Inversión&quot;</td><td>1.17763336e8</td><td>0.0</td><td>1.17763336e8</td><td>7.004e7</td><td>4.7723332e7</td><td>0.0</td><td>0.0</td><td>7.004e7</td><td>&quot;Válido&quot;</td><td>&quot;2020011000016&quot;</td><td>&quot;2021&quot;</td><td>3.4198e9</td><td>0.0</td><td>&quot;Si&quot;</td><td>0.0</td><td>&quot;ReformaRuralIn…</td><td>&quot;OSPRUDS&quot;</td><td>{&quot;https://community.secop.gov.co/Public/Tendering/OpportunityDetail/Index?noticeUID=CO1.NTC.1658141&amp;isFromPublicArea=True&amp;isModal=true&amp;asPopupView=true&quot;}</td><td>&quot;JOISSE SMITH A…</td><td>&quot;CO&quot;</td><td>&quot;Calle 7 No. 90…</td><td>&quot;Cédula de Ciud…</td><td>&quot;1019025797&quot;</td><td>&quot;Femenino&quot;</td><td>1.17763336e8</td><td>0.0</td><td>0.0</td><td>0.0</td><td>0.0</td><td>0.0</td><td>&quot;702066010&quot;</td><td>&quot;702083288&quot;</td><td>&quot;Prestar sus se…</td></tr><tr><td>&quot;SECRETARIA DE …</td><td>8.9040e9</td><td>&quot;Valle del Cauc…</td><td>&quot;Cali&quot;</td><td>&quot;Colombia,  Val…</td><td>&quot;Territorial&quot;</td><td>&quot;Servicio Públi…</td><td>&quot;Ejecutivo&quot;</td><td>&quot;Centralizada&quot;</td><td>&quot;CO1.BDOS.21648…</td><td>&quot;CO1.PCCNTR.275…</td><td>&quot;1.310.02-59.2-…</td><td>&quot;En ejecución&quot;</td><td>&quot;V1.72141003&quot;</td><td>&quot;Prestación de …</td><td>&quot;Prestación de …</td><td>&quot;Contratación d…</td><td>&quot;Servicios prof…</td><td>2021-08-12 00:00:00</td><td>2021-08-17 00:00:00</td><td>2021-12-31 00:00:00</td><td>&quot;A convenir&quot;</td><td>&quot;Cédula de Ciud…</td><td>&quot;34317568&quot;</td><td>&quot;Victoria Eugen…</td><td>&quot;No&quot;</td><td>&quot;No&quot;</td><td>&quot;No&quot;</td><td>&quot;No&quot;</td><td>&quot;No&quot;</td><td>&quot;No&quot;</td><td>&quot;No&quot;</td><td>&quot;Distribuido&quot;</td><td>&quot;Inversión&quot;</td><td>1.65e7</td><td>0.0</td><td>1.65e7</td><td>0.0</td><td>1.65e7</td><td>0.0</td><td>0.0</td><td>0.0</td><td>&quot;Válido&quot;</td><td>&quot;2020003760195&quot;</td><td>&quot;2023&quot;</td><td>1.5365e9</td><td>0.0</td><td>&quot;No&quot;</td><td>0.0</td><td>&quot;No aplica&quot;</td><td>&quot;No aplica&quot;</td><td>{&quot;https://community.secop.gov.co/Public/Tendering/OpportunityDetail/Index?noticeUID=CO1.NTC.2168642&amp;isFromPublicArea=True&amp;isModal=true&amp;asPopupView=true&quot;}</td><td>&quot;Victoria Eugen…</td><td>&quot;CO&quot;</td><td>&quot;No Definido&quot;</td><td>&quot;Sin Descripcio…</td><td>&quot;Sin Descripcio…</td><td>&quot;No Definido&quot;</td><td>0.0</td><td>0.0</td><td>0.0</td><td>1.65e7</td><td>0.0</td><td>0.0</td><td>&quot;709412027&quot;</td><td>&quot;710837337&quot;</td><td>&quot;Prestación de …</td></tr><tr><td>&quot;INSTITUCIÓN UN…</td><td>8.9098016e8</td><td>&quot;Antioquia&quot;</td><td>&quot;Medellín&quot;</td><td>&quot;Colombia,  Ant…</td><td>&quot;Territorial&quot;</td><td>&quot;Educación Naci…</td><td>&quot;Ejecutivo&quot;</td><td>&quot;Centralizada&quot;</td><td>&quot;CO1.BDOS.30981…</td><td>&quot;CO1.PCCNTR.387…</td><td>&quot;CMA-CD-9797-94…</td><td>&quot;En ejecución&quot;</td><td>&quot;V1.80111600&quot;</td><td>&quot;El Contratista…</td><td>&quot;Prestación de …</td><td>&quot;Contratación d…</td><td>&quot;Servicios prof…</td><td>2022-08-03 00:00:00</td><td>2022-08-04 00:00:00</td><td>2023-01-01 00:00:00</td><td>&quot;No Definido&quot;</td><td>&quot;Cédula de Ciud…</td><td>&quot;8356403&quot;</td><td>&quot;GUSTAVO ADOLFO…</td><td>&quot;No&quot;</td><td>&quot;No&quot;</td><td>&quot;No&quot;</td><td>&quot;No&quot;</td><td>&quot;No&quot;</td><td>&quot;No&quot;</td><td>&quot;No&quot;</td><td>&quot;Distribuido&quot;</td><td>&quot;Funcionamiento…</td><td>1.096155e7</td><td>0.0</td><td>1.096155e7</td><td>0.0</td><td>1.096155e7</td><td>0.0</td><td>0.0</td><td>0.0</td><td>&quot;No Válido&quot;</td><td>&quot;No Definido&quot;</td><td>&quot;No D&quot;</td><td>4.2622e9</td><td>0.0</td><td>&quot;No&quot;</td><td>0.0</td><td>&quot;No aplica&quot;</td><td>&quot;No aplica&quot;</td><td>{&quot;https://community.secop.gov.co/Public/Tendering/OpportunityDetail/Index?noticeUID=CO1.NTC.3100647&amp;isFromPublicArea=True&amp;isModal=true&amp;asPopupView=true&quot;}</td><td>&quot;GUSTAVO ADOLFO…</td><td>&quot;CO&quot;</td><td>&quot;No Definido&quot;</td><td>&quot;Sin Descripcio…</td><td>&quot;Sin Descripcio…</td><td>&quot;No Definido&quot;</td><td>0.0</td><td>0.0</td><td>0.0</td><td>1.096155e7</td><td>0.0</td><td>0.0</td><td>&quot;704629146&quot;</td><td>&quot;714239985&quot;</td><td>&quot;El Contratista…</td></tr><tr><td>&quot;DISTRITO ESPEC…</td><td>8.90102016e8</td><td>&quot;Atlántico&quot;</td><td>&quot;Barranquilla&quot;</td><td>&quot;Colombia,  Atl…</td><td>&quot;Territorial&quot;</td><td>&quot;Servicio Públi…</td><td>&quot;Ejecutivo&quot;</td><td>&quot;Centralizada&quot;</td><td>&quot;CO1.BDOS.16947…</td><td>&quot;CO1.PCCNTR.216…</td><td>&quot;CD-57-2021-045…</td><td>&quot;En ejecución&quot;</td><td>&quot;V1.80111600&quot;</td><td>&quot;PRESTACIÓN DE …</td><td>&quot;Prestación de …</td><td>&quot;Contratación d…</td><td>&quot;Servicios prof…</td><td>2021-01-28 00:00:00</td><td>2021-02-02 00:00:00</td><td>2022-01-01 00:00:00</td><td>&quot;No Definido&quot;</td><td>&quot;Cédula de Ciud…</td><td>&quot;72142696&quot;</td><td>&quot;ANGEL VICENTE …</td><td>&quot;No&quot;</td><td>&quot;No&quot;</td><td>&quot;No&quot;</td><td>&quot;No&quot;</td><td>&quot;No&quot;</td><td>&quot;No&quot;</td><td>&quot;No&quot;</td><td>&quot;Distribuido&quot;</td><td>&quot;Inversión&quot;</td><td>2.023425e7</td><td>0.0</td><td>2.023425e7</td><td>0.0</td><td>2.023425e7</td><td>0.0</td><td>0.0</td><td>0.0</td><td>&quot;Válido&quot;</td><td>&quot;2021080010005&quot;</td><td>&quot;2021&quot;</td><td>2.0023e9</td><td>0.0</td><td>&quot;No&quot;</td><td>0.0</td><td>&quot;No aplica&quot;</td><td>&quot;No aplica&quot;</td><td>{&quot;https://community.secop.gov.co/Public/Tendering/OpportunityDetail/Index?noticeUID=CO1.NTC.1690930&amp;isFromPublicArea=True&amp;isModal=true&amp;asPopupView=true&quot;}</td><td>&quot;ANGEL VICENTE …</td><td>&quot;CO&quot;</td><td>&quot;No Definido&quot;</td><td>&quot;Sin Descripcio…</td><td>&quot;Sin Descripcio…</td><td>&quot;No Definido&quot;</td><td>0.0</td><td>0.0</td><td>0.0</td><td>2.023425e7</td><td>0.0</td><td>0.0</td><td>&quot;702442096&quot;</td><td>&quot;709472161&quot;</td><td>&quot;PRESTACIÓN DE …</td></tr><tr><td>&quot;CORPORACION AU…</td><td>8.9050528e8</td><td>&quot;Norte de Santa…</td><td>&quot;Cúcuta&quot;</td><td>&quot;Colombia,  Nor…</td><td>&quot;Corporación Au…</td><td>&quot;Ambiente y Des…</td><td>&quot;Corporación Au…</td><td>&quot;Centralizada&quot;</td><td>&quot;CO1.BDOS.45379…</td><td>&quot;CO1.PCCNTR.505…</td><td>&quot;CD633-2023&quot;</td><td>&quot;En ejecución&quot;</td><td>&quot;V1.80111600&quot;</td><td>&quot;PRESTACIÓN DE …</td><td>&quot;Prestación de …</td><td>&quot;Contratación d…</td><td>&quot;Servicios prof…</td><td>2023-06-14 00:00:00</td><td>2023-06-20 00:00:00</td><td>2023-11-20 00:00:00</td><td>&quot;No Definido&quot;</td><td>&quot;Cédula de Ciud…</td><td>&quot;1090421847&quot;</td><td>&quot;erika yurley p…</td><td>&quot;No&quot;</td><td>&quot;No&quot;</td><td>&quot;No&quot;</td><td>&quot;No&quot;</td><td>&quot;No&quot;</td><td>&quot;No&quot;</td><td>&quot;No&quot;</td><td>&quot;Recursos Propi…</td><td>&quot;Inversión&quot;</td><td>1.25e7</td><td>0.0</td><td>1.25e7</td><td>2.5e6</td><td>1e7</td><td>0.0</td><td>0.0</td><td>2.5e6</td><td>&quot;No Válido&quot;</td><td>&quot;No Definido&quot;</td><td>&quot;No D&quot;</td><td>1.25e7</td><td>0.0</td><td>&quot;No&quot;</td><td>0.0</td><td>&quot;No aplica&quot;</td><td>&quot;No aplica&quot;</td><td>{&quot;https://community.secop.gov.co/Public/Tendering/OpportunityDetail/Index?noticeUID=CO1.NTC.4544009&amp;isFromPublicArea=True&amp;isModal=true&amp;asPopupView=true&quot;}</td><td>&quot;ERIKA YURLEY P…</td><td>&quot;CO&quot;</td><td>&quot;CALLE 22  11-4…</td><td>&quot;Cédula de Ciud…</td><td>&quot;1090421847&quot;</td><td>&quot;Femenino&quot;</td><td>0.0</td><td>0.0</td><td>0.0</td><td>0.0</td><td>0.0</td><td>1.25e7</td><td>&quot;706029618&quot;</td><td>&quot;718389844&quot;</td><td>&quot;PRESTACIÓN DE …</td></tr></tbody></table></div>"
            ]
          },
          "metadata": {},
          "execution_count": 18
        }
      ],
      "source": [
        "datos_pagina.drop_nulls().head()"
      ]
    },
    {
      "cell_type": "code",
      "execution_count": 19,
      "metadata": {
        "id": "OzvOS0fSVgf1",
        "outputId": "24dd550d-f975-4d24-e0b6-7ca0dd940c6e",
        "colab": {
          "base_uri": "https://localhost:8080/",
          "height": 361
        }
      },
      "outputs": [
        {
          "output_type": "execute_result",
          "data": {
            "text/plain": [
              "shape: (5, 67)\n",
              "┌───────────┬───────────┬───────────┬───────────┬───┬───────────┬───────────┬───────────┬──────────┐\n",
              "│ nombre_en ┆ nit_entid ┆ departame ┆ ciudad    ┆ … ┆ recursos_ ┆ codigo_en ┆ codigo_pr ┆ objeto_d │\n",
              "│ tidad     ┆ ad        ┆ nto       ┆ ---       ┆   ┆ propios   ┆ tidad     ┆ oveedor   ┆ el_contr │\n",
              "│ ---       ┆ ---       ┆ ---       ┆ str       ┆   ┆ ---       ┆ ---       ┆ ---       ┆ ato      │\n",
              "│ str       ┆ f32       ┆ str       ┆           ┆   ┆ f32       ┆ str       ┆ str       ┆ ---      │\n",
              "│           ┆           ┆           ┆           ┆   ┆           ┆           ┆           ┆ str      │\n",
              "╞═══════════╪═══════════╪═══════════╪═══════════╪═══╪═══════════╪═══════════╪═══════════╪══════════╡\n",
              "│ AGENCIA   ┆ 9.0094892 ┆ Distrito  ┆ Bogotá    ┆ … ┆ 0.0       ┆ 702066010 ┆ 702083288 ┆ Prestar  │\n",
              "│ NACIONAL  ┆ 8e8       ┆ Capital   ┆           ┆   ┆           ┆           ┆           ┆ sus serv │\n",
              "│ DE        ┆           ┆ de Bogotá ┆           ┆   ┆           ┆           ┆           ┆ icios    │\n",
              "│ TIERRAS - ┆           ┆           ┆           ┆   ┆           ┆           ┆           ┆ jurídico │\n",
              "│ AN…       ┆           ┆           ┆           ┆   ┆           ┆           ┆           ┆ s …      │\n",
              "│ SECRETARI ┆ 8.9040e9  ┆ Valle del ┆ Cali      ┆ … ┆ 0.0       ┆ 709412027 ┆ 710837337 ┆ Prestaci │\n",
              "│ A DE INFR ┆           ┆ Cauca     ┆           ┆   ┆           ┆           ┆           ┆ ón de    │\n",
              "│ AESTRUCTU ┆           ┆           ┆           ┆   ┆           ┆           ┆           ┆ Servicio │\n",
              "│ RA - …    ┆           ┆           ┆           ┆   ┆           ┆           ┆           ┆ s Profes │\n",
              "│           ┆           ┆           ┆           ┆   ┆           ┆           ┆           ┆ io…      │\n",
              "│ INSTITUCI ┆ 8.9098016 ┆ Antioquia ┆ Medellín  ┆ … ┆ 0.0       ┆ 704629146 ┆ 714239985 ┆ El Contr │\n",
              "│ ÓN UNIVER ┆ e8        ┆           ┆           ┆   ┆           ┆           ┆           ┆ atista   │\n",
              "│ SITARIA   ┆           ┆           ┆           ┆   ┆           ┆           ┆           ┆ de       │\n",
              "│ COLEGI…   ┆           ┆           ┆           ┆   ┆           ┆           ┆           ┆ manera   │\n",
              "│           ┆           ┆           ┆           ┆   ┆           ┆           ┆           ┆ indepen… │\n",
              "│ DISTRITO  ┆ 8.9010201 ┆ Atlántico ┆ Barranqui ┆ … ┆ 0.0       ┆ 702442096 ┆ 709472161 ┆ PRESTACI │\n",
              "│ ESPECIAL  ┆ 6e8       ┆           ┆ lla       ┆   ┆           ┆           ┆           ┆ ÓN DE    │\n",
              "│ INDUSTRIA ┆           ┆           ┆           ┆   ┆           ┆           ┆           ┆ SERVICIO │\n",
              "│ L Y P…    ┆           ┆           ┆           ┆   ┆           ┆           ┆           ┆ S DE     │\n",
              "│           ┆           ┆           ┆           ┆   ┆           ┆           ┆           ┆ APOYO…   │\n",
              "│ CORPORACI ┆ 8.9050528 ┆ Norte de  ┆ Cúcuta    ┆ … ┆ 1.25e7    ┆ 706029618 ┆ 718389844 ┆ PRESTACI │\n",
              "│ ON        ┆ e8        ┆ Santander ┆           ┆   ┆           ┆           ┆           ┆ ÓN DE    │\n",
              "│ AUTONOMA  ┆           ┆           ┆           ┆   ┆           ┆           ┆           ┆ SERVICIO │\n",
              "│ REGIONAL  ┆           ┆           ┆           ┆   ┆           ┆           ┆           ┆ S PROFES │\n",
              "│ DE…       ┆           ┆           ┆           ┆   ┆           ┆           ┆           ┆ IO…      │\n",
              "└───────────┴───────────┴───────────┴───────────┴───┴───────────┴───────────┴───────────┴──────────┘"
            ],
            "text/html": [
              "<div><style>\n",
              ".dataframe > thead > tr,\n",
              ".dataframe > tbody > tr {\n",
              "  text-align: right;\n",
              "  white-space: pre-wrap;\n",
              "}\n",
              "</style>\n",
              "<small>shape: (5, 67)</small><table border=\"1\" class=\"dataframe\"><thead><tr><th>nombre_entidad</th><th>nit_entidad</th><th>departamento</th><th>ciudad</th><th>localizaci_n</th><th>orden</th><th>sector</th><th>rama</th><th>entidad_centralizada</th><th>proceso_de_compra</th><th>id_contrato</th><th>referencia_del_contrato</th><th>estado_contrato</th><th>codigo_de_categoria_principal</th><th>descripcion_del_proceso</th><th>tipo_de_contrato</th><th>modalidad_de_contratacion</th><th>justificacion_modalidad_de</th><th>fecha_de_firma</th><th>fecha_de_inicio_del_contrato</th><th>fecha_de_fin_del_contrato</th><th>condiciones_de_entrega</th><th>tipodocproveedor</th><th>documento_proveedor</th><th>proveedor_adjudicado</th><th>es_grupo</th><th>es_pyme</th><th>habilita_pago_adelantado</th><th>liquidaci_n</th><th>obligaci_n_ambiental</th><th>obligaciones_postconsumo</th><th>reversion</th><th>origen_de_los_recursos</th><th>destino_gasto</th><th>valor_del_contrato</th><th>valor_de_pago_adelantado</th><th>valor_facturado</th><th>valor_pendiente_de_pago</th><th>valor_pagado</th><th>valor_amortizado</th><th>valor_pendiente_de</th><th>valor_pendiente_de_ejecucion</th><th>estado_bpin</th><th>c_digo_bpin</th><th>anno_bpin</th><th>saldo_cdp</th><th>saldo_vigencia</th><th>espostconflicto</th><th>dias_adicionados</th><th>puntos_del_acuerdo</th><th>pilares_del_acuerdo</th><th>urlproceso</th><th>nombre_representante_legal</th><th>nacionalidad_representante_legal</th><th>domicilio_representante_legal</th><th>tipo_de_identificaci_n_representante_legal</th><th>identificaci_n_representante_legal</th><th>g_nero_representante_legal</th><th>presupuesto_general_de_la_nacion_pgn</th><th>sistema_general_de_participaciones</th><th>sistema_general_de_regal_as</th><th>recursos_propios_alcald_as_gobernaciones_y_resguardos_ind_genas_</th><th>recursos_de_credito</th><th>recursos_propios</th><th>codigo_entidad</th><th>codigo_proveedor</th><th>objeto_del_contrato</th></tr><tr><td>str</td><td>f32</td><td>str</td><td>str</td><td>str</td><td>str</td><td>str</td><td>str</td><td>str</td><td>str</td><td>str</td><td>str</td><td>str</td><td>str</td><td>str</td><td>str</td><td>str</td><td>str</td><td>datetime[ns]</td><td>datetime[ns]</td><td>datetime[ns]</td><td>str</td><td>str</td><td>str</td><td>str</td><td>str</td><td>str</td><td>str</td><td>str</td><td>str</td><td>str</td><td>str</td><td>str</td><td>str</td><td>f32</td><td>f32</td><td>f32</td><td>f32</td><td>f32</td><td>f32</td><td>f32</td><td>f32</td><td>str</td><td>str</td><td>str</td><td>f32</td><td>f32</td><td>str</td><td>f32</td><td>str</td><td>str</td><td>struct[1]</td><td>str</td><td>str</td><td>str</td><td>str</td><td>str</td><td>str</td><td>f32</td><td>f32</td><td>f32</td><td>f32</td><td>f32</td><td>f32</td><td>str</td><td>str</td><td>str</td></tr></thead><tbody><tr><td>&quot;AGENCIA NACION…</td><td>9.00948928e8</td><td>&quot;Distrito Capit…</td><td>&quot;Bogotá&quot;</td><td>&quot;Colombia, Bogo…</td><td>&quot;Nacional&quot;</td><td>&quot;agricultura&quot;</td><td>&quot;Ejecutivo&quot;</td><td>&quot;Centralizada&quot;</td><td>&quot;CO1.BDOS.16613…</td><td>&quot;CO1.PCCNTR.212…</td><td>&quot;ANT-CDPS-131-2…</td><td>&quot;En ejecución&quot;</td><td>&quot;V1.80121700&quot;</td><td>&quot;Prestar sus se…</td><td>&quot;Prestación de …</td><td>&quot;Contratación d…</td><td>&quot;Servicios prof…</td><td>2021-01-19 00:00:00</td><td>2021-01-28 00:00:00</td><td>2021-12-25 00:00:00</td><td>&quot;A convenir&quot;</td><td>&quot;Cédula de Ciud…</td><td>&quot;1019025797&quot;</td><td>&quot;JOISSE SMITH A…</td><td>&quot;No&quot;</td><td>&quot;No&quot;</td><td>&quot;No&quot;</td><td>&quot;No&quot;</td><td>&quot;No&quot;</td><td>&quot;No&quot;</td><td>&quot;No&quot;</td><td>&quot;Distribuido&quot;</td><td>&quot;Inversión&quot;</td><td>1.17763336e8</td><td>0.0</td><td>1.17763336e8</td><td>7.004e7</td><td>4.7723332e7</td><td>0.0</td><td>0.0</td><td>7.004e7</td><td>&quot;Válido&quot;</td><td>&quot;2020011000016&quot;</td><td>&quot;2021&quot;</td><td>3.4198e9</td><td>0.0</td><td>&quot;Si&quot;</td><td>0.0</td><td>&quot;ReformaRuralIn…</td><td>&quot;OSPRUDS&quot;</td><td>{&quot;https://community.secop.gov.co/Public/Tendering/OpportunityDetail/Index?noticeUID=CO1.NTC.1658141&amp;isFromPublicArea=True&amp;isModal=true&amp;asPopupView=true&quot;}</td><td>&quot;JOISSE SMITH A…</td><td>&quot;CO&quot;</td><td>&quot;Calle 7 No. 90…</td><td>&quot;Cédula de Ciud…</td><td>&quot;1019025797&quot;</td><td>&quot;Femenino&quot;</td><td>1.17763336e8</td><td>0.0</td><td>0.0</td><td>0.0</td><td>0.0</td><td>0.0</td><td>&quot;702066010&quot;</td><td>&quot;702083288&quot;</td><td>&quot;Prestar sus se…</td></tr><tr><td>&quot;SECRETARIA DE …</td><td>8.9040e9</td><td>&quot;Valle del Cauc…</td><td>&quot;Cali&quot;</td><td>&quot;Colombia,  Val…</td><td>&quot;Territorial&quot;</td><td>&quot;Servicio Públi…</td><td>&quot;Ejecutivo&quot;</td><td>&quot;Centralizada&quot;</td><td>&quot;CO1.BDOS.21648…</td><td>&quot;CO1.PCCNTR.275…</td><td>&quot;1.310.02-59.2-…</td><td>&quot;En ejecución&quot;</td><td>&quot;V1.72141003&quot;</td><td>&quot;Prestación de …</td><td>&quot;Prestación de …</td><td>&quot;Contratación d…</td><td>&quot;Servicios prof…</td><td>2021-08-12 00:00:00</td><td>2021-08-17 00:00:00</td><td>2021-12-31 00:00:00</td><td>&quot;A convenir&quot;</td><td>&quot;Cédula de Ciud…</td><td>&quot;34317568&quot;</td><td>&quot;Victoria Eugen…</td><td>&quot;No&quot;</td><td>&quot;No&quot;</td><td>&quot;No&quot;</td><td>&quot;No&quot;</td><td>&quot;No&quot;</td><td>&quot;No&quot;</td><td>&quot;No&quot;</td><td>&quot;Distribuido&quot;</td><td>&quot;Inversión&quot;</td><td>1.65e7</td><td>0.0</td><td>1.65e7</td><td>0.0</td><td>1.65e7</td><td>0.0</td><td>0.0</td><td>0.0</td><td>&quot;Válido&quot;</td><td>&quot;2020003760195&quot;</td><td>&quot;2023&quot;</td><td>1.5365e9</td><td>0.0</td><td>&quot;No&quot;</td><td>0.0</td><td>&quot;No aplica&quot;</td><td>&quot;No aplica&quot;</td><td>{&quot;https://community.secop.gov.co/Public/Tendering/OpportunityDetail/Index?noticeUID=CO1.NTC.2168642&amp;isFromPublicArea=True&amp;isModal=true&amp;asPopupView=true&quot;}</td><td>&quot;Victoria Eugen…</td><td>&quot;CO&quot;</td><td>&quot;No Definido&quot;</td><td>&quot;Sin Descripcio…</td><td>&quot;Sin Descripcio…</td><td>&quot;No Definido&quot;</td><td>0.0</td><td>0.0</td><td>0.0</td><td>1.65e7</td><td>0.0</td><td>0.0</td><td>&quot;709412027&quot;</td><td>&quot;710837337&quot;</td><td>&quot;Prestación de …</td></tr><tr><td>&quot;INSTITUCIÓN UN…</td><td>8.9098016e8</td><td>&quot;Antioquia&quot;</td><td>&quot;Medellín&quot;</td><td>&quot;Colombia,  Ant…</td><td>&quot;Territorial&quot;</td><td>&quot;Educación Naci…</td><td>&quot;Ejecutivo&quot;</td><td>&quot;Centralizada&quot;</td><td>&quot;CO1.BDOS.30981…</td><td>&quot;CO1.PCCNTR.387…</td><td>&quot;CMA-CD-9797-94…</td><td>&quot;En ejecución&quot;</td><td>&quot;V1.80111600&quot;</td><td>&quot;El Contratista…</td><td>&quot;Prestación de …</td><td>&quot;Contratación d…</td><td>&quot;Servicios prof…</td><td>2022-08-03 00:00:00</td><td>2022-08-04 00:00:00</td><td>2023-01-01 00:00:00</td><td>&quot;No Definido&quot;</td><td>&quot;Cédula de Ciud…</td><td>&quot;8356403&quot;</td><td>&quot;GUSTAVO ADOLFO…</td><td>&quot;No&quot;</td><td>&quot;No&quot;</td><td>&quot;No&quot;</td><td>&quot;No&quot;</td><td>&quot;No&quot;</td><td>&quot;No&quot;</td><td>&quot;No&quot;</td><td>&quot;Distribuido&quot;</td><td>&quot;Funcionamiento…</td><td>1.096155e7</td><td>0.0</td><td>1.096155e7</td><td>0.0</td><td>1.096155e7</td><td>0.0</td><td>0.0</td><td>0.0</td><td>&quot;No Válido&quot;</td><td>&quot;No Definido&quot;</td><td>&quot;No D&quot;</td><td>4.2622e9</td><td>0.0</td><td>&quot;No&quot;</td><td>0.0</td><td>&quot;No aplica&quot;</td><td>&quot;No aplica&quot;</td><td>{&quot;https://community.secop.gov.co/Public/Tendering/OpportunityDetail/Index?noticeUID=CO1.NTC.3100647&amp;isFromPublicArea=True&amp;isModal=true&amp;asPopupView=true&quot;}</td><td>&quot;GUSTAVO ADOLFO…</td><td>&quot;CO&quot;</td><td>&quot;No Definido&quot;</td><td>&quot;Sin Descripcio…</td><td>&quot;Sin Descripcio…</td><td>&quot;No Definido&quot;</td><td>0.0</td><td>0.0</td><td>0.0</td><td>1.096155e7</td><td>0.0</td><td>0.0</td><td>&quot;704629146&quot;</td><td>&quot;714239985&quot;</td><td>&quot;El Contratista…</td></tr><tr><td>&quot;DISTRITO ESPEC…</td><td>8.90102016e8</td><td>&quot;Atlántico&quot;</td><td>&quot;Barranquilla&quot;</td><td>&quot;Colombia,  Atl…</td><td>&quot;Territorial&quot;</td><td>&quot;Servicio Públi…</td><td>&quot;Ejecutivo&quot;</td><td>&quot;Centralizada&quot;</td><td>&quot;CO1.BDOS.16947…</td><td>&quot;CO1.PCCNTR.216…</td><td>&quot;CD-57-2021-045…</td><td>&quot;En ejecución&quot;</td><td>&quot;V1.80111600&quot;</td><td>&quot;PRESTACIÓN DE …</td><td>&quot;Prestación de …</td><td>&quot;Contratación d…</td><td>&quot;Servicios prof…</td><td>2021-01-28 00:00:00</td><td>2021-02-02 00:00:00</td><td>2022-01-01 00:00:00</td><td>&quot;No Definido&quot;</td><td>&quot;Cédula de Ciud…</td><td>&quot;72142696&quot;</td><td>&quot;ANGEL VICENTE …</td><td>&quot;No&quot;</td><td>&quot;No&quot;</td><td>&quot;No&quot;</td><td>&quot;No&quot;</td><td>&quot;No&quot;</td><td>&quot;No&quot;</td><td>&quot;No&quot;</td><td>&quot;Distribuido&quot;</td><td>&quot;Inversión&quot;</td><td>2.023425e7</td><td>0.0</td><td>2.023425e7</td><td>0.0</td><td>2.023425e7</td><td>0.0</td><td>0.0</td><td>0.0</td><td>&quot;Válido&quot;</td><td>&quot;2021080010005&quot;</td><td>&quot;2021&quot;</td><td>2.0023e9</td><td>0.0</td><td>&quot;No&quot;</td><td>0.0</td><td>&quot;No aplica&quot;</td><td>&quot;No aplica&quot;</td><td>{&quot;https://community.secop.gov.co/Public/Tendering/OpportunityDetail/Index?noticeUID=CO1.NTC.1690930&amp;isFromPublicArea=True&amp;isModal=true&amp;asPopupView=true&quot;}</td><td>&quot;ANGEL VICENTE …</td><td>&quot;CO&quot;</td><td>&quot;No Definido&quot;</td><td>&quot;Sin Descripcio…</td><td>&quot;Sin Descripcio…</td><td>&quot;No Definido&quot;</td><td>0.0</td><td>0.0</td><td>0.0</td><td>2.023425e7</td><td>0.0</td><td>0.0</td><td>&quot;702442096&quot;</td><td>&quot;709472161&quot;</td><td>&quot;PRESTACIÓN DE …</td></tr><tr><td>&quot;CORPORACION AU…</td><td>8.9050528e8</td><td>&quot;Norte de Santa…</td><td>&quot;Cúcuta&quot;</td><td>&quot;Colombia,  Nor…</td><td>&quot;Corporación Au…</td><td>&quot;Ambiente y Des…</td><td>&quot;Corporación Au…</td><td>&quot;Centralizada&quot;</td><td>&quot;CO1.BDOS.45379…</td><td>&quot;CO1.PCCNTR.505…</td><td>&quot;CD633-2023&quot;</td><td>&quot;En ejecución&quot;</td><td>&quot;V1.80111600&quot;</td><td>&quot;PRESTACIÓN DE …</td><td>&quot;Prestación de …</td><td>&quot;Contratación d…</td><td>&quot;Servicios prof…</td><td>2023-06-14 00:00:00</td><td>2023-06-20 00:00:00</td><td>2023-11-20 00:00:00</td><td>&quot;No Definido&quot;</td><td>&quot;Cédula de Ciud…</td><td>&quot;1090421847&quot;</td><td>&quot;erika yurley p…</td><td>&quot;No&quot;</td><td>&quot;No&quot;</td><td>&quot;No&quot;</td><td>&quot;No&quot;</td><td>&quot;No&quot;</td><td>&quot;No&quot;</td><td>&quot;No&quot;</td><td>&quot;Recursos Propi…</td><td>&quot;Inversión&quot;</td><td>1.25e7</td><td>0.0</td><td>1.25e7</td><td>2.5e6</td><td>1e7</td><td>0.0</td><td>0.0</td><td>2.5e6</td><td>&quot;No Válido&quot;</td><td>&quot;No Definido&quot;</td><td>&quot;No D&quot;</td><td>1.25e7</td><td>0.0</td><td>&quot;No&quot;</td><td>0.0</td><td>&quot;No aplica&quot;</td><td>&quot;No aplica&quot;</td><td>{&quot;https://community.secop.gov.co/Public/Tendering/OpportunityDetail/Index?noticeUID=CO1.NTC.4544009&amp;isFromPublicArea=True&amp;isModal=true&amp;asPopupView=true&quot;}</td><td>&quot;ERIKA YURLEY P…</td><td>&quot;CO&quot;</td><td>&quot;CALLE 22  11-4…</td><td>&quot;Cédula de Ciud…</td><td>&quot;1090421847&quot;</td><td>&quot;Femenino&quot;</td><td>0.0</td><td>0.0</td><td>0.0</td><td>0.0</td><td>0.0</td><td>1.25e7</td><td>&quot;706029618&quot;</td><td>&quot;718389844&quot;</td><td>&quot;PRESTACIÓN DE …</td></tr></tbody></table></div>"
            ]
          },
          "metadata": {},
          "execution_count": 19
        }
      ],
      "source": [
        " # Eliminar filas con valores nulos\n",
        "datos_pagina.fill_null(42).head()  # Reemplazar valores nulos con 42\n"
      ]
    },
    {
      "cell_type": "markdown",
      "metadata": {
        "id": "oN4HCiMZVgf1"
      },
      "source": [
        "#### Crear columnas"
      ]
    },
    {
      "cell_type": "code",
      "execution_count": 20,
      "metadata": {
        "id": "cUg43rpmVgf2",
        "outputId": "82728121-1919-47f9-e82f-0a898f7ea876",
        "colab": {
          "base_uri": "https://localhost:8080/",
          "height": 255
        }
      },
      "outputs": [
        {
          "output_type": "execute_result",
          "data": {
            "text/plain": [
              "shape: (5, 1)\n",
              "┌───────────────────┐\n",
              "│ Valor en millones │\n",
              "│ ---               │\n",
              "│ f32               │\n",
              "╞═══════════════════╡\n",
              "│ 117.763336        │\n",
              "│ 16.5              │\n",
              "│ 10.96155          │\n",
              "│ 20.234249         │\n",
              "│ 12.5              │\n",
              "└───────────────────┘"
            ],
            "text/html": [
              "<div><style>\n",
              ".dataframe > thead > tr,\n",
              ".dataframe > tbody > tr {\n",
              "  text-align: right;\n",
              "  white-space: pre-wrap;\n",
              "}\n",
              "</style>\n",
              "<small>shape: (5, 1)</small><table border=\"1\" class=\"dataframe\"><thead><tr><th>Valor en millones</th></tr><tr><td>f32</td></tr></thead><tbody><tr><td>117.763336</td></tr><tr><td>16.5</td></tr><tr><td>10.96155</td></tr><tr><td>20.234249</td></tr><tr><td>12.5</td></tr></tbody></table></div>"
            ]
          },
          "metadata": {},
          "execution_count": 20
        }
      ],
      "source": [
        "datos_pagina.with_columns((pl.col(\"valor_del_contrato\") /1000000).alias(\"Valor en millones\")).select(\"Valor en millones\").head()\n"
      ]
    },
    {
      "cell_type": "code",
      "execution_count": 21,
      "metadata": {
        "id": "Q8zNgSBPVgf2",
        "outputId": "5c83f1a4-59d0-4abb-beab-28c8ac9f73cb",
        "colab": {
          "base_uri": "https://localhost:8080/",
          "height": 289
        }
      },
      "outputs": [
        {
          "output_type": "stream",
          "name": "stderr",
          "text": [
            "<ipython-input-21-5a1ffe164308>:5: DeprecationWarning: `lengths` is deprecated. It has been renamed to `len_bytes`.\n",
            "  pl.col(\"ciudad\").str.lengths().alias(\"longitudes_ciudad\"),\n"
          ]
        },
        {
          "output_type": "execute_result",
          "data": {
            "text/plain": [
              "shape: (5, 3)\n",
              "┌───────────────────┬──────────────┬───────────────────┐\n",
              "│ Valor en millones ┆ ciudad       ┆ longitudes_ciudad │\n",
              "│ ---               ┆ ---          ┆ ---               │\n",
              "│ f32               ┆ str          ┆ u32               │\n",
              "╞═══════════════════╪══════════════╪═══════════════════╡\n",
              "│ 117.763336        ┆ Bogotá       ┆ 7                 │\n",
              "│ 16.5              ┆ Cali         ┆ 4                 │\n",
              "│ 10.96155          ┆ Medellín     ┆ 9                 │\n",
              "│ 20.234249         ┆ Barranquilla ┆ 12                │\n",
              "│ 12.5              ┆ Cúcuta       ┆ 7                 │\n",
              "└───────────────────┴──────────────┴───────────────────┘"
            ],
            "text/html": [
              "<div><style>\n",
              ".dataframe > thead > tr,\n",
              ".dataframe > tbody > tr {\n",
              "  text-align: right;\n",
              "  white-space: pre-wrap;\n",
              "}\n",
              "</style>\n",
              "<small>shape: (5, 3)</small><table border=\"1\" class=\"dataframe\"><thead><tr><th>Valor en millones</th><th>ciudad</th><th>longitudes_ciudad</th></tr><tr><td>f32</td><td>str</td><td>u32</td></tr></thead><tbody><tr><td>117.763336</td><td>&quot;Bogotá&quot;</td><td>7</td></tr><tr><td>16.5</td><td>&quot;Cali&quot;</td><td>4</td></tr><tr><td>10.96155</td><td>&quot;Medellín&quot;</td><td>9</td></tr><tr><td>20.234249</td><td>&quot;Barranquilla&quot;</td><td>12</td></tr><tr><td>12.5</td><td>&quot;Cúcuta&quot;</td><td>7</td></tr></tbody></table></div>"
            ]
          },
          "metadata": {},
          "execution_count": 21
        }
      ],
      "source": [
        "\n",
        "# Agregar varias columnas nuevas al DataFrame\n",
        "datos_pagina.with_columns(\n",
        "    [\n",
        "        (pl.col(\"valor_del_contrato\") /1000000).alias(\"Valor en millones\"),\n",
        "        pl.col(\"ciudad\").str.lengths().alias(\"longitudes_ciudad\"),\n",
        "    ]\n",
        ").select(['Valor en millones','ciudad','longitudes_ciudad']).head()\n"
      ]
    },
    {
      "cell_type": "code",
      "execution_count": 22,
      "metadata": {
        "id": "2cxYc4pEVgf2",
        "outputId": "9afd3c4c-8a2a-41c5-df4a-671d180e26b8",
        "colab": {
          "base_uri": "https://localhost:8080/",
          "height": 1000
        }
      },
      "outputs": [
        {
          "output_type": "execute_result",
          "data": {
            "text/plain": [
              "shape: (100_000, 68)\n",
              "┌────────┬────────────┬────────────┬───────────┬───┬───────────┬───────────┬───────────┬───────────┐\n",
              "│ row_nr ┆ nombre_ent ┆ nit_entida ┆ departame ┆ … ┆ recursos_ ┆ codigo_en ┆ codigo_pr ┆ objeto_de │\n",
              "│ ---    ┆ idad       ┆ d          ┆ nto       ┆   ┆ propios   ┆ tidad     ┆ oveedor   ┆ l_contrat │\n",
              "│ u32    ┆ ---        ┆ ---        ┆ ---       ┆   ┆ ---       ┆ ---       ┆ ---       ┆ o         │\n",
              "│        ┆ str        ┆ f32        ┆ str       ┆   ┆ f32       ┆ str       ┆ str       ┆ ---       │\n",
              "│        ┆            ┆            ┆           ┆   ┆           ┆           ┆           ┆ str       │\n",
              "╞════════╪════════════╪════════════╪═══════════╪═══╪═══════════╪═══════════╪═══════════╪═══════════╡\n",
              "│ 0      ┆ AGENCIA    ┆ 9.00948928 ┆ Distrito  ┆ … ┆ 0.0       ┆ 702066010 ┆ 702083288 ┆ Prestar   │\n",
              "│        ┆ NACIONAL   ┆ e8         ┆ Capital   ┆   ┆           ┆           ┆           ┆ sus       │\n",
              "│        ┆ DE TIERRAS ┆            ┆ de Bogotá ┆   ┆           ┆           ┆           ┆ servicios │\n",
              "│        ┆ - AN…      ┆            ┆           ┆   ┆           ┆           ┆           ┆ jurídicos │\n",
              "│        ┆            ┆            ┆           ┆   ┆           ┆           ┆           ┆ …         │\n",
              "│ 1      ┆ SECRETARIA ┆ 8.9040e9   ┆ Valle del ┆ … ┆ 0.0       ┆ 709412027 ┆ 710837337 ┆ Prestació │\n",
              "│        ┆ DE INFRAES ┆            ┆ Cauca     ┆   ┆           ┆           ┆           ┆ n de      │\n",
              "│        ┆ TRUCTURA - ┆            ┆           ┆   ┆           ┆           ┆           ┆ Servicios │\n",
              "│        ┆ …          ┆            ┆           ┆   ┆           ┆           ┆           ┆ Profesio… │\n",
              "│ 2      ┆ INSTITUCIÓ ┆ 8.9098016e ┆ Antioquia ┆ … ┆ 0.0       ┆ 704629146 ┆ 714239985 ┆ El Contra │\n",
              "│        ┆ N UNIVERSI ┆ 8          ┆           ┆   ┆           ┆           ┆           ┆ tista de  │\n",
              "│        ┆ TARIA      ┆            ┆           ┆   ┆           ┆           ┆           ┆ manera    │\n",
              "│        ┆ COLEGI…    ┆            ┆           ┆   ┆           ┆           ┆           ┆ indepen…  │\n",
              "│ 3      ┆ DISTRITO   ┆ 8.90102016 ┆ Atlántico ┆ … ┆ 0.0       ┆ 702442096 ┆ 709472161 ┆ PRESTACIÓ │\n",
              "│        ┆ ESPECIAL   ┆ e8         ┆           ┆   ┆           ┆           ┆           ┆ N DE      │\n",
              "│        ┆ INDUSTRIAL ┆            ┆           ┆   ┆           ┆           ┆           ┆ SERVICIOS │\n",
              "│        ┆ Y P…       ┆            ┆           ┆   ┆           ┆           ┆           ┆ DE APOYO… │\n",
              "│ …      ┆ …          ┆ …          ┆ …         ┆ … ┆ …         ┆ …         ┆ …         ┆ …         │\n",
              "│ 99996  ┆ GOBERNACIO ┆ 8.924e8    ┆ Cesar     ┆ … ┆ 0.0       ┆ 702413246 ┆ 701432544 ┆ PRESTACIÓ │\n",
              "│        ┆ N DEL DEPA ┆            ┆           ┆   ┆           ┆           ┆           ┆ N DE      │\n",
              "│        ┆ RTAMENTO   ┆            ┆           ┆   ┆           ┆           ┆           ┆ SERVICIOS │\n",
              "│        ┆ DEL…       ┆            ┆           ┆   ┆           ┆           ┆           ┆ DE UN AS… │\n",
              "│ 99997  ┆ FONDANE -  ┆ 8.0007296e ┆ Distrito  ┆ … ┆ 0.0       ┆ 704972363 ┆ 722627346 ┆ CONV_FONT │\n",
              "│        ┆ DIRECCION  ┆ 8          ┆ Capital   ┆   ┆           ┆           ┆           ┆ UR_EVI_23 │\n",
              "│        ┆ TERRITORIA ┆            ┆ de Bogotá ┆   ┆           ┆           ┆           ┆ _2024_DRA │\n",
              "│        ┆ L …        ┆            ┆           ┆   ┆           ┆           ┆           ┆ _TH_T…    │\n",
              "│ 99998  ┆ EMPRESA DE ┆ 8.99999104 ┆ Distrito  ┆ … ┆ 0.0       ┆ 700064108 ┆ 701303042 ┆ APOYO A   │\n",
              "│        ┆ ACUEDUCTO  ┆ e8         ┆ Capital   ┆   ┆           ┆           ┆           ┆ LA        │\n",
              "│        ┆ Y          ┆            ┆ de Bogotá ┆   ┆           ┆           ┆           ┆ OFICINA   │\n",
              "│        ┆ ALCANTARI… ┆            ┆           ┆   ┆           ┆           ┆           ┆ DE INVEST │\n",
              "│        ┆            ┆            ┆           ┆   ┆           ┆           ┆           ┆ IGAC…     │\n",
              "│ 99999  ┆ E.S.E      ┆ 9.0000e9   ┆ Cundinama ┆ … ┆ 6.8e6     ┆ 718435449 ┆ 0         ┆ PRESTACIO │\n",
              "│        ┆ HOSPITAL   ┆            ┆ rca       ┆   ┆           ┆           ┆           ┆ N DE      │\n",
              "│        ┆ NUESTRA    ┆            ┆           ┆   ┆           ┆           ┆           ┆ SERVICIOS │\n",
              "│        ┆ SEÑORA DE… ┆            ┆           ┆   ┆           ┆           ┆           ┆ DE APOYO… │\n",
              "└────────┴────────────┴────────────┴───────────┴───┴───────────┴───────────┴───────────┴───────────┘"
            ],
            "text/html": [
              "<div><style>\n",
              ".dataframe > thead > tr,\n",
              ".dataframe > tbody > tr {\n",
              "  text-align: right;\n",
              "  white-space: pre-wrap;\n",
              "}\n",
              "</style>\n",
              "<small>shape: (100_000, 68)</small><table border=\"1\" class=\"dataframe\"><thead><tr><th>row_nr</th><th>nombre_entidad</th><th>nit_entidad</th><th>departamento</th><th>ciudad</th><th>localizaci_n</th><th>orden</th><th>sector</th><th>rama</th><th>entidad_centralizada</th><th>proceso_de_compra</th><th>id_contrato</th><th>referencia_del_contrato</th><th>estado_contrato</th><th>codigo_de_categoria_principal</th><th>descripcion_del_proceso</th><th>tipo_de_contrato</th><th>modalidad_de_contratacion</th><th>justificacion_modalidad_de</th><th>fecha_de_firma</th><th>fecha_de_inicio_del_contrato</th><th>fecha_de_fin_del_contrato</th><th>condiciones_de_entrega</th><th>tipodocproveedor</th><th>documento_proveedor</th><th>proveedor_adjudicado</th><th>es_grupo</th><th>es_pyme</th><th>habilita_pago_adelantado</th><th>liquidaci_n</th><th>obligaci_n_ambiental</th><th>obligaciones_postconsumo</th><th>reversion</th><th>origen_de_los_recursos</th><th>destino_gasto</th><th>valor_del_contrato</th><th>valor_de_pago_adelantado</th><th>valor_facturado</th><th>valor_pendiente_de_pago</th><th>valor_pagado</th><th>valor_amortizado</th><th>valor_pendiente_de</th><th>valor_pendiente_de_ejecucion</th><th>estado_bpin</th><th>c_digo_bpin</th><th>anno_bpin</th><th>saldo_cdp</th><th>saldo_vigencia</th><th>espostconflicto</th><th>dias_adicionados</th><th>puntos_del_acuerdo</th><th>pilares_del_acuerdo</th><th>urlproceso</th><th>nombre_representante_legal</th><th>nacionalidad_representante_legal</th><th>domicilio_representante_legal</th><th>tipo_de_identificaci_n_representante_legal</th><th>identificaci_n_representante_legal</th><th>g_nero_representante_legal</th><th>presupuesto_general_de_la_nacion_pgn</th><th>sistema_general_de_participaciones</th><th>sistema_general_de_regal_as</th><th>recursos_propios_alcald_as_gobernaciones_y_resguardos_ind_genas_</th><th>recursos_de_credito</th><th>recursos_propios</th><th>codigo_entidad</th><th>codigo_proveedor</th><th>objeto_del_contrato</th></tr><tr><td>u32</td><td>str</td><td>f32</td><td>str</td><td>str</td><td>str</td><td>str</td><td>str</td><td>str</td><td>str</td><td>str</td><td>str</td><td>str</td><td>str</td><td>str</td><td>str</td><td>str</td><td>str</td><td>str</td><td>datetime[ns]</td><td>datetime[ns]</td><td>datetime[ns]</td><td>str</td><td>str</td><td>str</td><td>str</td><td>str</td><td>str</td><td>str</td><td>str</td><td>str</td><td>str</td><td>str</td><td>str</td><td>str</td><td>f32</td><td>f32</td><td>f32</td><td>f32</td><td>f32</td><td>f32</td><td>f32</td><td>f32</td><td>str</td><td>str</td><td>str</td><td>f32</td><td>f32</td><td>str</td><td>f32</td><td>str</td><td>str</td><td>struct[1]</td><td>str</td><td>str</td><td>str</td><td>str</td><td>str</td><td>str</td><td>f32</td><td>f32</td><td>f32</td><td>f32</td><td>f32</td><td>f32</td><td>str</td><td>str</td><td>str</td></tr></thead><tbody><tr><td>0</td><td>&quot;AGENCIA NACION…</td><td>9.00948928e8</td><td>&quot;Distrito Capit…</td><td>&quot;Bogotá&quot;</td><td>&quot;Colombia, Bogo…</td><td>&quot;Nacional&quot;</td><td>&quot;agricultura&quot;</td><td>&quot;Ejecutivo&quot;</td><td>&quot;Centralizada&quot;</td><td>&quot;CO1.BDOS.16613…</td><td>&quot;CO1.PCCNTR.212…</td><td>&quot;ANT-CDPS-131-2…</td><td>&quot;En ejecución&quot;</td><td>&quot;V1.80121700&quot;</td><td>&quot;Prestar sus se…</td><td>&quot;Prestación de …</td><td>&quot;Contratación d…</td><td>&quot;Servicios prof…</td><td>2021-01-19 00:00:00</td><td>2021-01-28 00:00:00</td><td>2021-12-25 00:00:00</td><td>&quot;A convenir&quot;</td><td>&quot;Cédula de Ciud…</td><td>&quot;1019025797&quot;</td><td>&quot;JOISSE SMITH A…</td><td>&quot;No&quot;</td><td>&quot;No&quot;</td><td>&quot;No&quot;</td><td>&quot;No&quot;</td><td>&quot;No&quot;</td><td>&quot;No&quot;</td><td>&quot;No&quot;</td><td>&quot;Distribuido&quot;</td><td>&quot;Inversión&quot;</td><td>1.17763336e8</td><td>0.0</td><td>1.17763336e8</td><td>7.004e7</td><td>4.7723332e7</td><td>0.0</td><td>0.0</td><td>7.004e7</td><td>&quot;Válido&quot;</td><td>&quot;2020011000016&quot;</td><td>&quot;2021&quot;</td><td>3.4198e9</td><td>0.0</td><td>&quot;Si&quot;</td><td>0.0</td><td>&quot;ReformaRuralIn…</td><td>&quot;OSPRUDS&quot;</td><td>{&quot;https://community.secop.gov.co/Public/Tendering/OpportunityDetail/Index?noticeUID=CO1.NTC.1658141&amp;isFromPublicArea=True&amp;isModal=true&amp;asPopupView=true&quot;}</td><td>&quot;JOISSE SMITH A…</td><td>&quot;CO&quot;</td><td>&quot;Calle 7 No. 90…</td><td>&quot;Cédula de Ciud…</td><td>&quot;1019025797&quot;</td><td>&quot;Femenino&quot;</td><td>1.17763336e8</td><td>0.0</td><td>0.0</td><td>0.0</td><td>0.0</td><td>0.0</td><td>&quot;702066010&quot;</td><td>&quot;702083288&quot;</td><td>&quot;Prestar sus se…</td></tr><tr><td>1</td><td>&quot;SECRETARIA DE …</td><td>8.9040e9</td><td>&quot;Valle del Cauc…</td><td>&quot;Cali&quot;</td><td>&quot;Colombia,  Val…</td><td>&quot;Territorial&quot;</td><td>&quot;Servicio Públi…</td><td>&quot;Ejecutivo&quot;</td><td>&quot;Centralizada&quot;</td><td>&quot;CO1.BDOS.21648…</td><td>&quot;CO1.PCCNTR.275…</td><td>&quot;1.310.02-59.2-…</td><td>&quot;En ejecución&quot;</td><td>&quot;V1.72141003&quot;</td><td>&quot;Prestación de …</td><td>&quot;Prestación de …</td><td>&quot;Contratación d…</td><td>&quot;Servicios prof…</td><td>2021-08-12 00:00:00</td><td>2021-08-17 00:00:00</td><td>2021-12-31 00:00:00</td><td>&quot;A convenir&quot;</td><td>&quot;Cédula de Ciud…</td><td>&quot;34317568&quot;</td><td>&quot;Victoria Eugen…</td><td>&quot;No&quot;</td><td>&quot;No&quot;</td><td>&quot;No&quot;</td><td>&quot;No&quot;</td><td>&quot;No&quot;</td><td>&quot;No&quot;</td><td>&quot;No&quot;</td><td>&quot;Distribuido&quot;</td><td>&quot;Inversión&quot;</td><td>1.65e7</td><td>0.0</td><td>1.65e7</td><td>0.0</td><td>1.65e7</td><td>0.0</td><td>0.0</td><td>0.0</td><td>&quot;Válido&quot;</td><td>&quot;2020003760195&quot;</td><td>&quot;2023&quot;</td><td>1.5365e9</td><td>0.0</td><td>&quot;No&quot;</td><td>0.0</td><td>&quot;No aplica&quot;</td><td>&quot;No aplica&quot;</td><td>{&quot;https://community.secop.gov.co/Public/Tendering/OpportunityDetail/Index?noticeUID=CO1.NTC.2168642&amp;isFromPublicArea=True&amp;isModal=true&amp;asPopupView=true&quot;}</td><td>&quot;Victoria Eugen…</td><td>&quot;CO&quot;</td><td>&quot;No Definido&quot;</td><td>&quot;Sin Descripcio…</td><td>&quot;Sin Descripcio…</td><td>&quot;No Definido&quot;</td><td>0.0</td><td>0.0</td><td>0.0</td><td>1.65e7</td><td>0.0</td><td>0.0</td><td>&quot;709412027&quot;</td><td>&quot;710837337&quot;</td><td>&quot;Prestación de …</td></tr><tr><td>2</td><td>&quot;INSTITUCIÓN UN…</td><td>8.9098016e8</td><td>&quot;Antioquia&quot;</td><td>&quot;Medellín&quot;</td><td>&quot;Colombia,  Ant…</td><td>&quot;Territorial&quot;</td><td>&quot;Educación Naci…</td><td>&quot;Ejecutivo&quot;</td><td>&quot;Centralizada&quot;</td><td>&quot;CO1.BDOS.30981…</td><td>&quot;CO1.PCCNTR.387…</td><td>&quot;CMA-CD-9797-94…</td><td>&quot;En ejecución&quot;</td><td>&quot;V1.80111600&quot;</td><td>&quot;El Contratista…</td><td>&quot;Prestación de …</td><td>&quot;Contratación d…</td><td>&quot;Servicios prof…</td><td>2022-08-03 00:00:00</td><td>2022-08-04 00:00:00</td><td>2023-01-01 00:00:00</td><td>&quot;No Definido&quot;</td><td>&quot;Cédula de Ciud…</td><td>&quot;8356403&quot;</td><td>&quot;GUSTAVO ADOLFO…</td><td>&quot;No&quot;</td><td>&quot;No&quot;</td><td>&quot;No&quot;</td><td>&quot;No&quot;</td><td>&quot;No&quot;</td><td>&quot;No&quot;</td><td>&quot;No&quot;</td><td>&quot;Distribuido&quot;</td><td>&quot;Funcionamiento…</td><td>1.096155e7</td><td>0.0</td><td>1.096155e7</td><td>0.0</td><td>1.096155e7</td><td>0.0</td><td>0.0</td><td>0.0</td><td>&quot;No Válido&quot;</td><td>&quot;No Definido&quot;</td><td>&quot;No D&quot;</td><td>4.2622e9</td><td>0.0</td><td>&quot;No&quot;</td><td>0.0</td><td>&quot;No aplica&quot;</td><td>&quot;No aplica&quot;</td><td>{&quot;https://community.secop.gov.co/Public/Tendering/OpportunityDetail/Index?noticeUID=CO1.NTC.3100647&amp;isFromPublicArea=True&amp;isModal=true&amp;asPopupView=true&quot;}</td><td>&quot;GUSTAVO ADOLFO…</td><td>&quot;CO&quot;</td><td>&quot;No Definido&quot;</td><td>&quot;Sin Descripcio…</td><td>&quot;Sin Descripcio…</td><td>&quot;No Definido&quot;</td><td>0.0</td><td>0.0</td><td>0.0</td><td>1.096155e7</td><td>0.0</td><td>0.0</td><td>&quot;704629146&quot;</td><td>&quot;714239985&quot;</td><td>&quot;El Contratista…</td></tr><tr><td>3</td><td>&quot;DISTRITO ESPEC…</td><td>8.90102016e8</td><td>&quot;Atlántico&quot;</td><td>&quot;Barranquilla&quot;</td><td>&quot;Colombia,  Atl…</td><td>&quot;Territorial&quot;</td><td>&quot;Servicio Públi…</td><td>&quot;Ejecutivo&quot;</td><td>&quot;Centralizada&quot;</td><td>&quot;CO1.BDOS.16947…</td><td>&quot;CO1.PCCNTR.216…</td><td>&quot;CD-57-2021-045…</td><td>&quot;En ejecución&quot;</td><td>&quot;V1.80111600&quot;</td><td>&quot;PRESTACIÓN DE …</td><td>&quot;Prestación de …</td><td>&quot;Contratación d…</td><td>&quot;Servicios prof…</td><td>2021-01-28 00:00:00</td><td>2021-02-02 00:00:00</td><td>2022-01-01 00:00:00</td><td>&quot;No Definido&quot;</td><td>&quot;Cédula de Ciud…</td><td>&quot;72142696&quot;</td><td>&quot;ANGEL VICENTE …</td><td>&quot;No&quot;</td><td>&quot;No&quot;</td><td>&quot;No&quot;</td><td>&quot;No&quot;</td><td>&quot;No&quot;</td><td>&quot;No&quot;</td><td>&quot;No&quot;</td><td>&quot;Distribuido&quot;</td><td>&quot;Inversión&quot;</td><td>2.023425e7</td><td>0.0</td><td>2.023425e7</td><td>0.0</td><td>2.023425e7</td><td>0.0</td><td>0.0</td><td>0.0</td><td>&quot;Válido&quot;</td><td>&quot;2021080010005&quot;</td><td>&quot;2021&quot;</td><td>2.0023e9</td><td>0.0</td><td>&quot;No&quot;</td><td>0.0</td><td>&quot;No aplica&quot;</td><td>&quot;No aplica&quot;</td><td>{&quot;https://community.secop.gov.co/Public/Tendering/OpportunityDetail/Index?noticeUID=CO1.NTC.1690930&amp;isFromPublicArea=True&amp;isModal=true&amp;asPopupView=true&quot;}</td><td>&quot;ANGEL VICENTE …</td><td>&quot;CO&quot;</td><td>&quot;No Definido&quot;</td><td>&quot;Sin Descripcio…</td><td>&quot;Sin Descripcio…</td><td>&quot;No Definido&quot;</td><td>0.0</td><td>0.0</td><td>0.0</td><td>2.023425e7</td><td>0.0</td><td>0.0</td><td>&quot;702442096&quot;</td><td>&quot;709472161&quot;</td><td>&quot;PRESTACIÓN DE …</td></tr><tr><td>4</td><td>&quot;CORPORACION AU…</td><td>8.9050528e8</td><td>&quot;Norte de Santa…</td><td>&quot;Cúcuta&quot;</td><td>&quot;Colombia,  Nor…</td><td>&quot;Corporación Au…</td><td>&quot;Ambiente y Des…</td><td>&quot;Corporación Au…</td><td>&quot;Centralizada&quot;</td><td>&quot;CO1.BDOS.45379…</td><td>&quot;CO1.PCCNTR.505…</td><td>&quot;CD633-2023&quot;</td><td>&quot;En ejecución&quot;</td><td>&quot;V1.80111600&quot;</td><td>&quot;PRESTACIÓN DE …</td><td>&quot;Prestación de …</td><td>&quot;Contratación d…</td><td>&quot;Servicios prof…</td><td>2023-06-14 00:00:00</td><td>2023-06-20 00:00:00</td><td>2023-11-20 00:00:00</td><td>&quot;No Definido&quot;</td><td>&quot;Cédula de Ciud…</td><td>&quot;1090421847&quot;</td><td>&quot;erika yurley p…</td><td>&quot;No&quot;</td><td>&quot;No&quot;</td><td>&quot;No&quot;</td><td>&quot;No&quot;</td><td>&quot;No&quot;</td><td>&quot;No&quot;</td><td>&quot;No&quot;</td><td>&quot;Recursos Propi…</td><td>&quot;Inversión&quot;</td><td>1.25e7</td><td>0.0</td><td>1.25e7</td><td>2.5e6</td><td>1e7</td><td>0.0</td><td>0.0</td><td>2.5e6</td><td>&quot;No Válido&quot;</td><td>&quot;No Definido&quot;</td><td>&quot;No D&quot;</td><td>1.25e7</td><td>0.0</td><td>&quot;No&quot;</td><td>0.0</td><td>&quot;No aplica&quot;</td><td>&quot;No aplica&quot;</td><td>{&quot;https://community.secop.gov.co/Public/Tendering/OpportunityDetail/Index?noticeUID=CO1.NTC.4544009&amp;isFromPublicArea=True&amp;isModal=true&amp;asPopupView=true&quot;}</td><td>&quot;ERIKA YURLEY P…</td><td>&quot;CO&quot;</td><td>&quot;CALLE 22  11-4…</td><td>&quot;Cédula de Ciud…</td><td>&quot;1090421847&quot;</td><td>&quot;Femenino&quot;</td><td>0.0</td><td>0.0</td><td>0.0</td><td>0.0</td><td>0.0</td><td>1.25e7</td><td>&quot;706029618&quot;</td><td>&quot;718389844&quot;</td><td>&quot;PRESTACIÓN DE …</td></tr><tr><td>5</td><td>&quot;MUNICIPIO DE M…</td><td>8.90984896e8</td><td>&quot;Antioquia&quot;</td><td>&quot;Murindó&quot;</td><td>&quot;Colombia,  Ant…</td><td>&quot;Territorial&quot;</td><td>&quot;No aplica/No p…</td><td>&quot;Corporación Au…</td><td>&quot;Centralizada&quot;</td><td>&quot;CO1.BDOS.66372…</td><td>&quot;CO1.PCCNTR.725…</td><td>&quot;CO1.PCCNTR.725…</td><td>&quot;Cancelado&quot;</td><td>&quot;V1.80111600&quot;</td><td>&quot;Sin Descripcio…</td><td>&quot;Prestación de …</td><td>&quot;Contratación d…</td><td>&quot;Servicios prof…</td><td>null</td><td>null</td><td>null</td><td>&quot;No Definido&quot;</td><td>&quot;Sin Descripcio…</td><td>&quot;No Definido&quot;</td><td>&quot;Sin Descripcio…</td><td>&quot;No&quot;</td><td>&quot;No&quot;</td><td>&quot;No Definido&quot;</td><td>&quot;No&quot;</td><td>&quot;No&quot;</td><td>&quot;No&quot;</td><td>&quot;No&quot;</td><td>&quot;Distribuido&quot;</td><td>&quot;Inversión&quot;</td><td>0.0</td><td>0.0</td><td>0.0</td><td>0.0</td><td>0.0</td><td>0.0</td><td>0.0</td><td>0.0</td><td>&quot;No Válido&quot;</td><td>&quot;No Definido&quot;</td><td>&quot;No D&quot;</td><td>0.0</td><td>0.0</td><td>&quot;No&quot;</td><td>0.0</td><td>&quot;No aplica&quot;</td><td>&quot;No aplica&quot;</td><td>{&quot;https://community.secop.gov.co/Public/Tendering/OpportunityDetail/Index?noticeUID=CO1.NTC.655156&amp;isFromPublicArea=True&amp;isModal=true&amp;asPopupView=true&quot;}</td><td>&quot;Sin Descripcio…</td><td>&quot;No definido&quot;</td><td>&quot;No Definido&quot;</td><td>&quot;Sin Descripcio…</td><td>&quot;Sin Descripcio…</td><td>&quot;No Definido&quot;</td><td>0.0</td><td>0.0</td><td>0.0</td><td>0.0</td><td>0.0</td><td>0.0</td><td>&quot;702596578&quot;</td><td>&quot;0&quot;</td><td>&quot;No definido&quot;</td></tr><tr><td>6</td><td>&quot;SUBRED INTEGRA…</td><td>9.00971008e8</td><td>&quot;Distrito Capit…</td><td>&quot;No Definido&quot;</td><td>&quot;Colombia, Bogo…</td><td>&quot;Territorial&quot;</td><td>&quot;Salud y Protec…</td><td>&quot;Corporación Au…</td><td>&quot;Centralizada&quot;</td><td>&quot;CO1.BDOS.18623…</td><td>&quot;CO1.PCCNTR.236…</td><td>&quot;CPS-5630-2021&quot;</td><td>&quot;Modificado&quot;</td><td>&quot;V1.85101600&quot;</td><td>&quot;AUXILIAR DE EN…</td><td>&quot;Decreto 092 de…</td><td>&quot;Contratación r…</td><td>&quot;Decreto 092 de…</td><td>2021-03-19 00:00:00</td><td>2021-03-20 00:00:00</td><td>2021-07-16 00:00:00</td><td>&quot;A convenir&quot;</td><td>&quot;Cédula de Ciud…</td><td>&quot;52024716&quot;</td><td>&quot;LUZ INES MEJIA…</td><td>&quot;No&quot;</td><td>&quot;No&quot;</td><td>&quot;No&quot;</td><td>&quot;No&quot;</td><td>&quot;No&quot;</td><td>&quot;No&quot;</td><td>&quot;No&quot;</td><td>&quot;Recursos Propi…</td><td>&quot;Funcionamiento…</td><td>8.944858e6</td><td>0.0</td><td>0.0</td><td>8.944858e6</td><td>0.0</td><td>0.0</td><td>0.0</td><td>8.944858e6</td><td>&quot;No Válido&quot;</td><td>&quot;No Definido&quot;</td><td>&quot;2019&quot;</td><td>4.1361e9</td><td>0.0</td><td>&quot;No&quot;</td><td>0.0</td><td>&quot;No aplica&quot;</td><td>&quot;No aplica&quot;</td><td>{&quot;https://community.secop.gov.co/Public/Tendering/OpportunityDetail/Index?noticeUID=CO1.NTC.1857842&amp;isFromPublicArea=True&amp;isModal=true&amp;asPopupView=true&quot;}</td><td>&quot;LUZ INES MEJIA…</td><td>&quot;CO&quot;</td><td>&quot;Carrera 90a#8a…</td><td>&quot;Cédula de Ciud…</td><td>&quot;52024716&quot;</td><td>&quot;Femenino&quot;</td><td>0.0</td><td>0.0</td><td>0.0</td><td>0.0</td><td>0.0</td><td>8.944858e6</td><td>&quot;702729500&quot;</td><td>&quot;710368275&quot;</td><td>&quot;AUXILIAR DE EN…</td></tr><tr><td>7</td><td>&quot;ALCALDIA MUNIC…</td><td>8.9168e8</td><td>&quot;Chocó&quot;</td><td>&quot;Quibdó&quot;</td><td>&quot;Colombia,  Cho…</td><td>&quot;Territorial&quot;</td><td>&quot;Servicio Públi…</td><td>&quot;Ejecutivo&quot;</td><td>&quot;Centralizada&quot;</td><td>&quot;CO1.BDOS.15707…</td><td>&quot;CO1.PCCNTR.201…</td><td>&quot;CO1.PCCNTR.201…</td><td>&quot;En aprobación&quot;</td><td>&quot;V1.81101500&quot;</td><td>&quot;MEJORAMIENTO D…</td><td>&quot;Obra&quot;</td><td>&quot;Mínima cuantía…</td><td>&quot;Presupuesto in…</td><td>null</td><td>null</td><td>2020-12-27 00:00:00</td><td>&quot;No Definido&quot;</td><td>&quot;No Definido&quot;</td><td>&quot;900858984&quot;</td><td>&quot;M&amp;V INVERSIONE…</td><td>&quot;No&quot;</td><td>&quot;Si&quot;</td><td>&quot;No Definido&quot;</td><td>&quot;No&quot;</td><td>&quot;No&quot;</td><td>&quot;No&quot;</td><td>&quot;No&quot;</td><td>&quot;Distribuido&quot;</td><td>&quot;Inversión&quot;</td><td>3.5099928e7</td><td>0.0</td><td>0.0</td><td>3.5099928e7</td><td>0.0</td><td>0.0</td><td>0.0</td><td>3.5099928e7</td><td>&quot;Válido&quot;</td><td>&quot;2020270010160&quot;</td><td>&quot;2020&quot;</td><td>3.899992e7</td><td>0.0</td><td>&quot;No&quot;</td><td>0.0</td><td>&quot;No aplica&quot;</td><td>&quot;No aplica&quot;</td><td>{&quot;https://community.secop.gov.co/Public/Tendering/OpportunityDetail/Index?noticeUID=CO1.NTC.1572614&amp;isFromPublicArea=True&amp;isModal=true&amp;asPopupView=true&quot;}</td><td>&quot;YENIFER YULIAN…</td><td>&quot;CO&quot;</td><td>&quot;No Definido&quot;</td><td>&quot;Cédula de Ciud…</td><td>&quot;1077469307&quot;</td><td>&quot;Femenino&quot;</td><td>0.0</td><td>0.0</td><td>0.0</td><td>3.5099928e7</td><td>0.0</td><td>0.0</td><td>&quot;703035956&quot;</td><td>&quot;703969105&quot;</td><td>&quot;MEJORAMIENTO D…</td></tr><tr><td>8</td><td>&quot;ALCALDIA MUNIC…</td><td>8.9210e9</td><td>&quot;Meta&quot;</td><td>&quot;Cumaral&quot;</td><td>&quot;Colombia,  Met…</td><td>&quot;Territorial&quot;</td><td>&quot;Servicio Públi…</td><td>&quot;Ejecutivo&quot;</td><td>&quot;Centralizada&quot;</td><td>&quot;CO1.BDOS.46522…</td><td>&quot;CO1.PCCNTR.516…</td><td>&quot;CD-500-2023&quot;</td><td>&quot;terminado&quot;</td><td>&quot;V1.80111600&quot;</td><td>&quot;PRESTACION DE …</td><td>&quot;Prestación de …</td><td>&quot;Contratación d…</td><td>&quot;Servicios prof…</td><td>2023-06-29 00:00:00</td><td>2023-06-29 00:00:00</td><td>2023-10-11 00:00:00</td><td>&quot;Como acordado …</td><td>&quot;Cédula de Ciud…</td><td>&quot;1119889718&quot;</td><td>&quot;BRAYAN MIGUEL …</td><td>&quot;No&quot;</td><td>&quot;No&quot;</td><td>&quot;No&quot;</td><td>&quot;No&quot;</td><td>&quot;No&quot;</td><td>&quot;No&quot;</td><td>&quot;No&quot;</td><td>&quot;Distribuido&quot;</td><td>&quot;Inversión&quot;</td><td>9.023186e6</td><td>0.0</td><td>7.734159e6</td><td>1.289027e6</td><td>7.734159e6</td><td>0.0</td><td>0.0</td><td>1.289027e6</td><td>&quot;No Válido&quot;</td><td>&quot;No Definido&quot;</td><td>&quot;No D&quot;</td><td>9.023186e6</td><td>0.0</td><td>&quot;No&quot;</td><td>0.0</td><td>&quot;No aplica&quot;</td><td>&quot;No aplica&quot;</td><td>{&quot;https://community.secop.gov.co/Public/Tendering/OpportunityDetail/Index?noticeUID=CO1.NTC.4665835&amp;isFromPublicArea=True&amp;isModal=true&amp;asPopupView=true&quot;}</td><td>&quot;BRAYAN MIGUEL …</td><td>&quot;CO&quot;</td><td>&quot;No Definido&quot;</td><td>&quot;Cédula de Ciud…</td><td>&quot;1119889718&quot;</td><td>&quot;No Definido&quot;</td><td>0.0</td><td>0.0</td><td>0.0</td><td>9.023186e6</td><td>0.0</td><td>0.0</td><td>&quot;702776618&quot;</td><td>&quot;714716271&quot;</td><td>&quot;PRESTACION DE …</td></tr><tr><td>9</td><td>&quot;SANTIAGO DE CA…</td><td>8.9039904e8</td><td>&quot;Valle del Cauc…</td><td>&quot;Cali&quot;</td><td>&quot;Colombia,  Val…</td><td>&quot;Territorial&quot;</td><td>&quot;No aplica/No p…</td><td>&quot;Ejecutivo&quot;</td><td>&quot;Centralizada&quot;</td><td>&quot;CO1.BDOS.35484…</td><td>&quot;CO1.PCCNTR.424…</td><td>&quot;4182.010.26.1.…</td><td>&quot;Cerrado&quot;</td><td>&quot;V1.80111500&quot;</td><td>&quot;PRESTAR SERVIC…</td><td>&quot;Prestación de …</td><td>&quot;Contratación d…</td><td>&quot;Servicios prof…</td><td>2022-11-22 00:00:00</td><td>2022-11-23 00:00:00</td><td>2022-12-31 00:00:00</td><td>&quot;A convenir&quot;</td><td>&quot;Cédula de Ciud…</td><td>&quot;1115073326&quot;</td><td>&quot;YESSICA LORENA…</td><td>&quot;No&quot;</td><td>&quot;No&quot;</td><td>&quot;No&quot;</td><td>&quot;No&quot;</td><td>&quot;No&quot;</td><td>&quot;No&quot;</td><td>&quot;No&quot;</td><td>&quot;Distribuido&quot;</td><td>&quot;Inversión&quot;</td><td>1.0108e7</td><td>0.0</td><td>0.0</td><td>1.0108e7</td><td>0.0</td><td>0.0</td><td>0.0</td><td>1.0108e7</td><td>&quot;No Válido&quot;</td><td>&quot;No Definido&quot;</td><td>&quot;No D&quot;</td><td>1.0108e7</td><td>0.0</td><td>&quot;No&quot;</td><td>0.0</td><td>&quot;No aplica&quot;</td><td>&quot;No aplica&quot;</td><td>{&quot;https://community.secop.gov.co/Public/Tendering/OpportunityDetail/Index?noticeUID=CO1.NTC.3554718&amp;isFromPublicArea=True&amp;isModal=true&amp;asPopupView=true&quot;}</td><td>&quot;YESSICA LORENA…</td><td>&quot;CO&quot;</td><td>&quot;CALLE 9 # 5 -3…</td><td>&quot;Cédula de Ciud…</td><td>&quot;1115073326&quot;</td><td>&quot;Femenino&quot;</td><td>0.0</td><td>0.0</td><td>0.0</td><td>1.0108e7</td><td>0.0</td><td>0.0</td><td>&quot;704063197&quot;</td><td>&quot;710107392&quot;</td><td>&quot;PRESTAR SERVIC…</td></tr><tr><td>10</td><td>&quot;AGENCIA NACION…</td><td>9.00948928e8</td><td>&quot;Distrito Capit…</td><td>&quot;Bogotá&quot;</td><td>&quot;Colombia, Bogo…</td><td>&quot;Nacional&quot;</td><td>&quot;agricultura&quot;</td><td>&quot;Ejecutivo&quot;</td><td>&quot;Centralizada&quot;</td><td>&quot;CO1.BDOS.11494…</td><td>&quot;CO1.PCCNTR.142…</td><td>&quot;825 - 2020&quot;</td><td>&quot;Activo&quot;</td><td>&quot;V1.80131700&quot;</td><td>&quot;Prestación de …</td><td>&quot;Prestación de …</td><td>&quot;Contratación d…</td><td>&quot;Servicios prof…</td><td>2020-03-06 00:00:00</td><td>2020-03-06 00:00:00</td><td>2020-12-19 00:00:00</td><td>&quot;Como acordado …</td><td>&quot;Cédula de Ciud…</td><td>&quot;1065658598&quot;</td><td>&quot;ALBA ATILANO&quot;</td><td>&quot;No&quot;</td><td>&quot;No&quot;</td><td>&quot;No Definido&quot;</td><td>&quot;No&quot;</td><td>&quot;No&quot;</td><td>&quot;No&quot;</td><td>&quot;No&quot;</td><td>&quot;Distribuido&quot;</td><td>&quot;Inversión&quot;</td><td>3.4172132e7</td><td>0.0</td><td>3.0600132e7</td><td>5.7152e6</td><td>2.8456932e7</td><td>0.0</td><td>0.0</td><td>5.7152e6</td><td>&quot;No Válido&quot;</td><td>&quot;No Definido&quot;</td><td>&quot;2020&quot;</td><td>4.6681e9</td><td>0.0</td><td>&quot;No&quot;</td><td>0.0</td><td>&quot;No aplica&quot;</td><td>&quot;No aplica&quot;</td><td>{&quot;https://community.secop.gov.co/Public/Tendering/OpportunityDetail/Index?noticeUID=CO1.NTC.1148622&amp;isFromPublicArea=True&amp;isModal=true&amp;asPopupView=true&quot;}</td><td>&quot;ALBA SANDRITH …</td><td>&quot;CO&quot;</td><td>&quot;No Definido&quot;</td><td>&quot;Cédula de Ciud…</td><td>&quot;1065658598&quot;</td><td>&quot;No Definido&quot;</td><td>0.0</td><td>0.0</td><td>0.0</td><td>0.0</td><td>0.0</td><td>0.0</td><td>&quot;702066010&quot;</td><td>&quot;709130827&quot;</td><td>&quot;Prestación de …</td></tr><tr><td>11</td><td>&quot;DEPARTAMENTO D…</td><td>8.90201216e8</td><td>&quot;Santander&quot;</td><td>&quot;Bucaramanga&quot;</td><td>&quot;Colombia,  San…</td><td>&quot;Territorial&quot;</td><td>&quot;Servicio Públi…</td><td>&quot;Ejecutivo&quot;</td><td>&quot;Centralizada&quot;</td><td>&quot;CO1.BDOS.32965…</td><td>&quot;CO1.PCCNTR.404…</td><td>&quot;CO1.PCCNTR.404…</td><td>&quot;En ejecución&quot;</td><td>&quot;V1.80111600&quot;</td><td>&quot;PRESTAR SERVIC…</td><td>&quot;Prestación de …</td><td>&quot;Contratación d…</td><td>&quot;Servicios prof…</td><td>2022-09-20 00:00:00</td><td>2022-09-23 00:00:00</td><td>2022-12-23 00:00:00</td><td>&quot;Como acordado …</td><td>&quot;Cédula de Ciud…</td><td>&quot;1095932384&quot;</td><td>&quot;CAMILA ANDREA …</td><td>&quot;No&quot;</td><td>&quot;No&quot;</td><td>&quot;No Definido&quot;</td><td>&quot;Si&quot;</td><td>&quot;No&quot;</td><td>&quot;No&quot;</td><td>&quot;No&quot;</td><td>&quot;Distribuido&quot;</td><td>&quot;Inversión&quot;</td><td>1.05e7</td><td>0.0</td><td>0.0</td><td>1.05e7</td><td>0.0</td><td>0.0</td><td>0.0</td><td>1.05e7</td><td>&quot;No Válido&quot;</td><td>&quot;No Definido&quot;</td><td>&quot;No D&quot;</td><td>4.3340e9</td><td>0.0</td><td>&quot;No&quot;</td><td>0.0</td><td>&quot;No aplica&quot;</td><td>&quot;No aplica&quot;</td><td>{&quot;https://community.secop.gov.co/Public/Tendering/OpportunityDetail/Index?noticeUID=CO1.NTC.3299274&amp;isFromPublicArea=True&amp;isModal=true&amp;asPopupView=true&quot;}</td><td>&quot;CAMILA ANDREA …</td><td>&quot;CO&quot;</td><td>&quot;No Definido&quot;</td><td>&quot;Cédula de Ciud…</td><td>&quot;1095932384&quot;</td><td>&quot;No Definido&quot;</td><td>0.0</td><td>0.0</td><td>0.0</td><td>1.05e7</td><td>0.0</td><td>0.0</td><td>&quot;701515082&quot;</td><td>&quot;714291150&quot;</td><td>&quot;PRESTAR SERVIC…</td></tr><tr><td>&hellip;</td><td>&hellip;</td><td>&hellip;</td><td>&hellip;</td><td>&hellip;</td><td>&hellip;</td><td>&hellip;</td><td>&hellip;</td><td>&hellip;</td><td>&hellip;</td><td>&hellip;</td><td>&hellip;</td><td>&hellip;</td><td>&hellip;</td><td>&hellip;</td><td>&hellip;</td><td>&hellip;</td><td>&hellip;</td><td>&hellip;</td><td>&hellip;</td><td>&hellip;</td><td>&hellip;</td><td>&hellip;</td><td>&hellip;</td><td>&hellip;</td><td>&hellip;</td><td>&hellip;</td><td>&hellip;</td><td>&hellip;</td><td>&hellip;</td><td>&hellip;</td><td>&hellip;</td><td>&hellip;</td><td>&hellip;</td><td>&hellip;</td><td>&hellip;</td><td>&hellip;</td><td>&hellip;</td><td>&hellip;</td><td>&hellip;</td><td>&hellip;</td><td>&hellip;</td><td>&hellip;</td><td>&hellip;</td><td>&hellip;</td><td>&hellip;</td><td>&hellip;</td><td>&hellip;</td><td>&hellip;</td><td>&hellip;</td><td>&hellip;</td><td>&hellip;</td><td>&hellip;</td><td>&hellip;</td><td>&hellip;</td><td>&hellip;</td><td>&hellip;</td><td>&hellip;</td><td>&hellip;</td><td>&hellip;</td><td>&hellip;</td><td>&hellip;</td><td>&hellip;</td><td>&hellip;</td><td>&hellip;</td><td>&hellip;</td><td>&hellip;</td><td>&hellip;</td></tr><tr><td>99988</td><td>&quot;MUNICIPIO DE A…</td><td>8.90000448e8</td><td>&quot;Quindío&quot;</td><td>&quot;Armenia&quot;</td><td>&quot;Colombia,  Qui…</td><td>&quot;Territorial&quot;</td><td>&quot;Servicio Públi…</td><td>&quot;Ejecutivo&quot;</td><td>&quot;Centralizada&quot;</td><td>&quot;CO1.BDOS.41785…</td><td>&quot;CO1.PCCNTR.477…</td><td>&quot;SGC-CD-2023-21…</td><td>&quot;Cerrado&quot;</td><td>&quot;V1.80111701&quot;</td><td>&quot;PRESTACION DE …</td><td>&quot;Prestación de …</td><td>&quot;Contratación d…</td><td>&quot;Servicios prof…</td><td>2023-03-17 00:00:00</td><td>2023-03-22 00:00:00</td><td>2023-06-20 00:00:00</td><td>&quot;No Definido&quot;</td><td>&quot;Cédula de Ciud…</td><td>&quot;1094894837&quot;</td><td>&quot;Laura Victoria…</td><td>&quot;No&quot;</td><td>&quot;No&quot;</td><td>&quot;No&quot;</td><td>&quot;No&quot;</td><td>&quot;No&quot;</td><td>&quot;No&quot;</td><td>&quot;No&quot;</td><td>&quot;Distribuido&quot;</td><td>&quot;Inversión&quot;</td><td>8.022e6</td><td>0.0</td><td>8.022e6</td><td>0.0</td><td>8.022e6</td><td>0.0</td><td>0.0</td><td>0.0</td><td>&quot;No Válido&quot;</td><td>&quot;No Definido&quot;</td><td>&quot;No D&quot;</td><td>8.022e6</td><td>0.0</td><td>&quot;No&quot;</td><td>0.0</td><td>&quot;No aplica&quot;</td><td>&quot;No aplica&quot;</td><td>{&quot;https://community.secop.gov.co/Public/Tendering/OpportunityDetail/Index?noticeUID=CO1.NTC.4180164&amp;isFromPublicArea=True&amp;isModal=true&amp;asPopupView=true&quot;}</td><td>&quot;LAURA VICTORIA…</td><td>&quot;CO&quot;</td><td>&quot;No Definido&quot;</td><td>&quot;Cédula de Ciud…</td><td>&quot;1094894837&quot;</td><td>&quot;Femenino&quot;</td><td>0.0</td><td>0.0</td><td>0.0</td><td>8.022e6</td><td>0.0</td><td>0.0</td><td>&quot;701365033&quot;</td><td>&quot;709285035&quot;</td><td>&quot;PRESTACION DE …</td></tr><tr><td>99989</td><td>&quot;PERSONERIA MUN…</td><td>8.29001856e8</td><td>&quot;Santander&quot;</td><td>&quot;Barrancabermej…</td><td>&quot;Colombia,  San…</td><td>&quot;Territorial&quot;</td><td>&quot;Servicio Públi…</td><td>&quot;Corporación Au…</td><td>&quot;Centralizada&quot;</td><td>&quot;CO1.BDOS.52051…</td><td>&quot;CO1.PCCNTR.558…</td><td>&quot;166-2023&quot;</td><td>&quot;En ejecución&quot;</td><td>&quot;V1.80111601&quot;</td><td>&quot;PRESTACION DE …</td><td>&quot;Prestación de …</td><td>&quot;Contratación d…</td><td>&quot;Servicios prof…</td><td>2023-11-24 00:00:00</td><td>2023-11-27 00:00:00</td><td>2023-12-26 00:00:00</td><td>&quot;No Definido&quot;</td><td>&quot;Cédula de Ciud…</td><td>&quot;91476841&quot;</td><td>&quot;FREDDY SANTOS …</td><td>&quot;No&quot;</td><td>&quot;No&quot;</td><td>&quot;No&quot;</td><td>&quot;No&quot;</td><td>&quot;No&quot;</td><td>&quot;No&quot;</td><td>&quot;No&quot;</td><td>&quot;Distribuido&quot;</td><td>&quot;Funcionamiento…</td><td>2e6</td><td>0.0</td><td>2e6</td><td>2e6</td><td>0.0</td><td>0.0</td><td>0.0</td><td>2e6</td><td>&quot;No Válido&quot;</td><td>&quot;No Definido&quot;</td><td>&quot;No D&quot;</td><td>2e6</td><td>0.0</td><td>&quot;No&quot;</td><td>0.0</td><td>&quot;No aplica&quot;</td><td>&quot;No aplica&quot;</td><td>{&quot;https://community.secop.gov.co/Public/Tendering/OpportunityDetail/Index?noticeUID=CO1.NTC.5216986&amp;isFromPublicArea=True&amp;isModal=true&amp;asPopupView=true&quot;}</td><td>&quot;FREDDY SANTOS …</td><td>&quot;CO&quot;</td><td>&quot;No Definido&quot;</td><td>&quot;Cédula de Ciud…</td><td>&quot;91476841&quot;</td><td>&quot;No Definido&quot;</td><td>0.0</td><td>0.0</td><td>0.0</td><td>2e6</td><td>0.0</td><td>0.0</td><td>&quot;700565039&quot;</td><td>&quot;705348225&quot;</td><td>&quot;PRESTACION DE …</td></tr><tr><td>99990</td><td>&quot;SECRETARIA DE …</td><td>8.9039904e8</td><td>&quot;Valle del Cauc…</td><td>&quot;Cali&quot;</td><td>&quot;Colombia,  Val…</td><td>&quot;Territorial&quot;</td><td>&quot;Educación Naci…</td><td>&quot;Ejecutivo&quot;</td><td>&quot;Centralizada&quot;</td><td>&quot;CO1.BDOS.46046…</td><td>&quot;CO1.PCCNTR.511…</td><td>&quot;4143.010.26.1.…</td><td>&quot;Modificado&quot;</td><td>&quot;V1.80111501&quot;</td><td>&quot;Prestación de …</td><td>&quot;Prestación de …</td><td>&quot;Contratación d…</td><td>&quot;Servicios prof…</td><td>2023-06-23 00:00:00</td><td>2023-06-29 00:00:00</td><td>2023-12-28 00:00:00</td><td>&quot;A convenir&quot;</td><td>&quot;Cédula de Ciud…</td><td>&quot;41698323&quot;</td><td>&quot;YOLANDA FLOREZ…</td><td>&quot;No&quot;</td><td>&quot;Si&quot;</td><td>&quot;No&quot;</td><td>&quot;No&quot;</td><td>&quot;No&quot;</td><td>&quot;No&quot;</td><td>&quot;No&quot;</td><td>&quot;Distribuido&quot;</td><td>&quot;Inversión&quot;</td><td>1.4126e7</td><td>0.0</td><td>0.0</td><td>1.4126e7</td><td>0.0</td><td>0.0</td><td>0.0</td><td>1.4126e7</td><td>&quot;No Válido&quot;</td><td>&quot;No Definido&quot;</td><td>&quot;No D&quot;</td><td>1.9015e10</td><td>0.0</td><td>&quot;No&quot;</td><td>57.0</td><td>&quot;No aplica&quot;</td><td>&quot;No aplica&quot;</td><td>{&quot;https://community.secop.gov.co/Public/Tendering/OpportunityDetail/Index?noticeUID=CO1.NTC.4614091&amp;isFromPublicArea=True&amp;isModal=true&amp;asPopupView=true&quot;}</td><td>&quot;YOLANDA FLOREZ…</td><td>&quot;CO&quot;</td><td>&quot;No Definido&quot;</td><td>&quot;Sin Descripcio…</td><td>&quot;Sin Descripcio…</td><td>&quot;No Definido&quot;</td><td>0.0</td><td>0.0</td><td>0.0</td><td>1.4126e7</td><td>0.0</td><td>0.0</td><td>&quot;702435959&quot;</td><td>&quot;705590503&quot;</td><td>&quot;Prestación de …</td></tr><tr><td>99991</td><td>&quot;MUNICIPIO DE S…</td><td>8.00094784e8</td><td>&quot;Cundinamarca&quot;</td><td>&quot;Soacha&quot;</td><td>&quot;Colombia,  Cun…</td><td>&quot;Territorial&quot;</td><td>&quot;Vivienda, Ciud…</td><td>&quot;Ejecutivo&quot;</td><td>&quot;Centralizada&quot;</td><td>&quot;CO1.BDOS.52329…</td><td>&quot;CO1.PCCNTR.560…</td><td>&quot;4514-2023&quot;</td><td>&quot;enviado Provee…</td><td>&quot;V1.80111504&quot;</td><td>&quot;PRESTACIÓN DE …</td><td>&quot;Prestación de …</td><td>&quot;Contratación d…</td><td>&quot;Servicios prof…</td><td>null</td><td>null</td><td>2023-12-28 00:00:00</td><td>&quot;No Definido&quot;</td><td>&quot;Cédula de Ciud…</td><td>&quot;52897614&quot;</td><td>&quot;LESLI JOHANNA …</td><td>&quot;No&quot;</td><td>&quot;No&quot;</td><td>&quot;No&quot;</td><td>&quot;No&quot;</td><td>&quot;No&quot;</td><td>&quot;No&quot;</td><td>&quot;No&quot;</td><td>&quot;Distribuido&quot;</td><td>&quot;Inversión&quot;</td><td>2.4e6</td><td>0.0</td><td>0.0</td><td>2.4e6</td><td>0.0</td><td>0.0</td><td>0.0</td><td>2.4e6</td><td>&quot;No Válido&quot;</td><td>&quot;No Definido&quot;</td><td>&quot;No D&quot;</td><td>0.0</td><td>0.0</td><td>&quot;No&quot;</td><td>0.0</td><td>&quot;No aplica&quot;</td><td>&quot;No aplica&quot;</td><td>{&quot;https://community.secop.gov.co/Public/Tendering/OpportunityDetail/Index?noticeUID=CO1.NTC.5247507&amp;isFromPublicArea=True&amp;isModal=true&amp;asPopupView=true&quot;}</td><td>&quot;LESLI JOHANNA …</td><td>&quot;CO&quot;</td><td>&quot;No Definido&quot;</td><td>&quot;Sin Descripcio…</td><td>&quot;Sin Descripcio…</td><td>&quot;No Definido&quot;</td><td>0.0</td><td>0.0</td><td>0.0</td><td>2.4e6</td><td>0.0</td><td>0.0</td><td>&quot;702158254&quot;</td><td>&quot;713430502&quot;</td><td>&quot;PRESTACIÓN DE …</td></tr><tr><td>99992</td><td>&quot;SIC SUPERINTEN…</td><td>8.00176064e8</td><td>&quot;Distrito Capit…</td><td>&quot;Bogotá&quot;</td><td>&quot;Colombia, Bogo…</td><td>&quot;Nacional&quot;</td><td>&quot;Industria&quot;</td><td>&quot;Ejecutivo&quot;</td><td>&quot;Centralizada&quot;</td><td>&quot;CO1.BDOS.54679…</td><td>&quot;CO1.PCCNTR.578…</td><td>&quot;CONTRATO 534 D…</td><td>&quot;Activo&quot;</td><td>&quot;V1.80161501&quot;</td><td>&quot;Prestación de …</td><td>&quot;Prestación de …</td><td>&quot;Contratación d…</td><td>&quot;Servicios prof…</td><td>2024-01-22 00:00:00</td><td>null</td><td>2024-04-22 00:00:00</td><td>&quot;Como acordado …</td><td>&quot;Cédula de Ciud…</td><td>&quot;1010169041&quot;</td><td>&quot;wilmer alexand…</td><td>&quot;No&quot;</td><td>&quot;No&quot;</td><td>&quot;No&quot;</td><td>&quot;No&quot;</td><td>&quot;No&quot;</td><td>&quot;No&quot;</td><td>&quot;No&quot;</td><td>&quot;Distribuido&quot;</td><td>&quot;Funcionamiento…</td><td>8.111334e6</td><td>0.0</td><td>0.0</td><td>8.111334e6</td><td>0.0</td><td>0.0</td><td>0.0</td><td>8.111334e6</td><td>&quot;No Válido&quot;</td><td>&quot;No Definido&quot;</td><td>&quot;No D&quot;</td><td>8.111334e6</td><td>0.0</td><td>&quot;No&quot;</td><td>0.0</td><td>&quot;No aplica&quot;</td><td>&quot;No aplica&quot;</td><td>{&quot;https://community.secop.gov.co/Public/Tendering/OpportunityDetail/Index?noticeUID=CO1.NTC.5477715&amp;isFromPublicArea=True&amp;isModal=true&amp;asPopupView=true&quot;}</td><td>&quot;wilmer alexand…</td><td>&quot;CO&quot;</td><td>&quot;Cra 79 B # 49-…</td><td>&quot;Cédula de Ciud…</td><td>&quot;1010169041&quot;</td><td>&quot;No Definido&quot;</td><td>8.111334e6</td><td>0.0</td><td>0.0</td><td>0.0</td><td>0.0</td><td>0.0</td><td>&quot;700218035&quot;</td><td>&quot;702784760&quot;</td><td>&quot;Prestación de …</td></tr><tr><td>99993</td><td>&quot;HOSPITAL SAN J…</td><td>8.24000448e8</td><td>&quot;Cesar&quot;</td><td>&quot;Bosconia&quot;</td><td>&quot;Colombia,  Ces…</td><td>&quot;Nacional&quot;</td><td>&quot;Salud y Protec…</td><td>&quot;Corporación Au…</td><td>&quot;Centralizada&quot;</td><td>&quot;CO1.BDOS.54303…</td><td>&quot;CO1.PCCNTR.574…</td><td>&quot;CPS-033-2024&quot;</td><td>&quot;Activo&quot;</td><td>&quot;V1.80101500&quot;</td><td>&quot;CONTRATO DE PR…</td><td>&quot;Prestación de …</td><td>&quot;Contratación r…</td><td>&quot;Regla aplicabl…</td><td>2024-01-24 00:00:00</td><td>null</td><td>2024-03-31 00:00:00</td><td>&quot;A convenir&quot;</td><td>&quot;Cédula de Ciud…</td><td>&quot;1063970658&quot;</td><td>&quot;AMIRA LILIANA …</td><td>&quot;No&quot;</td><td>&quot;No&quot;</td><td>&quot;No&quot;</td><td>&quot;No&quot;</td><td>&quot;No&quot;</td><td>&quot;No&quot;</td><td>&quot;No&quot;</td><td>&quot;Recursos Propi…</td><td>&quot;Funcionamiento…</td><td>5.25e6</td><td>0.0</td><td>0.0</td><td>5.25e6</td><td>0.0</td><td>0.0</td><td>0.0</td><td>5.25e6</td><td>&quot;No Válido&quot;</td><td>&quot;No Definido&quot;</td><td>&quot;No D&quot;</td><td>0.0</td><td>0.0</td><td>&quot;No&quot;</td><td>0.0</td><td>&quot;No aplica&quot;</td><td>&quot;No aplica&quot;</td><td>{&quot;https://community.secop.gov.co/Public/Tendering/OpportunityDetail/Index?noticeUID=CO1.NTC.5441099&amp;isFromPublicArea=True&amp;isModal=true&amp;asPopupView=true&quot;}</td><td>&quot;AMIRA LILIANA …</td><td>&quot;CO&quot;</td><td>&quot;No Definido&quot;</td><td>&quot;Sin Descripcio…</td><td>&quot;Sin Descripcio…</td><td>&quot;No Definido&quot;</td><td>0.0</td><td>0.0</td><td>0.0</td><td>0.0</td><td>0.0</td><td>5.25e6</td><td>&quot;704929405&quot;</td><td>&quot;718976376&quot;</td><td>&quot;CONTRATO DE PR…</td></tr><tr><td>99994</td><td>&quot;UARIV-UNIDAD P…</td><td>9.00490496e8</td><td>&quot;Distrito Capit…</td><td>&quot;Bogotá&quot;</td><td>&quot;Colombia, Bogo…</td><td>&quot;Nacional&quot;</td><td>&quot;Inclusión Soci…</td><td>&quot;Ejecutivo&quot;</td><td>&quot;Centralizada&quot;</td><td>&quot;CO1.BDOS.49102…</td><td>&quot;CO1.PCCNTR.535…</td><td>&quot;1623-2023&quot;</td><td>&quot;terminado&quot;</td><td>&quot;V1.80161500&quot;</td><td>&quot;Prestar sus se…</td><td>&quot;Prestación de …</td><td>&quot;Contratación d…</td><td>&quot;Servicios prof…</td><td>2023-09-06 00:00:00</td><td>2023-09-08 00:00:00</td><td>2023-12-31 00:00:00</td><td>&quot;A convenir&quot;</td><td>&quot;Cédula de Ciud…</td><td>&quot;19483292&quot;</td><td>&quot;Juan Cristobal…</td><td>&quot;No&quot;</td><td>&quot;No&quot;</td><td>&quot;No&quot;</td><td>&quot;No&quot;</td><td>&quot;No&quot;</td><td>&quot;No&quot;</td><td>&quot;No&quot;</td><td>&quot;Distribuido&quot;</td><td>&quot;Inversión&quot;</td><td>3.10474e7</td><td>0.0</td><td>6.4236e6</td><td>2.46238e7</td><td>6.4236e6</td><td>0.0</td><td>0.0</td><td>2.46238e7</td><td>&quot;No Válido&quot;</td><td>&quot;No Definido&quot;</td><td>&quot;No D&quot;</td><td>0.0</td><td>0.0</td><td>&quot;No&quot;</td><td>0.0</td><td>&quot;No aplica&quot;</td><td>&quot;No aplica&quot;</td><td>{&quot;https://community.secop.gov.co/Public/Tendering/OpportunityDetail/Index?noticeUID=CO1.NTC.4921891&amp;isFromPublicArea=True&amp;isModal=true&amp;asPopupView=true&quot;}</td><td>&quot;Juan Cristóbal…</td><td>&quot;CO&quot;</td><td>&quot;No Definido&quot;</td><td>&quot;Sin Descripcio…</td><td>&quot;Sin Descripcio…</td><td>&quot;No Definido&quot;</td><td>3.10474e7</td><td>0.0</td><td>0.0</td><td>0.0</td><td>0.0</td><td>0.0</td><td>&quot;700509136&quot;</td><td>&quot;722885316&quot;</td><td>&quot;Prestar sus se…</td></tr><tr><td>99995</td><td>&quot;CORPORACION PA…</td><td>8.27e8</td><td>&quot;San Andrés, Pr…</td><td>&quot;San Andrés&quot;</td><td>&quot;Colombia,  San…</td><td>&quot;Corporación Au…</td><td>&quot;Ambiente y Des…</td><td>&quot;Corporación Au…</td><td>&quot;Centralizada&quot;</td><td>&quot;CO1.BDOS.41970…</td><td>&quot;CO1.PCCNTR.480…</td><td>&quot;CD-SMYC-142-20…</td><td>&quot;Cerrado&quot;</td><td>&quot;V1.70161704&quot;</td><td>&quot;EL/LA CONTRATI…</td><td>&quot;Prestación de …</td><td>&quot;Contratación d…</td><td>&quot;Servicios prof…</td><td>2023-03-27 00:00:00</td><td>2023-03-27 00:00:00</td><td>2023-07-26 00:00:00</td><td>&quot;Como acordado …</td><td>&quot;Cédula de Ciud…</td><td>&quot;40989013&quot;</td><td>&quot;AIDA JONES&quot;</td><td>&quot;No&quot;</td><td>&quot;No&quot;</td><td>&quot;No&quot;</td><td>&quot;No&quot;</td><td>&quot;No&quot;</td><td>&quot;No&quot;</td><td>&quot;No&quot;</td><td>&quot;Recursos Propi…</td><td>&quot;Funcionamiento…</td><td>9.203712e6</td><td>0.0</td><td>0.0</td><td>9.203712e6</td><td>0.0</td><td>0.0</td><td>0.0</td><td>9.203712e6</td><td>&quot;No Válido&quot;</td><td>&quot;No Definido&quot;</td><td>&quot;No D&quot;</td><td>9.203712e6</td><td>0.0</td><td>&quot;No&quot;</td><td>0.0</td><td>&quot;No aplica&quot;</td><td>&quot;No aplica&quot;</td><td>{&quot;https://community.secop.gov.co/Public/Tendering/OpportunityDetail/Index?noticeUID=CO1.NTC.4212513&amp;isFromPublicArea=True&amp;isModal=true&amp;asPopupView=true&quot;}</td><td>&quot;AIDA JONES AID…</td><td>&quot;CO&quot;</td><td>&quot;No Definido&quot;</td><td>&quot;Cédula de Ciud…</td><td>&quot;40989013&quot;</td><td>&quot;Femenino&quot;</td><td>0.0</td><td>0.0</td><td>0.0</td><td>0.0</td><td>0.0</td><td>9.203712e6</td><td>&quot;713452647&quot;</td><td>&quot;709933865&quot;</td><td>&quot;EL/LA CONTRATI…</td></tr><tr><td>99996</td><td>&quot;GOBERNACION DE…</td><td>8.924e8</td><td>&quot;Cesar&quot;</td><td>&quot;Valledupar&quot;</td><td>&quot;Colombia,  Ces…</td><td>&quot;Territorial&quot;</td><td>&quot;Servicio Públi…</td><td>&quot;Ejecutivo&quot;</td><td>&quot;Centralizada&quot;</td><td>&quot;CO1.BDOS.37358…</td><td>&quot;CO1.PCCNTR.439…</td><td>&quot;2023 02 0015&quot;</td><td>&quot;Cerrado&quot;</td><td>&quot;V1.80111600&quot;</td><td>&quot;PRESTACIÓN DE …</td><td>&quot;Prestación de …</td><td>&quot;Contratación d…</td><td>&quot;Servicios prof…</td><td>2023-01-11 00:00:00</td><td>2023-01-12 00:00:00</td><td>2023-05-12 00:00:00</td><td>&quot;No Definido&quot;</td><td>&quot;Cédula de Ciud…</td><td>&quot;64696862&quot;</td><td>&quot;Katherine Andr…</td><td>&quot;No&quot;</td><td>&quot;No&quot;</td><td>&quot;No&quot;</td><td>&quot;Si&quot;</td><td>&quot;No&quot;</td><td>&quot;No&quot;</td><td>&quot;No&quot;</td><td>&quot;Distribuido&quot;</td><td>&quot;Funcionamiento…</td><td>4.0883184e7</td><td>0.0</td><td>4.0883184e7</td><td>0.0</td><td>4.0883184e7</td><td>0.0</td><td>0.0</td><td>0.0</td><td>&quot;No Válido&quot;</td><td>&quot;No Definido&quot;</td><td>&quot;No D&quot;</td><td>5.6039e9</td><td>0.0</td><td>&quot;No&quot;</td><td>0.0</td><td>&quot;No aplica&quot;</td><td>&quot;No aplica&quot;</td><td>{&quot;https://community.secop.gov.co/Public/Tendering/OpportunityDetail/Index?noticeUID=CO1.NTC.3740024&amp;isFromPublicArea=True&amp;isModal=true&amp;asPopupView=true&quot;}</td><td>&quot;Katherine Andr…</td><td>&quot;CO&quot;</td><td>&quot;No Definido&quot;</td><td>&quot;Cédula de Ciud…</td><td>&quot;64696862&quot;</td><td>&quot;Femenino&quot;</td><td>0.0</td><td>0.0</td><td>0.0</td><td>4.0883184e7</td><td>0.0</td><td>0.0</td><td>&quot;702413246&quot;</td><td>&quot;701432544&quot;</td><td>&quot;PRESTACIÓN DE …</td></tr><tr><td>99997</td><td>&quot;FONDANE - DIRE…</td><td>8.0007296e8</td><td>&quot;Distrito Capit…</td><td>&quot;Bogotá&quot;</td><td>&quot;Colombia, Bogo…</td><td>&quot;Nacional&quot;</td><td>&quot;Información Es…</td><td>&quot;Corporación Au…</td><td>&quot;Centralizada&quot;</td><td>&quot;CO1.BDOS.54250…</td><td>&quot;CO1.PCCNTR.574…</td><td>&quot;CO1.PCCNTR.574…</td><td>&quot;En ejecución&quot;</td><td>&quot;V1.80111500&quot;</td><td>&quot;CONV_FONTUR_EV…</td><td>&quot;Prestación de …</td><td>&quot;Contratación d…</td><td>&quot;Servicios prof…</td><td>2024-01-17 00:00:00</td><td>2024-01-19 00:00:00</td><td>2024-08-02 00:00:00</td><td>&quot;A convenir&quot;</td><td>&quot;Cédula de Ciud…</td><td>&quot;1111202540&quot;</td><td>&quot;Jhonhan Andres…</td><td>&quot;No&quot;</td><td>&quot;No&quot;</td><td>&quot;No&quot;</td><td>&quot;No&quot;</td><td>&quot;No&quot;</td><td>&quot;No&quot;</td><td>&quot;No&quot;</td><td>&quot;Distribuido&quot;</td><td>&quot;Inversión&quot;</td><td>2.0367256e7</td><td>0.0</td><td>0.0</td><td>2.0367256e7</td><td>0.0</td><td>0.0</td><td>0.0</td><td>2.0367256e7</td><td>&quot;No Válido&quot;</td><td>&quot;No Definido&quot;</td><td>&quot;No D&quot;</td><td>3.46243328e8</td><td>0.0</td><td>&quot;No&quot;</td><td>0.0</td><td>&quot;No aplica&quot;</td><td>&quot;No aplica&quot;</td><td>{&quot;https://community.secop.gov.co/Public/Tendering/OpportunityDetail/Index?noticeUID=CO1.NTC.5439238&amp;isFromPublicArea=True&amp;isModal=true&amp;asPopupView=true&quot;}</td><td>&quot;Jhonhan Andres…</td><td>&quot;CO&quot;</td><td>&quot;No Definido&quot;</td><td>&quot;Sin Descripcio…</td><td>&quot;Sin Descripcio…</td><td>&quot;No Definido&quot;</td><td>0.0</td><td>0.0</td><td>0.0</td><td>2.0367256e7</td><td>0.0</td><td>0.0</td><td>&quot;704972363&quot;</td><td>&quot;722627346&quot;</td><td>&quot;CONV_FONTUR_EV…</td></tr><tr><td>99998</td><td>&quot;EMPRESA DE ACU…</td><td>8.99999104e8</td><td>&quot;Distrito Capit…</td><td>&quot;Bogotá&quot;</td><td>&quot;Colombia, Bogo…</td><td>&quot;Territorial&quot;</td><td>&quot;Industria&quot;</td><td>&quot;Corporación Au…</td><td>&quot;Centralizada&quot;</td><td>&quot;CO1.BDOS.53041…</td><td>&quot;CO1.PCCNTR.558…</td><td>&quot;2-05-10600-086…</td><td>&quot;enviado Provee…</td><td>&quot;V1.83101500&quot;</td><td>&quot;APOYO A LA OFI…</td><td>&quot;Prestación de …</td><td>&quot;Contratación r…</td><td>&quot;Regla aplicabl…</td><td>null</td><td>2018-08-21 00:00:00</td><td>2019-01-20 00:00:00</td><td>&quot;No Definido&quot;</td><td>&quot;Cédula de Ciud…</td><td>&quot;51962159&quot;</td><td>&quot;LILIANA MARISO…</td><td>&quot;No&quot;</td><td>&quot;No&quot;</td><td>&quot;No Definido&quot;</td><td>&quot;No&quot;</td><td>&quot;No&quot;</td><td>&quot;No&quot;</td><td>&quot;No&quot;</td><td>&quot;Distribuido&quot;</td><td>&quot;Funcionamiento…</td><td>4.093e7</td><td>0.0</td><td>0.0</td><td>4.093e7</td><td>0.0</td><td>0.0</td><td>0.0</td><td>4.093e7</td><td>&quot;No Válido&quot;</td><td>&quot;No Definido&quot;</td><td>&quot;No D&quot;</td><td>0.0</td><td>0.0</td><td>&quot;No&quot;</td><td>0.0</td><td>&quot;No aplica&quot;</td><td>&quot;No aplica&quot;</td><td>{&quot;https://community.secop.gov.co/Public/Tendering/OpportunityDetail/Index?noticeUID=CO1.NTC.527401&amp;isFromPublicArea=True&amp;isModal=true&amp;asPopupView=true&quot;}</td><td>&quot;LILIANA MARISO…</td><td>&quot;CO&quot;</td><td>&quot;No Definido&quot;</td><td>&quot;Cédula de Ciud…</td><td>&quot;51962159&quot;</td><td>&quot;No Definido&quot;</td><td>0.0</td><td>0.0</td><td>0.0</td><td>0.0</td><td>0.0</td><td>0.0</td><td>&quot;700064108&quot;</td><td>&quot;701303042&quot;</td><td>&quot;APOYO A LA OFI…</td></tr><tr><td>99999</td><td>&quot;E.S.E HOSPITAL…</td><td>9.0000e9</td><td>&quot;Cundinamarca&quot;</td><td>&quot;Tabio&quot;</td><td>&quot;Colombia,  Cun…</td><td>&quot;Territorial&quot;</td><td>&quot;Salud y Protec…</td><td>&quot;Corporación Au…</td><td>&quot;Centralizada&quot;</td><td>&quot;CO1.BDOS.53862…</td><td>&quot;CO1.PCCNTR.571…</td><td>&quot;064-2024&quot;</td><td>&quot;Activo&quot;</td><td>&quot;V1.80101506&quot;</td><td>&quot;PRESTACION DE …</td><td>&quot;Prestación de …</td><td>&quot;Contratación r…</td><td>&quot;Regla aplicabl…</td><td>2024-01-06 00:00:00</td><td>null</td><td>2024-05-01 00:00:00</td><td>&quot;No Definido&quot;</td><td>&quot;Sin Descripcio…</td><td>&quot;No Definido&quot;</td><td>&quot;Sin Descripcio…</td><td>&quot;No&quot;</td><td>&quot;No&quot;</td><td>&quot;No&quot;</td><td>&quot;No&quot;</td><td>&quot;No&quot;</td><td>&quot;No&quot;</td><td>&quot;No&quot;</td><td>&quot;Recursos Propi…</td><td>&quot;Funcionamiento…</td><td>6.8e6</td><td>0.0</td><td>0.0</td><td>6.8e6</td><td>0.0</td><td>0.0</td><td>0.0</td><td>6.8e6</td><td>&quot;No Válido&quot;</td><td>&quot;No Definido&quot;</td><td>&quot;No D&quot;</td><td>6.8e6</td><td>0.0</td><td>&quot;No&quot;</td><td>0.0</td><td>&quot;No aplica&quot;</td><td>&quot;No aplica&quot;</td><td>{&quot;https://community.secop.gov.co/Public/Tendering/OpportunityDetail/Index?noticeUID=CO1.NTC.5398233&amp;isFromPublicArea=True&amp;isModal=true&amp;asPopupView=true&quot;}</td><td>&quot;Sin Descripcio…</td><td>&quot;No definido&quot;</td><td>&quot;No Definido&quot;</td><td>&quot;Sin Descripcio…</td><td>&quot;Sin Descripcio…</td><td>&quot;No Definido&quot;</td><td>0.0</td><td>0.0</td><td>0.0</td><td>0.0</td><td>0.0</td><td>6.8e6</td><td>&quot;718435449&quot;</td><td>&quot;0&quot;</td><td>&quot;PRESTACION DE …</td></tr></tbody></table></div>"
            ]
          },
          "metadata": {},
          "execution_count": 22
        }
      ],
      "source": [
        "\n",
        "# Agregar una columna en el índice 0 que cuenta las filas\n",
        "datos_pagina.with_row_count()"
      ]
    },
    {
      "cell_type": "markdown",
      "metadata": {
        "id": "aQJ_hhUvVgf2"
      },
      "source": [
        "### Escritura y lectura de información desde bigquery"
      ]
    },
    {
      "cell_type": "code",
      "execution_count": 23,
      "metadata": {
        "id": "yfEx2AHCVgf2"
      },
      "outputs": [],
      "source": [
        "%%capture\n",
        "pip install --upgrade google-cloud-bigquery"
      ]
    },
    {
      "cell_type": "code",
      "execution_count": 24,
      "metadata": {
        "id": "yTTJjk_oVgf2",
        "colab": {
          "base_uri": "https://localhost:8080/",
          "height": 390
        },
        "outputId": "fd7008ac-478b-4a61-f0ab-ba1e50545a47"
      },
      "outputs": [
        {
          "output_type": "error",
          "ename": "FileNotFoundError",
          "evalue": "[Errno 2] No such file or directory: 'C:\\\\Users\\\\nib1l\\\\Downloads\\\\motor-de-recomendaciones-1e3a4c8c8574.json'",
          "traceback": [
            "\u001b[0;31m---------------------------------------------------------------------------\u001b[0m",
            "\u001b[0;31mFileNotFoundError\u001b[0m                         Traceback (most recent call last)",
            "\u001b[0;32m<ipython-input-24-c837660dc40f>\u001b[0m in \u001b[0;36m<cell line: 7>\u001b[0;34m()\u001b[0m\n\u001b[1;32m      5\u001b[0m \u001b[0;34m\u001b[0m\u001b[0m\n\u001b[1;32m      6\u001b[0m \u001b[0mkey_path\u001b[0m \u001b[0;34m=\u001b[0m \u001b[0;34mr\"C:\\Users\\nib1l\\Downloads\\motor-de-recomendaciones-1e3a4c8c8574.json\"\u001b[0m \u001b[0;31m# cambiala por el nombre de tu llave\u001b[0m\u001b[0;34m\u001b[0m\u001b[0;34m\u001b[0m\u001b[0m\n\u001b[0;32m----> 7\u001b[0;31m credentials = service_account.Credentials.from_service_account_file(\n\u001b[0m\u001b[1;32m      8\u001b[0m     \u001b[0mkey_path\u001b[0m\u001b[0;34m,\u001b[0m \u001b[0mscopes\u001b[0m\u001b[0;34m=\u001b[0m\u001b[0;34m[\u001b[0m\u001b[0;34m\"https://www.googleapis.com/auth/cloud-platform\"\u001b[0m\u001b[0;34m]\u001b[0m\u001b[0;34m,\u001b[0m\u001b[0;34m\u001b[0m\u001b[0;34m\u001b[0m\u001b[0m\n\u001b[1;32m      9\u001b[0m )\n",
            "\u001b[0;32m/usr/local/lib/python3.10/dist-packages/google/oauth2/service_account.py\u001b[0m in \u001b[0;36mfrom_service_account_file\u001b[0;34m(cls, filename, **kwargs)\u001b[0m\n\u001b[1;32m    239\u001b[0m                 \u001b[0mcredentials\u001b[0m\u001b[0;34m.\u001b[0m\u001b[0;34m\u001b[0m\u001b[0;34m\u001b[0m\u001b[0m\n\u001b[1;32m    240\u001b[0m         \"\"\"\n\u001b[0;32m--> 241\u001b[0;31m         info, signer = _service_account_info.from_filename(\n\u001b[0m\u001b[1;32m    242\u001b[0m             \u001b[0mfilename\u001b[0m\u001b[0;34m,\u001b[0m \u001b[0mrequire\u001b[0m\u001b[0;34m=\u001b[0m\u001b[0;34m[\u001b[0m\u001b[0;34m\"client_email\"\u001b[0m\u001b[0;34m,\u001b[0m \u001b[0;34m\"token_uri\"\u001b[0m\u001b[0;34m]\u001b[0m\u001b[0;34m\u001b[0m\u001b[0;34m\u001b[0m\u001b[0m\n\u001b[1;32m    243\u001b[0m         )\n",
            "\u001b[0;32m/usr/local/lib/python3.10/dist-packages/google/auth/_service_account_info.py\u001b[0m in \u001b[0;36mfrom_filename\u001b[0;34m(filename, require, use_rsa_signer)\u001b[0m\n\u001b[1;32m     78\u001b[0m             \u001b[0minfo\u001b[0m \u001b[0;32mand\u001b[0m \u001b[0ma\u001b[0m \u001b[0msigner\u001b[0m \u001b[0minstance\u001b[0m\u001b[0;34m.\u001b[0m\u001b[0;34m\u001b[0m\u001b[0;34m\u001b[0m\u001b[0m\n\u001b[1;32m     79\u001b[0m     \"\"\"\n\u001b[0;32m---> 80\u001b[0;31m     \u001b[0;32mwith\u001b[0m \u001b[0mio\u001b[0m\u001b[0;34m.\u001b[0m\u001b[0mopen\u001b[0m\u001b[0;34m(\u001b[0m\u001b[0mfilename\u001b[0m\u001b[0;34m,\u001b[0m \u001b[0;34m\"r\"\u001b[0m\u001b[0;34m,\u001b[0m \u001b[0mencoding\u001b[0m\u001b[0;34m=\u001b[0m\u001b[0;34m\"utf-8\"\u001b[0m\u001b[0;34m)\u001b[0m \u001b[0;32mas\u001b[0m \u001b[0mjson_file\u001b[0m\u001b[0;34m:\u001b[0m\u001b[0;34m\u001b[0m\u001b[0;34m\u001b[0m\u001b[0m\n\u001b[0m\u001b[1;32m     81\u001b[0m         \u001b[0mdata\u001b[0m \u001b[0;34m=\u001b[0m \u001b[0mjson\u001b[0m\u001b[0;34m.\u001b[0m\u001b[0mload\u001b[0m\u001b[0;34m(\u001b[0m\u001b[0mjson_file\u001b[0m\u001b[0;34m)\u001b[0m\u001b[0;34m\u001b[0m\u001b[0;34m\u001b[0m\u001b[0m\n\u001b[1;32m     82\u001b[0m         \u001b[0;32mreturn\u001b[0m \u001b[0mdata\u001b[0m\u001b[0;34m,\u001b[0m \u001b[0mfrom_dict\u001b[0m\u001b[0;34m(\u001b[0m\u001b[0mdata\u001b[0m\u001b[0;34m,\u001b[0m \u001b[0mrequire\u001b[0m\u001b[0;34m=\u001b[0m\u001b[0mrequire\u001b[0m\u001b[0;34m,\u001b[0m \u001b[0muse_rsa_signer\u001b[0m\u001b[0;34m=\u001b[0m\u001b[0muse_rsa_signer\u001b[0m\u001b[0;34m)\u001b[0m\u001b[0;34m\u001b[0m\u001b[0;34m\u001b[0m\u001b[0m\n",
            "\u001b[0;31mFileNotFoundError\u001b[0m: [Errno 2] No such file or directory: 'C:\\\\Users\\\\nib1l\\\\Downloads\\\\motor-de-recomendaciones-1e3a4c8c8574.json'"
          ]
        }
      ],
      "source": [
        "import numpy as np\n",
        "from google.cloud import bigquery\n",
        "import polars as pl\n",
        "from google.oauth2 import service_account\n",
        "\n",
        "key_path = r\"C:\\Users\\nib1l\\Downloads\\motor-de-recomendaciones-1e3a4c8c8574.json\" # cambiala por el nombre de tu llave\n",
        "credentials = service_account.Credentials.from_service_account_file(\n",
        "    key_path, scopes=[\"https://www.googleapis.com/auth/cloud-platform\"],\n",
        ")\n",
        "\n",
        "client = bigquery.Client(credentials=credentials, project=credentials.project_id,)\n",
        "# Define the connection parameters\n",
        "project_id = \"motor-de-recomendaciones\" #nombre de tu proyecto\n",
        "dataset_id = \"datos_icfes\" # nombre de tu dataset\n",
        "table_id = \"icefes_2019\" #nombre de tu tabla"
      ]
    },
    {
      "cell_type": "code",
      "execution_count": null,
      "metadata": {
        "id": "2KIM7sY4Vgf2"
      },
      "outputs": [],
      "source": [
        "\n",
        "\n",
        "# Perform a query.\n",
        "QUERY = ('SELECT * FROM `motor-de-recomendaciones.datos_icfes.icefes_2019` LIMIT 1000 ')\n",
        "query_job = client.query(QUERY)  # API request\n",
        "rows = query_job.result()  # Waits for query to finish\n",
        "\n",
        "df = pl.from_arrow(rows.to_arrow())"
      ]
    },
    {
      "cell_type": "code",
      "execution_count": null,
      "metadata": {
        "id": "IgcSqm4ZVgf2"
      },
      "outputs": [],
      "source": [
        "import io\n",
        "# Write DataFrame to stream as parquet file; does not hit disk\n",
        "with io.BytesIO() as stream:\n",
        "    df.write_parquet(stream)\n",
        "    stream.seek(0)\n",
        "    job = client.load_table_from_file(\n",
        "        stream,\n",
        "        destination='datos_icfes.icefes_20192',\n",
        "        project='motor-de-recomendaciones',\n",
        "        job_config=bigquery.LoadJobConfig(\n",
        "            source_format=bigquery.SourceFormat.PARQUET,\n",
        "        ),\n",
        "    )\n",
        "job.result()  # Waits for the job to complete"
      ]
    },
    {
      "cell_type": "markdown",
      "metadata": {
        "id": "K_fRXTgfVgf2"
      },
      "source": [
        "### Comparación\n",
        "\n",
        "\n",
        "#### Lectura de datos\n",
        "![](https://miro.medium.com/v2/resize:fit:828/format:webp/1*HWibbnVYohpKbpjMmL15rw.png)\n",
        "\n",
        "#### Operaciones de agregación\n",
        "![](https://miro.medium.com/v2/resize:fit:828/format:webp/1*7-xfg0arCNVTv4AG3yzTwg.png)\n",
        "\n",
        "#### Filtros y selección\n",
        "\n",
        "![](https://miro.medium.com/v2/resize:fit:828/format:webp/1*XR09526SmAUHrBwr0lfFzg.png)\n",
        "\n",
        "#### Operación de clasificación\n",
        "![](https://miro.medium.com/v2/resize:fit:828/format:webp/1*Blya6y4zfInlBPe-u2nOEA.png)"
      ]
    },
    {
      "cell_type": "markdown",
      "metadata": {
        "id": "ww68fSx8Vgf3"
      },
      "source": [
        "## Instrucciones del Proyecto\n",
        "\n",
        "Por favor, cada equipo debe completar el siguiente [formulario](https://forms.gle/Y9msM4cSSLqmNbPM8) en una única ocasión.\n",
        "\n",
        "El proyecto debe ser elaborado siguiendo la siguiente estructura mínima:\n",
        "\n",
        "1. De manera clara, se debe definir el problema de negocio y establecer sus objetivos con precisión.\n",
        "2. Es necesario incorporar al menos dos fuentes de datos, ya sean estructuradas o no estructuradas, para el desarrollo del trabajo.\n",
        "3. Se requiere la utilización de al menos un servicio de nube durante la implementación del proyecto.\n",
        "4. La presentación de los resultados debe ser realizada a través de un panel de control (dashboard) creado utilizando alguna de las siguientes herramientas: Streamlit, Power BI, Looker, Tableau, Dash o Shiny.\n",
        "5. El dashboard debe estar accesible a través de una dirección IP, ya sea pública o privada, con el propósito de verificar su correcto funcionamiento.\n",
        "6. Es fundamental entender y comunicar la infraestructura utilizada para gestionar el ciclo de vida de los datos en el proyecto."
      ]
    },
    {
      "cell_type": "markdown",
      "metadata": {
        "id": "06Qa4IjiVgf3"
      },
      "source": [
        "### Puedes ver más información\n",
        "\n",
        "1. https://github.com/pola-rs/polars\n",
        "2. https://medium.com/cuenex/pandas-2-0-vs-polars-the-ultimate-battle-a378eb75d6d1\n",
        "3. https://docs.pola.rs/user-guide/"
      ]
    },
    {
      "cell_type": "markdown",
      "metadata": {
        "id": "15oL8uX2Vgf3"
      },
      "source": []
    }
  ],
  "metadata": {
    "colab": {
      "provenance": [],
      "include_colab_link": true
    },
    "kernelspec": {
      "display_name": "Python 3",
      "name": "python3"
    },
    "language_info": {
      "codemirror_mode": {
        "name": "ipython",
        "version": 3
      },
      "file_extension": ".py",
      "mimetype": "text/x-python",
      "name": "python",
      "nbconvert_exporter": "python",
      "pygments_lexer": "ipython3",
      "version": "3.9.12"
    }
  },
  "nbformat": 4,
  "nbformat_minor": 0
}
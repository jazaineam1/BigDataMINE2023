{
  "cells": [
    {
      "cell_type": "markdown",
      "metadata": {
        "id": "view-in-github",
        "colab_type": "text"
      },
      "source": [
        "<a href=\"https://colab.research.google.com/github/jazaineam1/BigDataMINE2023/blob/main/Cuadernos/4_MediumData_Polars_y_Python2.ipynb\" target=\"_parent\"><img src=\"https://colab.research.google.com/assets/colab-badge.svg\" alt=\"Open In Colab\"/></a>"
      ]
    },
    {
      "cell_type": "markdown",
      "metadata": {
        "id": "w2_G6P76nRPf"
      },
      "source": [
        "# ***Procesamiento de Medium Data en Python***\n",
        "\n",
        "## ***Universidad Externado de Colombia***\n",
        "\n",
        ">## ***Maestría en Inteligencia de Negocios***\n",
        "![Imágen1](https://www.uexternado.edu.co/wp-content/uploads/2020/07/logo-uec.png)\n",
        "\n",
        "jazaineam@unal.edu.co\n",
        "\n",
        "\n",
        ">## ***Big Data.***\n",
        ">## ***Docente: Antonino Zainea Maya.***"
      ]
    },
    {
      "cell_type": "markdown",
      "metadata": {
        "id": "zlXBf6LyVgfp"
      },
      "source": [
        "![](https://w7.pngwing.com/pngs/838/716/png-transparent-we-bare-bears-characters-polar-bear-giant-panda-grizzly-bear-mammal-polar-bear-white-animals-cat-like-mammal.png)"
      ]
    },
    {
      "cell_type": "markdown",
      "metadata": {
        "id": "hHZet6gxpnnX"
      },
      "source": [
        "El término \"Medium Data\" no es tan comúnmente definido o utilizado en la industria de la tecnología de la información como lo son \"Big Data\" o \"Small Data\". Sin embargo, podemos entender \"Medium Data\" como un término que se sitúa en el medio de estos dos, tanto en términos de volumen de datos como de complejidad en su manejo y análisis. Aquí te explico más detalladamente:\n",
        "\n",
        "### Concepto de Medium Data\n",
        "\n",
        "- **Tamaño y Escala:** Los datos de tamaño medio son más grandes y complejos que los pequeños conjuntos de datos (como una hoja de cálculo con registros de clientes de una pequeña empresa), pero no alcanzan el volumen o la variedad de Big Data (como los generados por redes sociales a nivel global o sensores de IoT a gran escala).\n",
        "\n",
        "- **Características:** Estos datos pueden incluir diversas fuentes y tipos, pero aún son manejables con herramientas y tecnologías de análisis de datos estándar. Pueden requerir cierto grado de procesamiento y capacidad de almacenamiento, pero no en la misma medida que el Big Data.\n",
        "\n",
        "- **Escalabilidad:** Un desafío clave es la escalabilidad. A medida que una organización crece, sus datos pueden empezar a acercarse al umbral del Big Data, lo que requiere una reevaluación de las herramientas y estrategias de manejo de datos.\n"
      ]
    },
    {
      "cell_type": "markdown",
      "metadata": {
        "id": "F20Y0VGxrQfj"
      },
      "source": [
        "\n",
        "### ¿Qué es Pandas?\n",
        "\n",
        "- **Biblioteca de Código Abierto:** Escrita en Python, proporciona estructuras de datos de alto rendimiento y herramientas de análisis.\n",
        "- **Estructuras de Datos:** Ofrece dos estructuras principales, Series (unidimensional) y DataFrame (bidimensional).\n",
        "- **Manipulación y Análisis de Datos:** Ideal para limpieza, transformación, agregación y visualización de datos.\n",
        "- **Lectura y Escritura de Datos:** Soporta varios formatos como CSV, Excel, SQL, entre otros.\n",
        "- **Uso de NumPy:** Tradicionalmente, ha utilizado NumPy para operaciones de bajo nivel y manipulación de arrays.\n",
        "\n",
        "Pandas 2.0, lanzado el 3 de abril de 2023, representa tres años de desarrollo y trae novedades como una mejor integración con matrices de extensión y soporte para DataFrames en PyArrow. Además, introduce una resolución de fecha y hora que no se basa en nanosegundos y efectúa varios cambios en la API debido a la desaprobación forzada de ciertas características. La compatibilidad de código con la versión 2.0 depende de que no haya advertencias en la versión 1.5.3 o anteriores.\n",
        "\n",
        "### Cambios y Novedades en Pandas 2.0\n",
        "\n",
        "#### 1. **Adopción de Apache Arrow en lugar de NumPy:**\n",
        "\n",
        "PyArrow representa una evolución significativa en Pandas 2.0, permitiendo un uso más eficiente de la memoria al procesar grandes conjuntos de datos. Tradicionalmente, Pandas se basaba en NumPy, que es efectivo pero puede ser ineficiente en memoria para conjuntos de datos grandes. PyArrow, construido sobre el formato de datos en columnas Apache Arrow, mejora este aspecto al proporcionar estructuras optimizadas para datos tabulares grandes que están diseñadas para ser rápidas y para minimizar el uso de memoria.\n",
        "\n",
        "Con PyArrow, los usuarios de Pandas pueden esperar una menor huella de memoria y una mejora en el rendimiento general, lo que hace que Pandas sea más viable para trabajar con datos a gran escala que antes requerirían la transición a herramientas como Spark o Dask. Además, PyArrow facilita la interoperabilidad con otros sistemas de procesamiento de datos y formatos de almacenamiento, lo que contribuye a un ecosistema de datos más integrado y eficiente.\n",
        "\n",
        "#### 2. Los tipos de datos que aceptan valores NULL ahora son posibles\n",
        "\n",
        "Pandas 2.0 ha mejorado significativamente el manejo de valores nulos al introducir tipos de datos que aceptan valores NULL. En versiones anteriores, los tipos de datos de NumPy, como los enteros, no podían representar valores nulos, lo que llevaba a conversiones automáticas e indeseadas a tipos flotantes cuando se encontraban valores nulos en columnas enteras.\n",
        "\n",
        "Con Pandas 1.0 se introdujeron tipos de datos anulables, pero su adopción requería esfuerzos adicionales por parte del usuario. Ahora, en la última versión, el manejo de valores nulos se ha simplificado mucho más. Al importar datos con `read_csv`, se puede utilizar el argumento `use_nullable_dtypes=True` para que las columnas se configuren automáticamente con tipos de datos que permiten valores nulos, eliminando las conversiones no deseadas y haciendo que el trabajo con datos faltantes sea más directo y menos propenso a errores.\n",
        "\n"
      ]
    },
    {
      "cell_type": "markdown",
      "metadata": {
        "id": "nmJhQ-axVgfq"
      },
      "source": [
        "#### 3. Mejora del rendimiento de copia en escritura\n",
        "\n",
        "La técnica de \"Copy-on-Write\" (Copia en Escritura) en Pandas 2.0 es una estrategia de optimización de memoria que mejora el rendimiento y reduce el uso de memoria al manejar grandes conjuntos de datos. Funciona de manera similar a las operaciones diferidas en Spark, donde las operaciones se ejecutan solo cuando es necesario. Al crear una copia de un objeto de Pandas, como un DataFrame, se genera una referencia a los datos originales, y una nueva copia se crea solo si se hacen modificaciones. Esto minimiza las copias redundantes de datos y reduce el uso de memoria."
      ]
    },
    {
      "cell_type": "markdown",
      "metadata": {
        "id": "i98-EcuhVgfr"
      },
      "source": [
        "### 4. Tipos numéricos NumPy admitidos por índice\n",
        "En Pandas 2.0, la funcionalidad de los índices se ha mejorado para soportar una gama más amplia de tipos numéricos de NumPy, incluyendo tipos de menor tamaño de bits como int8, int16, int32, entre otros. Anteriormente, solo se admitían tipos como int64, uint64 y float64. Esta actualización permite la creación de índices de menor tamaño, como los de 32 bits, en situaciones que antes generaban índices de 64 bits, mejorando así la eficiencia en términos de uso de memoria."
      ]
    },
    {
      "cell_type": "markdown",
      "metadata": {
        "id": "L6YchJUwVgfr"
      },
      "source": [
        "#### 5. Resolución que no es de nanosegundos en marcas de tiempo\n",
        "Se ha mejorado la resolución de las marcas de tiempo, superando la anterior limitación de solo representarlas en nanosegundos. Ahora, se soportan resoluciones como segundos, milisegundos y microsegundos, permitiendo representar rangos de tiempo mucho más amplios, de hasta aproximadamente +/- 2.9e11 años. Esta mejora es especialmente útil para análisis de series temporales que abarcan periodos extensos, superando las restricciones de fecha anteriores.\n",
        "\n",
        "#### 6. Formato de análisis coherente para fechas y horas\n",
        "\n",
        "El proceso de análisis de fechas y horas con la función `to_datetime()` ha sido modificado para usar un formato consistente basado en el primer valor no nulo (NA). Antes, esta función determinaba el formato de cada elemento de forma independiente, lo cual podía ser problemático. Ahora, los usuarios también pueden especificar un formato particular si lo desean, y este formato especificado prevalecerá en el análisis.\n",
        "\n",
        "Antes,\n",
        "```python\n",
        "ser = pd.Series(['13-01-2000', '12-01-2000'])\n",
        "pd.to_datetime(ser)\n",
        "Out[2]:\n",
        "0   2000-01-13\n",
        "1   2000-12-01\n",
        "dtype: datetime64[ns]\n",
        "\n",
        "```\n",
        "\n",
        "Ahora,\n",
        "\n",
        "```\n",
        "ser = pd.Series(['13-01-2000', '12-01-2000'])\n",
        "\n",
        "pd.to_datetime(ser)\n",
        "Out[43]:\n",
        "0   2000-01-13\n",
        "1   2000-01-12\n",
        "dtype: datetime64[ns]\n",
        "\n",
        "```\n",
        "\n",
        "Puedes ver los cambios adicionales acá https://pandas.pydata.org/docs/dev/whatsnew/v2.0.0.html#backwards-incompatible-api-changes"
      ]
    },
    {
      "cell_type": "markdown",
      "metadata": {
        "id": "xqtbE6KZVgfr"
      },
      "source": [
        "## Polars\n",
        "\n",
        "Puedes ver más en [Cheat seet](https://franzdiebold.github.io/polars-cheat-sheet/Polars_cheat_sheet.pdf).\n",
        "\n",
        "Polars combina la flexibilidad y facilidad de uso de Python con la velocidad y escalabilidad de Rust. Es rápido gracias a su núcleo escrito en Rust, un lenguaje eficiente en memoria con rendimiento comparable a C o C++. Polars puede utilizar todos los núcleos de CPU en paralelo y admite conjuntos de datos grandes. Su API intuitiva es fácil de usar para quienes conocen bibliotecas como Pandas. Además, utiliza Apache Arrow para ejecutar consultas vectorizadas y almacenamiento de datos columnar para un procesamiento en memoria rápido. Estas características lo hacen una biblioteca atractiva para el procesamiento de datos."
      ]
    },
    {
      "cell_type": "code",
      "execution_count": null,
      "metadata": {
        "id": "q2m0WBcqVgfs",
        "outputId": "27ee0f2e-2794-4966-ed20-c798679a9af2"
      },
      "outputs": [
        {
          "name": "stdout",
          "output_type": "stream",
          "text": [
            "Requirement already satisfied: polars in c:\\users\\nib1l\\dask-env\\lib\\site-packages (0.20.4)\n"
          ]
        },
        {
          "name": "stderr",
          "output_type": "stream",
          "text": [
            "WARNING: Ignoring invalid distribution -andas (c:\\users\\nib1l\\dask-env\\lib\\site-packages)\n",
            "WARNING: Ignoring invalid distribution -andas (c:\\users\\nib1l\\dask-env\\lib\\site-packages)\n",
            "WARNING: Ignoring invalid distribution -andas (c:\\users\\nib1l\\dask-env\\lib\\site-packages)\n",
            "WARNING: Ignoring invalid distribution -andas (c:\\users\\nib1l\\dask-env\\lib\\site-packages)\n",
            "WARNING: Ignoring invalid distribution -andas (c:\\users\\nib1l\\dask-env\\lib\\site-packages)\n",
            "WARNING: Ignoring invalid distribution -andas (c:\\users\\nib1l\\dask-env\\lib\\site-packages)\n",
            "WARNING: You are using pip version 22.0.4; however, version 23.3.2 is available.\n",
            "You should consider upgrading via the 'C:\\Users\\nib1l\\dask-env\\Scripts\\python.exe -m pip install --upgrade pip' command.\n"
          ]
        }
      ],
      "source": [
        "# instalación de polars\n",
        "!pip install polars"
      ]
    },
    {
      "cell_type": "code",
      "execution_count": null,
      "metadata": {
        "id": "hQ3cGYzTVgft",
        "outputId": "ead78ce4-5acb-47d3-cad1-d79433109631"
      },
      "outputs": [
        {
          "data": {
            "text/plain": [
              "'0.20.4'"
            ]
          },
          "execution_count": 4,
          "metadata": {},
          "output_type": "execute_result"
        }
      ],
      "source": [
        "import polars as pl\n",
        "pl.__version__"
      ]
    },
    {
      "cell_type": "markdown",
      "metadata": {
        "id": "ekbJN4iBVgft"
      },
      "source": [
        "Si la importación de Polars se realiza sin errores, significa que has instalado con éxito la versión básica de Polars. Esta instalación ligera te permite comenzar sin dependencias adicionales. Para acceder a las características más avanzadas de Polars, que incluyen la interacción con el ecosistema de Python y fuentes de datos externas, necesitas instalar Polars con banderas de características específicas. Por ejemplo, para convertir DataFrames de Polars a DataFrames de pandas y arrays de NumPy, debes instalar Polars con el comando correspondiente que incluya estas características."
      ]
    },
    {
      "cell_type": "code",
      "execution_count": null,
      "metadata": {
        "id": "WTXxtgAIVgfu",
        "outputId": "96a6c5b8-46bb-4b6f-9d32-ef4fd5b13a5b"
      },
      "outputs": [
        {
          "name": "stdout",
          "output_type": "stream",
          "text": [
            "Requirement already satisfied: polars[numpy,pandas] in c:\\users\\nib1l\\dask-env\\lib\\site-packages (0.20.4)\n",
            "Requirement already satisfied: numpy>=1.16.0 in c:\\users\\nib1l\\dask-env\\lib\\site-packages (from polars[numpy,pandas]) (1.24.0)\n",
            "Requirement already satisfied: pyarrow>=7.0.0 in c:\\users\\nib1l\\dask-env\\lib\\site-packages (from polars[numpy,pandas]) (14.0.2)\n",
            "Requirement already satisfied: pandas in c:\\users\\nib1l\\dask-env\\lib\\site-packages (from polars[numpy,pandas]) (2.1.4)\n",
            "Requirement already satisfied: pytz>=2020.1 in c:\\users\\nib1l\\dask-env\\lib\\site-packages (from pandas->polars[numpy,pandas]) (2023.3.post1)\n",
            "Requirement already satisfied: tzdata>=2022.1 in c:\\users\\nib1l\\dask-env\\lib\\site-packages (from pandas->polars[numpy,pandas]) (2023.4)\n",
            "Requirement already satisfied: python-dateutil>=2.8.2 in c:\\users\\nib1l\\dask-env\\lib\\site-packages (from pandas->polars[numpy,pandas]) (2.8.2)\n",
            "Requirement already satisfied: six>=1.5 in c:\\users\\nib1l\\dask-env\\lib\\site-packages (from python-dateutil>=2.8.2->pandas->polars[numpy,pandas]) (1.16.0)\n",
            "Note: you may need to restart the kernel to use updated packages.\n"
          ]
        },
        {
          "name": "stderr",
          "output_type": "stream",
          "text": [
            "WARNING: Ignoring invalid distribution -andas (c:\\users\\nib1l\\dask-env\\lib\\site-packages)\n",
            "WARNING: Ignoring invalid distribution -andas (c:\\users\\nib1l\\dask-env\\lib\\site-packages)\n",
            "WARNING: Ignoring invalid distribution -andas (c:\\users\\nib1l\\dask-env\\lib\\site-packages)\n",
            "WARNING: Ignoring invalid distribution -andas (c:\\users\\nib1l\\dask-env\\lib\\site-packages)\n",
            "WARNING: Ignoring invalid distribution -andas (c:\\users\\nib1l\\dask-env\\lib\\site-packages)\n",
            "WARNING: Ignoring invalid distribution -andas (c:\\users\\nib1l\\dask-env\\lib\\site-packages)\n",
            "WARNING: You are using pip version 22.0.4; however, version 23.3.2 is available.\n",
            "You should consider upgrading via the 'c:\\Users\\nib1l\\dask-env\\Scripts\\python.exe -m pip install --upgrade pip' command.\n"
          ]
        }
      ],
      "source": [
        "pip install \"polars[numpy, pandas]\""
      ]
    },
    {
      "cell_type": "markdown",
      "metadata": {
        "id": "8O2Na_ioVgfu"
      },
      "source": [
        "Este comando instala el núcleo de Polars junto con la funcionalidad necesaria para convertir DataFrames de Polars a objetos de pandas y NumPy. La lista completa de dependencias opcionales que se pueden instalar con Polars está disponible en la documentación de Polars. Alternativamente, para obtener todas las características, se puede instalar Polars con todas las dependencias opcionales usando el comando:\n",
        "```\n",
        "pip install \"polars[all]\"\n",
        "```"
      ]
    },
    {
      "cell_type": "markdown",
      "metadata": {
        "id": "-iK-2jiSVgfu"
      },
      "source": [
        "#### Crear y leer DataFrames"
      ]
    },
    {
      "cell_type": "code",
      "execution_count": null,
      "metadata": {
        "id": "UFP-9lVDVgfu"
      },
      "outputs": [],
      "source": [
        "df = pl.DataFrame(\n",
        "    {\n",
        "        \"nrs\": [1, 2, 3, None, 5],\n",
        "        \"names\": [\"foo\", \"ham\", \"spam\", \"egg\", None],\n",
        "        \"random\": [0.3, 0.7, 0.1, 0.9, 0.6],\n",
        "        \"groups\": [\"A\", \"A\", \"B\", \"C\", \"B\"],\n",
        "    }\n",
        ")"
      ]
    },
    {
      "cell_type": "code",
      "execution_count": null,
      "metadata": {
        "id": "iOY3VrheVgfu",
        "outputId": "e10957c5-83e9-49d4-a589-ab500774dcce"
      },
      "outputs": [
        {
          "data": {
            "text/html": [
              "<div><style>\n",
              ".dataframe > thead > tr,\n",
              ".dataframe > tbody > tr {\n",
              "  text-align: right;\n",
              "  white-space: pre-wrap;\n",
              "}\n",
              "</style>\n",
              "<small>shape: (5, 5)</small><table border=\"1\" class=\"dataframe\"><thead><tr><th>sepal_length</th><th>sepal_width</th><th>petal_length</th><th>petal_width</th><th>species</th></tr><tr><td>f64</td><td>f64</td><td>f64</td><td>f64</td><td>str</td></tr></thead><tbody><tr><td>5.1</td><td>3.5</td><td>1.4</td><td>0.2</td><td>&quot;setosa&quot;</td></tr><tr><td>4.9</td><td>3.0</td><td>1.4</td><td>0.2</td><td>&quot;setosa&quot;</td></tr><tr><td>4.7</td><td>3.2</td><td>1.3</td><td>0.2</td><td>&quot;setosa&quot;</td></tr><tr><td>4.6</td><td>3.1</td><td>1.5</td><td>0.2</td><td>&quot;setosa&quot;</td></tr><tr><td>5.0</td><td>3.6</td><td>1.4</td><td>0.2</td><td>&quot;setosa&quot;</td></tr></tbody></table></div>"
            ],
            "text/plain": [
              "shape: (5, 5)\n",
              "┌──────────────┬─────────────┬──────────────┬─────────────┬─────────┐\n",
              "│ sepal_length ┆ sepal_width ┆ petal_length ┆ petal_width ┆ species │\n",
              "│ ---          ┆ ---         ┆ ---          ┆ ---         ┆ ---     │\n",
              "│ f64          ┆ f64         ┆ f64          ┆ f64         ┆ str     │\n",
              "╞══════════════╪═════════════╪══════════════╪═════════════╪═════════╡\n",
              "│ 5.1          ┆ 3.5         ┆ 1.4          ┆ 0.2         ┆ setosa  │\n",
              "│ 4.9          ┆ 3.0         ┆ 1.4          ┆ 0.2         ┆ setosa  │\n",
              "│ 4.7          ┆ 3.2         ┆ 1.3          ┆ 0.2         ┆ setosa  │\n",
              "│ 4.6          ┆ 3.1         ┆ 1.5          ┆ 0.2         ┆ setosa  │\n",
              "│ 5.0          ┆ 3.6         ┆ 1.4          ┆ 0.2         ┆ setosa  │\n",
              "└──────────────┴─────────────┴──────────────┴─────────────┴─────────┘"
            ]
          },
          "execution_count": 6,
          "metadata": {},
          "output_type": "execute_result"
        }
      ],
      "source": [
        "#leer csv\n",
        "df = pl.read_csv(\"https://j.mp/iriscsv\", has_header=True)\n",
        "df.head()"
      ]
    },
    {
      "cell_type": "code",
      "execution_count": null,
      "metadata": {
        "id": "MT-K48MmVgfu"
      },
      "outputs": [],
      "source": [
        "%%capture\n",
        "pip install sodapy"
      ]
    },
    {
      "cell_type": "code",
      "execution_count": null,
      "metadata": {
        "id": "7sXmoxyHVgfv",
        "outputId": "4cdbc6cc-84d9-4f20-ed46-ea68b1f2c9d2"
      },
      "outputs": [
        {
          "name": "stderr",
          "output_type": "stream",
          "text": [
            "WARNING:root:Requests made without an app_token will be subject to strict throttling limits.\n"
          ]
        }
      ],
      "source": [
        "import pandas as pd\n",
        "from sodapy import Socrata\n",
        "\n",
        "\n",
        "client = Socrata(\"www.datos.gov.co\", None)\n",
        "results = client.get(\"jbjy-vk9h\", limit=100000)"
      ]
    },
    {
      "cell_type": "code",
      "execution_count": null,
      "metadata": {
        "id": "MoeRHfVSVgfv",
        "outputId": "2e0a282c-4ffb-4165-d4e7-09aff6260379"
      },
      "outputs": [
        {
          "data": {
            "text/html": [
              "<div><style>\n",
              ".dataframe > thead > tr,\n",
              ".dataframe > tbody > tr {\n",
              "  text-align: right;\n",
              "  white-space: pre-wrap;\n",
              "}\n",
              "</style>\n",
              "<small>shape: (5, 67)</small><table border=\"1\" class=\"dataframe\"><thead><tr><th>nombre_entidad</th><th>nit_entidad</th><th>departamento</th><th>ciudad</th><th>localizaci_n</th><th>orden</th><th>sector</th><th>rama</th><th>entidad_centralizada</th><th>proceso_de_compra</th><th>id_contrato</th><th>referencia_del_contrato</th><th>estado_contrato</th><th>codigo_de_categoria_principal</th><th>descripcion_del_proceso</th><th>tipo_de_contrato</th><th>modalidad_de_contratacion</th><th>justificacion_modalidad_de</th><th>fecha_de_firma</th><th>fecha_de_inicio_del_contrato</th><th>fecha_de_fin_del_contrato</th><th>condiciones_de_entrega</th><th>tipodocproveedor</th><th>documento_proveedor</th><th>proveedor_adjudicado</th><th>es_grupo</th><th>es_pyme</th><th>habilita_pago_adelantado</th><th>liquidaci_n</th><th>obligaci_n_ambiental</th><th>obligaciones_postconsumo</th><th>reversion</th><th>origen_de_los_recursos</th><th>destino_gasto</th><th>valor_del_contrato</th><th>valor_de_pago_adelantado</th><th>valor_facturado</th><th>valor_pendiente_de_pago</th><th>valor_pagado</th><th>valor_amortizado</th><th>valor_pendiente_de</th><th>valor_pendiente_de_ejecucion</th><th>estado_bpin</th><th>c_digo_bpin</th><th>anno_bpin</th><th>saldo_cdp</th><th>saldo_vigencia</th><th>espostconflicto</th><th>dias_adicionados</th><th>puntos_del_acuerdo</th><th>pilares_del_acuerdo</th><th>urlproceso</th><th>nombre_representante_legal</th><th>nacionalidad_representante_legal</th><th>domicilio_representante_legal</th><th>tipo_de_identificaci_n_representante_legal</th><th>identificaci_n_representante_legal</th><th>g_nero_representante_legal</th><th>presupuesto_general_de_la_nacion_pgn</th><th>sistema_general_de_participaciones</th><th>sistema_general_de_regal_as</th><th>recursos_propios_alcald_as_gobernaciones_y_resguardos_ind_genas_</th><th>recursos_de_credito</th><th>recursos_propios</th><th>codigo_entidad</th><th>codigo_proveedor</th><th>objeto_del_contrato</th></tr><tr><td>str</td><td>str</td><td>str</td><td>str</td><td>str</td><td>str</td><td>str</td><td>str</td><td>str</td><td>str</td><td>str</td><td>str</td><td>str</td><td>str</td><td>str</td><td>str</td><td>str</td><td>str</td><td>str</td><td>str</td><td>str</td><td>str</td><td>str</td><td>str</td><td>str</td><td>str</td><td>str</td><td>str</td><td>str</td><td>str</td><td>str</td><td>str</td><td>str</td><td>str</td><td>str</td><td>str</td><td>str</td><td>str</td><td>str</td><td>str</td><td>str</td><td>str</td><td>str</td><td>str</td><td>str</td><td>str</td><td>str</td><td>str</td><td>str</td><td>str</td><td>str</td><td>struct[1]</td><td>str</td><td>str</td><td>str</td><td>str</td><td>str</td><td>str</td><td>str</td><td>str</td><td>str</td><td>str</td><td>str</td><td>str</td><td>str</td><td>str</td><td>str</td></tr></thead><tbody><tr><td>&quot;SECRETARIA DE …</td><td>&quot;8903990295&quot;</td><td>&quot;Valle del Cauc…</td><td>&quot;Cali&quot;</td><td>&quot;Colombia,  Val…</td><td>&quot;Territorial&quot;</td><td>&quot;Servicio Públi…</td><td>&quot;Ejecutivo&quot;</td><td>&quot;Centralizada&quot;</td><td>&quot;CO1.BDOS.21648…</td><td>&quot;CO1.PCCNTR.275…</td><td>&quot;1.310.02-59.2-…</td><td>&quot;En ejecución&quot;</td><td>&quot;V1.72141003&quot;</td><td>&quot;Prestación de …</td><td>&quot;Prestación de …</td><td>&quot;Contratación d…</td><td>&quot;Servicios prof…</td><td>&quot;2021-08-12T00:…</td><td>&quot;2021-08-17T00:…</td><td>&quot;2021-12-31T00:…</td><td>&quot;A convenir&quot;</td><td>&quot;Cédula de Ciud…</td><td>&quot;34317568&quot;</td><td>&quot;Victoria Eugen…</td><td>&quot;No&quot;</td><td>&quot;No&quot;</td><td>&quot;No&quot;</td><td>&quot;No&quot;</td><td>&quot;No&quot;</td><td>&quot;No&quot;</td><td>&quot;No&quot;</td><td>&quot;Distribuido&quot;</td><td>&quot;Inversión&quot;</td><td>&quot;16500000&quot;</td><td>&quot;0&quot;</td><td>&quot;16500000&quot;</td><td>&quot;0&quot;</td><td>&quot;16500000&quot;</td><td>&quot;0&quot;</td><td>&quot;0&quot;</td><td>&quot;0&quot;</td><td>&quot;Válido&quot;</td><td>&quot;2020003760195&quot;</td><td>&quot;2023&quot;</td><td>&quot;1536500000&quot;</td><td>&quot;0&quot;</td><td>&quot;No&quot;</td><td>&quot;0&quot;</td><td>&quot;No aplica&quot;</td><td>&quot;No aplica&quot;</td><td>{&quot;https://community.secop.gov.co/Public/Tendering/OpportunityDetail/Index?noticeUID=CO1.NTC.2168642&amp;isFromPublicArea=True&amp;isModal=true&amp;asPopupView=true&quot;}</td><td>&quot;Victoria Eugen…</td><td>&quot;CO&quot;</td><td>&quot;No Definido&quot;</td><td>&quot;Sin Descripcio…</td><td>&quot;Sin Descripcio…</td><td>&quot;No Definido&quot;</td><td>&quot;0&quot;</td><td>&quot;0&quot;</td><td>&quot;0&quot;</td><td>&quot;16500000&quot;</td><td>&quot;0&quot;</td><td>&quot;0&quot;</td><td>&quot;709412027&quot;</td><td>&quot;710837337&quot;</td><td>&quot;Prestación de …</td></tr><tr><td>&quot;INSTITUCIÓN UN…</td><td>&quot;890980134&quot;</td><td>&quot;Antioquia&quot;</td><td>&quot;Medellín&quot;</td><td>&quot;Colombia,  Ant…</td><td>&quot;Territorial&quot;</td><td>&quot;Educación Naci…</td><td>&quot;Ejecutivo&quot;</td><td>&quot;Centralizada&quot;</td><td>&quot;CO1.BDOS.30981…</td><td>&quot;CO1.PCCNTR.387…</td><td>&quot;CMA-CD-9797-94…</td><td>&quot;En ejecución&quot;</td><td>&quot;V1.80111600&quot;</td><td>&quot;El Contratista…</td><td>&quot;Prestación de …</td><td>&quot;Contratación d…</td><td>&quot;Servicios prof…</td><td>&quot;2022-08-03T00:…</td><td>&quot;2022-08-04T00:…</td><td>&quot;2023-01-01T00:…</td><td>&quot;No Definido&quot;</td><td>&quot;Cédula de Ciud…</td><td>&quot;8356403&quot;</td><td>&quot;GUSTAVO ADOLFO…</td><td>&quot;No&quot;</td><td>&quot;No&quot;</td><td>&quot;No&quot;</td><td>&quot;No&quot;</td><td>&quot;No&quot;</td><td>&quot;No&quot;</td><td>&quot;No&quot;</td><td>&quot;Distribuido&quot;</td><td>&quot;Funcionamiento…</td><td>&quot;10961550&quot;</td><td>&quot;0&quot;</td><td>&quot;10961550&quot;</td><td>&quot;0&quot;</td><td>&quot;10961550&quot;</td><td>&quot;0&quot;</td><td>&quot;0&quot;</td><td>&quot;0&quot;</td><td>&quot;No Válido&quot;</td><td>&quot;No Definido&quot;</td><td>&quot;No D&quot;</td><td>&quot;4262184450&quot;</td><td>&quot;0&quot;</td><td>&quot;No&quot;</td><td>&quot;0&quot;</td><td>&quot;No aplica&quot;</td><td>&quot;No aplica&quot;</td><td>{&quot;https://community.secop.gov.co/Public/Tendering/OpportunityDetail/Index?noticeUID=CO1.NTC.3100647&amp;isFromPublicArea=True&amp;isModal=true&amp;asPopupView=true&quot;}</td><td>&quot;GUSTAVO ADOLFO…</td><td>&quot;CO&quot;</td><td>&quot;No Definido&quot;</td><td>&quot;Sin Descripcio…</td><td>&quot;Sin Descripcio…</td><td>&quot;No Definido&quot;</td><td>&quot;0&quot;</td><td>&quot;0&quot;</td><td>&quot;0&quot;</td><td>&quot;10961550&quot;</td><td>&quot;0&quot;</td><td>&quot;0&quot;</td><td>&quot;704629146&quot;</td><td>&quot;714239985&quot;</td><td>&quot;El Contratista…</td></tr><tr><td>&quot;DISTRITO ESPEC…</td><td>&quot;890102018&quot;</td><td>&quot;Atlántico&quot;</td><td>&quot;Barranquilla&quot;</td><td>&quot;Colombia,  Atl…</td><td>&quot;Territorial&quot;</td><td>&quot;Servicio Públi…</td><td>&quot;Ejecutivo&quot;</td><td>&quot;Centralizada&quot;</td><td>&quot;CO1.BDOS.16947…</td><td>&quot;CO1.PCCNTR.216…</td><td>&quot;CD-57-2021-045…</td><td>&quot;En ejecución&quot;</td><td>&quot;V1.80111600&quot;</td><td>&quot;PRESTACIÓN DE …</td><td>&quot;Prestación de …</td><td>&quot;Contratación d…</td><td>&quot;Servicios prof…</td><td>&quot;2021-01-28T00:…</td><td>&quot;2021-02-02T00:…</td><td>&quot;2022-01-01T00:…</td><td>&quot;No Definido&quot;</td><td>&quot;Cédula de Ciud…</td><td>&quot;72142696&quot;</td><td>&quot;ANGEL VICENTE …</td><td>&quot;No&quot;</td><td>&quot;No&quot;</td><td>&quot;No&quot;</td><td>&quot;No&quot;</td><td>&quot;No&quot;</td><td>&quot;No&quot;</td><td>&quot;No&quot;</td><td>&quot;Distribuido&quot;</td><td>&quot;Inversión&quot;</td><td>&quot;20234250&quot;</td><td>&quot;0&quot;</td><td>&quot;20234250&quot;</td><td>&quot;0&quot;</td><td>&quot;20234250&quot;</td><td>&quot;0&quot;</td><td>&quot;0&quot;</td><td>&quot;0&quot;</td><td>&quot;Válido&quot;</td><td>&quot;2021080010005&quot;</td><td>&quot;2021&quot;</td><td>&quot;2002311000&quot;</td><td>&quot;0&quot;</td><td>&quot;No&quot;</td><td>&quot;0&quot;</td><td>&quot;No aplica&quot;</td><td>&quot;No aplica&quot;</td><td>{&quot;https://community.secop.gov.co/Public/Tendering/OpportunityDetail/Index?noticeUID=CO1.NTC.1690930&amp;isFromPublicArea=True&amp;isModal=true&amp;asPopupView=true&quot;}</td><td>&quot;ANGEL VICENTE …</td><td>&quot;CO&quot;</td><td>&quot;No Definido&quot;</td><td>&quot;Sin Descripcio…</td><td>&quot;Sin Descripcio…</td><td>&quot;No Definido&quot;</td><td>&quot;0&quot;</td><td>&quot;0&quot;</td><td>&quot;0&quot;</td><td>&quot;20234250&quot;</td><td>&quot;0&quot;</td><td>&quot;0&quot;</td><td>&quot;702442096&quot;</td><td>&quot;709472161&quot;</td><td>&quot;PRESTACIÓN DE …</td></tr><tr><td>&quot;OPERADORA DIST…</td><td>&quot;901526664&quot;</td><td>&quot;Distrito Capit…</td><td>&quot;Bogotá&quot;</td><td>&quot;Colombia, Bogo…</td><td>&quot;Territorial&quot;</td><td>&quot;Transporte&quot;</td><td>&quot;Ejecutivo&quot;</td><td>&quot;Centralizada&quot;</td><td>&quot;CO1.BDOS.47437…</td><td>&quot;CO1.PCCNTR.533…</td><td>&quot;CO1.PCCNTR.533…</td><td>&quot;En ejecución&quot;</td><td>&quot;V1.82151500&quot;</td><td>&quot;PRESTACIÓN DE …</td><td>&quot;Prestación de …</td><td>&quot;Contratación r…</td><td>&quot;Regla aplicabl…</td><td>&quot;2023-10-04T00:…</td><td>&quot;2023-10-26T00:…</td><td>&quot;2024-01-12T00:…</td><td>&quot;A convenir&quot;</td><td>&quot;Cédula de Ciud…</td><td>&quot;53065957&quot;</td><td>&quot;Xiomara Meliss…</td><td>&quot;No&quot;</td><td>&quot;No&quot;</td><td>&quot;No&quot;</td><td>&quot;No&quot;</td><td>&quot;No&quot;</td><td>&quot;No&quot;</td><td>&quot;No&quot;</td><td>&quot;Distribuido&quot;</td><td>&quot;Funcionamiento…</td><td>&quot;30500000&quot;</td><td>&quot;0&quot;</td><td>&quot;0&quot;</td><td>&quot;30500000&quot;</td><td>&quot;0&quot;</td><td>&quot;0&quot;</td><td>&quot;0&quot;</td><td>&quot;30500000&quot;</td><td>&quot;No Válido&quot;</td><td>&quot;No Definido&quot;</td><td>&quot;No D&quot;</td><td>&quot;30500000&quot;</td><td>&quot;0&quot;</td><td>&quot;No&quot;</td><td>&quot;0&quot;</td><td>&quot;No aplica&quot;</td><td>&quot;No aplica&quot;</td><td>{&quot;https://community.secop.gov.co/Public/Tendering/OpportunityDetail/Index?noticeUID=CO1.NTC.4829726&amp;isFromPublicArea=True&amp;isModal=true&amp;asPopupView=true&quot;}</td><td>&quot;Xiomara Meliss…</td><td>&quot;CO&quot;</td><td>&quot;No Definido&quot;</td><td>&quot;Sin Descripcio…</td><td>&quot;Sin Descripcio…</td><td>&quot;Femenino&quot;</td><td>&quot;0&quot;</td><td>&quot;0&quot;</td><td>&quot;0&quot;</td><td>&quot;30500000&quot;</td><td>&quot;0&quot;</td><td>&quot;0&quot;</td><td>&quot;715753901&quot;</td><td>&quot;708941216&quot;</td><td>&quot;PRESTACIÓN DE …</td></tr><tr><td>&quot;COMANDO FAC&quot;</td><td>&quot;899999102&quot;</td><td>&quot;Distrito Capit…</td><td>&quot;Bogotá&quot;</td><td>&quot;Colombia, Bogo…</td><td>&quot;Nacional&quot;</td><td>&quot;defensa&quot;</td><td>&quot;Ejecutivo&quot;</td><td>&quot;Centralizada&quot;</td><td>&quot;CO1.BDOS.34296…</td><td>&quot;CO1.PCCNTR.433…</td><td>&quot;157-00-A-COFAC…</td><td>&quot;Modificado&quot;</td><td>&quot;V1.78181800&quot;</td><td>&quot;INSPECCIONES M…</td><td>&quot;Prestación de …</td><td>&quot;Selección Abre…</td><td>&quot;Defensa y segu…</td><td>&quot;2022-12-23T00:…</td><td>&quot;2022-12-27T00:…</td><td>&quot;2023-12-21T00:…</td><td>&quot;DAP - Entregad…</td><td>&quot;No Definido&quot;</td><td>&quot;900346811&quot;</td><td>&quot;AGG MRO&quot;</td><td>&quot;No&quot;</td><td>&quot;Si&quot;</td><td>&quot;No&quot;</td><td>&quot;Si&quot;</td><td>&quot;No&quot;</td><td>&quot;No&quot;</td><td>&quot;No&quot;</td><td>&quot;Distribuido&quot;</td><td>&quot;Inversión&quot;</td><td>&quot;3708000000&quot;</td><td>&quot;0&quot;</td><td>&quot;1236000000&quot;</td><td>&quot;2472000000&quot;</td><td>&quot;1236000000&quot;</td><td>&quot;0&quot;</td><td>&quot;0&quot;</td><td>&quot;2472000000&quot;</td><td>&quot;No Válido&quot;</td><td>&quot;No Definido&quot;</td><td>&quot;No D&quot;</td><td>&quot;3708000000&quot;</td><td>&quot;0&quot;</td><td>&quot;No&quot;</td><td>&quot;20&quot;</td><td>&quot;No aplica&quot;</td><td>&quot;No aplica&quot;</td><td>{&quot;https://community.secop.gov.co/Public/Tendering/OpportunityDetail/Index?noticeUID=CO1.NTC.3524611&amp;isFromPublicArea=True&amp;isModal=true&amp;asPopupView=true&quot;}</td><td>&quot;YOBANY ANDRES …</td><td>&quot;CO&quot;</td><td>&quot;AVENIDA EL DOR…</td><td>&quot;Sin Descripcio…</td><td>&quot;Sin Descripcio…</td><td>&quot;No Definido&quot;</td><td>&quot;3708000000&quot;</td><td>&quot;0&quot;</td><td>&quot;0&quot;</td><td>&quot;0&quot;</td><td>&quot;0&quot;</td><td>&quot;0&quot;</td><td>&quot;700409022&quot;</td><td>&quot;703192971&quot;</td><td>&quot;INSPECCIONES M…</td></tr></tbody></table></div>"
            ],
            "text/plain": [
              "shape: (5, 67)\n",
              "┌───────────┬───────────┬───────────┬───────────┬───┬───────────┬───────────┬───────────┬──────────┐\n",
              "│ nombre_en ┆ nit_entid ┆ departame ┆ ciudad    ┆ … ┆ recursos_ ┆ codigo_en ┆ codigo_pr ┆ objeto_d │\n",
              "│ tidad     ┆ ad        ┆ nto       ┆ ---       ┆   ┆ propios   ┆ tidad     ┆ oveedor   ┆ el_contr │\n",
              "│ ---       ┆ ---       ┆ ---       ┆ str       ┆   ┆ ---       ┆ ---       ┆ ---       ┆ ato      │\n",
              "│ str       ┆ str       ┆ str       ┆           ┆   ┆ str       ┆ str       ┆ str       ┆ ---      │\n",
              "│           ┆           ┆           ┆           ┆   ┆           ┆           ┆           ┆ str      │\n",
              "╞═══════════╪═══════════╪═══════════╪═══════════╪═══╪═══════════╪═══════════╪═══════════╪══════════╡\n",
              "│ SECRETARI ┆ 890399029 ┆ Valle del ┆ Cali      ┆ … ┆ 0         ┆ 709412027 ┆ 710837337 ┆ Prestaci │\n",
              "│ A DE INFR ┆ 5         ┆ Cauca     ┆           ┆   ┆           ┆           ┆           ┆ ón de    │\n",
              "│ AESTRUCTU ┆           ┆           ┆           ┆   ┆           ┆           ┆           ┆ Servicio │\n",
              "│ RA - …    ┆           ┆           ┆           ┆   ┆           ┆           ┆           ┆ s Profes │\n",
              "│           ┆           ┆           ┆           ┆   ┆           ┆           ┆           ┆ io…      │\n",
              "│ INSTITUCI ┆ 890980134 ┆ Antioquia ┆ Medellín  ┆ … ┆ 0         ┆ 704629146 ┆ 714239985 ┆ El Contr │\n",
              "│ ÓN UNIVER ┆           ┆           ┆           ┆   ┆           ┆           ┆           ┆ atista   │\n",
              "│ SITARIA   ┆           ┆           ┆           ┆   ┆           ┆           ┆           ┆ de       │\n",
              "│ COLEGI…   ┆           ┆           ┆           ┆   ┆           ┆           ┆           ┆ manera   │\n",
              "│           ┆           ┆           ┆           ┆   ┆           ┆           ┆           ┆ indepen… │\n",
              "│ DISTRITO  ┆ 890102018 ┆ Atlántico ┆ Barranqui ┆ … ┆ 0         ┆ 702442096 ┆ 709472161 ┆ PRESTACI │\n",
              "│ ESPECIAL  ┆           ┆           ┆ lla       ┆   ┆           ┆           ┆           ┆ ÓN DE    │\n",
              "│ INDUSTRIA ┆           ┆           ┆           ┆   ┆           ┆           ┆           ┆ SERVICIO │\n",
              "│ L Y P…    ┆           ┆           ┆           ┆   ┆           ┆           ┆           ┆ S DE     │\n",
              "│           ┆           ┆           ┆           ┆   ┆           ┆           ┆           ┆ APOYO…   │\n",
              "│ OPERADORA ┆ 901526664 ┆ Distrito  ┆ Bogotá    ┆ … ┆ 0         ┆ 715753901 ┆ 708941216 ┆ PRESTACI │\n",
              "│ DISTRITAL ┆           ┆ Capital   ┆           ┆   ┆           ┆           ┆           ┆ ÓN DE    │\n",
              "│ DE TRANSP ┆           ┆ de Bogotá ┆           ┆   ┆           ┆           ┆           ┆ SERVICIO │\n",
              "│ ORT…      ┆           ┆           ┆           ┆   ┆           ┆           ┆           ┆ S PROFES │\n",
              "│           ┆           ┆           ┆           ┆   ┆           ┆           ┆           ┆ IO…      │\n",
              "│ COMANDO   ┆ 899999102 ┆ Distrito  ┆ Bogotá    ┆ … ┆ 0         ┆ 700409022 ┆ 703192971 ┆ INSPECCI │\n",
              "│ FAC       ┆           ┆ Capital   ┆           ┆   ┆           ┆           ┆           ┆ ONES     │\n",
              "│           ┆           ┆ de Bogotá ┆           ┆   ┆           ┆           ┆           ┆ MAYORES  │\n",
              "│           ┆           ┆           ┆           ┆   ┆           ┆           ┆           ┆ PARA LAS │\n",
              "│           ┆           ┆           ┆           ┆   ┆           ┆           ┆           ┆ AE…      │\n",
              "└───────────┴───────────┴───────────┴───────────┴───┴───────────┴───────────┴───────────┴──────────┘"
            ]
          },
          "execution_count": 5,
          "metadata": {},
          "output_type": "execute_result"
        }
      ],
      "source": [
        "datos_pagina = pl.DataFrame(results,infer_schema_length=0)\n",
        "datos_pagina.head()"
      ]
    },
    {
      "cell_type": "code",
      "execution_count": null,
      "metadata": {
        "id": "qOIp2k7bVgfv",
        "outputId": "3468a5c5-b85a-4071-d2eb-41c7ed43c2d1"
      },
      "outputs": [
        {
          "data": {
            "text/plain": [
              "polars.dataframe.frame.DataFrame"
            ]
          },
          "execution_count": 6,
          "metadata": {},
          "output_type": "execute_result"
        }
      ],
      "source": [
        "type(datos_pagina)"
      ]
    },
    {
      "cell_type": "markdown",
      "metadata": {
        "id": "gsza-wKkVgfv"
      },
      "source": [
        "#### Cambiar tipo de datos"
      ]
    },
    {
      "cell_type": "code",
      "execution_count": null,
      "metadata": {
        "id": "QAICncS9Vgfv",
        "outputId": "d36ed629-3601-4289-8e79-ea2420f186ac"
      },
      "outputs": [
        {
          "name": "stderr",
          "output_type": "stream",
          "text": [
            "C:\\Users\\nib1l\\AppData\\Local\\Temp\\ipykernel_14496\\3166156945.py:3: ChronoFormatWarning: Detected the pattern `.%f` in the chrono format string. This pattern should not be used to parse values after a decimal point. Use `%.f` instead. See the full specification: https://docs.rs/chrono/latest/chrono/format/strftime\n",
            "  datos_pagina = datos_pagina.with_columns(pl.col(\"fecha_de_firma\").str.to_datetime(formato_fecha, strict=False))\n",
            "C:\\Users\\nib1l\\AppData\\Local\\Temp\\ipykernel_14496\\3166156945.py:4: ChronoFormatWarning: Detected the pattern `.%f` in the chrono format string. This pattern should not be used to parse values after a decimal point. Use `%.f` instead. See the full specification: https://docs.rs/chrono/latest/chrono/format/strftime\n",
            "  datos_pagina = datos_pagina.with_columns(pl.col(\"fecha_de_inicio_del_contrato\").str.to_datetime(formato_fecha, strict=False))\n",
            "C:\\Users\\nib1l\\AppData\\Local\\Temp\\ipykernel_14496\\3166156945.py:5: ChronoFormatWarning: Detected the pattern `.%f` in the chrono format string. This pattern should not be used to parse values after a decimal point. Use `%.f` instead. See the full specification: https://docs.rs/chrono/latest/chrono/format/strftime\n",
            "  datos_pagina = datos_pagina.with_columns(pl.col(\"fecha_de_fin_del_contrato\").str.to_datetime(formato_fecha, strict=False))\n"
          ]
        }
      ],
      "source": [
        "formato_fecha = \"%Y-%m-%dT%H:%M:%S.%f\"\n",
        "datos_pagina = datos_pagina.with_columns(pl.col(\"nit_entidad\").cast(pl.Float32))\n",
        "datos_pagina = datos_pagina.with_columns(pl.col(\"fecha_de_firma\").str.to_datetime(formato_fecha, strict=False))\n",
        "datos_pagina = datos_pagina.with_columns(pl.col(\"fecha_de_inicio_del_contrato\").str.to_datetime(formato_fecha, strict=False))\n",
        "datos_pagina = datos_pagina.with_columns(pl.col(\"fecha_de_fin_del_contrato\").str.to_datetime(formato_fecha, strict=False))\n",
        "datos_pagina = datos_pagina.with_columns(pl.col(\"valor_del_contrato\").cast(pl.Float32))\n",
        "datos_pagina = datos_pagina.with_columns(pl.col(\"valor_de_pago_adelantado\").cast(pl.Float32))\n",
        "datos_pagina = datos_pagina.with_columns(pl.col(\"valor_facturado\").cast(pl.Float32))\n",
        "datos_pagina = datos_pagina.with_columns(pl.col(\"valor_pendiente_de_pago\").cast(pl.Float32))\n",
        "datos_pagina = datos_pagina.with_columns(pl.col(\"valor_pagado\").cast(pl.Float32))\n",
        "datos_pagina = datos_pagina.with_columns(pl.col(\"valor_amortizado\").cast(pl.Float32))\n",
        "datos_pagina = datos_pagina.with_columns(pl.col(\"valor_pendiente_de\").cast(pl.Float32))\n",
        "datos_pagina = datos_pagina.with_columns(pl.col(\"valor_pendiente_de_ejecucion\").cast(pl.Float32))\n",
        "datos_pagina = datos_pagina.with_columns(pl.col(\"saldo_cdp\").cast(pl.Float32))\n",
        "datos_pagina = datos_pagina.with_columns(pl.col(\"saldo_vigencia\").cast(pl.Float32))\n",
        "datos_pagina = datos_pagina.with_columns(pl.col(\"dias_adicionados\").cast(pl.Float32))\n",
        "datos_pagina = datos_pagina.with_columns(pl.col(\"presupuesto_general_de_la_nacion_pgn\").cast(pl.Float32))\n",
        "datos_pagina = datos_pagina.with_columns(pl.col(\"sistema_general_de_participaciones\").cast(pl.Float32))\n",
        "datos_pagina = datos_pagina.with_columns(pl.col(\"sistema_general_de_regal_as\").cast(pl.Float32))\n",
        "datos_pagina = datos_pagina.with_columns(pl.col(\"recursos_propios_alcald_as_gobernaciones_y_resguardos_ind_genas_\").cast(pl.Float32))\n",
        "datos_pagina = datos_pagina.with_columns(pl.col(\"recursos_de_credito\").cast(pl.Float32))\n",
        "datos_pagina = datos_pagina.with_columns(pl.col(\"recursos_propios\").cast(pl.Float32))\n",
        "\n",
        "\n"
      ]
    },
    {
      "cell_type": "code",
      "execution_count": null,
      "metadata": {
        "id": "ll2QzAU2Vgfv",
        "outputId": "942d68f1-bd86-4aa1-c2f9-3912d1dbe847"
      },
      "outputs": [
        {
          "data": {
            "text/plain": [
              "[String,\n",
              " Float32,\n",
              " String,\n",
              " String,\n",
              " String,\n",
              " String,\n",
              " String,\n",
              " String,\n",
              " String,\n",
              " String,\n",
              " String,\n",
              " String,\n",
              " String,\n",
              " String,\n",
              " String,\n",
              " String,\n",
              " String,\n",
              " String,\n",
              " Datetime(time_unit='ns', time_zone=None),\n",
              " Datetime(time_unit='ns', time_zone=None),\n",
              " Datetime(time_unit='ns', time_zone=None),\n",
              " String,\n",
              " String,\n",
              " String,\n",
              " String,\n",
              " String,\n",
              " String,\n",
              " String,\n",
              " String,\n",
              " String,\n",
              " String,\n",
              " String,\n",
              " String,\n",
              " String,\n",
              " Float32,\n",
              " Float32,\n",
              " Float32,\n",
              " Float32,\n",
              " Float32,\n",
              " Float32,\n",
              " Float32,\n",
              " Float32,\n",
              " String,\n",
              " String,\n",
              " String,\n",
              " Float32,\n",
              " Float32,\n",
              " String,\n",
              " Float32,\n",
              " String,\n",
              " String,\n",
              " Struct({'url': String}),\n",
              " String,\n",
              " String,\n",
              " String,\n",
              " String,\n",
              " String,\n",
              " String,\n",
              " Float32,\n",
              " Float32,\n",
              " Float32,\n",
              " Float32,\n",
              " Float32,\n",
              " Float32,\n",
              " String,\n",
              " String,\n",
              " String]"
            ]
          },
          "execution_count": 8,
          "metadata": {},
          "output_type": "execute_result"
        }
      ],
      "source": [
        "datos_pagina.dtypes"
      ]
    },
    {
      "cell_type": "markdown",
      "metadata": {
        "id": "q841UJejVgfv"
      },
      "source": [
        "#### Escritura en parquet"
      ]
    },
    {
      "cell_type": "code",
      "execution_count": null,
      "metadata": {
        "id": "6gXjQUFXVgfw"
      },
      "outputs": [],
      "source": [
        "datos_pagina.write_parquet(\"c:\\\\Users\\\\nib1l\\\\Downloads\\\\datos.parquet\")"
      ]
    },
    {
      "cell_type": "markdown",
      "metadata": {
        "id": "uM-zpwOFVgfw"
      },
      "source": [
        "#### Lectura de parquet"
      ]
    },
    {
      "cell_type": "code",
      "execution_count": null,
      "metadata": {
        "id": "ITUZ1-ySVgfw",
        "outputId": "4b536ee2-f55f-4b10-a8a1-9b7ee9c3416e"
      },
      "outputs": [
        {
          "data": {
            "text/html": [
              "<div><style>\n",
              ".dataframe > thead > tr,\n",
              ".dataframe > tbody > tr {\n",
              "  text-align: right;\n",
              "  white-space: pre-wrap;\n",
              "}\n",
              "</style>\n",
              "<small>shape: (5, 67)</small><table border=\"1\" class=\"dataframe\"><thead><tr><th>nombre_entidad</th><th>nit_entidad</th><th>departamento</th><th>ciudad</th><th>localizaci_n</th><th>orden</th><th>sector</th><th>rama</th><th>entidad_centralizada</th><th>proceso_de_compra</th><th>id_contrato</th><th>referencia_del_contrato</th><th>estado_contrato</th><th>codigo_de_categoria_principal</th><th>descripcion_del_proceso</th><th>tipo_de_contrato</th><th>modalidad_de_contratacion</th><th>justificacion_modalidad_de</th><th>fecha_de_firma</th><th>fecha_de_inicio_del_contrato</th><th>fecha_de_fin_del_contrato</th><th>condiciones_de_entrega</th><th>tipodocproveedor</th><th>documento_proveedor</th><th>proveedor_adjudicado</th><th>es_grupo</th><th>es_pyme</th><th>habilita_pago_adelantado</th><th>liquidaci_n</th><th>obligaci_n_ambiental</th><th>obligaciones_postconsumo</th><th>reversion</th><th>origen_de_los_recursos</th><th>destino_gasto</th><th>valor_del_contrato</th><th>valor_de_pago_adelantado</th><th>valor_facturado</th><th>valor_pendiente_de_pago</th><th>valor_pagado</th><th>valor_amortizado</th><th>valor_pendiente_de</th><th>valor_pendiente_de_ejecucion</th><th>estado_bpin</th><th>c_digo_bpin</th><th>anno_bpin</th><th>saldo_cdp</th><th>saldo_vigencia</th><th>espostconflicto</th><th>dias_adicionados</th><th>puntos_del_acuerdo</th><th>pilares_del_acuerdo</th><th>urlproceso</th><th>nombre_representante_legal</th><th>nacionalidad_representante_legal</th><th>domicilio_representante_legal</th><th>tipo_de_identificaci_n_representante_legal</th><th>identificaci_n_representante_legal</th><th>g_nero_representante_legal</th><th>presupuesto_general_de_la_nacion_pgn</th><th>sistema_general_de_participaciones</th><th>sistema_general_de_regal_as</th><th>recursos_propios_alcald_as_gobernaciones_y_resguardos_ind_genas_</th><th>recursos_de_credito</th><th>recursos_propios</th><th>codigo_entidad</th><th>codigo_proveedor</th><th>objeto_del_contrato</th></tr><tr><td>str</td><td>f32</td><td>str</td><td>str</td><td>str</td><td>str</td><td>str</td><td>str</td><td>str</td><td>str</td><td>str</td><td>str</td><td>str</td><td>str</td><td>str</td><td>str</td><td>str</td><td>str</td><td>datetime[ns]</td><td>datetime[ns]</td><td>datetime[ns]</td><td>str</td><td>str</td><td>str</td><td>str</td><td>str</td><td>str</td><td>str</td><td>str</td><td>str</td><td>str</td><td>str</td><td>str</td><td>str</td><td>f32</td><td>f32</td><td>f32</td><td>f32</td><td>f32</td><td>f32</td><td>f32</td><td>f32</td><td>str</td><td>str</td><td>str</td><td>f32</td><td>f32</td><td>str</td><td>f32</td><td>str</td><td>str</td><td>struct[1]</td><td>str</td><td>str</td><td>str</td><td>str</td><td>str</td><td>str</td><td>f32</td><td>f32</td><td>f32</td><td>f32</td><td>f32</td><td>f32</td><td>str</td><td>str</td><td>str</td></tr></thead><tbody><tr><td>&quot;SECRETARIA DE …</td><td>8.9040e9</td><td>&quot;Valle del Cauc…</td><td>&quot;Cali&quot;</td><td>&quot;Colombia,  Val…</td><td>&quot;Territorial&quot;</td><td>&quot;Servicio Públi…</td><td>&quot;Ejecutivo&quot;</td><td>&quot;Centralizada&quot;</td><td>&quot;CO1.BDOS.21648…</td><td>&quot;CO1.PCCNTR.275…</td><td>&quot;1.310.02-59.2-…</td><td>&quot;En ejecución&quot;</td><td>&quot;V1.72141003&quot;</td><td>&quot;Prestación de …</td><td>&quot;Prestación de …</td><td>&quot;Contratación d…</td><td>&quot;Servicios prof…</td><td>2021-08-12 00:00:00</td><td>2021-08-17 00:00:00</td><td>2021-12-31 00:00:00</td><td>&quot;A convenir&quot;</td><td>&quot;Cédula de Ciud…</td><td>&quot;34317568&quot;</td><td>&quot;Victoria Eugen…</td><td>&quot;No&quot;</td><td>&quot;No&quot;</td><td>&quot;No&quot;</td><td>&quot;No&quot;</td><td>&quot;No&quot;</td><td>&quot;No&quot;</td><td>&quot;No&quot;</td><td>&quot;Distribuido&quot;</td><td>&quot;Inversión&quot;</td><td>1.65e7</td><td>0.0</td><td>1.65e7</td><td>0.0</td><td>1.65e7</td><td>0.0</td><td>0.0</td><td>0.0</td><td>&quot;Válido&quot;</td><td>&quot;2020003760195&quot;</td><td>&quot;2023&quot;</td><td>1.5365e9</td><td>0.0</td><td>&quot;No&quot;</td><td>0.0</td><td>&quot;No aplica&quot;</td><td>&quot;No aplica&quot;</td><td>{&quot;https://community.secop.gov.co/Public/Tendering/OpportunityDetail/Index?noticeUID=CO1.NTC.2168642&amp;isFromPublicArea=True&amp;isModal=true&amp;asPopupView=true&quot;}</td><td>&quot;Victoria Eugen…</td><td>&quot;CO&quot;</td><td>&quot;No Definido&quot;</td><td>&quot;Sin Descripcio…</td><td>&quot;Sin Descripcio…</td><td>&quot;No Definido&quot;</td><td>0.0</td><td>0.0</td><td>0.0</td><td>1.65e7</td><td>0.0</td><td>0.0</td><td>&quot;709412027&quot;</td><td>&quot;710837337&quot;</td><td>&quot;Prestación de …</td></tr><tr><td>&quot;INSTITUCIÓN UN…</td><td>8.9098016e8</td><td>&quot;Antioquia&quot;</td><td>&quot;Medellín&quot;</td><td>&quot;Colombia,  Ant…</td><td>&quot;Territorial&quot;</td><td>&quot;Educación Naci…</td><td>&quot;Ejecutivo&quot;</td><td>&quot;Centralizada&quot;</td><td>&quot;CO1.BDOS.30981…</td><td>&quot;CO1.PCCNTR.387…</td><td>&quot;CMA-CD-9797-94…</td><td>&quot;En ejecución&quot;</td><td>&quot;V1.80111600&quot;</td><td>&quot;El Contratista…</td><td>&quot;Prestación de …</td><td>&quot;Contratación d…</td><td>&quot;Servicios prof…</td><td>2022-08-03 00:00:00</td><td>2022-08-04 00:00:00</td><td>2023-01-01 00:00:00</td><td>&quot;No Definido&quot;</td><td>&quot;Cédula de Ciud…</td><td>&quot;8356403&quot;</td><td>&quot;GUSTAVO ADOLFO…</td><td>&quot;No&quot;</td><td>&quot;No&quot;</td><td>&quot;No&quot;</td><td>&quot;No&quot;</td><td>&quot;No&quot;</td><td>&quot;No&quot;</td><td>&quot;No&quot;</td><td>&quot;Distribuido&quot;</td><td>&quot;Funcionamiento…</td><td>1.096155e7</td><td>0.0</td><td>1.096155e7</td><td>0.0</td><td>1.096155e7</td><td>0.0</td><td>0.0</td><td>0.0</td><td>&quot;No Válido&quot;</td><td>&quot;No Definido&quot;</td><td>&quot;No D&quot;</td><td>4.2622e9</td><td>0.0</td><td>&quot;No&quot;</td><td>0.0</td><td>&quot;No aplica&quot;</td><td>&quot;No aplica&quot;</td><td>{&quot;https://community.secop.gov.co/Public/Tendering/OpportunityDetail/Index?noticeUID=CO1.NTC.3100647&amp;isFromPublicArea=True&amp;isModal=true&amp;asPopupView=true&quot;}</td><td>&quot;GUSTAVO ADOLFO…</td><td>&quot;CO&quot;</td><td>&quot;No Definido&quot;</td><td>&quot;Sin Descripcio…</td><td>&quot;Sin Descripcio…</td><td>&quot;No Definido&quot;</td><td>0.0</td><td>0.0</td><td>0.0</td><td>1.096155e7</td><td>0.0</td><td>0.0</td><td>&quot;704629146&quot;</td><td>&quot;714239985&quot;</td><td>&quot;El Contratista…</td></tr><tr><td>&quot;DISTRITO ESPEC…</td><td>8.90102016e8</td><td>&quot;Atlántico&quot;</td><td>&quot;Barranquilla&quot;</td><td>&quot;Colombia,  Atl…</td><td>&quot;Territorial&quot;</td><td>&quot;Servicio Públi…</td><td>&quot;Ejecutivo&quot;</td><td>&quot;Centralizada&quot;</td><td>&quot;CO1.BDOS.16947…</td><td>&quot;CO1.PCCNTR.216…</td><td>&quot;CD-57-2021-045…</td><td>&quot;En ejecución&quot;</td><td>&quot;V1.80111600&quot;</td><td>&quot;PRESTACIÓN DE …</td><td>&quot;Prestación de …</td><td>&quot;Contratación d…</td><td>&quot;Servicios prof…</td><td>2021-01-28 00:00:00</td><td>2021-02-02 00:00:00</td><td>2022-01-01 00:00:00</td><td>&quot;No Definido&quot;</td><td>&quot;Cédula de Ciud…</td><td>&quot;72142696&quot;</td><td>&quot;ANGEL VICENTE …</td><td>&quot;No&quot;</td><td>&quot;No&quot;</td><td>&quot;No&quot;</td><td>&quot;No&quot;</td><td>&quot;No&quot;</td><td>&quot;No&quot;</td><td>&quot;No&quot;</td><td>&quot;Distribuido&quot;</td><td>&quot;Inversión&quot;</td><td>2.023425e7</td><td>0.0</td><td>2.023425e7</td><td>0.0</td><td>2.023425e7</td><td>0.0</td><td>0.0</td><td>0.0</td><td>&quot;Válido&quot;</td><td>&quot;2021080010005&quot;</td><td>&quot;2021&quot;</td><td>2.0023e9</td><td>0.0</td><td>&quot;No&quot;</td><td>0.0</td><td>&quot;No aplica&quot;</td><td>&quot;No aplica&quot;</td><td>{&quot;https://community.secop.gov.co/Public/Tendering/OpportunityDetail/Index?noticeUID=CO1.NTC.1690930&amp;isFromPublicArea=True&amp;isModal=true&amp;asPopupView=true&quot;}</td><td>&quot;ANGEL VICENTE …</td><td>&quot;CO&quot;</td><td>&quot;No Definido&quot;</td><td>&quot;Sin Descripcio…</td><td>&quot;Sin Descripcio…</td><td>&quot;No Definido&quot;</td><td>0.0</td><td>0.0</td><td>0.0</td><td>2.023425e7</td><td>0.0</td><td>0.0</td><td>&quot;702442096&quot;</td><td>&quot;709472161&quot;</td><td>&quot;PRESTACIÓN DE …</td></tr><tr><td>&quot;OPERADORA DIST…</td><td>9.01526656e8</td><td>&quot;Distrito Capit…</td><td>&quot;Bogotá&quot;</td><td>&quot;Colombia, Bogo…</td><td>&quot;Territorial&quot;</td><td>&quot;Transporte&quot;</td><td>&quot;Ejecutivo&quot;</td><td>&quot;Centralizada&quot;</td><td>&quot;CO1.BDOS.47437…</td><td>&quot;CO1.PCCNTR.533…</td><td>&quot;CO1.PCCNTR.533…</td><td>&quot;En ejecución&quot;</td><td>&quot;V1.82151500&quot;</td><td>&quot;PRESTACIÓN DE …</td><td>&quot;Prestación de …</td><td>&quot;Contratación r…</td><td>&quot;Regla aplicabl…</td><td>2023-10-04 00:00:00</td><td>2023-10-26 00:00:00</td><td>2024-01-12 00:00:00</td><td>&quot;A convenir&quot;</td><td>&quot;Cédula de Ciud…</td><td>&quot;53065957&quot;</td><td>&quot;Xiomara Meliss…</td><td>&quot;No&quot;</td><td>&quot;No&quot;</td><td>&quot;No&quot;</td><td>&quot;No&quot;</td><td>&quot;No&quot;</td><td>&quot;No&quot;</td><td>&quot;No&quot;</td><td>&quot;Distribuido&quot;</td><td>&quot;Funcionamiento…</td><td>3.05e7</td><td>0.0</td><td>0.0</td><td>3.05e7</td><td>0.0</td><td>0.0</td><td>0.0</td><td>3.05e7</td><td>&quot;No Válido&quot;</td><td>&quot;No Definido&quot;</td><td>&quot;No D&quot;</td><td>3.05e7</td><td>0.0</td><td>&quot;No&quot;</td><td>0.0</td><td>&quot;No aplica&quot;</td><td>&quot;No aplica&quot;</td><td>{&quot;https://community.secop.gov.co/Public/Tendering/OpportunityDetail/Index?noticeUID=CO1.NTC.4829726&amp;isFromPublicArea=True&amp;isModal=true&amp;asPopupView=true&quot;}</td><td>&quot;Xiomara Meliss…</td><td>&quot;CO&quot;</td><td>&quot;No Definido&quot;</td><td>&quot;Sin Descripcio…</td><td>&quot;Sin Descripcio…</td><td>&quot;Femenino&quot;</td><td>0.0</td><td>0.0</td><td>0.0</td><td>3.05e7</td><td>0.0</td><td>0.0</td><td>&quot;715753901&quot;</td><td>&quot;708941216&quot;</td><td>&quot;PRESTACIÓN DE …</td></tr><tr><td>&quot;COMANDO FAC&quot;</td><td>8.99999104e8</td><td>&quot;Distrito Capit…</td><td>&quot;Bogotá&quot;</td><td>&quot;Colombia, Bogo…</td><td>&quot;Nacional&quot;</td><td>&quot;defensa&quot;</td><td>&quot;Ejecutivo&quot;</td><td>&quot;Centralizada&quot;</td><td>&quot;CO1.BDOS.34296…</td><td>&quot;CO1.PCCNTR.433…</td><td>&quot;157-00-A-COFAC…</td><td>&quot;Modificado&quot;</td><td>&quot;V1.78181800&quot;</td><td>&quot;INSPECCIONES M…</td><td>&quot;Prestación de …</td><td>&quot;Selección Abre…</td><td>&quot;Defensa y segu…</td><td>2022-12-23 00:00:00</td><td>2022-12-27 00:00:00</td><td>2023-12-21 00:00:00</td><td>&quot;DAP - Entregad…</td><td>&quot;No Definido&quot;</td><td>&quot;900346811&quot;</td><td>&quot;AGG MRO&quot;</td><td>&quot;No&quot;</td><td>&quot;Si&quot;</td><td>&quot;No&quot;</td><td>&quot;Si&quot;</td><td>&quot;No&quot;</td><td>&quot;No&quot;</td><td>&quot;No&quot;</td><td>&quot;Distribuido&quot;</td><td>&quot;Inversión&quot;</td><td>3.7080e9</td><td>0.0</td><td>1.2360e9</td><td>2.4720e9</td><td>1.2360e9</td><td>0.0</td><td>0.0</td><td>2.4720e9</td><td>&quot;No Válido&quot;</td><td>&quot;No Definido&quot;</td><td>&quot;No D&quot;</td><td>3.7080e9</td><td>0.0</td><td>&quot;No&quot;</td><td>20.0</td><td>&quot;No aplica&quot;</td><td>&quot;No aplica&quot;</td><td>{&quot;https://community.secop.gov.co/Public/Tendering/OpportunityDetail/Index?noticeUID=CO1.NTC.3524611&amp;isFromPublicArea=True&amp;isModal=true&amp;asPopupView=true&quot;}</td><td>&quot;YOBANY ANDRES …</td><td>&quot;CO&quot;</td><td>&quot;AVENIDA EL DOR…</td><td>&quot;Sin Descripcio…</td><td>&quot;Sin Descripcio…</td><td>&quot;No Definido&quot;</td><td>3.7080e9</td><td>0.0</td><td>0.0</td><td>0.0</td><td>0.0</td><td>0.0</td><td>&quot;700409022&quot;</td><td>&quot;703192971&quot;</td><td>&quot;INSPECCIONES M…</td></tr></tbody></table></div>"
            ],
            "text/plain": [
              "shape: (5, 67)\n",
              "┌───────────┬───────────┬───────────┬───────────┬───┬───────────┬───────────┬───────────┬──────────┐\n",
              "│ nombre_en ┆ nit_entid ┆ departame ┆ ciudad    ┆ … ┆ recursos_ ┆ codigo_en ┆ codigo_pr ┆ objeto_d │\n",
              "│ tidad     ┆ ad        ┆ nto       ┆ ---       ┆   ┆ propios   ┆ tidad     ┆ oveedor   ┆ el_contr │\n",
              "│ ---       ┆ ---       ┆ ---       ┆ str       ┆   ┆ ---       ┆ ---       ┆ ---       ┆ ato      │\n",
              "│ str       ┆ f32       ┆ str       ┆           ┆   ┆ f32       ┆ str       ┆ str       ┆ ---      │\n",
              "│           ┆           ┆           ┆           ┆   ┆           ┆           ┆           ┆ str      │\n",
              "╞═══════════╪═══════════╪═══════════╪═══════════╪═══╪═══════════╪═══════════╪═══════════╪══════════╡\n",
              "│ SECRETARI ┆ 8.9040e9  ┆ Valle del ┆ Cali      ┆ … ┆ 0.0       ┆ 709412027 ┆ 710837337 ┆ Prestaci │\n",
              "│ A DE INFR ┆           ┆ Cauca     ┆           ┆   ┆           ┆           ┆           ┆ ón de    │\n",
              "│ AESTRUCTU ┆           ┆           ┆           ┆   ┆           ┆           ┆           ┆ Servicio │\n",
              "│ RA - …    ┆           ┆           ┆           ┆   ┆           ┆           ┆           ┆ s Profes │\n",
              "│           ┆           ┆           ┆           ┆   ┆           ┆           ┆           ┆ io…      │\n",
              "│ INSTITUCI ┆ 8.9098016 ┆ Antioquia ┆ Medellín  ┆ … ┆ 0.0       ┆ 704629146 ┆ 714239985 ┆ El Contr │\n",
              "│ ÓN UNIVER ┆ e8        ┆           ┆           ┆   ┆           ┆           ┆           ┆ atista   │\n",
              "│ SITARIA   ┆           ┆           ┆           ┆   ┆           ┆           ┆           ┆ de       │\n",
              "│ COLEGI…   ┆           ┆           ┆           ┆   ┆           ┆           ┆           ┆ manera   │\n",
              "│           ┆           ┆           ┆           ┆   ┆           ┆           ┆           ┆ indepen… │\n",
              "│ DISTRITO  ┆ 8.9010201 ┆ Atlántico ┆ Barranqui ┆ … ┆ 0.0       ┆ 702442096 ┆ 709472161 ┆ PRESTACI │\n",
              "│ ESPECIAL  ┆ 6e8       ┆           ┆ lla       ┆   ┆           ┆           ┆           ┆ ÓN DE    │\n",
              "│ INDUSTRIA ┆           ┆           ┆           ┆   ┆           ┆           ┆           ┆ SERVICIO │\n",
              "│ L Y P…    ┆           ┆           ┆           ┆   ┆           ┆           ┆           ┆ S DE     │\n",
              "│           ┆           ┆           ┆           ┆   ┆           ┆           ┆           ┆ APOYO…   │\n",
              "│ OPERADORA ┆ 9.0152665 ┆ Distrito  ┆ Bogotá    ┆ … ┆ 0.0       ┆ 715753901 ┆ 708941216 ┆ PRESTACI │\n",
              "│ DISTRITAL ┆ 6e8       ┆ Capital   ┆           ┆   ┆           ┆           ┆           ┆ ÓN DE    │\n",
              "│ DE TRANSP ┆           ┆ de Bogotá ┆           ┆   ┆           ┆           ┆           ┆ SERVICIO │\n",
              "│ ORT…      ┆           ┆           ┆           ┆   ┆           ┆           ┆           ┆ S PROFES │\n",
              "│           ┆           ┆           ┆           ┆   ┆           ┆           ┆           ┆ IO…      │\n",
              "│ COMANDO   ┆ 8.9999910 ┆ Distrito  ┆ Bogotá    ┆ … ┆ 0.0       ┆ 700409022 ┆ 703192971 ┆ INSPECCI │\n",
              "│ FAC       ┆ 4e8       ┆ Capital   ┆           ┆   ┆           ┆           ┆           ┆ ONES     │\n",
              "│           ┆           ┆ de Bogotá ┆           ┆   ┆           ┆           ┆           ┆ MAYORES  │\n",
              "│           ┆           ┆           ┆           ┆   ┆           ┆           ┆           ┆ PARA LAS │\n",
              "│           ┆           ┆           ┆           ┆   ┆           ┆           ┆           ┆ AE…      │\n",
              "└───────────┴───────────┴───────────┴───────────┴───┴───────────┴───────────┴───────────┴──────────┘"
            ]
          },
          "execution_count": 17,
          "metadata": {},
          "output_type": "execute_result"
        }
      ],
      "source": [
        "datos_pagina = pl.read_parquet(\"c:\\\\Users\\\\nib1l\\\\Downloads\\\\datos.parquet\")\n",
        "datos_pagina.head()"
      ]
    },
    {
      "cell_type": "markdown",
      "metadata": {
        "id": "t2anwCDwVgfw"
      },
      "source": [
        "#### Expresiones Polars\n",
        "Las expresiones en Polars se pueden realizar en secuencia, lo que mejora la legibilidad del código. En este ejemplo, estamos filtrando filas y luego agrupando los resultados"
      ]
    },
    {
      "cell_type": "code",
      "execution_count": null,
      "metadata": {
        "id": "YHu0E3QOVgfw",
        "outputId": "95e12805-5b39-45fc-f46a-e0cf49ca2746"
      },
      "outputs": [
        {
          "name": "stderr",
          "output_type": "stream",
          "text": [
            "C:\\Users\\nib1l\\AppData\\Local\\Temp\\ipykernel_14496\\528025151.py:2: DeprecationWarning: `groupby` is deprecated. It has been renamed to `group_by`.\n",
            "  datos_pagina.filter(pl.col(\"orden\") < 'Territorial').groupby(\"sector\").agg(pl.col('valor_del_contrato').sum())\n"
          ]
        },
        {
          "data": {
            "text/html": [
              "<div><style>\n",
              ".dataframe > thead > tr,\n",
              ".dataframe > tbody > tr {\n",
              "  text-align: right;\n",
              "  white-space: pre-wrap;\n",
              "}\n",
              "</style>\n",
              "<small>shape: (26, 2)</small><table border=\"1\" class=\"dataframe\"><thead><tr><th>sector</th><th>valor_del_contrato</th></tr><tr><td>str</td><td>f32</td></tr></thead><tbody><tr><td>&quot;defensa&quot;</td><td>1.3244e12</td></tr><tr><td>&quot;Cultura&quot;</td><td>8.3392e10</td></tr><tr><td>&quot;Educación Naci…</td><td>2.2017e11</td></tr><tr><td>&quot;Minas y Energí…</td><td>1.2938e11</td></tr><tr><td>&quot;Ciencia Tecnol…</td><td>1.6644e10</td></tr><tr><td>&quot;No aplica/No p…</td><td>3.9165e11</td></tr><tr><td>&quot;Inteligencia E…</td><td>2.7438e9</td></tr><tr><td>&quot;agricultura&quot;</td><td>1.3126e11</td></tr><tr><td>&quot;Relaciones Ext…</td><td>2.2643e10</td></tr><tr><td>&quot;Vivienda, Ciud…</td><td>1.7395e11</td></tr><tr><td>&quot;Transporte&quot;</td><td>1.2464e12</td></tr><tr><td>&quot;interior&quot;</td><td>9.4473e10</td></tr><tr><td>&hellip;</td><td>&hellip;</td></tr><tr><td>&quot;Ley de Justici…</td><td>3.9108e11</td></tr><tr><td>&quot;Ambiente y Des…</td><td>3.3725e11</td></tr><tr><td>&quot;Trabajo&quot;</td><td>2.6314e11</td></tr><tr><td>&quot;Presidencia de…</td><td>1.0351e11</td></tr><tr><td>&quot;Información Es…</td><td>1.0697e11</td></tr><tr><td>&quot;Tecnologías de…</td><td>2.2455e11</td></tr><tr><td>&quot;deportes&quot;</td><td>5.6478e10</td></tr><tr><td>&quot;Industria&quot;</td><td>6.0270e10</td></tr><tr><td>&quot;Salud y Protec…</td><td>1.3362e12</td></tr><tr><td>&quot;Hacienda y Cré…</td><td>1.6204e11</td></tr><tr><td>&quot;Inclusión Soci…</td><td>2.0216e11</td></tr><tr><td>&quot;No Definido&quot;</td><td>1.4e7</td></tr></tbody></table></div>"
            ],
            "text/plain": [
              "shape: (26, 2)\n",
              "┌───────────────────────────────────┬────────────────────┐\n",
              "│ sector                            ┆ valor_del_contrato │\n",
              "│ ---                               ┆ ---                │\n",
              "│ str                               ┆ f32                │\n",
              "╞═══════════════════════════════════╪════════════════════╡\n",
              "│ defensa                           ┆ 1.3244e12          │\n",
              "│ Cultura                           ┆ 8.3392e10          │\n",
              "│ Educación Nacional                ┆ 2.2017e11          │\n",
              "│ Minas y Energía                   ┆ 1.2938e11          │\n",
              "│ …                                 ┆ …                  │\n",
              "│ Salud y Protección Social         ┆ 1.3362e12          │\n",
              "│ Hacienda y Crédito Público        ┆ 1.6204e11          │\n",
              "│ Inclusión Social y Reconciliació… ┆ 2.0216e11          │\n",
              "│ No Definido                       ┆ 1.4e7              │\n",
              "└───────────────────────────────────┴────────────────────┘"
            ]
          },
          "execution_count": 22,
          "metadata": {},
          "output_type": "execute_result"
        }
      ],
      "source": [
        "# Filtrar filas donde la columna 'nrs' sea menor que 4 y luego agrupar por la columna 'groups' y sumar todas las columnas.\n",
        "datos_pagina.filter(pl.col(\"orden\") < 'Territorial').groupby(\"sector\").agg(pl.col('valor_del_contrato').sum())\n"
      ]
    },
    {
      "cell_type": "markdown",
      "metadata": {
        "id": "wfSQZEC_Vgfw"
      },
      "source": [
        "ALgunas de las funciones que son posibles usar son\n",
        "\n",
        "| Función | Descripción |\n",
        "|---------|-------------|\n",
        "| `sum()` | Calcula la suma de los valores de la columna. |\n",
        "| `mean()` | Calcula el promedio de los valores de la columna. |\n",
        "| `min()` | Encuentra el valor mínimo en la columna. |\n",
        "| `max()` | Encuentra el valor máximo en la columna. |\n",
        "| `count()` | Cuenta el número de elementos en la columna. |\n",
        "| `median()` | Calcula la mediana de los valores de la columna. |\n",
        "| `std()` | Calcula la desviación estándar de los valores de la columna. |\n",
        "| `var()` | Calcula la varianza de los valores de la columna. |\n",
        "| `quantile(q)` | Calcula el cuantil (por ejemplo, mediana para `q=0.5`). |\n",
        "| `first()` | Obtiene el primer valor de la columna en un grupo. |\n",
        "| `last()` | Obtiene el último valor de la columna en un grupo. |\n",
        "| `unique()` | Devuelve valores únicos de la columna. |\n",
        "| `list()` | Agrega los valores de la columna en una lista (útil en agrupaciones). |\n",
        "| `sort()` | Ordena los valores de la columna. |\n",
        "| `apply(func)` | Aplica una función personalizada a los valores de la columna. |\n",
        "| `is_null()` | Devuelve una máscara booleana indicando si los valores son nulos. |\n",
        "| `is_not_null()` | Devuelve una máscara booleana indicando si los valores no son nulos. |\n",
        "| `is_finite()` | Comprueba si los valores son finitos. |\n",
        "| `is_infinite()` | Comprueba si los valores son infinitos. |\n",
        "| `clip(min_val, max_val)` | Limita los valores a un rango definido. |\n",
        "| `alias(new_name)` | Renombra la columna (útil en agrupaciones y selecciones). |\n"
      ]
    },
    {
      "cell_type": "markdown",
      "metadata": {
        "id": "zk--RcTqVgfw"
      },
      "source": [
        "#### Múltiples filtros"
      ]
    },
    {
      "cell_type": "code",
      "execution_count": null,
      "metadata": {
        "id": "kUYE2slTVgfw",
        "outputId": "45e58c51-6b08-46eb-ba4c-0ce7c17b9314"
      },
      "outputs": [
        {
          "data": {
            "text/html": [
              "<div><style>\n",
              ".dataframe > thead > tr,\n",
              ".dataframe > tbody > tr {\n",
              "  text-align: right;\n",
              "  white-space: pre-wrap;\n",
              "}\n",
              "</style>\n",
              "<small>shape: (5, 67)</small><table border=\"1\" class=\"dataframe\"><thead><tr><th>nombre_entidad</th><th>nit_entidad</th><th>departamento</th><th>ciudad</th><th>localizaci_n</th><th>orden</th><th>sector</th><th>rama</th><th>entidad_centralizada</th><th>proceso_de_compra</th><th>id_contrato</th><th>referencia_del_contrato</th><th>estado_contrato</th><th>codigo_de_categoria_principal</th><th>descripcion_del_proceso</th><th>tipo_de_contrato</th><th>modalidad_de_contratacion</th><th>justificacion_modalidad_de</th><th>fecha_de_firma</th><th>fecha_de_inicio_del_contrato</th><th>fecha_de_fin_del_contrato</th><th>condiciones_de_entrega</th><th>tipodocproveedor</th><th>documento_proveedor</th><th>proveedor_adjudicado</th><th>es_grupo</th><th>es_pyme</th><th>habilita_pago_adelantado</th><th>liquidaci_n</th><th>obligaci_n_ambiental</th><th>obligaciones_postconsumo</th><th>reversion</th><th>origen_de_los_recursos</th><th>destino_gasto</th><th>valor_del_contrato</th><th>valor_de_pago_adelantado</th><th>valor_facturado</th><th>valor_pendiente_de_pago</th><th>valor_pagado</th><th>valor_amortizado</th><th>valor_pendiente_de</th><th>valor_pendiente_de_ejecucion</th><th>estado_bpin</th><th>c_digo_bpin</th><th>anno_bpin</th><th>saldo_cdp</th><th>saldo_vigencia</th><th>espostconflicto</th><th>dias_adicionados</th><th>puntos_del_acuerdo</th><th>pilares_del_acuerdo</th><th>urlproceso</th><th>nombre_representante_legal</th><th>nacionalidad_representante_legal</th><th>domicilio_representante_legal</th><th>tipo_de_identificaci_n_representante_legal</th><th>identificaci_n_representante_legal</th><th>g_nero_representante_legal</th><th>presupuesto_general_de_la_nacion_pgn</th><th>sistema_general_de_participaciones</th><th>sistema_general_de_regal_as</th><th>recursos_propios_alcald_as_gobernaciones_y_resguardos_ind_genas_</th><th>recursos_de_credito</th><th>recursos_propios</th><th>codigo_entidad</th><th>codigo_proveedor</th><th>objeto_del_contrato</th></tr><tr><td>str</td><td>f32</td><td>str</td><td>str</td><td>str</td><td>str</td><td>str</td><td>str</td><td>str</td><td>str</td><td>str</td><td>str</td><td>str</td><td>str</td><td>str</td><td>str</td><td>str</td><td>str</td><td>datetime[ns]</td><td>datetime[ns]</td><td>datetime[ns]</td><td>str</td><td>str</td><td>str</td><td>str</td><td>str</td><td>str</td><td>str</td><td>str</td><td>str</td><td>str</td><td>str</td><td>str</td><td>str</td><td>f32</td><td>f32</td><td>f32</td><td>f32</td><td>f32</td><td>f32</td><td>f32</td><td>f32</td><td>str</td><td>str</td><td>str</td><td>f32</td><td>f32</td><td>str</td><td>f32</td><td>str</td><td>str</td><td>struct[1]</td><td>str</td><td>str</td><td>str</td><td>str</td><td>str</td><td>str</td><td>f32</td><td>f32</td><td>f32</td><td>f32</td><td>f32</td><td>f32</td><td>str</td><td>str</td><td>str</td></tr></thead><tbody><tr><td>&quot;SECRETARIA DE …</td><td>8.9040e9</td><td>&quot;Valle del Cauc…</td><td>&quot;Cali&quot;</td><td>&quot;Colombia,  Val…</td><td>&quot;Territorial&quot;</td><td>&quot;Servicio Públi…</td><td>&quot;Ejecutivo&quot;</td><td>&quot;Centralizada&quot;</td><td>&quot;CO1.BDOS.21648…</td><td>&quot;CO1.PCCNTR.275…</td><td>&quot;1.310.02-59.2-…</td><td>&quot;En ejecución&quot;</td><td>&quot;V1.72141003&quot;</td><td>&quot;Prestación de …</td><td>&quot;Prestación de …</td><td>&quot;Contratación d…</td><td>&quot;Servicios prof…</td><td>2021-08-12 00:00:00</td><td>2021-08-17 00:00:00</td><td>2021-12-31 00:00:00</td><td>&quot;A convenir&quot;</td><td>&quot;Cédula de Ciud…</td><td>&quot;34317568&quot;</td><td>&quot;Victoria Eugen…</td><td>&quot;No&quot;</td><td>&quot;No&quot;</td><td>&quot;No&quot;</td><td>&quot;No&quot;</td><td>&quot;No&quot;</td><td>&quot;No&quot;</td><td>&quot;No&quot;</td><td>&quot;Distribuido&quot;</td><td>&quot;Inversión&quot;</td><td>1.65e7</td><td>0.0</td><td>1.65e7</td><td>0.0</td><td>1.65e7</td><td>0.0</td><td>0.0</td><td>0.0</td><td>&quot;Válido&quot;</td><td>&quot;2020003760195&quot;</td><td>&quot;2023&quot;</td><td>1.5365e9</td><td>0.0</td><td>&quot;No&quot;</td><td>0.0</td><td>&quot;No aplica&quot;</td><td>&quot;No aplica&quot;</td><td>{&quot;https://community.secop.gov.co/Public/Tendering/OpportunityDetail/Index?noticeUID=CO1.NTC.2168642&amp;isFromPublicArea=True&amp;isModal=true&amp;asPopupView=true&quot;}</td><td>&quot;Victoria Eugen…</td><td>&quot;CO&quot;</td><td>&quot;No Definido&quot;</td><td>&quot;Sin Descripcio…</td><td>&quot;Sin Descripcio…</td><td>&quot;No Definido&quot;</td><td>0.0</td><td>0.0</td><td>0.0</td><td>1.65e7</td><td>0.0</td><td>0.0</td><td>&quot;709412027&quot;</td><td>&quot;710837337&quot;</td><td>&quot;Prestación de …</td></tr><tr><td>&quot;SANTIAGO DE CA…</td><td>8.9039904e8</td><td>&quot;Valle del Cauc…</td><td>&quot;Cali&quot;</td><td>&quot;Colombia,  Val…</td><td>&quot;Territorial&quot;</td><td>&quot;No aplica/No p…</td><td>&quot;Ejecutivo&quot;</td><td>&quot;Centralizada&quot;</td><td>&quot;CO1.BDOS.21297…</td><td>&quot;CO1.PCCNTR.271…</td><td>&quot;4164.010.26.1.…</td><td>&quot;Cerrado&quot;</td><td>&quot;V1.80111500&quot;</td><td>&quot;Prestación de …</td><td>&quot;Prestación de …</td><td>&quot;Contratación d…</td><td>&quot;Servicios prof…</td><td>2021-07-28 00:00:00</td><td>2021-07-29 00:00:00</td><td>2021-10-15 00:00:00</td><td>&quot;A convenir&quot;</td><td>&quot;Cédula de Ciud…</td><td>&quot;1143847407&quot;</td><td>&quot;DANIELA JOANNA…</td><td>&quot;No&quot;</td><td>&quot;No&quot;</td><td>&quot;No&quot;</td><td>&quot;No&quot;</td><td>&quot;No&quot;</td><td>&quot;No&quot;</td><td>&quot;No&quot;</td><td>&quot;Distribuido&quot;</td><td>&quot;Inversión&quot;</td><td>9.462e6</td><td>0.0</td><td>0.0</td><td>9.462e6</td><td>0.0</td><td>0.0</td><td>0.0</td><td>9.462e6</td><td>&quot;Válido&quot;</td><td>&quot;2020760010096&quot;</td><td>&quot;2023&quot;</td><td>9.462e6</td><td>0.0</td><td>&quot;No&quot;</td><td>0.0</td><td>&quot;No aplica&quot;</td><td>&quot;No aplica&quot;</td><td>{&quot;https://community.secop.gov.co/Public/Tendering/OpportunityDetail/Index?noticeUID=CO1.NTC.2131537&amp;isFromPublicArea=True&amp;isModal=true&amp;asPopupView=true&quot;}</td><td>&quot;DANIELA JOANNA…</td><td>&quot;CO&quot;</td><td>&quot;No Definido&quot;</td><td>&quot;Sin Descripcio…</td><td>&quot;Sin Descripcio…</td><td>&quot;No Definido&quot;</td><td>0.0</td><td>0.0</td><td>0.0</td><td>9.462e6</td><td>0.0</td><td>0.0</td><td>&quot;702364142&quot;</td><td>&quot;709444681&quot;</td><td>&quot;Prestación de …</td></tr><tr><td>&quot;INSTITUTO DEL …</td><td>8.05012864e8</td><td>&quot;Valle del Cauc…</td><td>&quot;Cali&quot;</td><td>&quot;Colombia,  Val…</td><td>&quot;Territorial&quot;</td><td>&quot;deportes&quot;</td><td>&quot;Ejecutivo&quot;</td><td>&quot;Centralizada&quot;</td><td>&quot;CO1.BDOS.21903…</td><td>&quot;CO1.PCCNTR.278…</td><td>&quot;IND-21-0898&quot;</td><td>&quot;Cerrado&quot;</td><td>&quot;V1.80111600&quot;</td><td>&quot;PRESTACIÓN DE …</td><td>&quot;Prestación de …</td><td>&quot;Contratación d…</td><td>&quot;Servicios prof…</td><td>2021-08-25 00:00:00</td><td>2021-08-26 00:00:00</td><td>2021-12-31 00:00:00</td><td>&quot;Como acordado …</td><td>&quot;Cédula de Ciud…</td><td>&quot;1006011630&quot;</td><td>&quot;MARIA CAMILA P…</td><td>&quot;No&quot;</td><td>&quot;No&quot;</td><td>&quot;No&quot;</td><td>&quot;No&quot;</td><td>&quot;No&quot;</td><td>&quot;No&quot;</td><td>&quot;No&quot;</td><td>&quot;Distribuido&quot;</td><td>&quot;Inversión&quot;</td><td>1e7</td><td>0.0</td><td>0.0</td><td>1e7</td><td>0.0</td><td>0.0</td><td>0.0</td><td>1e7</td><td>&quot;Válido&quot;</td><td>&quot;2021003760171&quot;</td><td>&quot;2021&quot;</td><td>1e7</td><td>0.0</td><td>&quot;No&quot;</td><td>0.0</td><td>&quot;No aplica&quot;</td><td>&quot;No aplica&quot;</td><td>{&quot;https://community.secop.gov.co/Public/Tendering/OpportunityDetail/Index?noticeUID=CO1.NTC.2192943&amp;isFromPublicArea=True&amp;isModal=true&amp;asPopupView=true&quot;}</td><td>&quot;Maria Camila P…</td><td>&quot;CO&quot;</td><td>&quot;No Definido&quot;</td><td>&quot;Sin Descripcio…</td><td>&quot;Sin Descripcio…</td><td>&quot;Femenino&quot;</td><td>0.0</td><td>0.0</td><td>0.0</td><td>1e7</td><td>0.0</td><td>0.0</td><td>&quot;701715203&quot;</td><td>&quot;713663086&quot;</td><td>&quot;PRESTACIÓN DE …</td></tr><tr><td>&quot;SANTIAGO DE CA…</td><td>8.9039904e8</td><td>&quot;Valle del Cauc…</td><td>&quot;Cali&quot;</td><td>&quot;Colombia,  Val…</td><td>&quot;Territorial&quot;</td><td>&quot;No aplica/No p…</td><td>&quot;Ejecutivo&quot;</td><td>&quot;Centralizada&quot;</td><td>&quot;CO1.BDOS.25641…</td><td>&quot;CO1.PCCNTR.324…</td><td>&quot;4163.001.26.1.…</td><td>&quot;Cerrado&quot;</td><td>&quot;V1.80111501&quot;</td><td>&quot;Prestación de …</td><td>&quot;Prestación de …</td><td>&quot;Contratación d…</td><td>&quot;Servicios prof…</td><td>2022-01-15 00:00:00</td><td>2022-01-18 00:00:00</td><td>2022-07-01 00:00:00</td><td>&quot;Como acordado …</td><td>&quot;Cédula de Ciud…</td><td>&quot;1130624927&quot;</td><td>&quot;gustavo adolfo…</td><td>&quot;No&quot;</td><td>&quot;No&quot;</td><td>&quot;No&quot;</td><td>&quot;No&quot;</td><td>&quot;No&quot;</td><td>&quot;No&quot;</td><td>&quot;No&quot;</td><td>&quot;Distribuido&quot;</td><td>&quot;Inversión&quot;</td><td>1.458e7</td><td>0.0</td><td>0.0</td><td>1.458e7</td><td>0.0</td><td>0.0</td><td>0.0</td><td>1.458e7</td><td>&quot;Válido&quot;</td><td>&quot;2020760010473&quot;</td><td>&quot;2022&quot;</td><td>1.458e7</td><td>0.0</td><td>&quot;No&quot;</td><td>0.0</td><td>&quot;No aplica&quot;</td><td>&quot;No aplica&quot;</td><td>{&quot;https://community.secop.gov.co/Public/Tendering/OpportunityDetail/Index?noticeUID=CO1.NTC.2564729&amp;isFromPublicArea=True&amp;isModal=true&amp;asPopupView=true&quot;}</td><td>&quot;gustavo adolfo…</td><td>&quot;CO&quot;</td><td>&quot;No Definido&quot;</td><td>&quot;Sin Descripcio…</td><td>&quot;Sin Descripcio…</td><td>&quot;No Definido&quot;</td><td>0.0</td><td>0.0</td><td>0.0</td><td>1.458e7</td><td>0.0</td><td>0.0</td><td>&quot;702435306&quot;</td><td>&quot;705626869&quot;</td><td>&quot;Prestación de …</td></tr><tr><td>&quot;SANTIAGO DE CA…</td><td>8.9039904e8</td><td>&quot;Valle del Cauc…</td><td>&quot;Cali&quot;</td><td>&quot;Colombia,  Val…</td><td>&quot;Territorial&quot;</td><td>&quot;No aplica/No p…</td><td>&quot;Ejecutivo&quot;</td><td>&quot;Centralizada&quot;</td><td>&quot;CO1.BDOS.16939…</td><td>&quot;CO1.PCCNTR.217…</td><td>&quot;4137.010.26.1.…</td><td>&quot;Cerrado&quot;</td><td>&quot;V1.80111501&quot;</td><td>&quot;Prestar los se…</td><td>&quot;Prestación de …</td><td>&quot;Contratación d…</td><td>&quot;Servicios prof…</td><td>2021-01-27 00:00:00</td><td>2021-01-28 00:00:00</td><td>2021-07-01 00:00:00</td><td>&quot;Como acordado …</td><td>&quot;Cédula de Ciud…</td><td>&quot;14465932&quot;</td><td>&quot;Jose Francisco…</td><td>&quot;No&quot;</td><td>&quot;No&quot;</td><td>&quot;No&quot;</td><td>&quot;No&quot;</td><td>&quot;No&quot;</td><td>&quot;No&quot;</td><td>&quot;No&quot;</td><td>&quot;Distribuido&quot;</td><td>&quot;Inversión&quot;</td><td>3.0324e7</td><td>0.0</td><td>0.0</td><td>3.0324e7</td><td>0.0</td><td>0.0</td><td>0.0</td><td>3.0324e7</td><td>&quot;Válido&quot;</td><td>&quot;2020760010112&quot;</td><td>&quot;2021&quot;</td><td>3.0324e7</td><td>0.0</td><td>&quot;No&quot;</td><td>0.0</td><td>&quot;No aplica&quot;</td><td>&quot;No aplica&quot;</td><td>{&quot;https://community.secop.gov.co/Public/Tendering/OpportunityDetail/Index?noticeUID=CO1.NTC.1697531&amp;isFromPublicArea=True&amp;isModal=true&amp;asPopupView=true&quot;}</td><td>&quot;Jose Francisco…</td><td>&quot;CO&quot;</td><td>&quot;No Definido&quot;</td><td>&quot;Sin Descripcio…</td><td>&quot;Sin Descripcio…</td><td>&quot;No Definido&quot;</td><td>0.0</td><td>0.0</td><td>0.0</td><td>3.0324e7</td><td>0.0</td><td>0.0</td><td>&quot;704025808&quot;</td><td>&quot;705626778&quot;</td><td>&quot;Prestar los se…</td></tr></tbody></table></div>"
            ],
            "text/plain": [
              "shape: (5, 67)\n",
              "┌────────────┬────────────┬───────────┬────────┬───┬───────────┬───────────┬───────────┬───────────┐\n",
              "│ nombre_ent ┆ nit_entida ┆ departame ┆ ciudad ┆ … ┆ recursos_ ┆ codigo_en ┆ codigo_pr ┆ objeto_de │\n",
              "│ idad       ┆ d          ┆ nto       ┆ ---    ┆   ┆ propios   ┆ tidad     ┆ oveedor   ┆ l_contrat │\n",
              "│ ---        ┆ ---        ┆ ---       ┆ str    ┆   ┆ ---       ┆ ---       ┆ ---       ┆ o         │\n",
              "│ str        ┆ f32        ┆ str       ┆        ┆   ┆ f32       ┆ str       ┆ str       ┆ ---       │\n",
              "│            ┆            ┆           ┆        ┆   ┆           ┆           ┆           ┆ str       │\n",
              "╞════════════╪════════════╪═══════════╪════════╪═══╪═══════════╪═══════════╪═══════════╪═══════════╡\n",
              "│ SECRETARIA ┆ 8.9040e9   ┆ Valle del ┆ Cali   ┆ … ┆ 0.0       ┆ 709412027 ┆ 710837337 ┆ Prestació │\n",
              "│ DE INFRAES ┆            ┆ Cauca     ┆        ┆   ┆           ┆           ┆           ┆ n de      │\n",
              "│ TRUCTURA - ┆            ┆           ┆        ┆   ┆           ┆           ┆           ┆ Servicios │\n",
              "│ …          ┆            ┆           ┆        ┆   ┆           ┆           ┆           ┆ Profesio… │\n",
              "│ SANTIAGO   ┆ 8.9039904e ┆ Valle del ┆ Cali   ┆ … ┆ 0.0       ┆ 702364142 ┆ 709444681 ┆ Prestació │\n",
              "│ DE CALI    ┆ 8          ┆ Cauca     ┆        ┆   ┆           ┆           ┆           ┆ n de      │\n",
              "│ DISTRITO   ┆            ┆           ┆        ┆   ┆           ┆           ┆           ┆ servicios │\n",
              "│ ESPECI…    ┆            ┆           ┆        ┆   ┆           ┆           ┆           ┆ de Apoyo… │\n",
              "│ INSTITUTO  ┆ 8.05012864 ┆ Valle del ┆ Cali   ┆ … ┆ 0.0       ┆ 701715203 ┆ 713663086 ┆ PRESTACIÓ │\n",
              "│ DEL        ┆ e8         ┆ Cauca     ┆        ┆   ┆           ┆           ┆           ┆ N DE      │\n",
              "│ DEPORTE,   ┆            ┆           ┆        ┆   ┆           ┆           ┆           ┆ SERVICIOS │\n",
              "│ LA EDUCAC… ┆            ┆           ┆        ┆   ┆           ┆           ┆           ┆ DE APOYO… │\n",
              "│ SANTIAGO   ┆ 8.9039904e ┆ Valle del ┆ Cali   ┆ … ┆ 0.0       ┆ 702435306 ┆ 705626869 ┆ Prestació │\n",
              "│ DE CALI    ┆ 8          ┆ Cauca     ┆        ┆   ┆           ┆           ┆           ┆ n de      │\n",
              "│ DISTRITO   ┆            ┆           ┆        ┆   ┆           ┆           ┆           ┆ servicios │\n",
              "│ ESPECI…    ┆            ┆           ┆        ┆   ┆           ┆           ┆           ┆ de apoyo… │\n",
              "│ SANTIAGO   ┆ 8.9039904e ┆ Valle del ┆ Cali   ┆ … ┆ 0.0       ┆ 704025808 ┆ 705626778 ┆ Prestar   │\n",
              "│ DE CALI    ┆ 8          ┆ Cauca     ┆        ┆   ┆           ┆           ┆           ┆ los       │\n",
              "│ DISTRITO   ┆            ┆           ┆        ┆   ┆           ┆           ┆           ┆ servicios │\n",
              "│ ESPECI…    ┆            ┆           ┆        ┆   ┆           ┆           ┆           ┆ Profesion │\n",
              "│            ┆            ┆           ┆        ┆   ┆           ┆           ┆           ┆ a…        │\n",
              "└────────────┴────────────┴───────────┴────────┴───┴───────────┴───────────┴───────────┴───────────┘"
            ]
          },
          "execution_count": 24,
          "metadata": {},
          "output_type": "execute_result"
        }
      ],
      "source": [
        "datos_pagina.filter((pl.col('orden')=='Territorial') & (pl.col('ciudad')=='Cali')).head()"
      ]
    },
    {
      "cell_type": "markdown",
      "metadata": {
        "id": "ZxsyMsuFVgfw"
      },
      "source": [
        "Por supuesto, aquí tienes la tabla actualizada:\n",
        "\n",
        "| Operador | Descripción                                     |\n",
        "|----------|-------------------------------------------------|\n",
        "| `&`      | Operador lógico `AND` (Y lógico). Combina dos o más condiciones y todas deben ser verdaderas. |\n",
        "| `\\|`      | Operador lógico `OR` (O lógico). Combina dos o más condiciones y al menos una debe ser verdadera. |\n",
        "| `~`      | Operador lógico `NOT` (NO lógico). Niega una condición, invirtiendo su resultado. |\n",
        "\n",
        "Si tienes alguna otra pregunta o necesitas más información, no dudes en preguntar."
      ]
    },
    {
      "cell_type": "markdown",
      "metadata": {
        "id": "Gw6rEqLsVgfw"
      },
      "source": [
        "#### Seleccion de columnas"
      ]
    },
    {
      "cell_type": "code",
      "execution_count": null,
      "metadata": {
        "id": "QgezWQ7DVgfx",
        "outputId": "fe681f31-5c44-4275-b31b-f8cd7928af76"
      },
      "outputs": [
        {
          "data": {
            "text/html": [
              "<div><style>\n",
              ".dataframe > thead > tr,\n",
              ".dataframe > tbody > tr {\n",
              "  text-align: right;\n",
              "  white-space: pre-wrap;\n",
              "}\n",
              "</style>\n",
              "<small>shape: (5, 3)</small><table border=\"1\" class=\"dataframe\"><thead><tr><th>departamento</th><th>ciudad</th><th>valor_del_contrato</th></tr><tr><td>str</td><td>str</td><td>f32</td></tr></thead><tbody><tr><td>&quot;Valle del Cauc…</td><td>&quot;Cali&quot;</td><td>1.65e7</td></tr><tr><td>&quot;Antioquia&quot;</td><td>&quot;Medellín&quot;</td><td>1.096155e7</td></tr><tr><td>&quot;Atlántico&quot;</td><td>&quot;Barranquilla&quot;</td><td>2.023425e7</td></tr><tr><td>&quot;Distrito Capit…</td><td>&quot;Bogotá&quot;</td><td>3.05e7</td></tr><tr><td>&quot;Distrito Capit…</td><td>&quot;Bogotá&quot;</td><td>3.7080e9</td></tr></tbody></table></div>"
            ],
            "text/plain": [
              "shape: (5, 3)\n",
              "┌────────────────────────────┬──────────────┬────────────────────┐\n",
              "│ departamento               ┆ ciudad       ┆ valor_del_contrato │\n",
              "│ ---                        ┆ ---          ┆ ---                │\n",
              "│ str                        ┆ str          ┆ f32                │\n",
              "╞════════════════════════════╪══════════════╪════════════════════╡\n",
              "│ Valle del Cauca            ┆ Cali         ┆ 1.65e7             │\n",
              "│ Antioquia                  ┆ Medellín     ┆ 1.096155e7         │\n",
              "│ Atlántico                  ┆ Barranquilla ┆ 2.023425e7         │\n",
              "│ Distrito Capital de Bogotá ┆ Bogotá       ┆ 3.05e7             │\n",
              "│ Distrito Capital de Bogotá ┆ Bogotá       ┆ 3.7080e9           │\n",
              "└────────────────────────────┴──────────────┴────────────────────┘"
            ]
          },
          "execution_count": 31,
          "metadata": {},
          "output_type": "execute_result"
        }
      ],
      "source": [
        "datos_pagina.select(['departamento','ciudad','valor_del_contrato']).head()"
      ]
    },
    {
      "cell_type": "code",
      "execution_count": null,
      "metadata": {
        "id": "yMaY3_GaVgfx",
        "outputId": "26df2cab-a27b-452c-87c6-cfbdb28cc968"
      },
      "outputs": [
        {
          "data": {
            "text/html": [
              "<div><style>\n",
              ".dataframe > thead > tr,\n",
              ".dataframe > tbody > tr {\n",
              "  text-align: right;\n",
              "  white-space: pre-wrap;\n",
              "}\n",
              "</style>\n",
              "<small>shape: (5, 2)</small><table border=\"1\" class=\"dataframe\"><thead><tr><th>nombre_representante_legal</th><th>nacionalidad_representante_legal</th></tr><tr><td>str</td><td>str</td></tr></thead><tbody><tr><td>&quot;Victoria Eugen…</td><td>&quot;CO&quot;</td></tr><tr><td>&quot;GUSTAVO ADOLFO…</td><td>&quot;CO&quot;</td></tr><tr><td>&quot;ANGEL VICENTE …</td><td>&quot;CO&quot;</td></tr><tr><td>&quot;Xiomara Meliss…</td><td>&quot;CO&quot;</td></tr><tr><td>&quot;YOBANY ANDRES …</td><td>&quot;CO&quot;</td></tr></tbody></table></div>"
            ],
            "text/plain": [
              "shape: (5, 2)\n",
              "┌──────────────────────────────────┬──────────────────────────────────┐\n",
              "│ nombre_representante_legal       ┆ nacionalidad_representante_legal │\n",
              "│ ---                              ┆ ---                              │\n",
              "│ str                              ┆ str                              │\n",
              "╞══════════════════════════════════╪══════════════════════════════════╡\n",
              "│ Victoria Eugenia Gutiérrez Bravo ┆ CO                               │\n",
              "│ GUSTAVO ADOLFO DÁVILA ESCOBAR    ┆ CO                               │\n",
              "│ ANGEL VICENTE HERNANDEZ ALVAREZ  ┆ CO                               │\n",
              "│ Xiomara Melissa Garzón González  ┆ CO                               │\n",
              "│ YOBANY ANDRES SALCEDO CARDENAS   ┆ CO                               │\n",
              "└──────────────────────────────────┴──────────────────────────────────┘"
            ]
          },
          "execution_count": 46,
          "metadata": {},
          "output_type": "execute_result"
        }
      ],
      "source": [
        "datos_pagina.select(pl.col(\"^n.*l$\")).head()"
      ]
    },
    {
      "cell_type": "markdown",
      "metadata": {
        "id": "T19syaSKVgfx"
      },
      "source": [
        "### ¿Qué son las expresiones regulares (regex)?\n",
        "\n",
        "Las expresiones regulares, o regex, son patrones de búsqueda utilizados para coincidir y manipular cadenas de texto. Son extremadamente útiles para realizar tareas como búsqueda, extracción y validación de datos basados en patrones.\n",
        "\n",
        "### Sintaxis básica de regex:\n",
        "\n",
        "- `.`: Coincide con cualquier carácter, excepto un salto de línea.\n",
        "- `*`: Coincide con cero o más repeticiones del carácter anterior.\n",
        "- `+`: Coincide con una o más repeticiones del carácter anterior.\n",
        "- `?`: Coincide con cero o una repetición del carácter anterior.\n",
        "- `\\`: Escapa un carácter especial, permitiendo que se trate literalmente. Por ejemplo, `\\.` coincidirá con un punto literal.\n",
        "- `[]`: Define un conjunto de caracteres. Por ejemplo, `[aeiou]` coincidirá con cualquier vocal.\n",
        "- `[^]`: Define un conjunto de caracteres negados. Por ejemplo, `[^0-9]` coincidirá con cualquier carácter que no sea un dígito.\n",
        "- `|`: Representa una opción. Por ejemplo, `a|b` coincidirá con \"a\" o \"b\".\n",
        "- `()`: Agrupa elementos juntos. Por ejemplo, `(ab)+` coincidirá con \"ab\", \"abab\", etc.\n",
        "- `^`: Coincide con el inicio de una línea o cadena.\n",
        "- `$`: Coincide con el final de una línea o cadena.\n",
        "\n",
        "### Ejemplos de uso:\n",
        "\n",
        "1. **Búsqueda de correos electrónicos**:\n",
        "   - Patrón: `[\\w\\.-]+@[\\w\\.-]+`\n",
        "   - Significado: Coincide con direcciones de correo electrónico válidas.\n",
        "\n",
        "2. **Búsqueda de números de teléfono**:\n",
        "   - Patrón: `\\d{3}-\\d{2}-\\d{4}`\n",
        "   - Significado: Coincide con números de teléfono en formato XXX-XX-XXXX.\n",
        "\n",
        "3. **Extracción de fechas**:\n",
        "   - Patrón: `\\d{2}/\\d{2}/\\d{4}`\n",
        "   - Significado: Coincide con fechas en formato DD/MM/AAAA.\n",
        "\n",
        "4. **Validación de contraseñas seguras**:\n",
        "   - Patrón: `^(?=.*[a-z])(?=.*[A-Z])(?=.*\\d).{8,}$`\n",
        "   - Significado: Valida contraseñas que contengan al menos una minúscula, una mayúscula, un número y tengan al menos 8 caracteres de longitud.\n"
      ]
    },
    {
      "cell_type": "markdown",
      "metadata": {
        "id": "tyi-vTENVgfx"
      },
      "source": [
        "### Ejercicio\n",
        "\n",
        "1. Descargue la información de Secop integrado  de datos abiertos con el id `rpmr-utcd`\n",
        "2. Generé el parquet e indique el tamaño del archivo\n",
        "3. Realice la carga del archivo desde polars solamente seleccionando las variables Municipio Entidad, Estado proceso y Valor Contrato.\n",
        "4. Filtre los municicipos que inician con 'Cal' tome en cuenta este formato `filter(pl.col(\"ciudad\").str.contains(\"formato regex\"))`\n",
        "5. Agrupe por estado del proceso y realice el calculo del promedio del valor del contrato.\n"
      ]
    },
    {
      "cell_type": "markdown",
      "metadata": {
        "id": "0PHz_XI9Vgfx"
      },
      "source": [
        "#### Manejo de nulos"
      ]
    },
    {
      "cell_type": "code",
      "execution_count": null,
      "metadata": {
        "id": "lDZL2fh_Vgf1",
        "outputId": "24d444ec-e3f0-460d-c3c3-275a33bccba3"
      },
      "outputs": [
        {
          "data": {
            "text/html": [
              "<div><style>\n",
              ".dataframe > thead > tr,\n",
              ".dataframe > tbody > tr {\n",
              "  text-align: right;\n",
              "  white-space: pre-wrap;\n",
              "}\n",
              "</style>\n",
              "<small>shape: (5, 67)</small><table border=\"1\" class=\"dataframe\"><thead><tr><th>nombre_entidad</th><th>nit_entidad</th><th>departamento</th><th>ciudad</th><th>localizaci_n</th><th>orden</th><th>sector</th><th>rama</th><th>entidad_centralizada</th><th>proceso_de_compra</th><th>id_contrato</th><th>referencia_del_contrato</th><th>estado_contrato</th><th>codigo_de_categoria_principal</th><th>descripcion_del_proceso</th><th>tipo_de_contrato</th><th>modalidad_de_contratacion</th><th>justificacion_modalidad_de</th><th>fecha_de_firma</th><th>fecha_de_inicio_del_contrato</th><th>fecha_de_fin_del_contrato</th><th>condiciones_de_entrega</th><th>tipodocproveedor</th><th>documento_proveedor</th><th>proveedor_adjudicado</th><th>es_grupo</th><th>es_pyme</th><th>habilita_pago_adelantado</th><th>liquidaci_n</th><th>obligaci_n_ambiental</th><th>obligaciones_postconsumo</th><th>reversion</th><th>origen_de_los_recursos</th><th>destino_gasto</th><th>valor_del_contrato</th><th>valor_de_pago_adelantado</th><th>valor_facturado</th><th>valor_pendiente_de_pago</th><th>valor_pagado</th><th>valor_amortizado</th><th>valor_pendiente_de</th><th>valor_pendiente_de_ejecucion</th><th>estado_bpin</th><th>c_digo_bpin</th><th>anno_bpin</th><th>saldo_cdp</th><th>saldo_vigencia</th><th>espostconflicto</th><th>dias_adicionados</th><th>puntos_del_acuerdo</th><th>pilares_del_acuerdo</th><th>urlproceso</th><th>nombre_representante_legal</th><th>nacionalidad_representante_legal</th><th>domicilio_representante_legal</th><th>tipo_de_identificaci_n_representante_legal</th><th>identificaci_n_representante_legal</th><th>g_nero_representante_legal</th><th>presupuesto_general_de_la_nacion_pgn</th><th>sistema_general_de_participaciones</th><th>sistema_general_de_regal_as</th><th>recursos_propios_alcald_as_gobernaciones_y_resguardos_ind_genas_</th><th>recursos_de_credito</th><th>recursos_propios</th><th>codigo_entidad</th><th>codigo_proveedor</th><th>objeto_del_contrato</th></tr><tr><td>str</td><td>f32</td><td>str</td><td>str</td><td>str</td><td>str</td><td>str</td><td>str</td><td>str</td><td>str</td><td>str</td><td>str</td><td>str</td><td>str</td><td>str</td><td>str</td><td>str</td><td>str</td><td>datetime[ns]</td><td>datetime[ns]</td><td>datetime[ns]</td><td>str</td><td>str</td><td>str</td><td>str</td><td>str</td><td>str</td><td>str</td><td>str</td><td>str</td><td>str</td><td>str</td><td>str</td><td>str</td><td>f32</td><td>f32</td><td>f32</td><td>f32</td><td>f32</td><td>f32</td><td>f32</td><td>f32</td><td>str</td><td>str</td><td>str</td><td>f32</td><td>f32</td><td>str</td><td>f32</td><td>str</td><td>str</td><td>struct[1]</td><td>str</td><td>str</td><td>str</td><td>str</td><td>str</td><td>str</td><td>f32</td><td>f32</td><td>f32</td><td>f32</td><td>f32</td><td>f32</td><td>str</td><td>str</td><td>str</td></tr></thead><tbody><tr><td>&quot;SECRETARIA DE …</td><td>8.9040e9</td><td>&quot;Valle del Cauc…</td><td>&quot;Cali&quot;</td><td>&quot;Colombia,  Val…</td><td>&quot;Territorial&quot;</td><td>&quot;Servicio Públi…</td><td>&quot;Ejecutivo&quot;</td><td>&quot;Centralizada&quot;</td><td>&quot;CO1.BDOS.21648…</td><td>&quot;CO1.PCCNTR.275…</td><td>&quot;1.310.02-59.2-…</td><td>&quot;En ejecución&quot;</td><td>&quot;V1.72141003&quot;</td><td>&quot;Prestación de …</td><td>&quot;Prestación de …</td><td>&quot;Contratación d…</td><td>&quot;Servicios prof…</td><td>2021-08-12 00:00:00</td><td>2021-08-17 00:00:00</td><td>2021-12-31 00:00:00</td><td>&quot;A convenir&quot;</td><td>&quot;Cédula de Ciud…</td><td>&quot;34317568&quot;</td><td>&quot;Victoria Eugen…</td><td>&quot;No&quot;</td><td>&quot;No&quot;</td><td>&quot;No&quot;</td><td>&quot;No&quot;</td><td>&quot;No&quot;</td><td>&quot;No&quot;</td><td>&quot;No&quot;</td><td>&quot;Distribuido&quot;</td><td>&quot;Inversión&quot;</td><td>1.65e7</td><td>0.0</td><td>1.65e7</td><td>0.0</td><td>1.65e7</td><td>0.0</td><td>0.0</td><td>0.0</td><td>&quot;Válido&quot;</td><td>&quot;2020003760195&quot;</td><td>&quot;2023&quot;</td><td>1.5365e9</td><td>0.0</td><td>&quot;No&quot;</td><td>0.0</td><td>&quot;No aplica&quot;</td><td>&quot;No aplica&quot;</td><td>{&quot;https://community.secop.gov.co/Public/Tendering/OpportunityDetail/Index?noticeUID=CO1.NTC.2168642&amp;isFromPublicArea=True&amp;isModal=true&amp;asPopupView=true&quot;}</td><td>&quot;Victoria Eugen…</td><td>&quot;CO&quot;</td><td>&quot;No Definido&quot;</td><td>&quot;Sin Descripcio…</td><td>&quot;Sin Descripcio…</td><td>&quot;No Definido&quot;</td><td>0.0</td><td>0.0</td><td>0.0</td><td>1.65e7</td><td>0.0</td><td>0.0</td><td>&quot;709412027&quot;</td><td>&quot;710837337&quot;</td><td>&quot;Prestación de …</td></tr><tr><td>&quot;INSTITUCIÓN UN…</td><td>8.9098016e8</td><td>&quot;Antioquia&quot;</td><td>&quot;Medellín&quot;</td><td>&quot;Colombia,  Ant…</td><td>&quot;Territorial&quot;</td><td>&quot;Educación Naci…</td><td>&quot;Ejecutivo&quot;</td><td>&quot;Centralizada&quot;</td><td>&quot;CO1.BDOS.30981…</td><td>&quot;CO1.PCCNTR.387…</td><td>&quot;CMA-CD-9797-94…</td><td>&quot;En ejecución&quot;</td><td>&quot;V1.80111600&quot;</td><td>&quot;El Contratista…</td><td>&quot;Prestación de …</td><td>&quot;Contratación d…</td><td>&quot;Servicios prof…</td><td>2022-08-03 00:00:00</td><td>2022-08-04 00:00:00</td><td>2023-01-01 00:00:00</td><td>&quot;No Definido&quot;</td><td>&quot;Cédula de Ciud…</td><td>&quot;8356403&quot;</td><td>&quot;GUSTAVO ADOLFO…</td><td>&quot;No&quot;</td><td>&quot;No&quot;</td><td>&quot;No&quot;</td><td>&quot;No&quot;</td><td>&quot;No&quot;</td><td>&quot;No&quot;</td><td>&quot;No&quot;</td><td>&quot;Distribuido&quot;</td><td>&quot;Funcionamiento…</td><td>1.096155e7</td><td>0.0</td><td>1.096155e7</td><td>0.0</td><td>1.096155e7</td><td>0.0</td><td>0.0</td><td>0.0</td><td>&quot;No Válido&quot;</td><td>&quot;No Definido&quot;</td><td>&quot;No D&quot;</td><td>4.2622e9</td><td>0.0</td><td>&quot;No&quot;</td><td>0.0</td><td>&quot;No aplica&quot;</td><td>&quot;No aplica&quot;</td><td>{&quot;https://community.secop.gov.co/Public/Tendering/OpportunityDetail/Index?noticeUID=CO1.NTC.3100647&amp;isFromPublicArea=True&amp;isModal=true&amp;asPopupView=true&quot;}</td><td>&quot;GUSTAVO ADOLFO…</td><td>&quot;CO&quot;</td><td>&quot;No Definido&quot;</td><td>&quot;Sin Descripcio…</td><td>&quot;Sin Descripcio…</td><td>&quot;No Definido&quot;</td><td>0.0</td><td>0.0</td><td>0.0</td><td>1.096155e7</td><td>0.0</td><td>0.0</td><td>&quot;704629146&quot;</td><td>&quot;714239985&quot;</td><td>&quot;El Contratista…</td></tr><tr><td>&quot;DISTRITO ESPEC…</td><td>8.90102016e8</td><td>&quot;Atlántico&quot;</td><td>&quot;Barranquilla&quot;</td><td>&quot;Colombia,  Atl…</td><td>&quot;Territorial&quot;</td><td>&quot;Servicio Públi…</td><td>&quot;Ejecutivo&quot;</td><td>&quot;Centralizada&quot;</td><td>&quot;CO1.BDOS.16947…</td><td>&quot;CO1.PCCNTR.216…</td><td>&quot;CD-57-2021-045…</td><td>&quot;En ejecución&quot;</td><td>&quot;V1.80111600&quot;</td><td>&quot;PRESTACIÓN DE …</td><td>&quot;Prestación de …</td><td>&quot;Contratación d…</td><td>&quot;Servicios prof…</td><td>2021-01-28 00:00:00</td><td>2021-02-02 00:00:00</td><td>2022-01-01 00:00:00</td><td>&quot;No Definido&quot;</td><td>&quot;Cédula de Ciud…</td><td>&quot;72142696&quot;</td><td>&quot;ANGEL VICENTE …</td><td>&quot;No&quot;</td><td>&quot;No&quot;</td><td>&quot;No&quot;</td><td>&quot;No&quot;</td><td>&quot;No&quot;</td><td>&quot;No&quot;</td><td>&quot;No&quot;</td><td>&quot;Distribuido&quot;</td><td>&quot;Inversión&quot;</td><td>2.023425e7</td><td>0.0</td><td>2.023425e7</td><td>0.0</td><td>2.023425e7</td><td>0.0</td><td>0.0</td><td>0.0</td><td>&quot;Válido&quot;</td><td>&quot;2021080010005&quot;</td><td>&quot;2021&quot;</td><td>2.0023e9</td><td>0.0</td><td>&quot;No&quot;</td><td>0.0</td><td>&quot;No aplica&quot;</td><td>&quot;No aplica&quot;</td><td>{&quot;https://community.secop.gov.co/Public/Tendering/OpportunityDetail/Index?noticeUID=CO1.NTC.1690930&amp;isFromPublicArea=True&amp;isModal=true&amp;asPopupView=true&quot;}</td><td>&quot;ANGEL VICENTE …</td><td>&quot;CO&quot;</td><td>&quot;No Definido&quot;</td><td>&quot;Sin Descripcio…</td><td>&quot;Sin Descripcio…</td><td>&quot;No Definido&quot;</td><td>0.0</td><td>0.0</td><td>0.0</td><td>2.023425e7</td><td>0.0</td><td>0.0</td><td>&quot;702442096&quot;</td><td>&quot;709472161&quot;</td><td>&quot;PRESTACIÓN DE …</td></tr><tr><td>&quot;OPERADORA DIST…</td><td>9.01526656e8</td><td>&quot;Distrito Capit…</td><td>&quot;Bogotá&quot;</td><td>&quot;Colombia, Bogo…</td><td>&quot;Territorial&quot;</td><td>&quot;Transporte&quot;</td><td>&quot;Ejecutivo&quot;</td><td>&quot;Centralizada&quot;</td><td>&quot;CO1.BDOS.47437…</td><td>&quot;CO1.PCCNTR.533…</td><td>&quot;CO1.PCCNTR.533…</td><td>&quot;En ejecución&quot;</td><td>&quot;V1.82151500&quot;</td><td>&quot;PRESTACIÓN DE …</td><td>&quot;Prestación de …</td><td>&quot;Contratación r…</td><td>&quot;Regla aplicabl…</td><td>2023-10-04 00:00:00</td><td>2023-10-26 00:00:00</td><td>2024-01-12 00:00:00</td><td>&quot;A convenir&quot;</td><td>&quot;Cédula de Ciud…</td><td>&quot;53065957&quot;</td><td>&quot;Xiomara Meliss…</td><td>&quot;No&quot;</td><td>&quot;No&quot;</td><td>&quot;No&quot;</td><td>&quot;No&quot;</td><td>&quot;No&quot;</td><td>&quot;No&quot;</td><td>&quot;No&quot;</td><td>&quot;Distribuido&quot;</td><td>&quot;Funcionamiento…</td><td>3.05e7</td><td>0.0</td><td>0.0</td><td>3.05e7</td><td>0.0</td><td>0.0</td><td>0.0</td><td>3.05e7</td><td>&quot;No Válido&quot;</td><td>&quot;No Definido&quot;</td><td>&quot;No D&quot;</td><td>3.05e7</td><td>0.0</td><td>&quot;No&quot;</td><td>0.0</td><td>&quot;No aplica&quot;</td><td>&quot;No aplica&quot;</td><td>{&quot;https://community.secop.gov.co/Public/Tendering/OpportunityDetail/Index?noticeUID=CO1.NTC.4829726&amp;isFromPublicArea=True&amp;isModal=true&amp;asPopupView=true&quot;}</td><td>&quot;Xiomara Meliss…</td><td>&quot;CO&quot;</td><td>&quot;No Definido&quot;</td><td>&quot;Sin Descripcio…</td><td>&quot;Sin Descripcio…</td><td>&quot;Femenino&quot;</td><td>0.0</td><td>0.0</td><td>0.0</td><td>3.05e7</td><td>0.0</td><td>0.0</td><td>&quot;715753901&quot;</td><td>&quot;708941216&quot;</td><td>&quot;PRESTACIÓN DE …</td></tr><tr><td>&quot;COMANDO FAC&quot;</td><td>8.99999104e8</td><td>&quot;Distrito Capit…</td><td>&quot;Bogotá&quot;</td><td>&quot;Colombia, Bogo…</td><td>&quot;Nacional&quot;</td><td>&quot;defensa&quot;</td><td>&quot;Ejecutivo&quot;</td><td>&quot;Centralizada&quot;</td><td>&quot;CO1.BDOS.34296…</td><td>&quot;CO1.PCCNTR.433…</td><td>&quot;157-00-A-COFAC…</td><td>&quot;Modificado&quot;</td><td>&quot;V1.78181800&quot;</td><td>&quot;INSPECCIONES M…</td><td>&quot;Prestación de …</td><td>&quot;Selección Abre…</td><td>&quot;Defensa y segu…</td><td>2022-12-23 00:00:00</td><td>2022-12-27 00:00:00</td><td>2023-12-21 00:00:00</td><td>&quot;DAP - Entregad…</td><td>&quot;No Definido&quot;</td><td>&quot;900346811&quot;</td><td>&quot;AGG MRO&quot;</td><td>&quot;No&quot;</td><td>&quot;Si&quot;</td><td>&quot;No&quot;</td><td>&quot;Si&quot;</td><td>&quot;No&quot;</td><td>&quot;No&quot;</td><td>&quot;No&quot;</td><td>&quot;Distribuido&quot;</td><td>&quot;Inversión&quot;</td><td>3.7080e9</td><td>0.0</td><td>1.2360e9</td><td>2.4720e9</td><td>1.2360e9</td><td>0.0</td><td>0.0</td><td>2.4720e9</td><td>&quot;No Válido&quot;</td><td>&quot;No Definido&quot;</td><td>&quot;No D&quot;</td><td>3.7080e9</td><td>0.0</td><td>&quot;No&quot;</td><td>20.0</td><td>&quot;No aplica&quot;</td><td>&quot;No aplica&quot;</td><td>{&quot;https://community.secop.gov.co/Public/Tendering/OpportunityDetail/Index?noticeUID=CO1.NTC.3524611&amp;isFromPublicArea=True&amp;isModal=true&amp;asPopupView=true&quot;}</td><td>&quot;YOBANY ANDRES …</td><td>&quot;CO&quot;</td><td>&quot;AVENIDA EL DOR…</td><td>&quot;Sin Descripcio…</td><td>&quot;Sin Descripcio…</td><td>&quot;No Definido&quot;</td><td>3.7080e9</td><td>0.0</td><td>0.0</td><td>0.0</td><td>0.0</td><td>0.0</td><td>&quot;700409022&quot;</td><td>&quot;703192971&quot;</td><td>&quot;INSPECCIONES M…</td></tr></tbody></table></div>"
            ],
            "text/plain": [
              "shape: (5, 67)\n",
              "┌───────────┬───────────┬───────────┬───────────┬───┬───────────┬───────────┬───────────┬──────────┐\n",
              "│ nombre_en ┆ nit_entid ┆ departame ┆ ciudad    ┆ … ┆ recursos_ ┆ codigo_en ┆ codigo_pr ┆ objeto_d │\n",
              "│ tidad     ┆ ad        ┆ nto       ┆ ---       ┆   ┆ propios   ┆ tidad     ┆ oveedor   ┆ el_contr │\n",
              "│ ---       ┆ ---       ┆ ---       ┆ str       ┆   ┆ ---       ┆ ---       ┆ ---       ┆ ato      │\n",
              "│ str       ┆ f32       ┆ str       ┆           ┆   ┆ f32       ┆ str       ┆ str       ┆ ---      │\n",
              "│           ┆           ┆           ┆           ┆   ┆           ┆           ┆           ┆ str      │\n",
              "╞═══════════╪═══════════╪═══════════╪═══════════╪═══╪═══════════╪═══════════╪═══════════╪══════════╡\n",
              "│ SECRETARI ┆ 8.9040e9  ┆ Valle del ┆ Cali      ┆ … ┆ 0.0       ┆ 709412027 ┆ 710837337 ┆ Prestaci │\n",
              "│ A DE INFR ┆           ┆ Cauca     ┆           ┆   ┆           ┆           ┆           ┆ ón de    │\n",
              "│ AESTRUCTU ┆           ┆           ┆           ┆   ┆           ┆           ┆           ┆ Servicio │\n",
              "│ RA - …    ┆           ┆           ┆           ┆   ┆           ┆           ┆           ┆ s Profes │\n",
              "│           ┆           ┆           ┆           ┆   ┆           ┆           ┆           ┆ io…      │\n",
              "│ INSTITUCI ┆ 8.9098016 ┆ Antioquia ┆ Medellín  ┆ … ┆ 0.0       ┆ 704629146 ┆ 714239985 ┆ El Contr │\n",
              "│ ÓN UNIVER ┆ e8        ┆           ┆           ┆   ┆           ┆           ┆           ┆ atista   │\n",
              "│ SITARIA   ┆           ┆           ┆           ┆   ┆           ┆           ┆           ┆ de       │\n",
              "│ COLEGI…   ┆           ┆           ┆           ┆   ┆           ┆           ┆           ┆ manera   │\n",
              "│           ┆           ┆           ┆           ┆   ┆           ┆           ┆           ┆ indepen… │\n",
              "│ DISTRITO  ┆ 8.9010201 ┆ Atlántico ┆ Barranqui ┆ … ┆ 0.0       ┆ 702442096 ┆ 709472161 ┆ PRESTACI │\n",
              "│ ESPECIAL  ┆ 6e8       ┆           ┆ lla       ┆   ┆           ┆           ┆           ┆ ÓN DE    │\n",
              "│ INDUSTRIA ┆           ┆           ┆           ┆   ┆           ┆           ┆           ┆ SERVICIO │\n",
              "│ L Y P…    ┆           ┆           ┆           ┆   ┆           ┆           ┆           ┆ S DE     │\n",
              "│           ┆           ┆           ┆           ┆   ┆           ┆           ┆           ┆ APOYO…   │\n",
              "│ OPERADORA ┆ 9.0152665 ┆ Distrito  ┆ Bogotá    ┆ … ┆ 0.0       ┆ 715753901 ┆ 708941216 ┆ PRESTACI │\n",
              "│ DISTRITAL ┆ 6e8       ┆ Capital   ┆           ┆   ┆           ┆           ┆           ┆ ÓN DE    │\n",
              "│ DE TRANSP ┆           ┆ de Bogotá ┆           ┆   ┆           ┆           ┆           ┆ SERVICIO │\n",
              "│ ORT…      ┆           ┆           ┆           ┆   ┆           ┆           ┆           ┆ S PROFES │\n",
              "│           ┆           ┆           ┆           ┆   ┆           ┆           ┆           ┆ IO…      │\n",
              "│ COMANDO   ┆ 8.9999910 ┆ Distrito  ┆ Bogotá    ┆ … ┆ 0.0       ┆ 700409022 ┆ 703192971 ┆ INSPECCI │\n",
              "│ FAC       ┆ 4e8       ┆ Capital   ┆           ┆   ┆           ┆           ┆           ┆ ONES     │\n",
              "│           ┆           ┆ de Bogotá ┆           ┆   ┆           ┆           ┆           ┆ MAYORES  │\n",
              "│           ┆           ┆           ┆           ┆   ┆           ┆           ┆           ┆ PARA LAS │\n",
              "│           ┆           ┆           ┆           ┆   ┆           ┆           ┆           ┆ AE…      │\n",
              "└───────────┴───────────┴───────────┴───────────┴───┴───────────┴───────────┴───────────┴──────────┘"
            ]
          },
          "execution_count": 60,
          "metadata": {},
          "output_type": "execute_result"
        }
      ],
      "source": [
        "datos_pagina.drop_nulls().head()"
      ]
    },
    {
      "cell_type": "code",
      "execution_count": null,
      "metadata": {
        "id": "OzvOS0fSVgf1",
        "outputId": "4223c1ea-1f61-4f9e-ccd3-eb502f64bb22"
      },
      "outputs": [
        {
          "data": {
            "text/html": [
              "<div><style>\n",
              ".dataframe > thead > tr,\n",
              ".dataframe > tbody > tr {\n",
              "  text-align: right;\n",
              "  white-space: pre-wrap;\n",
              "}\n",
              "</style>\n",
              "<small>shape: (5, 67)</small><table border=\"1\" class=\"dataframe\"><thead><tr><th>nombre_entidad</th><th>nit_entidad</th><th>departamento</th><th>ciudad</th><th>localizaci_n</th><th>orden</th><th>sector</th><th>rama</th><th>entidad_centralizada</th><th>proceso_de_compra</th><th>id_contrato</th><th>referencia_del_contrato</th><th>estado_contrato</th><th>codigo_de_categoria_principal</th><th>descripcion_del_proceso</th><th>tipo_de_contrato</th><th>modalidad_de_contratacion</th><th>justificacion_modalidad_de</th><th>fecha_de_firma</th><th>fecha_de_inicio_del_contrato</th><th>fecha_de_fin_del_contrato</th><th>condiciones_de_entrega</th><th>tipodocproveedor</th><th>documento_proveedor</th><th>proveedor_adjudicado</th><th>es_grupo</th><th>es_pyme</th><th>habilita_pago_adelantado</th><th>liquidaci_n</th><th>obligaci_n_ambiental</th><th>obligaciones_postconsumo</th><th>reversion</th><th>origen_de_los_recursos</th><th>destino_gasto</th><th>valor_del_contrato</th><th>valor_de_pago_adelantado</th><th>valor_facturado</th><th>valor_pendiente_de_pago</th><th>valor_pagado</th><th>valor_amortizado</th><th>valor_pendiente_de</th><th>valor_pendiente_de_ejecucion</th><th>estado_bpin</th><th>c_digo_bpin</th><th>anno_bpin</th><th>saldo_cdp</th><th>saldo_vigencia</th><th>espostconflicto</th><th>dias_adicionados</th><th>puntos_del_acuerdo</th><th>pilares_del_acuerdo</th><th>urlproceso</th><th>nombre_representante_legal</th><th>nacionalidad_representante_legal</th><th>domicilio_representante_legal</th><th>tipo_de_identificaci_n_representante_legal</th><th>identificaci_n_representante_legal</th><th>g_nero_representante_legal</th><th>presupuesto_general_de_la_nacion_pgn</th><th>sistema_general_de_participaciones</th><th>sistema_general_de_regal_as</th><th>recursos_propios_alcald_as_gobernaciones_y_resguardos_ind_genas_</th><th>recursos_de_credito</th><th>recursos_propios</th><th>codigo_entidad</th><th>codigo_proveedor</th><th>objeto_del_contrato</th></tr><tr><td>str</td><td>f32</td><td>str</td><td>str</td><td>str</td><td>str</td><td>str</td><td>str</td><td>str</td><td>str</td><td>str</td><td>str</td><td>str</td><td>str</td><td>str</td><td>str</td><td>str</td><td>str</td><td>datetime[ns]</td><td>datetime[ns]</td><td>datetime[ns]</td><td>str</td><td>str</td><td>str</td><td>str</td><td>str</td><td>str</td><td>str</td><td>str</td><td>str</td><td>str</td><td>str</td><td>str</td><td>str</td><td>f32</td><td>f32</td><td>f32</td><td>f32</td><td>f32</td><td>f32</td><td>f32</td><td>f32</td><td>str</td><td>str</td><td>str</td><td>f32</td><td>f32</td><td>str</td><td>f32</td><td>str</td><td>str</td><td>struct[1]</td><td>str</td><td>str</td><td>str</td><td>str</td><td>str</td><td>str</td><td>f32</td><td>f32</td><td>f32</td><td>f32</td><td>f32</td><td>f32</td><td>str</td><td>str</td><td>str</td></tr></thead><tbody><tr><td>&quot;SECRETARIA DE …</td><td>8.9040e9</td><td>&quot;Valle del Cauc…</td><td>&quot;Cali&quot;</td><td>&quot;Colombia,  Val…</td><td>&quot;Territorial&quot;</td><td>&quot;Servicio Públi…</td><td>&quot;Ejecutivo&quot;</td><td>&quot;Centralizada&quot;</td><td>&quot;CO1.BDOS.21648…</td><td>&quot;CO1.PCCNTR.275…</td><td>&quot;1.310.02-59.2-…</td><td>&quot;En ejecución&quot;</td><td>&quot;V1.72141003&quot;</td><td>&quot;Prestación de …</td><td>&quot;Prestación de …</td><td>&quot;Contratación d…</td><td>&quot;Servicios prof…</td><td>2021-08-12 00:00:00</td><td>2021-08-17 00:00:00</td><td>2021-12-31 00:00:00</td><td>&quot;A convenir&quot;</td><td>&quot;Cédula de Ciud…</td><td>&quot;34317568&quot;</td><td>&quot;Victoria Eugen…</td><td>&quot;No&quot;</td><td>&quot;No&quot;</td><td>&quot;No&quot;</td><td>&quot;No&quot;</td><td>&quot;No&quot;</td><td>&quot;No&quot;</td><td>&quot;No&quot;</td><td>&quot;Distribuido&quot;</td><td>&quot;Inversión&quot;</td><td>1.65e7</td><td>0.0</td><td>1.65e7</td><td>0.0</td><td>1.65e7</td><td>0.0</td><td>0.0</td><td>0.0</td><td>&quot;Válido&quot;</td><td>&quot;2020003760195&quot;</td><td>&quot;2023&quot;</td><td>1.5365e9</td><td>0.0</td><td>&quot;No&quot;</td><td>0.0</td><td>&quot;No aplica&quot;</td><td>&quot;No aplica&quot;</td><td>{&quot;https://community.secop.gov.co/Public/Tendering/OpportunityDetail/Index?noticeUID=CO1.NTC.2168642&amp;isFromPublicArea=True&amp;isModal=true&amp;asPopupView=true&quot;}</td><td>&quot;Victoria Eugen…</td><td>&quot;CO&quot;</td><td>&quot;No Definido&quot;</td><td>&quot;Sin Descripcio…</td><td>&quot;Sin Descripcio…</td><td>&quot;No Definido&quot;</td><td>0.0</td><td>0.0</td><td>0.0</td><td>1.65e7</td><td>0.0</td><td>0.0</td><td>&quot;709412027&quot;</td><td>&quot;710837337&quot;</td><td>&quot;Prestación de …</td></tr><tr><td>&quot;INSTITUCIÓN UN…</td><td>8.9098016e8</td><td>&quot;Antioquia&quot;</td><td>&quot;Medellín&quot;</td><td>&quot;Colombia,  Ant…</td><td>&quot;Territorial&quot;</td><td>&quot;Educación Naci…</td><td>&quot;Ejecutivo&quot;</td><td>&quot;Centralizada&quot;</td><td>&quot;CO1.BDOS.30981…</td><td>&quot;CO1.PCCNTR.387…</td><td>&quot;CMA-CD-9797-94…</td><td>&quot;En ejecución&quot;</td><td>&quot;V1.80111600&quot;</td><td>&quot;El Contratista…</td><td>&quot;Prestación de …</td><td>&quot;Contratación d…</td><td>&quot;Servicios prof…</td><td>2022-08-03 00:00:00</td><td>2022-08-04 00:00:00</td><td>2023-01-01 00:00:00</td><td>&quot;No Definido&quot;</td><td>&quot;Cédula de Ciud…</td><td>&quot;8356403&quot;</td><td>&quot;GUSTAVO ADOLFO…</td><td>&quot;No&quot;</td><td>&quot;No&quot;</td><td>&quot;No&quot;</td><td>&quot;No&quot;</td><td>&quot;No&quot;</td><td>&quot;No&quot;</td><td>&quot;No&quot;</td><td>&quot;Distribuido&quot;</td><td>&quot;Funcionamiento…</td><td>1.096155e7</td><td>0.0</td><td>1.096155e7</td><td>0.0</td><td>1.096155e7</td><td>0.0</td><td>0.0</td><td>0.0</td><td>&quot;No Válido&quot;</td><td>&quot;No Definido&quot;</td><td>&quot;No D&quot;</td><td>4.2622e9</td><td>0.0</td><td>&quot;No&quot;</td><td>0.0</td><td>&quot;No aplica&quot;</td><td>&quot;No aplica&quot;</td><td>{&quot;https://community.secop.gov.co/Public/Tendering/OpportunityDetail/Index?noticeUID=CO1.NTC.3100647&amp;isFromPublicArea=True&amp;isModal=true&amp;asPopupView=true&quot;}</td><td>&quot;GUSTAVO ADOLFO…</td><td>&quot;CO&quot;</td><td>&quot;No Definido&quot;</td><td>&quot;Sin Descripcio…</td><td>&quot;Sin Descripcio…</td><td>&quot;No Definido&quot;</td><td>0.0</td><td>0.0</td><td>0.0</td><td>1.096155e7</td><td>0.0</td><td>0.0</td><td>&quot;704629146&quot;</td><td>&quot;714239985&quot;</td><td>&quot;El Contratista…</td></tr><tr><td>&quot;DISTRITO ESPEC…</td><td>8.90102016e8</td><td>&quot;Atlántico&quot;</td><td>&quot;Barranquilla&quot;</td><td>&quot;Colombia,  Atl…</td><td>&quot;Territorial&quot;</td><td>&quot;Servicio Públi…</td><td>&quot;Ejecutivo&quot;</td><td>&quot;Centralizada&quot;</td><td>&quot;CO1.BDOS.16947…</td><td>&quot;CO1.PCCNTR.216…</td><td>&quot;CD-57-2021-045…</td><td>&quot;En ejecución&quot;</td><td>&quot;V1.80111600&quot;</td><td>&quot;PRESTACIÓN DE …</td><td>&quot;Prestación de …</td><td>&quot;Contratación d…</td><td>&quot;Servicios prof…</td><td>2021-01-28 00:00:00</td><td>2021-02-02 00:00:00</td><td>2022-01-01 00:00:00</td><td>&quot;No Definido&quot;</td><td>&quot;Cédula de Ciud…</td><td>&quot;72142696&quot;</td><td>&quot;ANGEL VICENTE …</td><td>&quot;No&quot;</td><td>&quot;No&quot;</td><td>&quot;No&quot;</td><td>&quot;No&quot;</td><td>&quot;No&quot;</td><td>&quot;No&quot;</td><td>&quot;No&quot;</td><td>&quot;Distribuido&quot;</td><td>&quot;Inversión&quot;</td><td>2.023425e7</td><td>0.0</td><td>2.023425e7</td><td>0.0</td><td>2.023425e7</td><td>0.0</td><td>0.0</td><td>0.0</td><td>&quot;Válido&quot;</td><td>&quot;2021080010005&quot;</td><td>&quot;2021&quot;</td><td>2.0023e9</td><td>0.0</td><td>&quot;No&quot;</td><td>0.0</td><td>&quot;No aplica&quot;</td><td>&quot;No aplica&quot;</td><td>{&quot;https://community.secop.gov.co/Public/Tendering/OpportunityDetail/Index?noticeUID=CO1.NTC.1690930&amp;isFromPublicArea=True&amp;isModal=true&amp;asPopupView=true&quot;}</td><td>&quot;ANGEL VICENTE …</td><td>&quot;CO&quot;</td><td>&quot;No Definido&quot;</td><td>&quot;Sin Descripcio…</td><td>&quot;Sin Descripcio…</td><td>&quot;No Definido&quot;</td><td>0.0</td><td>0.0</td><td>0.0</td><td>2.023425e7</td><td>0.0</td><td>0.0</td><td>&quot;702442096&quot;</td><td>&quot;709472161&quot;</td><td>&quot;PRESTACIÓN DE …</td></tr><tr><td>&quot;OPERADORA DIST…</td><td>9.01526656e8</td><td>&quot;Distrito Capit…</td><td>&quot;Bogotá&quot;</td><td>&quot;Colombia, Bogo…</td><td>&quot;Territorial&quot;</td><td>&quot;Transporte&quot;</td><td>&quot;Ejecutivo&quot;</td><td>&quot;Centralizada&quot;</td><td>&quot;CO1.BDOS.47437…</td><td>&quot;CO1.PCCNTR.533…</td><td>&quot;CO1.PCCNTR.533…</td><td>&quot;En ejecución&quot;</td><td>&quot;V1.82151500&quot;</td><td>&quot;PRESTACIÓN DE …</td><td>&quot;Prestación de …</td><td>&quot;Contratación r…</td><td>&quot;Regla aplicabl…</td><td>2023-10-04 00:00:00</td><td>2023-10-26 00:00:00</td><td>2024-01-12 00:00:00</td><td>&quot;A convenir&quot;</td><td>&quot;Cédula de Ciud…</td><td>&quot;53065957&quot;</td><td>&quot;Xiomara Meliss…</td><td>&quot;No&quot;</td><td>&quot;No&quot;</td><td>&quot;No&quot;</td><td>&quot;No&quot;</td><td>&quot;No&quot;</td><td>&quot;No&quot;</td><td>&quot;No&quot;</td><td>&quot;Distribuido&quot;</td><td>&quot;Funcionamiento…</td><td>3.05e7</td><td>0.0</td><td>0.0</td><td>3.05e7</td><td>0.0</td><td>0.0</td><td>0.0</td><td>3.05e7</td><td>&quot;No Válido&quot;</td><td>&quot;No Definido&quot;</td><td>&quot;No D&quot;</td><td>3.05e7</td><td>0.0</td><td>&quot;No&quot;</td><td>0.0</td><td>&quot;No aplica&quot;</td><td>&quot;No aplica&quot;</td><td>{&quot;https://community.secop.gov.co/Public/Tendering/OpportunityDetail/Index?noticeUID=CO1.NTC.4829726&amp;isFromPublicArea=True&amp;isModal=true&amp;asPopupView=true&quot;}</td><td>&quot;Xiomara Meliss…</td><td>&quot;CO&quot;</td><td>&quot;No Definido&quot;</td><td>&quot;Sin Descripcio…</td><td>&quot;Sin Descripcio…</td><td>&quot;Femenino&quot;</td><td>0.0</td><td>0.0</td><td>0.0</td><td>3.05e7</td><td>0.0</td><td>0.0</td><td>&quot;715753901&quot;</td><td>&quot;708941216&quot;</td><td>&quot;PRESTACIÓN DE …</td></tr><tr><td>&quot;COMANDO FAC&quot;</td><td>8.99999104e8</td><td>&quot;Distrito Capit…</td><td>&quot;Bogotá&quot;</td><td>&quot;Colombia, Bogo…</td><td>&quot;Nacional&quot;</td><td>&quot;defensa&quot;</td><td>&quot;Ejecutivo&quot;</td><td>&quot;Centralizada&quot;</td><td>&quot;CO1.BDOS.34296…</td><td>&quot;CO1.PCCNTR.433…</td><td>&quot;157-00-A-COFAC…</td><td>&quot;Modificado&quot;</td><td>&quot;V1.78181800&quot;</td><td>&quot;INSPECCIONES M…</td><td>&quot;Prestación de …</td><td>&quot;Selección Abre…</td><td>&quot;Defensa y segu…</td><td>2022-12-23 00:00:00</td><td>2022-12-27 00:00:00</td><td>2023-12-21 00:00:00</td><td>&quot;DAP - Entregad…</td><td>&quot;No Definido&quot;</td><td>&quot;900346811&quot;</td><td>&quot;AGG MRO&quot;</td><td>&quot;No&quot;</td><td>&quot;Si&quot;</td><td>&quot;No&quot;</td><td>&quot;Si&quot;</td><td>&quot;No&quot;</td><td>&quot;No&quot;</td><td>&quot;No&quot;</td><td>&quot;Distribuido&quot;</td><td>&quot;Inversión&quot;</td><td>3.7080e9</td><td>0.0</td><td>1.2360e9</td><td>2.4720e9</td><td>1.2360e9</td><td>0.0</td><td>0.0</td><td>2.4720e9</td><td>&quot;No Válido&quot;</td><td>&quot;No Definido&quot;</td><td>&quot;No D&quot;</td><td>3.7080e9</td><td>0.0</td><td>&quot;No&quot;</td><td>20.0</td><td>&quot;No aplica&quot;</td><td>&quot;No aplica&quot;</td><td>{&quot;https://community.secop.gov.co/Public/Tendering/OpportunityDetail/Index?noticeUID=CO1.NTC.3524611&amp;isFromPublicArea=True&amp;isModal=true&amp;asPopupView=true&quot;}</td><td>&quot;YOBANY ANDRES …</td><td>&quot;CO&quot;</td><td>&quot;AVENIDA EL DOR…</td><td>&quot;Sin Descripcio…</td><td>&quot;Sin Descripcio…</td><td>&quot;No Definido&quot;</td><td>3.7080e9</td><td>0.0</td><td>0.0</td><td>0.0</td><td>0.0</td><td>0.0</td><td>&quot;700409022&quot;</td><td>&quot;703192971&quot;</td><td>&quot;INSPECCIONES M…</td></tr></tbody></table></div>"
            ],
            "text/plain": [
              "shape: (5, 67)\n",
              "┌───────────┬───────────┬───────────┬───────────┬───┬───────────┬───────────┬───────────┬──────────┐\n",
              "│ nombre_en ┆ nit_entid ┆ departame ┆ ciudad    ┆ … ┆ recursos_ ┆ codigo_en ┆ codigo_pr ┆ objeto_d │\n",
              "│ tidad     ┆ ad        ┆ nto       ┆ ---       ┆   ┆ propios   ┆ tidad     ┆ oveedor   ┆ el_contr │\n",
              "│ ---       ┆ ---       ┆ ---       ┆ str       ┆   ┆ ---       ┆ ---       ┆ ---       ┆ ato      │\n",
              "│ str       ┆ f32       ┆ str       ┆           ┆   ┆ f32       ┆ str       ┆ str       ┆ ---      │\n",
              "│           ┆           ┆           ┆           ┆   ┆           ┆           ┆           ┆ str      │\n",
              "╞═══════════╪═══════════╪═══════════╪═══════════╪═══╪═══════════╪═══════════╪═══════════╪══════════╡\n",
              "│ SECRETARI ┆ 8.9040e9  ┆ Valle del ┆ Cali      ┆ … ┆ 0.0       ┆ 709412027 ┆ 710837337 ┆ Prestaci │\n",
              "│ A DE INFR ┆           ┆ Cauca     ┆           ┆   ┆           ┆           ┆           ┆ ón de    │\n",
              "│ AESTRUCTU ┆           ┆           ┆           ┆   ┆           ┆           ┆           ┆ Servicio │\n",
              "│ RA - …    ┆           ┆           ┆           ┆   ┆           ┆           ┆           ┆ s Profes │\n",
              "│           ┆           ┆           ┆           ┆   ┆           ┆           ┆           ┆ io…      │\n",
              "│ INSTITUCI ┆ 8.9098016 ┆ Antioquia ┆ Medellín  ┆ … ┆ 0.0       ┆ 704629146 ┆ 714239985 ┆ El Contr │\n",
              "│ ÓN UNIVER ┆ e8        ┆           ┆           ┆   ┆           ┆           ┆           ┆ atista   │\n",
              "│ SITARIA   ┆           ┆           ┆           ┆   ┆           ┆           ┆           ┆ de       │\n",
              "│ COLEGI…   ┆           ┆           ┆           ┆   ┆           ┆           ┆           ┆ manera   │\n",
              "│           ┆           ┆           ┆           ┆   ┆           ┆           ┆           ┆ indepen… │\n",
              "│ DISTRITO  ┆ 8.9010201 ┆ Atlántico ┆ Barranqui ┆ … ┆ 0.0       ┆ 702442096 ┆ 709472161 ┆ PRESTACI │\n",
              "│ ESPECIAL  ┆ 6e8       ┆           ┆ lla       ┆   ┆           ┆           ┆           ┆ ÓN DE    │\n",
              "│ INDUSTRIA ┆           ┆           ┆           ┆   ┆           ┆           ┆           ┆ SERVICIO │\n",
              "│ L Y P…    ┆           ┆           ┆           ┆   ┆           ┆           ┆           ┆ S DE     │\n",
              "│           ┆           ┆           ┆           ┆   ┆           ┆           ┆           ┆ APOYO…   │\n",
              "│ OPERADORA ┆ 9.0152665 ┆ Distrito  ┆ Bogotá    ┆ … ┆ 0.0       ┆ 715753901 ┆ 708941216 ┆ PRESTACI │\n",
              "│ DISTRITAL ┆ 6e8       ┆ Capital   ┆           ┆   ┆           ┆           ┆           ┆ ÓN DE    │\n",
              "│ DE TRANSP ┆           ┆ de Bogotá ┆           ┆   ┆           ┆           ┆           ┆ SERVICIO │\n",
              "│ ORT…      ┆           ┆           ┆           ┆   ┆           ┆           ┆           ┆ S PROFES │\n",
              "│           ┆           ┆           ┆           ┆   ┆           ┆           ┆           ┆ IO…      │\n",
              "│ COMANDO   ┆ 8.9999910 ┆ Distrito  ┆ Bogotá    ┆ … ┆ 0.0       ┆ 700409022 ┆ 703192971 ┆ INSPECCI │\n",
              "│ FAC       ┆ 4e8       ┆ Capital   ┆           ┆   ┆           ┆           ┆           ┆ ONES     │\n",
              "│           ┆           ┆ de Bogotá ┆           ┆   ┆           ┆           ┆           ┆ MAYORES  │\n",
              "│           ┆           ┆           ┆           ┆   ┆           ┆           ┆           ┆ PARA LAS │\n",
              "│           ┆           ┆           ┆           ┆   ┆           ┆           ┆           ┆ AE…      │\n",
              "└───────────┴───────────┴───────────┴───────────┴───┴───────────┴───────────┴───────────┴──────────┘"
            ]
          },
          "execution_count": 61,
          "metadata": {},
          "output_type": "execute_result"
        }
      ],
      "source": [
        " # Eliminar filas con valores nulos\n",
        "datos_pagina.fill_null(42).head()  # Reemplazar valores nulos con 42\n"
      ]
    },
    {
      "cell_type": "markdown",
      "metadata": {
        "id": "oN4HCiMZVgf1"
      },
      "source": [
        "#### Crear columnas"
      ]
    },
    {
      "cell_type": "code",
      "execution_count": null,
      "metadata": {
        "id": "cUg43rpmVgf2",
        "outputId": "0aea79ef-3480-48af-d7cd-1cc9f395d16f"
      },
      "outputs": [
        {
          "data": {
            "text/html": [
              "<div><style>\n",
              ".dataframe > thead > tr,\n",
              ".dataframe > tbody > tr {\n",
              "  text-align: right;\n",
              "  white-space: pre-wrap;\n",
              "}\n",
              "</style>\n",
              "<small>shape: (5, 1)</small><table border=\"1\" class=\"dataframe\"><thead><tr><th>Valor en millones</th></tr><tr><td>f32</td></tr></thead><tbody><tr><td>16.5</td></tr><tr><td>10.96155</td></tr><tr><td>20.234249</td></tr><tr><td>30.5</td></tr><tr><td>3708.0</td></tr></tbody></table></div>"
            ],
            "text/plain": [
              "shape: (5, 1)\n",
              "┌───────────────────┐\n",
              "│ Valor en millones │\n",
              "│ ---               │\n",
              "│ f32               │\n",
              "╞═══════════════════╡\n",
              "│ 16.5              │\n",
              "│ 10.96155          │\n",
              "│ 20.234249         │\n",
              "│ 30.5              │\n",
              "│ 3708.0            │\n",
              "└───────────────────┘"
            ]
          },
          "execution_count": 66,
          "metadata": {},
          "output_type": "execute_result"
        }
      ],
      "source": [
        "datos_pagina.with_columns((pl.col(\"valor_del_contrato\") /1000000).alias(\"Valor en millones\")).select(\"Valor en millones\").head()\n"
      ]
    },
    {
      "cell_type": "code",
      "execution_count": null,
      "metadata": {
        "id": "Q8zNgSBPVgf2",
        "outputId": "2e483f2e-44dd-48dc-9896-692d455073d2"
      },
      "outputs": [
        {
          "name": "stderr",
          "output_type": "stream",
          "text": [
            "C:\\Users\\nib1l\\AppData\\Local\\Temp\\ipykernel_14496\\1863541133.py:5: DeprecationWarning: `lengths` is deprecated. It has been renamed to `len_bytes`.\n",
            "  pl.col(\"ciudad\").str.lengths().alias(\"longitudes_ciudad\"),\n"
          ]
        },
        {
          "data": {
            "text/html": [
              "<div><style>\n",
              ".dataframe > thead > tr,\n",
              ".dataframe > tbody > tr {\n",
              "  text-align: right;\n",
              "  white-space: pre-wrap;\n",
              "}\n",
              "</style>\n",
              "<small>shape: (5, 3)</small><table border=\"1\" class=\"dataframe\"><thead><tr><th>Valor en millones</th><th>ciudad</th><th>longitudes_ciudad</th></tr><tr><td>f32</td><td>str</td><td>u32</td></tr></thead><tbody><tr><td>16.5</td><td>&quot;Cali&quot;</td><td>4</td></tr><tr><td>10.96155</td><td>&quot;Medellín&quot;</td><td>9</td></tr><tr><td>20.234249</td><td>&quot;Barranquilla&quot;</td><td>12</td></tr><tr><td>30.5</td><td>&quot;Bogotá&quot;</td><td>7</td></tr><tr><td>3708.0</td><td>&quot;Bogotá&quot;</td><td>7</td></tr></tbody></table></div>"
            ],
            "text/plain": [
              "shape: (5, 3)\n",
              "┌───────────────────┬──────────────┬───────────────────┐\n",
              "│ Valor en millones ┆ ciudad       ┆ longitudes_ciudad │\n",
              "│ ---               ┆ ---          ┆ ---               │\n",
              "│ f32               ┆ str          ┆ u32               │\n",
              "╞═══════════════════╪══════════════╪═══════════════════╡\n",
              "│ 16.5              ┆ Cali         ┆ 4                 │\n",
              "│ 10.96155          ┆ Medellín     ┆ 9                 │\n",
              "│ 20.234249         ┆ Barranquilla ┆ 12                │\n",
              "│ 30.5              ┆ Bogotá       ┆ 7                 │\n",
              "│ 3708.0            ┆ Bogotá       ┆ 7                 │\n",
              "└───────────────────┴──────────────┴───────────────────┘"
            ]
          },
          "execution_count": 70,
          "metadata": {},
          "output_type": "execute_result"
        }
      ],
      "source": [
        "\n",
        "# Agregar varias columnas nuevas al DataFrame\n",
        "datos_pagina.with_columns(\n",
        "    [\n",
        "        (pl.col(\"valor_del_contrato\") /1000000).alias(\"Valor en millones\"),\n",
        "        pl.col(\"ciudad\").str.lengths().alias(\"longitudes_ciudad\"),\n",
        "    ]\n",
        ").select(['Valor en millones','ciudad','longitudes_ciudad']).head()\n"
      ]
    },
    {
      "cell_type": "code",
      "execution_count": null,
      "metadata": {
        "id": "2cxYc4pEVgf2",
        "outputId": "d96903a0-0635-4752-9263-5613493b65a4"
      },
      "outputs": [
        {
          "name": "stderr",
          "output_type": "stream",
          "text": [
            "C:\\Users\\nib1l\\AppData\\Local\\Temp\\ipykernel_14496\\3527260921.py:2: DeprecationWarning: `with_row_count` is deprecated. Use `with_row_index` instead.Note that the default column name has changed from 'row_nr' to 'index'.\n",
            "  datos_pagina.with_row_count()\n"
          ]
        },
        {
          "data": {
            "text/html": [
              "<div><style>\n",
              ".dataframe > thead > tr,\n",
              ".dataframe > tbody > tr {\n",
              "  text-align: right;\n",
              "  white-space: pre-wrap;\n",
              "}\n",
              "</style>\n",
              "<small>shape: (100_000, 68)</small><table border=\"1\" class=\"dataframe\"><thead><tr><th>row_nr</th><th>nombre_entidad</th><th>nit_entidad</th><th>departamento</th><th>ciudad</th><th>localizaci_n</th><th>orden</th><th>sector</th><th>rama</th><th>entidad_centralizada</th><th>proceso_de_compra</th><th>id_contrato</th><th>referencia_del_contrato</th><th>estado_contrato</th><th>codigo_de_categoria_principal</th><th>descripcion_del_proceso</th><th>tipo_de_contrato</th><th>modalidad_de_contratacion</th><th>justificacion_modalidad_de</th><th>fecha_de_firma</th><th>fecha_de_inicio_del_contrato</th><th>fecha_de_fin_del_contrato</th><th>condiciones_de_entrega</th><th>tipodocproveedor</th><th>documento_proveedor</th><th>proveedor_adjudicado</th><th>es_grupo</th><th>es_pyme</th><th>habilita_pago_adelantado</th><th>liquidaci_n</th><th>obligaci_n_ambiental</th><th>obligaciones_postconsumo</th><th>reversion</th><th>origen_de_los_recursos</th><th>destino_gasto</th><th>valor_del_contrato</th><th>valor_de_pago_adelantado</th><th>valor_facturado</th><th>valor_pendiente_de_pago</th><th>valor_pagado</th><th>valor_amortizado</th><th>valor_pendiente_de</th><th>valor_pendiente_de_ejecucion</th><th>estado_bpin</th><th>c_digo_bpin</th><th>anno_bpin</th><th>saldo_cdp</th><th>saldo_vigencia</th><th>espostconflicto</th><th>dias_adicionados</th><th>puntos_del_acuerdo</th><th>pilares_del_acuerdo</th><th>urlproceso</th><th>nombre_representante_legal</th><th>nacionalidad_representante_legal</th><th>domicilio_representante_legal</th><th>tipo_de_identificaci_n_representante_legal</th><th>identificaci_n_representante_legal</th><th>g_nero_representante_legal</th><th>presupuesto_general_de_la_nacion_pgn</th><th>sistema_general_de_participaciones</th><th>sistema_general_de_regal_as</th><th>recursos_propios_alcald_as_gobernaciones_y_resguardos_ind_genas_</th><th>recursos_de_credito</th><th>recursos_propios</th><th>codigo_entidad</th><th>codigo_proveedor</th><th>objeto_del_contrato</th></tr><tr><td>u32</td><td>str</td><td>f32</td><td>str</td><td>str</td><td>str</td><td>str</td><td>str</td><td>str</td><td>str</td><td>str</td><td>str</td><td>str</td><td>str</td><td>str</td><td>str</td><td>str</td><td>str</td><td>str</td><td>datetime[ns]</td><td>datetime[ns]</td><td>datetime[ns]</td><td>str</td><td>str</td><td>str</td><td>str</td><td>str</td><td>str</td><td>str</td><td>str</td><td>str</td><td>str</td><td>str</td><td>str</td><td>str</td><td>f32</td><td>f32</td><td>f32</td><td>f32</td><td>f32</td><td>f32</td><td>f32</td><td>f32</td><td>str</td><td>str</td><td>str</td><td>f32</td><td>f32</td><td>str</td><td>f32</td><td>str</td><td>str</td><td>struct[1]</td><td>str</td><td>str</td><td>str</td><td>str</td><td>str</td><td>str</td><td>f32</td><td>f32</td><td>f32</td><td>f32</td><td>f32</td><td>f32</td><td>str</td><td>str</td><td>str</td></tr></thead><tbody><tr><td>0</td><td>&quot;SECRETARIA DE …</td><td>8.9040e9</td><td>&quot;Valle del Cauc…</td><td>&quot;Cali&quot;</td><td>&quot;Colombia,  Val…</td><td>&quot;Territorial&quot;</td><td>&quot;Servicio Públi…</td><td>&quot;Ejecutivo&quot;</td><td>&quot;Centralizada&quot;</td><td>&quot;CO1.BDOS.21648…</td><td>&quot;CO1.PCCNTR.275…</td><td>&quot;1.310.02-59.2-…</td><td>&quot;En ejecución&quot;</td><td>&quot;V1.72141003&quot;</td><td>&quot;Prestación de …</td><td>&quot;Prestación de …</td><td>&quot;Contratación d…</td><td>&quot;Servicios prof…</td><td>2021-08-12 00:00:00</td><td>2021-08-17 00:00:00</td><td>2021-12-31 00:00:00</td><td>&quot;A convenir&quot;</td><td>&quot;Cédula de Ciud…</td><td>&quot;34317568&quot;</td><td>&quot;Victoria Eugen…</td><td>&quot;No&quot;</td><td>&quot;No&quot;</td><td>&quot;No&quot;</td><td>&quot;No&quot;</td><td>&quot;No&quot;</td><td>&quot;No&quot;</td><td>&quot;No&quot;</td><td>&quot;Distribuido&quot;</td><td>&quot;Inversión&quot;</td><td>1.65e7</td><td>0.0</td><td>1.65e7</td><td>0.0</td><td>1.65e7</td><td>0.0</td><td>0.0</td><td>0.0</td><td>&quot;Válido&quot;</td><td>&quot;2020003760195&quot;</td><td>&quot;2023&quot;</td><td>1.5365e9</td><td>0.0</td><td>&quot;No&quot;</td><td>0.0</td><td>&quot;No aplica&quot;</td><td>&quot;No aplica&quot;</td><td>{&quot;https://community.secop.gov.co/Public/Tendering/OpportunityDetail/Index?noticeUID=CO1.NTC.2168642&amp;isFromPublicArea=True&amp;isModal=true&amp;asPopupView=true&quot;}</td><td>&quot;Victoria Eugen…</td><td>&quot;CO&quot;</td><td>&quot;No Definido&quot;</td><td>&quot;Sin Descripcio…</td><td>&quot;Sin Descripcio…</td><td>&quot;No Definido&quot;</td><td>0.0</td><td>0.0</td><td>0.0</td><td>1.65e7</td><td>0.0</td><td>0.0</td><td>&quot;709412027&quot;</td><td>&quot;710837337&quot;</td><td>&quot;Prestación de …</td></tr><tr><td>1</td><td>&quot;INSTITUCIÓN UN…</td><td>8.9098016e8</td><td>&quot;Antioquia&quot;</td><td>&quot;Medellín&quot;</td><td>&quot;Colombia,  Ant…</td><td>&quot;Territorial&quot;</td><td>&quot;Educación Naci…</td><td>&quot;Ejecutivo&quot;</td><td>&quot;Centralizada&quot;</td><td>&quot;CO1.BDOS.30981…</td><td>&quot;CO1.PCCNTR.387…</td><td>&quot;CMA-CD-9797-94…</td><td>&quot;En ejecución&quot;</td><td>&quot;V1.80111600&quot;</td><td>&quot;El Contratista…</td><td>&quot;Prestación de …</td><td>&quot;Contratación d…</td><td>&quot;Servicios prof…</td><td>2022-08-03 00:00:00</td><td>2022-08-04 00:00:00</td><td>2023-01-01 00:00:00</td><td>&quot;No Definido&quot;</td><td>&quot;Cédula de Ciud…</td><td>&quot;8356403&quot;</td><td>&quot;GUSTAVO ADOLFO…</td><td>&quot;No&quot;</td><td>&quot;No&quot;</td><td>&quot;No&quot;</td><td>&quot;No&quot;</td><td>&quot;No&quot;</td><td>&quot;No&quot;</td><td>&quot;No&quot;</td><td>&quot;Distribuido&quot;</td><td>&quot;Funcionamiento…</td><td>1.096155e7</td><td>0.0</td><td>1.096155e7</td><td>0.0</td><td>1.096155e7</td><td>0.0</td><td>0.0</td><td>0.0</td><td>&quot;No Válido&quot;</td><td>&quot;No Definido&quot;</td><td>&quot;No D&quot;</td><td>4.2622e9</td><td>0.0</td><td>&quot;No&quot;</td><td>0.0</td><td>&quot;No aplica&quot;</td><td>&quot;No aplica&quot;</td><td>{&quot;https://community.secop.gov.co/Public/Tendering/OpportunityDetail/Index?noticeUID=CO1.NTC.3100647&amp;isFromPublicArea=True&amp;isModal=true&amp;asPopupView=true&quot;}</td><td>&quot;GUSTAVO ADOLFO…</td><td>&quot;CO&quot;</td><td>&quot;No Definido&quot;</td><td>&quot;Sin Descripcio…</td><td>&quot;Sin Descripcio…</td><td>&quot;No Definido&quot;</td><td>0.0</td><td>0.0</td><td>0.0</td><td>1.096155e7</td><td>0.0</td><td>0.0</td><td>&quot;704629146&quot;</td><td>&quot;714239985&quot;</td><td>&quot;El Contratista…</td></tr><tr><td>2</td><td>&quot;DISTRITO ESPEC…</td><td>8.90102016e8</td><td>&quot;Atlántico&quot;</td><td>&quot;Barranquilla&quot;</td><td>&quot;Colombia,  Atl…</td><td>&quot;Territorial&quot;</td><td>&quot;Servicio Públi…</td><td>&quot;Ejecutivo&quot;</td><td>&quot;Centralizada&quot;</td><td>&quot;CO1.BDOS.16947…</td><td>&quot;CO1.PCCNTR.216…</td><td>&quot;CD-57-2021-045…</td><td>&quot;En ejecución&quot;</td><td>&quot;V1.80111600&quot;</td><td>&quot;PRESTACIÓN DE …</td><td>&quot;Prestación de …</td><td>&quot;Contratación d…</td><td>&quot;Servicios prof…</td><td>2021-01-28 00:00:00</td><td>2021-02-02 00:00:00</td><td>2022-01-01 00:00:00</td><td>&quot;No Definido&quot;</td><td>&quot;Cédula de Ciud…</td><td>&quot;72142696&quot;</td><td>&quot;ANGEL VICENTE …</td><td>&quot;No&quot;</td><td>&quot;No&quot;</td><td>&quot;No&quot;</td><td>&quot;No&quot;</td><td>&quot;No&quot;</td><td>&quot;No&quot;</td><td>&quot;No&quot;</td><td>&quot;Distribuido&quot;</td><td>&quot;Inversión&quot;</td><td>2.023425e7</td><td>0.0</td><td>2.023425e7</td><td>0.0</td><td>2.023425e7</td><td>0.0</td><td>0.0</td><td>0.0</td><td>&quot;Válido&quot;</td><td>&quot;2021080010005&quot;</td><td>&quot;2021&quot;</td><td>2.0023e9</td><td>0.0</td><td>&quot;No&quot;</td><td>0.0</td><td>&quot;No aplica&quot;</td><td>&quot;No aplica&quot;</td><td>{&quot;https://community.secop.gov.co/Public/Tendering/OpportunityDetail/Index?noticeUID=CO1.NTC.1690930&amp;isFromPublicArea=True&amp;isModal=true&amp;asPopupView=true&quot;}</td><td>&quot;ANGEL VICENTE …</td><td>&quot;CO&quot;</td><td>&quot;No Definido&quot;</td><td>&quot;Sin Descripcio…</td><td>&quot;Sin Descripcio…</td><td>&quot;No Definido&quot;</td><td>0.0</td><td>0.0</td><td>0.0</td><td>2.023425e7</td><td>0.0</td><td>0.0</td><td>&quot;702442096&quot;</td><td>&quot;709472161&quot;</td><td>&quot;PRESTACIÓN DE …</td></tr><tr><td>3</td><td>&quot;OPERADORA DIST…</td><td>9.01526656e8</td><td>&quot;Distrito Capit…</td><td>&quot;Bogotá&quot;</td><td>&quot;Colombia, Bogo…</td><td>&quot;Territorial&quot;</td><td>&quot;Transporte&quot;</td><td>&quot;Ejecutivo&quot;</td><td>&quot;Centralizada&quot;</td><td>&quot;CO1.BDOS.47437…</td><td>&quot;CO1.PCCNTR.533…</td><td>&quot;CO1.PCCNTR.533…</td><td>&quot;En ejecución&quot;</td><td>&quot;V1.82151500&quot;</td><td>&quot;PRESTACIÓN DE …</td><td>&quot;Prestación de …</td><td>&quot;Contratación r…</td><td>&quot;Regla aplicabl…</td><td>2023-10-04 00:00:00</td><td>2023-10-26 00:00:00</td><td>2024-01-12 00:00:00</td><td>&quot;A convenir&quot;</td><td>&quot;Cédula de Ciud…</td><td>&quot;53065957&quot;</td><td>&quot;Xiomara Meliss…</td><td>&quot;No&quot;</td><td>&quot;No&quot;</td><td>&quot;No&quot;</td><td>&quot;No&quot;</td><td>&quot;No&quot;</td><td>&quot;No&quot;</td><td>&quot;No&quot;</td><td>&quot;Distribuido&quot;</td><td>&quot;Funcionamiento…</td><td>3.05e7</td><td>0.0</td><td>0.0</td><td>3.05e7</td><td>0.0</td><td>0.0</td><td>0.0</td><td>3.05e7</td><td>&quot;No Válido&quot;</td><td>&quot;No Definido&quot;</td><td>&quot;No D&quot;</td><td>3.05e7</td><td>0.0</td><td>&quot;No&quot;</td><td>0.0</td><td>&quot;No aplica&quot;</td><td>&quot;No aplica&quot;</td><td>{&quot;https://community.secop.gov.co/Public/Tendering/OpportunityDetail/Index?noticeUID=CO1.NTC.4829726&amp;isFromPublicArea=True&amp;isModal=true&amp;asPopupView=true&quot;}</td><td>&quot;Xiomara Meliss…</td><td>&quot;CO&quot;</td><td>&quot;No Definido&quot;</td><td>&quot;Sin Descripcio…</td><td>&quot;Sin Descripcio…</td><td>&quot;Femenino&quot;</td><td>0.0</td><td>0.0</td><td>0.0</td><td>3.05e7</td><td>0.0</td><td>0.0</td><td>&quot;715753901&quot;</td><td>&quot;708941216&quot;</td><td>&quot;PRESTACIÓN DE …</td></tr><tr><td>4</td><td>&quot;COMANDO FAC&quot;</td><td>8.99999104e8</td><td>&quot;Distrito Capit…</td><td>&quot;Bogotá&quot;</td><td>&quot;Colombia, Bogo…</td><td>&quot;Nacional&quot;</td><td>&quot;defensa&quot;</td><td>&quot;Ejecutivo&quot;</td><td>&quot;Centralizada&quot;</td><td>&quot;CO1.BDOS.34296…</td><td>&quot;CO1.PCCNTR.433…</td><td>&quot;157-00-A-COFAC…</td><td>&quot;Modificado&quot;</td><td>&quot;V1.78181800&quot;</td><td>&quot;INSPECCIONES M…</td><td>&quot;Prestación de …</td><td>&quot;Selección Abre…</td><td>&quot;Defensa y segu…</td><td>2022-12-23 00:00:00</td><td>2022-12-27 00:00:00</td><td>2023-12-21 00:00:00</td><td>&quot;DAP - Entregad…</td><td>&quot;No Definido&quot;</td><td>&quot;900346811&quot;</td><td>&quot;AGG MRO&quot;</td><td>&quot;No&quot;</td><td>&quot;Si&quot;</td><td>&quot;No&quot;</td><td>&quot;Si&quot;</td><td>&quot;No&quot;</td><td>&quot;No&quot;</td><td>&quot;No&quot;</td><td>&quot;Distribuido&quot;</td><td>&quot;Inversión&quot;</td><td>3.7080e9</td><td>0.0</td><td>1.2360e9</td><td>2.4720e9</td><td>1.2360e9</td><td>0.0</td><td>0.0</td><td>2.4720e9</td><td>&quot;No Válido&quot;</td><td>&quot;No Definido&quot;</td><td>&quot;No D&quot;</td><td>3.7080e9</td><td>0.0</td><td>&quot;No&quot;</td><td>20.0</td><td>&quot;No aplica&quot;</td><td>&quot;No aplica&quot;</td><td>{&quot;https://community.secop.gov.co/Public/Tendering/OpportunityDetail/Index?noticeUID=CO1.NTC.3524611&amp;isFromPublicArea=True&amp;isModal=true&amp;asPopupView=true&quot;}</td><td>&quot;YOBANY ANDRES …</td><td>&quot;CO&quot;</td><td>&quot;AVENIDA EL DOR…</td><td>&quot;Sin Descripcio…</td><td>&quot;Sin Descripcio…</td><td>&quot;No Definido&quot;</td><td>3.7080e9</td><td>0.0</td><td>0.0</td><td>0.0</td><td>0.0</td><td>0.0</td><td>&quot;700409022&quot;</td><td>&quot;703192971&quot;</td><td>&quot;INSPECCIONES M…</td></tr><tr><td>5</td><td>&quot;MUNICIPIO DE N…</td><td>8.91180032e8</td><td>&quot;Huila&quot;</td><td>&quot;Neiva&quot;</td><td>&quot;Colombia,  Hui…</td><td>&quot;Territorial&quot;</td><td>&quot;Servicio Públi…</td><td>&quot;Ejecutivo&quot;</td><td>&quot;Centralizada&quot;</td><td>&quot;CO1.BDOS.43585…</td><td>&quot;CO1.PCCNTR.447…</td><td>&quot;CO1.PCCNTR.447…</td><td>&quot;Activo&quot;</td><td>&quot;V1.93141701&quot;</td><td>&quot;REALIZAR,EL FE…</td><td>&quot;Suministros&quot;</td><td>&quot;Mínima cuantía…</td><td>&quot;Presupuesto in…</td><td>2018-09-18 00:00:00</td><td>2018-06-18 00:00:00</td><td>2018-06-28 00:00:00</td><td>&quot;Como acordado …</td><td>&quot;No Definido&quot;</td><td>&quot;813011717&quot;</td><td>&quot;FUNDACION COLO…</td><td>&quot;No&quot;</td><td>&quot;Si&quot;</td><td>&quot;No Definido&quot;</td><td>&quot;No&quot;</td><td>&quot;No&quot;</td><td>&quot;No&quot;</td><td>&quot;No&quot;</td><td>&quot;Distribuido&quot;</td><td>&quot;Inversión&quot;</td><td>2.68e7</td><td>0.0</td><td>2.68e7</td><td>0.0</td><td>2.68e7</td><td>0.0</td><td>0.0</td><td>0.0</td><td>&quot;No Válido&quot;</td><td>&quot;No Definido&quot;</td><td>&quot;2018&quot;</td><td>3e7</td><td>0.0</td><td>&quot;No&quot;</td><td>0.0</td><td>&quot;No aplica&quot;</td><td>&quot;No aplica&quot;</td><td>{&quot;https://community.secop.gov.co/Public/Tendering/OpportunityDetail/Index?noticeUID=CO1.NTC.443273&amp;isFromPublicArea=True&amp;isModal=true&amp;asPopupView=true&quot;}</td><td>&quot;ANDREA ESTEFAN…</td><td>&quot;CO&quot;</td><td>&quot;No Definido&quot;</td><td>&quot;Sin Descripcio…</td><td>&quot;Sin Descripcio…</td><td>&quot;No Definido&quot;</td><td>0.0</td><td>0.0</td><td>0.0</td><td>0.0</td><td>0.0</td><td>0.0</td><td>&quot;700642036&quot;</td><td>&quot;700866155&quot;</td><td>&quot;REALIZAR,EL FE…</td></tr><tr><td>6</td><td>&quot;CENTRAL ADMINI…</td><td>9.00332544e8</td><td>&quot;Cundinamarca&quot;</td><td>&quot;Facatativá&quot;</td><td>&quot;Colombia,  Cun…</td><td>&quot;Nacional&quot;</td><td>&quot;defensa&quot;</td><td>&quot;Corporación Au…</td><td>&quot;Centralizada&quot;</td><td>&quot;CO1.BDOS.62190…</td><td>&quot;CO1.PCCNTR.686…</td><td>&quot;ACEPTACIÓN DE …</td><td>&quot;Activo&quot;</td><td>&quot;V1.81112300&quot;</td><td>&quot;MANTENIMIENTO …</td><td>&quot;Prestación de …</td><td>&quot;Mínima cuantía…</td><td>&quot;Presupuesto in…</td><td>2018-12-13 00:00:00</td><td>2018-12-17 00:00:00</td><td>2019-11-03 00:00:00</td><td>&quot;Como acordado …</td><td>&quot;No Definido&quot;</td><td>&quot;900034395&quot;</td><td>&quot;Black Hat Arch…</td><td>&quot;No&quot;</td><td>&quot;Si&quot;</td><td>&quot;No Definido&quot;</td><td>&quot;No&quot;</td><td>&quot;No&quot;</td><td>&quot;No&quot;</td><td>&quot;No&quot;</td><td>&quot;Distribuido&quot;</td><td>&quot;Funcionamiento…</td><td>5.2276032e7</td><td>0.0</td><td>0.0</td><td>5.2276032e7</td><td>0.0</td><td>0.0</td><td>0.0</td><td>5.2276032e7</td><td>&quot;No Válido&quot;</td><td>&quot;No Definido&quot;</td><td>&quot;No D&quot;</td><td>2.264046e6</td><td>1.5780e10</td><td>&quot;No&quot;</td><td>0.0</td><td>&quot;No aplica&quot;</td><td>&quot;No aplica&quot;</td><td>{&quot;https://community.secop.gov.co/Public/Tendering/OpportunityDetail/Index?noticeUID=CO1.NTC.616883&amp;isFromPublicArea=True&amp;isModal=true&amp;asPopupView=true&quot;}</td><td>&quot;RICARDO ANDRES…</td><td>&quot;CO&quot;</td><td>&quot;No Definido&quot;</td><td>&quot;Sin Descripcio…</td><td>&quot;Sin Descripcio…</td><td>&quot;No Definido&quot;</td><td>0.0</td><td>0.0</td><td>0.0</td><td>0.0</td><td>0.0</td><td>0.0</td><td>&quot;702917022&quot;</td><td>&quot;701895179&quot;</td><td>&quot;MANTENIMIENTO …</td></tr><tr><td>7</td><td>&quot;DEPARTAMENTO D…</td><td>8.9200e9</td><td>&quot;Meta&quot;</td><td>&quot;Villavicencio&quot;</td><td>&quot;Colombia,  Met…</td><td>&quot;Territorial&quot;</td><td>&quot;Servicio Públi…</td><td>&quot;Ejecutivo&quot;</td><td>&quot;Centralizada&quot;</td><td>&quot;CO1.BDOS.41511…</td><td>&quot;CO1.PCCNTR.475…</td><td>&quot;1413 DE 2023&quot;</td><td>&quot;terminado&quot;</td><td>&quot;V1.80111600&quot;</td><td>&quot;ASISTENCIA TÉC…</td><td>&quot;Prestación de …</td><td>&quot;Contratación d…</td><td>&quot;Servicios prof…</td><td>2023-03-10 00:00:00</td><td>2023-03-13 00:00:00</td><td>2023-06-28 00:00:00</td><td>&quot;Como acordado …</td><td>&quot;Cédula de Ciud…</td><td>&quot;1121951978&quot;</td><td>&quot;JASSBLEYDI VAL…</td><td>&quot;No&quot;</td><td>&quot;Si&quot;</td><td>&quot;No&quot;</td><td>&quot;No&quot;</td><td>&quot;No&quot;</td><td>&quot;No&quot;</td><td>&quot;No&quot;</td><td>&quot;Distribuido&quot;</td><td>&quot;Inversión&quot;</td><td>1.1501e7</td><td>0.0</td><td>1.1501e7</td><td>0.0</td><td>1.1501e7</td><td>0.0</td><td>0.0</td><td>0.0</td><td>&quot;No Válido&quot;</td><td>&quot;No Definido&quot;</td><td>&quot;No D&quot;</td><td>1.3144e7</td><td>0.0</td><td>&quot;No&quot;</td><td>0.0</td><td>&quot;No aplica&quot;</td><td>&quot;No aplica&quot;</td><td>{&quot;https://community.secop.gov.co/Public/Tendering/OpportunityDetail/Index?noticeUID=CO1.NTC.4152721&amp;isFromPublicArea=True&amp;isModal=true&amp;asPopupView=true&quot;}</td><td>&quot;Jassbleydi Val…</td><td>&quot;CO&quot;</td><td>&quot;No Definido&quot;</td><td>&quot;Sin Descripcio…</td><td>&quot;Sin Descripcio…</td><td>&quot;Femenino&quot;</td><td>0.0</td><td>0.0</td><td>0.0</td><td>1.1501e7</td><td>0.0</td><td>0.0</td><td>&quot;700817075&quot;</td><td>&quot;714180031&quot;</td><td>&quot;ASISTENCIA TÉC…</td></tr><tr><td>8</td><td>&quot;MUNICIPIO DE M…</td><td>8.90984896e8</td><td>&quot;Antioquia&quot;</td><td>&quot;Murindó&quot;</td><td>&quot;Colombia,  Ant…</td><td>&quot;Territorial&quot;</td><td>&quot;No aplica/No p…</td><td>&quot;Corporación Au…</td><td>&quot;Centralizada&quot;</td><td>&quot;CO1.BDOS.66372…</td><td>&quot;CO1.PCCNTR.725…</td><td>&quot;CO1.PCCNTR.725…</td><td>&quot;Cancelado&quot;</td><td>&quot;V1.80111600&quot;</td><td>&quot;Sin Descripcio…</td><td>&quot;Prestación de …</td><td>&quot;Contratación d…</td><td>&quot;Servicios prof…</td><td>null</td><td>null</td><td>null</td><td>&quot;No Definido&quot;</td><td>&quot;Sin Descripcio…</td><td>&quot;No Definido&quot;</td><td>&quot;Sin Descripcio…</td><td>&quot;No&quot;</td><td>&quot;No&quot;</td><td>&quot;No Definido&quot;</td><td>&quot;No&quot;</td><td>&quot;No&quot;</td><td>&quot;No&quot;</td><td>&quot;No&quot;</td><td>&quot;Distribuido&quot;</td><td>&quot;Inversión&quot;</td><td>0.0</td><td>0.0</td><td>0.0</td><td>0.0</td><td>0.0</td><td>0.0</td><td>0.0</td><td>0.0</td><td>&quot;No Válido&quot;</td><td>&quot;No Definido&quot;</td><td>&quot;No D&quot;</td><td>0.0</td><td>0.0</td><td>&quot;No&quot;</td><td>0.0</td><td>&quot;No aplica&quot;</td><td>&quot;No aplica&quot;</td><td>{&quot;https://community.secop.gov.co/Public/Tendering/OpportunityDetail/Index?noticeUID=CO1.NTC.655156&amp;isFromPublicArea=True&amp;isModal=true&amp;asPopupView=true&quot;}</td><td>&quot;Sin Descripcio…</td><td>&quot;No definido&quot;</td><td>&quot;No Definido&quot;</td><td>&quot;Sin Descripcio…</td><td>&quot;Sin Descripcio…</td><td>&quot;No Definido&quot;</td><td>0.0</td><td>0.0</td><td>0.0</td><td>0.0</td><td>0.0</td><td>0.0</td><td>&quot;702596578&quot;</td><td>&quot;0&quot;</td><td>&quot;No definido&quot;</td></tr><tr><td>9</td><td>&quot;SERVICIO NACIO…</td><td>9.0000e9</td><td>&quot;Magdalena&quot;</td><td>&quot;Santa Marta&quot;</td><td>&quot;Colombia,  Mag…</td><td>&quot;Nacional&quot;</td><td>&quot;Trabajo&quot;</td><td>&quot;Ejecutivo&quot;</td><td>&quot;Centralizada&quot;</td><td>&quot;CO1.BDOS.46079…</td><td>&quot;CO1.PCCNTR.520…</td><td>&quot;CO1.PCCNTR.520…</td><td>&quot;En ejecución&quot;</td><td>&quot;V1.31162800&quot;</td><td>&quot;CONTRATAR EL S…</td><td>&quot;Suministros&quot;</td><td>&quot;Mínima cuantía…</td><td>&quot;Presupuesto in…</td><td>2023-07-17 00:00:00</td><td>2023-07-28 00:00:00</td><td>2024-01-01 00:00:00</td><td>&quot;No Definido&quot;</td><td>&quot;No Definido&quot;</td><td>&quot;901231329&quot;</td><td>&quot;GAFIMOPE SAS&quot;</td><td>&quot;No&quot;</td><td>&quot;Si&quot;</td><td>&quot;No&quot;</td><td>&quot;No&quot;</td><td>&quot;No&quot;</td><td>&quot;No&quot;</td><td>&quot;No&quot;</td><td>&quot;Distribuido&quot;</td><td>&quot;Inversión&quot;</td><td>5.607e7</td><td>0.0</td><td>0.0</td><td>5.607e7</td><td>0.0</td><td>0.0</td><td>0.0</td><td>5.607e7</td><td>&quot;No Válido&quot;</td><td>&quot;No Definido&quot;</td><td>&quot;No D&quot;</td><td>7e7</td><td>0.0</td><td>&quot;No&quot;</td><td>0.0</td><td>&quot;No aplica&quot;</td><td>&quot;No aplica&quot;</td><td>{&quot;https://community.secop.gov.co/Public/Tendering/OpportunityDetail/Index?noticeUID=CO1.NTC.4622736&amp;isFromPublicArea=True&amp;isModal=true&amp;asPopupView=true&quot;}</td><td>&quot;KELLY JOHANNA …</td><td>&quot;CO&quot;</td><td>&quot;mz f casa 14 v…</td><td>&quot;Sin Descripcio…</td><td>&quot;Sin Descripcio…</td><td>&quot;Femenino&quot;</td><td>5.607e7</td><td>0.0</td><td>0.0</td><td>0.0</td><td>0.0</td><td>0.0</td><td>&quot;702988379&quot;</td><td>&quot;710108200&quot;</td><td>&quot;CONTRATAR EL S…</td></tr><tr><td>10</td><td>&quot;MUNICIPIO DE S…</td><td>8.91855104e8</td><td>&quot;Boyacá&quot;</td><td>&quot;Sogamoso&quot;</td><td>&quot;Colombia,  Boy…</td><td>&quot;Territorial&quot;</td><td>&quot;Servicio Públi…</td><td>&quot;Ejecutivo&quot;</td><td>&quot;Centralizada&quot;</td><td>&quot;CO1.BDOS.31011…</td><td>&quot;CO1.PCCNTR.387…</td><td>&quot;20220538&quot;</td><td>&quot;En ejecución&quot;</td><td>&quot;V1.80111600&quot;</td><td>&quot;PRESTAR LOS SE…</td><td>&quot;Prestación de …</td><td>&quot;Contratación d…</td><td>&quot;Servicios prof…</td><td>2022-08-09 00:00:00</td><td>2022-08-10 00:00:00</td><td>2022-12-20 00:00:00</td><td>&quot;A convenir&quot;</td><td>&quot;Cédula de Ciud…</td><td>&quot;1057595226&quot;</td><td>&quot;javier francis…</td><td>&quot;No&quot;</td><td>&quot;No&quot;</td><td>&quot;No&quot;</td><td>&quot;No&quot;</td><td>&quot;No&quot;</td><td>&quot;No&quot;</td><td>&quot;No&quot;</td><td>&quot;Distribuido&quot;</td><td>&quot;Inversión&quot;</td><td>1.4710855e7</td><td>0.0</td><td>1.4710855e7</td><td>3.269079e6</td><td>1.1441776e7</td><td>0.0</td><td>0.0</td><td>3.269079e6</td><td>&quot;No Válido&quot;</td><td>&quot;No Definido&quot;</td><td>&quot;No D&quot;</td><td>1.558261e7</td><td>0.0</td><td>&quot;No&quot;</td><td>0.0</td><td>&quot;No aplica&quot;</td><td>&quot;No aplica&quot;</td><td>{&quot;https://community.secop.gov.co/Public/Tendering/OpportunityDetail/Index?noticeUID=CO1.NTC.3103472&amp;isFromPublicArea=True&amp;isModal=true&amp;asPopupView=true&quot;}</td><td>&quot;Javier Francis…</td><td>&quot;CO&quot;</td><td>&quot;CARRERA 30N°13…</td><td>&quot;Sin Descripcio…</td><td>&quot;Sin Descripcio…</td><td>&quot;No Definido&quot;</td><td>0.0</td><td>0.0</td><td>0.0</td><td>1.4710855e7</td><td>0.0</td><td>0.0</td><td>&quot;705258721&quot;</td><td>&quot;712286293&quot;</td><td>&quot;PRESTAR LOS SE…</td></tr><tr><td>11</td><td>&quot;DEFENSORÍA DEL…</td><td>8.00186048e8</td><td>&quot;Distrito Capit…</td><td>&quot;Bogotá&quot;</td><td>&quot;Colombia, Bogo…</td><td>&quot;Nacional&quot;</td><td>&quot;Servicio Públi…</td><td>&quot;Corporación Au…</td><td>&quot;Centralizada&quot;</td><td>&quot;CO1.BDOS.24219…</td><td>&quot;CO1.PCCNTR.311…</td><td>&quot;AO-28-2021&quot;</td><td>&quot;terminado&quot;</td><td>&quot;V1.81111801&quot;</td><td>&quot;Compra o adqui…</td><td>&quot;Compraventa&quot;</td><td>&quot;Mínima cuantía…</td><td>&quot;Presupuesto in…</td><td>2021-12-15 00:00:00</td><td>2021-12-16 00:00:00</td><td>2021-12-23 00:00:00</td><td>&quot;A convenir&quot;</td><td>&quot;No Definido&quot;</td><td>&quot;900204272&quot;</td><td>&quot;Gestión de Seg…</td><td>&quot;No&quot;</td><td>&quot;No&quot;</td><td>&quot;No&quot;</td><td>&quot;No&quot;</td><td>&quot;No&quot;</td><td>&quot;No&quot;</td><td>&quot;No&quot;</td><td>&quot;Distribuido&quot;</td><td>&quot;Funcionamiento…</td><td>2.28718e6</td><td>0.0</td><td>2.28718e6</td><td>0.0</td><td>2.28718e6</td><td>0.0</td><td>0.0</td><td>0.0</td><td>&quot;No Válido&quot;</td><td>&quot;No Definido&quot;</td><td>&quot;2022&quot;</td><td>2e7</td><td>0.0</td><td>&quot;No&quot;</td><td>0.0</td><td>&quot;No aplica&quot;</td><td>&quot;No aplica&quot;</td><td>{&quot;https://community.secop.gov.co/Public/Tendering/OpportunityDetail/Index?noticeUID=CO1.NTC.2434495&amp;isFromPublicArea=True&amp;isModal=true&amp;asPopupView=true&quot;}</td><td>&quot;ALVARO DE BORJ…</td><td>&quot;CO&quot;</td><td>&quot;Cl 77 # 7-44&quot;</td><td>&quot;Sin Descripcio…</td><td>&quot;Sin Descripcio…</td><td>&quot;No Definido&quot;</td><td>2.28718e6</td><td>0.0</td><td>0.0</td><td>0.0</td><td>0.0</td><td>0.0</td><td>&quot;702541384&quot;</td><td>&quot;700636053&quot;</td><td>&quot;Compra o adqui…</td></tr><tr><td>&hellip;</td><td>&hellip;</td><td>&hellip;</td><td>&hellip;</td><td>&hellip;</td><td>&hellip;</td><td>&hellip;</td><td>&hellip;</td><td>&hellip;</td><td>&hellip;</td><td>&hellip;</td><td>&hellip;</td><td>&hellip;</td><td>&hellip;</td><td>&hellip;</td><td>&hellip;</td><td>&hellip;</td><td>&hellip;</td><td>&hellip;</td><td>&hellip;</td><td>&hellip;</td><td>&hellip;</td><td>&hellip;</td><td>&hellip;</td><td>&hellip;</td><td>&hellip;</td><td>&hellip;</td><td>&hellip;</td><td>&hellip;</td><td>&hellip;</td><td>&hellip;</td><td>&hellip;</td><td>&hellip;</td><td>&hellip;</td><td>&hellip;</td><td>&hellip;</td><td>&hellip;</td><td>&hellip;</td><td>&hellip;</td><td>&hellip;</td><td>&hellip;</td><td>&hellip;</td><td>&hellip;</td><td>&hellip;</td><td>&hellip;</td><td>&hellip;</td><td>&hellip;</td><td>&hellip;</td><td>&hellip;</td><td>&hellip;</td><td>&hellip;</td><td>&hellip;</td><td>&hellip;</td><td>&hellip;</td><td>&hellip;</td><td>&hellip;</td><td>&hellip;</td><td>&hellip;</td><td>&hellip;</td><td>&hellip;</td><td>&hellip;</td><td>&hellip;</td><td>&hellip;</td><td>&hellip;</td><td>&hellip;</td><td>&hellip;</td><td>&hellip;</td><td>&hellip;</td></tr><tr><td>99988</td><td>&quot;EMPRESA SOCIAL…</td><td>8.22006592e8</td><td>&quot;Meta&quot;</td><td>&quot;Villavicencio&quot;</td><td>&quot;Colombia,  Met…</td><td>&quot;Territorial&quot;</td><td>&quot;Salud y Protec…</td><td>&quot;Ejecutivo&quot;</td><td>&quot;Centralizada&quot;</td><td>&quot;CO1.BDOS.31567…</td><td>&quot;CO1.PCCNTR.392…</td><td>&quot;1228 DE 2022&quot;</td><td>&quot;En ejecución&quot;</td><td>&quot;V1.85101600&quot;</td><td>&quot;PRESTACION DE …</td><td>&quot;Prestación de …</td><td>&quot;Contratación r…</td><td>&quot;Regla aplicabl…</td><td>2022-08-17 00:00:00</td><td>2022-08-18 00:00:00</td><td>2022-08-31 00:00:00</td><td>&quot;A convenir&quot;</td><td>&quot;Cédula de Ciud…</td><td>&quot;40328834&quot;</td><td>&quot;DEYANIRA ALVAR…</td><td>&quot;No&quot;</td><td>&quot;Si&quot;</td><td>&quot;No&quot;</td><td>&quot;No&quot;</td><td>&quot;No&quot;</td><td>&quot;No&quot;</td><td>&quot;No&quot;</td><td>&quot;Recursos Propi…</td><td>&quot;Funcionamiento…</td><td>1e6</td><td>0.0</td><td>1e6</td><td>0.0</td><td>1e6</td><td>0.0</td><td>0.0</td><td>0.0</td><td>&quot;No Válido&quot;</td><td>&quot;No Definido&quot;</td><td>&quot;No D&quot;</td><td>2e7</td><td>0.0</td><td>&quot;No&quot;</td><td>0.0</td><td>&quot;No aplica&quot;</td><td>&quot;No aplica&quot;</td><td>{&quot;https://community.secop.gov.co/Public/Tendering/OpportunityDetail/Index?noticeUID=CO1.NTC.3159136&amp;isFromPublicArea=True&amp;isModal=true&amp;asPopupView=true&quot;}</td><td>&quot;DEYANIRA ALVAR…</td><td>&quot;CO&quot;</td><td>&quot;No Definido&quot;</td><td>&quot;Sin Descripcio…</td><td>&quot;Sin Descripcio…</td><td>&quot;No Definido&quot;</td><td>0.0</td><td>0.0</td><td>0.0</td><td>0.0</td><td>0.0</td><td>1e6</td><td>&quot;700532039&quot;</td><td>&quot;718821101&quot;</td><td>&quot;PRESTACION DE …</td></tr><tr><td>99989</td><td>&quot;SUPERINTENDENC…</td><td>8.60503616e8</td><td>&quot;Distrito Capit…</td><td>&quot;Bogotá&quot;</td><td>&quot;Colombia, Bogo…</td><td>&quot;Nacional&quot;</td><td>&quot;Trabajo&quot;</td><td>&quot;Ejecutivo&quot;</td><td>&quot;Centralizada&quot;</td><td>&quot;CO1.BDOS.12931…</td><td>&quot;CO1.PCCNTR.114…</td><td>&quot;CO1.PCCNTR.114…</td><td>&quot;Modificado&quot;</td><td>&quot;V1.81101500&quot;</td><td>&quot;Prestar servi…</td><td>&quot;Prestación de …</td><td>&quot;Contratación D…</td><td>&quot;Ejecución de t…</td><td>2017-02-09 00:00:00</td><td>2017-02-10 00:00:00</td><td>2017-12-09 00:00:00</td><td>&quot;No Definido&quot;</td><td>&quot;Cédula de Ciud…</td><td>&quot;79953994&quot;</td><td>&quot;Luis Gabriel S…</td><td>&quot;No&quot;</td><td>&quot;No&quot;</td><td>&quot;No Definido&quot;</td><td>&quot;No&quot;</td><td>&quot;No&quot;</td><td>&quot;No&quot;</td><td>&quot;No&quot;</td><td>&quot;Distribuido&quot;</td><td>&quot;Inversión&quot;</td><td>7e7</td><td>0.0</td><td>0.0</td><td>7e7</td><td>0.0</td><td>0.0</td><td>0.0</td><td>7e7</td><td>&quot;No Válido&quot;</td><td>&quot;No Definido&quot;</td><td>&quot;No D&quot;</td><td>7.7e7</td><td>0.0</td><td>&quot;No&quot;</td><td>0.0</td><td>&quot;No aplica&quot;</td><td>&quot;No aplica&quot;</td><td>{&quot;https://community.secop.gov.co/Public/Tendering/OpportunityDetail/Index?noticeUID=CO1.NTC.125415&amp;isFromPublicArea=True&amp;isModal=true&amp;asPopupView=true&quot;}</td><td>&quot;LUIS GABRIEL S…</td><td>&quot;CO&quot;</td><td>&quot;Cra.56#57B70 a…</td><td>&quot;Sin Descripcio…</td><td>&quot;Sin Descripcio…</td><td>&quot;No Definido&quot;</td><td>0.0</td><td>0.0</td><td>0.0</td><td>0.0</td><td>0.0</td><td>0.0</td><td>&quot;700106016&quot;</td><td>&quot;701652026&quot;</td><td>&quot;Prestar servi…</td></tr><tr><td>99990</td><td>&quot;INSTITUTO DE P…</td><td>8.9999904e8</td><td>&quot;Distrito Capit…</td><td>&quot;Distrito Capit…</td><td>&quot;Colombia, Bogo…</td><td>&quot;Nacional&quot;</td><td>&quot;Minas y Energí…</td><td>&quot;Ejecutivo&quot;</td><td>&quot;Centralizada&quot;</td><td>&quot;CO1.BDOS.11128…</td><td>&quot;CO1.PCCNTR.138…</td><td>&quot;IPSE-CD-026-20…</td><td>&quot;terminado&quot;</td><td>&quot;V1.93141808&quot;</td><td>&quot;PRESTACION DE …</td><td>&quot;Prestación de …</td><td>&quot;Contratación d…</td><td>&quot;Servicios prof…</td><td>2020-02-18 00:00:00</td><td>2020-02-17 00:00:00</td><td>2020-12-24 00:00:00</td><td>&quot;Como acordado …</td><td>&quot;Cédula de Ciud…</td><td>&quot;1110482624&quot;</td><td>&quot;JHON ALEXANDER…</td><td>&quot;No&quot;</td><td>&quot;No&quot;</td><td>&quot;No&quot;</td><td>&quot;No&quot;</td><td>&quot;Si&quot;</td><td>&quot;No&quot;</td><td>&quot;No&quot;</td><td>&quot;Distribuido&quot;</td><td>&quot;Inversión&quot;</td><td>3.9655e7</td><td>0.0</td><td>0.0</td><td>3.9655e7</td><td>0.0</td><td>0.0</td><td>0.0</td><td>3.9655e7</td><td>&quot;No Válido&quot;</td><td>&quot;No Definido&quot;</td><td>&quot;2023&quot;</td><td>3.9655e7</td><td>0.0</td><td>&quot;No&quot;</td><td>0.0</td><td>&quot;No aplica&quot;</td><td>&quot;No aplica&quot;</td><td>{&quot;https://community.secop.gov.co/Public/Tendering/OpportunityDetail/Index?noticeUID=CO1.NTC.1115180&amp;isFromPublicArea=True&amp;isModal=true&amp;asPopupView=true&quot;}</td><td>&quot;JHON ALEXANDER…</td><td>&quot;CO&quot;</td><td>&quot;Mz 57 Cs 7 Jor…</td><td>&quot;Sin Descripcio…</td><td>&quot;Sin Descripcio…</td><td>&quot;No Definido&quot;</td><td>0.0</td><td>0.0</td><td>0.0</td><td>0.0</td><td>0.0</td><td>0.0</td><td>&quot;700566011&quot;</td><td>&quot;708438122&quot;</td><td>&quot;PRESTACION DE …</td></tr><tr><td>99991</td><td>&quot;ESE HOSPITAL J…</td><td>8.06006784e8</td><td>&quot;Bolívar&quot;</td><td>&quot;Barranco De Lo…</td><td>&quot;Colombia,  Bol…</td><td>&quot;Territorial&quot;</td><td>&quot;Salud y Protec…</td><td>&quot;Corporación Au…</td><td>&quot;Centralizada&quot;</td><td>&quot;CO1.BDOS.36977…</td><td>&quot;CO1.PCCNTR.436…</td><td>&quot;020 DE 2023&quot;</td><td>&quot;En ejecución&quot;</td><td>&quot;V1.85101600&quot;</td><td>&quot;PRESTACION DE …</td><td>&quot;Prestación de …</td><td>&quot;Contratación r…</td><td>&quot;Regla aplicabl…</td><td>2023-01-04 00:00:00</td><td>2023-01-04 00:00:00</td><td>2023-06-30 00:00:00</td><td>&quot;A convenir&quot;</td><td>&quot;Cédula de Ciud…</td><td>&quot;1052944461&quot;</td><td>&quot;DIOGENES ELIEL…</td><td>&quot;No&quot;</td><td>&quot;No&quot;</td><td>&quot;No Definido&quot;</td><td>&quot;No&quot;</td><td>&quot;No&quot;</td><td>&quot;No&quot;</td><td>&quot;No&quot;</td><td>&quot;Recursos Propi…</td><td>&quot;Funcionamiento…</td><td>8.1e6</td><td>0.0</td><td>0.0</td><td>8.1e6</td><td>0.0</td><td>0.0</td><td>0.0</td><td>8.1e6</td><td>&quot;No Válido&quot;</td><td>&quot;No Definido&quot;</td><td>&quot;No D&quot;</td><td>8.1e6</td><td>0.0</td><td>&quot;No&quot;</td><td>0.0</td><td>&quot;No aplica&quot;</td><td>&quot;No aplica&quot;</td><td>{&quot;https://community.secop.gov.co/Public/Tendering/OpportunityDetail/Index?noticeUID=CO1.NTC.3704741&amp;isFromPublicArea=True&amp;isModal=true&amp;asPopupView=true&quot;}</td><td>&quot;DIOGENES ELIEL…</td><td>&quot;CO&quot;</td><td>&quot;No Definido&quot;</td><td>&quot;Sin Descripcio…</td><td>&quot;Sin Descripcio…</td><td>&quot;No Definido&quot;</td><td>0.0</td><td>0.0</td><td>0.0</td><td>0.0</td><td>0.0</td><td>8.1e6</td><td>&quot;718663685&quot;</td><td>&quot;718952153&quot;</td><td>&quot;PRESTACION DE …</td></tr><tr><td>99992</td><td>&quot;INSTITUTO DE D…</td><td>8.00194112e8</td><td>&quot;Antioquia&quot;</td><td>&quot;Medellín&quot;</td><td>&quot;Colombia,  Ant…</td><td>&quot;Territorial&quot;</td><td>&quot;deportes&quot;</td><td>&quot;Ejecutivo&quot;</td><td>&quot;Centralizada&quot;</td><td>&quot;CO1.BDOS.22160…</td><td>&quot;CO1.PCCNTR.281…</td><td>&quot;CO1.PCCNTR.281…</td><td>&quot;terminado&quot;</td><td>&quot;V1.86101808&quot;</td><td>&quot;PRESTAR LOS SE…</td><td>&quot;Prestación de …</td><td>&quot;Contratación d…</td><td>&quot;Servicios prof…</td><td>2021-09-02 00:00:00</td><td>2021-09-02 00:00:00</td><td>2021-12-10 00:00:00</td><td>&quot;A convenir&quot;</td><td>&quot;Cédula de Ciud…</td><td>&quot;1128024936&quot;</td><td>&quot;Debinson Alber…</td><td>&quot;No&quot;</td><td>&quot;No&quot;</td><td>&quot;No&quot;</td><td>&quot;No&quot;</td><td>&quot;No&quot;</td><td>&quot;No&quot;</td><td>&quot;No&quot;</td><td>&quot;Distribuido&quot;</td><td>&quot;Inversión&quot;</td><td>5.333333e6</td><td>0.0</td><td>0.0</td><td>5.333333e6</td><td>0.0</td><td>0.0</td><td>0.0</td><td>5.333333e6</td><td>&quot;Válido&quot;</td><td>&quot;2021050010078&quot;</td><td>&quot;2022&quot;</td><td>4.49174656e8</td><td>0.0</td><td>&quot;No&quot;</td><td>0.0</td><td>&quot;No aplica&quot;</td><td>&quot;No aplica&quot;</td><td>{&quot;https://community.secop.gov.co/Public/Tendering/OpportunityDetail/Index?noticeUID=CO1.NTC.2217075&amp;isFromPublicArea=True&amp;isModal=true&amp;asPopupView=true&quot;}</td><td>&quot;Debinson Alber…</td><td>&quot;CO&quot;</td><td>&quot;No Definido&quot;</td><td>&quot;Sin Descripcio…</td><td>&quot;Sin Descripcio…</td><td>&quot;No Definido&quot;</td><td>0.0</td><td>0.0</td><td>0.0</td><td>5.333333e6</td><td>0.0</td><td>0.0</td><td>&quot;700774011&quot;</td><td>&quot;713450294&quot;</td><td>&quot;PRESTAR LOS SE…</td></tr><tr><td>99993</td><td>&quot;EMPRESA SOCIAL…</td><td>8.26002944e8</td><td>&quot;Boyacá&quot;</td><td>&quot;Tópaga&quot;</td><td>&quot;Colombia,  Boy…</td><td>&quot;Territorial&quot;</td><td>&quot;Salud y Protec…</td><td>&quot;Corporación Au…</td><td>&quot;Centralizada&quot;</td><td>&quot;CO1.BDOS.47246…</td><td>&quot;CO1.PCCNTR.521…</td><td>&quot;CO1.PCCNTR.521…</td><td>&quot;En ejecución&quot;</td><td>&quot;V1.72101500&quot;</td><td>&quot;MANTENIMIENTO …</td><td>&quot;Prestación de …</td><td>&quot;Contratación d…</td><td>&quot;Servicios prof…</td><td>2023-10-27 00:00:00</td><td>2023-10-27 00:00:00</td><td>2023-10-28 00:00:00</td><td>&quot;No Definido&quot;</td><td>&quot;Cédula de Ciud…</td><td>&quot;9515475&quot;</td><td>&quot;JAIRO ENRIQUE …</td><td>&quot;No&quot;</td><td>&quot;Si&quot;</td><td>&quot;No&quot;</td><td>&quot;No&quot;</td><td>&quot;No&quot;</td><td>&quot;No&quot;</td><td>&quot;No&quot;</td><td>&quot;Distribuido&quot;</td><td>&quot;Funcionamiento…</td><td>6.3e6</td><td>0.0</td><td>0.0</td><td>0.0</td><td>0.0</td><td>0.0</td><td>0.0</td><td>6.3e6</td><td>&quot;No Válido&quot;</td><td>&quot;No Definido&quot;</td><td>&quot;No D&quot;</td><td>6.3e6</td><td>0.0</td><td>&quot;No&quot;</td><td>0.0</td><td>&quot;No aplica&quot;</td><td>&quot;No aplica&quot;</td><td>{&quot;https://community.secop.gov.co/Public/Tendering/OpportunityDetail/Index?noticeUID=CO1.NTC.4732121&amp;isFromPublicArea=True&amp;isModal=true&amp;asPopupView=true&quot;}</td><td>&quot;Sin Descripcio…</td><td>&quot;No definido&quot;</td><td>&quot;No Definido&quot;</td><td>&quot;Sin Descripcio…</td><td>&quot;Sin Descripcio…</td><td>&quot;No Definido&quot;</td><td>0.0</td><td>0.0</td><td>0.0</td><td>6.3e6</td><td>0.0</td><td>0.0</td><td>&quot;709668545&quot;</td><td>&quot;723769261&quot;</td><td>&quot;MANTENIMIENTO …</td></tr><tr><td>99994</td><td>&quot;INSTITUTO DE D…</td><td>8.00194112e8</td><td>&quot;Antioquia&quot;</td><td>&quot;Medellín&quot;</td><td>&quot;Colombia,  Ant…</td><td>&quot;Territorial&quot;</td><td>&quot;deportes&quot;</td><td>&quot;Ejecutivo&quot;</td><td>&quot;Centralizada&quot;</td><td>&quot;CO1.BDOS.22702…</td><td>&quot;CO1.PCCNTR.288…</td><td>&quot;CO1.PCCNTR.288…</td><td>&quot;terminado&quot;</td><td>&quot;V1.80111600&quot;</td><td>&quot;PRESTAR LOS SE…</td><td>&quot;Prestación de …</td><td>&quot;Contratación d…</td><td>&quot;Servicios prof…</td><td>2021-09-24 00:00:00</td><td>2021-09-25 00:00:00</td><td>2022-01-01 00:00:00</td><td>&quot;No Definido&quot;</td><td>&quot;Cédula de Ciud…</td><td>&quot;8128023&quot;</td><td>&quot;ANDRES FELIPE …</td><td>&quot;No&quot;</td><td>&quot;No&quot;</td><td>&quot;No&quot;</td><td>&quot;No&quot;</td><td>&quot;No&quot;</td><td>&quot;No&quot;</td><td>&quot;No&quot;</td><td>&quot;Distribuido&quot;</td><td>&quot;Inversión&quot;</td><td>6.466667e6</td><td>0.0</td><td>3.666666e6</td><td>2.800001e6</td><td>3.666666e6</td><td>0.0</td><td>0.0</td><td>2.800001e6</td><td>&quot;Válido&quot;</td><td>&quot;2020050010318&quot;</td><td>&quot;2021&quot;</td><td>6.5076e9</td><td>0.0</td><td>&quot;No&quot;</td><td>0.0</td><td>&quot;No aplica&quot;</td><td>&quot;No aplica&quot;</td><td>{&quot;https://community.secop.gov.co/Public/Tendering/OpportunityDetail/Index?noticeUID=CO1.NTC.2273362&amp;isFromPublicArea=True&amp;isModal=true&amp;asPopupView=true&quot;}</td><td>&quot;ANDRES FELIPE …</td><td>&quot;CO&quot;</td><td>&quot;No Definido&quot;</td><td>&quot;Sin Descripcio…</td><td>&quot;Sin Descripcio…</td><td>&quot;No Definido&quot;</td><td>0.0</td><td>0.0</td><td>0.0</td><td>6.466667e6</td><td>0.0</td><td>0.0</td><td>&quot;700774011&quot;</td><td>&quot;715137121&quot;</td><td>&quot;PRESTAR LOS SE…</td></tr><tr><td>99995</td><td>&quot;SUBRED INTEGRA…</td><td>9.0095904e8</td><td>&quot;Distrito Capit…</td><td>&quot;No Definido&quot;</td><td>&quot;Colombia, Bogo…</td><td>&quot;Territorial&quot;</td><td>&quot;Salud y Protec…</td><td>&quot;Ejecutivo&quot;</td><td>&quot;Centralizada&quot;</td><td>&quot;CO1.BDOS.28233…</td><td>&quot;CO1.PCCNTR.356…</td><td>&quot;5368-2022&quot;</td><td>&quot;terminado&quot;</td><td>&quot;V1.85101604&quot;</td><td>&quot;Prestar servic…</td><td>&quot;Prestación de …</td><td>&quot;Contratación r…</td><td>&quot;Regla aplicabl…</td><td>2022-02-12 00:00:00</td><td>2022-02-16 00:00:00</td><td>2024-02-01 00:00:00</td><td>&quot;Como acordado …</td><td>&quot;Cédula de Ciud…</td><td>&quot;1030581806&quot;</td><td>&quot;CINDY LORENA P…</td><td>&quot;No&quot;</td><td>&quot;No&quot;</td><td>&quot;No&quot;</td><td>&quot;No&quot;</td><td>&quot;No&quot;</td><td>&quot;No&quot;</td><td>&quot;No&quot;</td><td>&quot;Distribuido&quot;</td><td>&quot;Funcionamiento…</td><td>5.187078e7</td><td>0.0</td><td>0.0</td><td>5.187078e7</td><td>0.0</td><td>0.0</td><td>0.0</td><td>5.187078e7</td><td>&quot;No Válido&quot;</td><td>&quot;No Definido&quot;</td><td>&quot;2023&quot;</td><td>2.6676e10</td><td>2.8418e10</td><td>&quot;No&quot;</td><td>0.0</td><td>&quot;No aplica&quot;</td><td>&quot;No aplica&quot;</td><td>{&quot;https://community.secop.gov.co/Public/Tendering/OpportunityDetail/Index?noticeUID=CO1.NTC.2830315&amp;isFromPublicArea=True&amp;isModal=true&amp;asPopupView=true&quot;}</td><td>&quot;CINDY LORENA P…</td><td>&quot;CO&quot;</td><td>&quot;No Definido&quot;</td><td>&quot;Sin Descripcio…</td><td>&quot;Sin Descripcio…</td><td>&quot;No Definido&quot;</td><td>0.0</td><td>0.0</td><td>0.0</td><td>5.187078e7</td><td>0.0</td><td>0.0</td><td>&quot;702486788&quot;</td><td>&quot;703968453&quot;</td><td>&quot;Prestar servic…</td></tr><tr><td>99996</td><td>&quot;ICBF RISARALDA…</td><td>8.99999232e8</td><td>&quot;Caldas&quot;</td><td>&quot;Risaralda&quot;</td><td>&quot;Colombia,  Cal…</td><td>&quot;Nacional&quot;</td><td>&quot;Salud y Protec…</td><td>&quot;Ejecutivo&quot;</td><td>&quot;Centralizada&quot;</td><td>&quot;CO1.BDOS.23723…</td><td>&quot;CO1.PCCNTR.301…</td><td>&quot;66001692021&quot;</td><td>&quot;terminado&quot;</td><td>&quot;V1.93141500&quot;</td><td>&quot;Entregar a tít…</td><td>&quot;Comodato&quot;</td><td>&quot;Contratación d…</td><td>&quot;Prestamo de us…</td><td>2021-12-02 00:00:00</td><td>2021-12-02 00:00:00</td><td>2021-12-31 00:00:00</td><td>&quot;A convenir&quot;</td><td>&quot;No Definido&quot;</td><td>&quot;891412915&quot;</td><td>&quot;ASOCIACION DE …</td><td>&quot;No&quot;</td><td>&quot;No&quot;</td><td>&quot;No&quot;</td><td>&quot;No&quot;</td><td>&quot;No&quot;</td><td>&quot;No&quot;</td><td>&quot;No&quot;</td><td>&quot;Distribuido&quot;</td><td>&quot;Funcionamiento…</td><td>0.0</td><td>0.0</td><td>0.0</td><td>0.0</td><td>0.0</td><td>0.0</td><td>0.0</td><td>0.0</td><td>&quot;No Válido&quot;</td><td>&quot;No Definido&quot;</td><td>&quot;2022&quot;</td><td>0.0</td><td>0.0</td><td>&quot;No&quot;</td><td>0.0</td><td>&quot;No aplica&quot;</td><td>&quot;No aplica&quot;</td><td>{&quot;https://community.secop.gov.co/Public/Tendering/OpportunityDetail/Index?noticeUID=CO1.NTC.2378829&amp;isFromPublicArea=True&amp;isModal=true&amp;asPopupView=true&quot;}</td><td>&quot;RIVERA TREJOS&quot;</td><td>&quot;CO&quot;</td><td>&quot;BARRIO JARDIN …</td><td>&quot;Sin Descripcio…</td><td>&quot;Sin Descripcio…</td><td>&quot;Femenino&quot;</td><td>0.0</td><td>0.0</td><td>0.0</td><td>0.0</td><td>0.0</td><td>0.0</td><td>&quot;704148642&quot;</td><td>&quot;708120746&quot;</td><td>&quot;Entregar a tít…</td></tr><tr><td>99997</td><td>&quot;POLICIA METROP…</td><td>8.00140992e8</td><td>&quot;Antioquia&quot;</td><td>&quot;Medellín&quot;</td><td>&quot;Colombia,  Ant…</td><td>&quot;Nacional&quot;</td><td>&quot;defensa&quot;</td><td>&quot;Ejecutivo&quot;</td><td>&quot;Centralizada&quot;</td><td>&quot;CO1.BDOS.51065…</td><td>&quot;CO1.PCCNTR.564…</td><td>&quot;12-2-10031-18&quot;</td><td>&quot;Modificado&quot;</td><td>&quot;V1.31162800&quot;</td><td>&quot;ADQUISICION D…</td><td>&quot;Compraventa&quot;</td><td>&quot;Mínima cuantía…</td><td>&quot;Presupuesto in…</td><td>2018-09-24 00:00:00</td><td>2018-09-26 00:00:00</td><td>2018-11-26 00:00:00</td><td>&quot;Como acordado …</td><td>&quot;No Definido&quot;</td><td>&quot;900529523&quot;</td><td>&quot;LA CABALGATA C…</td><td>&quot;No&quot;</td><td>&quot;Si&quot;</td><td>&quot;No Definido&quot;</td><td>&quot;No&quot;</td><td>&quot;No&quot;</td><td>&quot;No&quot;</td><td>&quot;No&quot;</td><td>&quot;Distribuido&quot;</td><td>&quot;Funcionamiento…</td><td>1.1386756e7</td><td>0.0</td><td>1.1386756e7</td><td>1.1386756e7</td><td>0.0</td><td>0.0</td><td>0.0</td><td>1.1386756e7</td><td>&quot;No Válido&quot;</td><td>&quot;No Definido&quot;</td><td>&quot;No D&quot;</td><td>1.2e7</td><td>0.0</td><td>&quot;No&quot;</td><td>0.0</td><td>&quot;No aplica&quot;</td><td>&quot;No aplica&quot;</td><td>{&quot;https://community.secop.gov.co/Public/Tendering/OpportunityDetail/Index?noticeUID=CO1.NTC.520662&amp;isFromPublicArea=True&amp;isModal=true&amp;asPopupView=true&quot;}</td><td>&quot;CRISTIAN YOVAN…</td><td>&quot;CO&quot;</td><td>&quot;No Definido&quot;</td><td>&quot;Sin Descripcio…</td><td>&quot;Sin Descripcio…</td><td>&quot;No Definido&quot;</td><td>0.0</td><td>0.0</td><td>0.0</td><td>0.0</td><td>0.0</td><td>0.0</td><td>&quot;701699035&quot;</td><td>&quot;704294164&quot;</td><td>&quot;ADQUISICION D…</td></tr><tr><td>99998</td><td>&quot;SUBRED INTEGRA…</td><td>9.00958592e8</td><td>&quot;Distrito Capit…</td><td>&quot;Bogotá&quot;</td><td>&quot;Colombia, Bogo…</td><td>&quot;Territorial&quot;</td><td>&quot;Salud y Protec…</td><td>&quot;Ejecutivo&quot;</td><td>&quot;Centralizada&quot;</td><td>&quot;CO1.BDOS.23523…</td><td>&quot;CO1.PCCNTR.298…</td><td>&quot;7861-2021&quot;</td><td>&quot;Modificado&quot;</td><td>&quot;V1.80111701&quot;</td><td>&quot;PRESTAR SERVIC…</td><td>&quot;Prestación de …</td><td>&quot;Contratación r…</td><td>&quot;Regla aplicabl…</td><td>2021-11-03 00:00:00</td><td>2021-11-03 00:00:00</td><td>2022-02-01 00:00:00</td><td>&quot;A convenir&quot;</td><td>&quot;Cédula de Ciud…</td><td>&quot;80282931&quot;</td><td>&quot;BREINER JOVANI…</td><td>&quot;No&quot;</td><td>&quot;No&quot;</td><td>&quot;No&quot;</td><td>&quot;No&quot;</td><td>&quot;No&quot;</td><td>&quot;No&quot;</td><td>&quot;No&quot;</td><td>&quot;Recursos Propi…</td><td>&quot;Funcionamiento…</td><td>6.6235e6</td><td>0.0</td><td>0.0</td><td>6.6235e6</td><td>0.0</td><td>0.0</td><td>0.0</td><td>6.6235e6</td><td>&quot;No Válido&quot;</td><td>&quot;No Definido&quot;</td><td>&quot;2020&quot;</td><td>2.1029244e7</td><td>0.0</td><td>&quot;No&quot;</td><td>0.0</td><td>&quot;No aplica&quot;</td><td>&quot;No aplica&quot;</td><td>{&quot;https://community.secop.gov.co/Public/Tendering/OpportunityDetail/Index?noticeUID=CO1.NTC.2358145&amp;isFromPublicArea=True&amp;isModal=true&amp;asPopupView=true&quot;}</td><td>&quot;BREINER JOVANI…</td><td>&quot;CO&quot;</td><td>&quot;No Definido&quot;</td><td>&quot;Sin Descripcio…</td><td>&quot;Sin Descripcio…</td><td>&quot;No Definido&quot;</td><td>0.0</td><td>0.0</td><td>0.0</td><td>0.0</td><td>0.0</td><td>6.6235e6</td><td>&quot;702730482&quot;</td><td>&quot;703911172&quot;</td><td>&quot;PRESTAR SERVIC…</td></tr><tr><td>99999</td><td>&quot;INDERHUILA&quot;</td><td>8.13005568e8</td><td>&quot;Huila&quot;</td><td>&quot;Neiva&quot;</td><td>&quot;Colombia,  Hui…</td><td>&quot;Territorial&quot;</td><td>&quot;deportes&quot;</td><td>&quot;Corporación Au…</td><td>&quot;Centralizada&quot;</td><td>&quot;CO1.BDOS.22164…</td><td>&quot;CO1.PCCNTR.281…</td><td>&quot;CDIH220-2021&quot;</td><td>&quot;Cerrado&quot;</td><td>&quot;V1.80111600&quot;</td><td>&quot;PRESTACIÓN DE …</td><td>&quot;Prestación de …</td><td>&quot;Contratación d…</td><td>&quot;Servicios prof…</td><td>2021-09-02 00:00:00</td><td>2021-09-02 00:00:00</td><td>2021-11-30 00:00:00</td><td>&quot;A convenir&quot;</td><td>&quot;Cédula de Ciud…</td><td>&quot;1077872226&quot;</td><td>&quot;GIAN CARLOS TO…</td><td>&quot;No&quot;</td><td>&quot;No&quot;</td><td>&quot;No&quot;</td><td>&quot;No&quot;</td><td>&quot;No&quot;</td><td>&quot;No&quot;</td><td>&quot;No&quot;</td><td>&quot;Distribuido&quot;</td><td>&quot;Inversión&quot;</td><td>6e6</td><td>0.0</td><td>6e6</td><td>0.0</td><td>6e6</td><td>0.0</td><td>0.0</td><td>0.0</td><td>&quot;Válido&quot;</td><td>&quot;2020004410095&quot;</td><td>&quot;2023&quot;</td><td>6e6</td><td>0.0</td><td>&quot;No&quot;</td><td>0.0</td><td>&quot;No aplica&quot;</td><td>&quot;No aplica&quot;</td><td>{&quot;https://community.secop.gov.co/Public/Tendering/OpportunityDetail/Index?noticeUID=CO1.NTC.2217833&amp;isFromPublicArea=True&amp;isModal=true&amp;asPopupView=true&quot;}</td><td>&quot;Gian Carlos To…</td><td>&quot;CO&quot;</td><td>&quot;No Definido&quot;</td><td>&quot;Sin Descripcio…</td><td>&quot;Sin Descripcio…</td><td>&quot;No Definido&quot;</td><td>0.0</td><td>0.0</td><td>0.0</td><td>6e6</td><td>0.0</td><td>0.0</td><td>&quot;701899197&quot;</td><td>&quot;706607595&quot;</td><td>&quot;PRESTACIÓN DE …</td></tr></tbody></table></div>"
            ],
            "text/plain": [
              "shape: (100_000, 68)\n",
              "┌────────┬────────────┬────────────┬───────────┬───┬───────────┬───────────┬───────────┬───────────┐\n",
              "│ row_nr ┆ nombre_ent ┆ nit_entida ┆ departame ┆ … ┆ recursos_ ┆ codigo_en ┆ codigo_pr ┆ objeto_de │\n",
              "│ ---    ┆ idad       ┆ d          ┆ nto       ┆   ┆ propios   ┆ tidad     ┆ oveedor   ┆ l_contrat │\n",
              "│ u32    ┆ ---        ┆ ---        ┆ ---       ┆   ┆ ---       ┆ ---       ┆ ---       ┆ o         │\n",
              "│        ┆ str        ┆ f32        ┆ str       ┆   ┆ f32       ┆ str       ┆ str       ┆ ---       │\n",
              "│        ┆            ┆            ┆           ┆   ┆           ┆           ┆           ┆ str       │\n",
              "╞════════╪════════════╪════════════╪═══════════╪═══╪═══════════╪═══════════╪═══════════╪═══════════╡\n",
              "│ 0      ┆ SECRETARIA ┆ 8.9040e9   ┆ Valle del ┆ … ┆ 0.0       ┆ 709412027 ┆ 710837337 ┆ Prestació │\n",
              "│        ┆ DE INFRAES ┆            ┆ Cauca     ┆   ┆           ┆           ┆           ┆ n de      │\n",
              "│        ┆ TRUCTURA - ┆            ┆           ┆   ┆           ┆           ┆           ┆ Servicios │\n",
              "│        ┆ …          ┆            ┆           ┆   ┆           ┆           ┆           ┆ Profesio… │\n",
              "│ 1      ┆ INSTITUCIÓ ┆ 8.9098016e ┆ Antioquia ┆ … ┆ 0.0       ┆ 704629146 ┆ 714239985 ┆ El Contra │\n",
              "│        ┆ N UNIVERSI ┆ 8          ┆           ┆   ┆           ┆           ┆           ┆ tista de  │\n",
              "│        ┆ TARIA      ┆            ┆           ┆   ┆           ┆           ┆           ┆ manera    │\n",
              "│        ┆ COLEGI…    ┆            ┆           ┆   ┆           ┆           ┆           ┆ indepen…  │\n",
              "│ 2      ┆ DISTRITO   ┆ 8.90102016 ┆ Atlántico ┆ … ┆ 0.0       ┆ 702442096 ┆ 709472161 ┆ PRESTACIÓ │\n",
              "│        ┆ ESPECIAL   ┆ e8         ┆           ┆   ┆           ┆           ┆           ┆ N DE      │\n",
              "│        ┆ INDUSTRIAL ┆            ┆           ┆   ┆           ┆           ┆           ┆ SERVICIOS │\n",
              "│        ┆ Y P…       ┆            ┆           ┆   ┆           ┆           ┆           ┆ DE APOYO… │\n",
              "│ 3      ┆ OPERADORA  ┆ 9.01526656 ┆ Distrito  ┆ … ┆ 0.0       ┆ 715753901 ┆ 708941216 ┆ PRESTACIÓ │\n",
              "│        ┆ DISTRITAL  ┆ e8         ┆ Capital   ┆   ┆           ┆           ┆           ┆ N DE      │\n",
              "│        ┆ DE         ┆            ┆ de Bogotá ┆   ┆           ┆           ┆           ┆ SERVICIOS │\n",
              "│        ┆ TRANSPORT… ┆            ┆           ┆   ┆           ┆           ┆           ┆ PROFESIO… │\n",
              "│ …      ┆ …          ┆ …          ┆ …         ┆ … ┆ …         ┆ …         ┆ …         ┆ …         │\n",
              "│ 99996  ┆ ICBF RISAR ┆ 8.99999232 ┆ Caldas    ┆ … ┆ 0.0       ┆ 704148642 ┆ 708120746 ┆ Entregar  │\n",
              "│        ┆ ALDA//     ┆ e8         ┆           ┆   ┆           ┆           ┆           ┆ a título  │\n",
              "│        ┆            ┆            ┆           ┆   ┆           ┆           ┆           ┆ de        │\n",
              "│        ┆            ┆            ┆           ┆   ┆           ┆           ┆           ┆ comodato  │\n",
              "│        ┆            ┆            ┆           ┆   ┆           ┆           ┆           ┆ el…       │\n",
              "│ 99997  ┆ POLICIA    ┆ 8.00140992 ┆ Antioquia ┆ … ┆ 0.0       ┆ 701699035 ┆ 704294164 ┆ ADQUISIC  │\n",
              "│        ┆ METROPOLIT ┆ e8         ┆           ┆   ┆           ┆           ┆           ┆ ION DE    │\n",
              "│        ┆ ANA DEL    ┆            ┆           ┆   ┆           ┆           ┆           ┆ MATERIALE │\n",
              "│        ┆ VALLE …    ┆            ┆           ┆   ┆           ┆           ┆           ┆ S DE CO…  │\n",
              "│ 99998  ┆ SUBRED     ┆ 9.00958592 ┆ Distrito  ┆ … ┆ 6.6235e6  ┆ 702730482 ┆ 703911172 ┆ PRESTAR   │\n",
              "│        ┆ INTEGRADA  ┆ e8         ┆ Capital   ┆   ┆           ┆           ┆           ┆ SERVICIOS │\n",
              "│        ┆ DE         ┆            ┆ de Bogotá ┆   ┆           ┆           ┆           ┆ COMO      │\n",
              "│        ┆ SERVICIOS  ┆            ┆           ┆   ┆           ┆           ┆           ┆ AUXILIAR  │\n",
              "│        ┆ DE…        ┆            ┆           ┆   ┆           ┆           ┆           ┆ …         │\n",
              "│ 99999  ┆ INDERHUILA ┆ 8.13005568 ┆ Huila     ┆ … ┆ 0.0       ┆ 701899197 ┆ 706607595 ┆ PRESTACIÓ │\n",
              "│        ┆            ┆ e8         ┆           ┆   ┆           ┆           ┆           ┆ N DE LOS  │\n",
              "│        ┆            ┆            ┆           ┆   ┆           ┆           ┆           ┆ SERVICIOS │\n",
              "│        ┆            ┆            ┆           ┆   ┆           ┆           ┆           ┆ PROF…     │\n",
              "└────────┴────────────┴────────────┴───────────┴───┴───────────┴───────────┴───────────┴───────────┘"
            ]
          },
          "execution_count": 71,
          "metadata": {},
          "output_type": "execute_result"
        }
      ],
      "source": [
        "\n",
        "# Agregar una columna en el índice 0 que cuenta las filas\n",
        "datos_pagina.with_row_count()"
      ]
    },
    {
      "cell_type": "markdown",
      "metadata": {
        "id": "aQJ_hhUvVgf2"
      },
      "source": [
        "### Escritura y lectura de información desde bigquery"
      ]
    },
    {
      "cell_type": "code",
      "execution_count": null,
      "metadata": {
        "id": "yfEx2AHCVgf2"
      },
      "outputs": [],
      "source": [
        "%%capture\n",
        "pip install --upgrade google-cloud-bigquery"
      ]
    },
    {
      "cell_type": "code",
      "execution_count": null,
      "metadata": {
        "id": "yTTJjk_oVgf2"
      },
      "outputs": [],
      "source": [
        "import numpy as np\n",
        "from google.cloud import bigquery\n",
        "import polars as pl\n",
        "from google.oauth2 import service_account\n",
        "\n",
        "key_path = r\"C:\\Users\\nib1l\\Downloads\\motor-de-recomendaciones-1e3a4c8c8574.json\" # cambiala por el nombre de tu llave\n",
        "credentials = service_account.Credentials.from_service_account_file(\n",
        "    key_path, scopes=[\"https://www.googleapis.com/auth/cloud-platform\"],\n",
        ")\n",
        "\n",
        "client = bigquery.Client(credentials=credentials, project=credentials.project_id,)\n",
        "# Define the connection parameters\n",
        "project_id = \"motor-de-recomendaciones\" #nombre de tu proyecto\n",
        "dataset_id = \"datos_icfes\" # nombre de tu dataset\n",
        "table_id = \"icefes_2019\" #nombre de tu tabla"
      ]
    },
    {
      "cell_type": "code",
      "execution_count": null,
      "metadata": {
        "id": "2KIM7sY4Vgf2"
      },
      "outputs": [],
      "source": [
        "\n",
        "\n",
        "# Perform a query.\n",
        "QUERY = ('SELECT * FROM `motor-de-recomendaciones.datos_icfes.icefes_2019` LIMIT 1000 ')\n",
        "query_job = client.query(QUERY)  # API request\n",
        "rows = query_job.result()  # Waits for query to finish\n",
        "\n",
        "df = pl.from_arrow(rows.to_arrow())"
      ]
    },
    {
      "cell_type": "code",
      "execution_count": null,
      "metadata": {
        "id": "IgcSqm4ZVgf2",
        "outputId": "ade4bede-17b2-4d89-b837-af1003367c59"
      },
      "outputs": [
        {
          "data": {
            "text/plain": [
              "LoadJob<project=motor-de-recomendaciones, location=northamerica-northeast1, id=97f476c6-a27a-4a07-915e-3925b8a95470>"
            ]
          },
          "execution_count": 80,
          "metadata": {},
          "output_type": "execute_result"
        }
      ],
      "source": [
        "import io\n",
        "# Write DataFrame to stream as parquet file; does not hit disk\n",
        "with io.BytesIO() as stream:\n",
        "    df.write_parquet(stream)\n",
        "    stream.seek(0)\n",
        "    job = client.load_table_from_file(\n",
        "        stream,\n",
        "        destination='datos_icfes.icefes_20192',\n",
        "        project='motor-de-recomendaciones',\n",
        "        job_config=bigquery.LoadJobConfig(\n",
        "            source_format=bigquery.SourceFormat.PARQUET,\n",
        "        ),\n",
        "    )\n",
        "job.result()  # Waits for the job to complete"
      ]
    },
    {
      "cell_type": "markdown",
      "metadata": {
        "id": "K_fRXTgfVgf2"
      },
      "source": [
        "### Comparación\n",
        "\n",
        "\n",
        "#### Lectura de datos\n",
        "![](https://miro.medium.com/v2/resize:fit:828/format:webp/1*HWibbnVYohpKbpjMmL15rw.png)\n",
        "\n",
        "#### Operaciones de agregación\n",
        "![](https://miro.medium.com/v2/resize:fit:828/format:webp/1*7-xfg0arCNVTv4AG3yzTwg.png)\n",
        "\n",
        "#### Filtros y selección\n",
        "\n",
        "![](https://miro.medium.com/v2/resize:fit:828/format:webp/1*XR09526SmAUHrBwr0lfFzg.png)\n",
        "\n",
        "#### Operación de clasificación\n",
        "![](https://miro.medium.com/v2/resize:fit:828/format:webp/1*Blya6y4zfInlBPe-u2nOEA.png)"
      ]
    },
    {
      "cell_type": "markdown",
      "metadata": {
        "id": "ww68fSx8Vgf3"
      },
      "source": []
    },
    {
      "cell_type": "markdown",
      "metadata": {
        "id": "06Qa4IjiVgf3"
      },
      "source": [
        "### Puedes ver más información\n",
        "\n",
        "1. https://github.com/pola-rs/polars\n",
        "2. https://medium.com/cuenex/pandas-2-0-vs-polars-the-ultimate-battle-a378eb75d6d1\n",
        "3. https://docs.pola.rs/user-guide/"
      ]
    },
    {
      "cell_type": "markdown",
      "metadata": {
        "id": "15oL8uX2Vgf3"
      },
      "source": []
    }
  ],
  "metadata": {
    "colab": {
      "provenance": [],
      "include_colab_link": true
    },
    "kernelspec": {
      "display_name": "Python 3",
      "name": "python3"
    },
    "language_info": {
      "codemirror_mode": {
        "name": "ipython",
        "version": 3
      },
      "file_extension": ".py",
      "mimetype": "text/x-python",
      "name": "python",
      "nbconvert_exporter": "python",
      "pygments_lexer": "ipython3",
      "version": "3.9.12"
    }
  },
  "nbformat": 4,
  "nbformat_minor": 0
}
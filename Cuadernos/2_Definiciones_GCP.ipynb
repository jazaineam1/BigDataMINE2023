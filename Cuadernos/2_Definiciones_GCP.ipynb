{
  "nbformat": 4,
  "nbformat_minor": 0,
  "metadata": {
    "colab": {
      "provenance": [],
      "include_colab_link": true
    },
    "kernelspec": {
      "name": "python3",
      "display_name": "Python 3"
    },
    "language_info": {
      "name": "python"
    }
  },
  "cells": [
    {
      "cell_type": "markdown",
      "metadata": {
        "id": "view-in-github",
        "colab_type": "text"
      },
      "source": [
        "<a href=\"https://colab.research.google.com/github/jazaineam1/BigDataMINE2023/blob/main/Cuadernos/2_Definiciones_GCP.ipynb\" target=\"_parent\"><img src=\"https://colab.research.google.com/assets/colab-badge.svg\" alt=\"Open In Colab\"/></a>"
      ]
    },
    {
      "cell_type": "markdown",
      "source": [
        "# ***Algunas definiciones más y una breve introducción a GCP***\n",
        "\n",
        "\n",
        "\n",
        "\n",
        ">## ***Big Data.***\n",
        ">## ***Docente: Antonino Zainea Maya.***"
      ],
      "metadata": {
        "id": "MT4SA6lFMztX"
      }
    },
    {
      "cell_type": "markdown",
      "source": [
        "## OLTP, OLAP, ETL, DataWarehouse, DataLake y ETL\n",
        "\n",
        "### OLTP\n",
        "\n",
        "El Procesamiento de Transacciones en Línea (OLTP, por sus siglas en inglés) es un sistema de software que se encarga de procesar datos orientados a transacciones en tiempo real y no a través de procesamiento por lotes. Estos sistemas OLTP almacenan datos operativos que están normalizados, lo que significa que están organizados de manera eficiente para su procesamiento y consulta. Estos datos suelen ser una fuente común de información estructurada y sirven como entrada para muchos procesos analíticos. Además, los resultados del análisis de Big Data pueden utilizarse para enriquecer los datos OLTP almacenados en las bases de datos relacionales subyacentes.\n",
        "\n",
        "\n",
        "\n",
        "Algunos ejemplos de aplicaciones que utilizan sistemas OLTP incluyen sistemas de reservas de boletos, sistemas bancarios y sistemas de punto de venta (por ejemplo, en tiendas minoristas). En resumen, OLTP se centra en el procesamiento de transacciones en tiempo real y en mantener y actualizar datos operativos esenciales para las operaciones comerciales diarias.\n",
        "\n",
        "\n",
        "### OLAP\n",
        "\n",
        "El Procesamiento Analítico en Línea (OLAP, por sus siglas en inglés) se utiliza para procesar consultas de análisis de datos. Los sistemas OLAP son una parte integral de la inteligencia empresarial, la minería de datos y los procesos de aprendizaje automático. Son relevantes para el Big Data porque pueden servir tanto como fuente de datos como un receptor de datos. Se utilizan en análisis diagnósticos, predictivos y prescriptivos.\n",
        "\n",
        "Los sistemas OLAP realizan consultas complejas y de larga duración contra una base de datos multidimensional cuya estructura está optimizada para llevar a cabo análisis avanzados. Estos sistemas almacenan datos históricos que están agregados y desnormalizados para admitir una capacidad de generación de informes rápida. Además, utilizan bases de datos que almacenan datos históricos en estructuras multidimensionales y pueden responder a consultas complejas basadas en las relaciones entre múltiples aspectos de los datos.\n",
        "\n",
        "En resumen, los sistemas OLAP son fundamentales para el análisis de datos en profundidad, ya que están diseñados para ejecutar consultas complejas sobre datos históricos y brindar información valiosa para la toma de decisiones en empresas. Son esenciales en el ámbito de la inteligencia empresarial y se utilizan en una variedad de aplicaciones, incluyendo diagnósticos, predicciones y análisis prescriptivos.\n",
        "\n",
        "\n",
        "### ETL\n",
        "\n",
        "El proceso Extract Transform Load (ETL) es un proceso que implica cargar datos desde un sistema fuente hacia un sistema destino. El sistema fuente puede ser una base de datos, un archivo plano o una aplicación, y el sistema destino puede ser una base de datos u otro sistema de almacenamiento.\n",
        "\n",
        "El ETL es la operación principal a través de la cual se alimentan los almacenes de datos con información. En el contexto del Big Data, el ETL se utiliza para convertir datos de diferentes tipos y fuentes en un formato y estructura que sea adecuado para su análisis y almacenamiento.\n",
        "\n",
        "El proceso ETL consta de tres etapas:\n",
        "\n",
        "1. Extracción (Extract): En esta etapa, los datos se obtienen o extraen de las fuentes de origen. Estas fuentes pueden ser bases de datos, archivos planos u aplicaciones. La extracción puede implicar la selección de datos específicos que son relevantes para el análisis.\n",
        "\n",
        "2. Transformación (Transform): Después de extraer los datos, se aplican reglas y transformaciones para modificarlos según sea necesario. Esto puede incluir la limpieza de datos, la conversión de formatos y la agregación de información, entre otros procesos. El objetivo es preparar los datos para su posterior análisis.\n",
        "\n",
        "3. Carga (Load): En la etapa final, los datos transformados se insertan o cargan en el sistema destino, que generalmente es un almacén de datos o una base de datos. Los datos ahora están listos para su uso en análisis y generación de informes.\n",
        "\n",
        "\n",
        "### Relación entre ETL, OLAP y OLTP:\n",
        "\n",
        "El proceso ETL sirve como un puente entre OLTP y OLAP. Extrae datos transaccionales de sistemas OLTP, los transforma y luego los carga en sistemas OLAP para su análisis.\n",
        "Ejemplo: Supongamos que tu sistema OLTP es un sistema de gestión de clientes que registra nuevas inscripciones diariamente. Usarías ETL para extraer esos datos, transformarlos para calcular la cantidad de inscripciones mensuales y luego cargar esos datos en un sistema OLAP para análisis de tendencias de inscripción a lo largo del tiempo.\n",
        "\n",
        "\n",
        "\n",
        "### Data Warehouse\n",
        "\n",
        "Un Data Warehouse (almacén de datos) es un repositorio central y empresarial que contiene datos históricos y actuales de una organización. Estos almacenes de datos son ampliamente utilizados en la inteligencia empresarial (BI) para ejecutar diversas consultas analíticas. Por lo general, interactúan con sistemas OLAP (Procesamiento Analítico en Línea) para admitir consultas analíticas multidimensionales. Los datos de múltiples entidades comerciales procedentes de diferentes sistemas operativos se extraen periódicamente, validan, transforman y consolidan en una única base de datos desnormalizada en el almacén de datos. Con las importaciones periódicas de datos de toda la empresa, la cantidad de datos contenidos en un almacén de datos seguirá aumentando con el tiempo, lo que puede llevar a tiempos de respuesta más lentos en las consultas de análisis de datos. Para resolver esta limitación, los almacenes de datos suelen contener bases de datos optimizadas, denominadas bases de datos analíticas, para manejar tareas de informes y análisis de datos. Una base de datos analítica puede existir como un DBMS (Sistema de Gestión de Bases de Datos) separado, como en el caso de una base de datos OLAP.\n",
        "\n",
        "**Ejemplo**: Supongamos que una cadena minorista utiliza un Data Warehouse para almacenar datos de ventas históricos de todas sus tiendas. El Data Warehouse recopila información sobre las transacciones de ventas, incluidos los productos vendidos, las fechas de compra y las ubicaciones de las tiendas. Luego, los analistas pueden usar este Data Warehouse para realizar análisis como calcular las ventas totales por producto durante un período de tiempo específico o identificar tendencias de ventas en diferentes ubicaciones de tiendas.\n",
        "\n",
        "**Herramientas comunes para Data Warehouses**:\n",
        "- **Microsoft SQL Server Analysis Services**: Proporciona capacidades de almacenamiento y procesamiento analítico en línea para Data Warehouses.\n",
        "- **Oracle Exadata**: Ofrece una plataforma de hardware y software optimizada para Data Warehouses.\n",
        "- **Amazon Redshift**: Un servicio de almacén de datos en la nube de Amazon Web Services (AWS) diseñado para análisis de alto rendimiento.\n",
        "- **Snowflake**: Una plataforma de almacén de datos en la nube que admite análisis y consulta de datos a gran escala.\n",
        "- **Google BigQuery**: Un servicio de Google Cloud para análisis de datos en tiempo real.\n",
        "- **Teradata**: Una solución de almacén de datos empresarial que ofrece capacidades de análisis y consulta.\n",
        "\n",
        "### **Data Marts**\n",
        "\n",
        " son subconjuntos de datos almacenados en un Data Warehouse que suelen estar diseñados para un departamento, división o línea de negocio específica dentro de una organización. Los Data Marts se crean a partir de los datos del Data Warehouse, y a menudo contienen datos específicos y relevantes para un grupo particular de usuarios dentro de la empresa. Esto ayuda a mejorar la accesibilidad y el rendimiento de los datos para usuarios específicos.\n",
        "\n",
        "**Ejemplo**: Dentro de una gran empresa de ventas al por mayor, el Data Warehouse principal podría contener todos los datos relacionados con ventas, inventario y finanzas. Sin embargo, el departamento de ventas podría tener su propio Data Mart que contiene solo los datos de ventas que son relevantes para sus necesidades. Esto permite que el departamento de ventas acceda y analice sus datos de manera más eficiente sin tener que buscar a través de un gran almacén de datos.\n"
      ],
      "metadata": {
        "id": "n6w_pmBcQd2w"
      }
    },
    {
      "cell_type": "markdown",
      "source": [
        "## Computo en la nube\n",
        "\n",
        "El cómputo en la nube, también conocido como \"cloud computing,\" es un modelo de entrega de servicios de tecnología de la información a través de internet. Dentro de este modelo, se pueden identificar varios principios clave que incluyen:\n",
        "\n",
        "1. **Auto servicio y bajo demanda:** Esto significa que los usuarios pueden acceder a recursos informáticos, como servidores, almacenamiento y aplicaciones, según sus necesidades sin necesidad de la intervención humana de un proveedor de servicios. Los usuarios pueden solicitar y configurar recursos de manera autónoma a medida que los requieren, lo que proporciona una mayor flexibilidad y agilidad en la gestión de recursos.\n",
        "\n",
        "2. **Conectado en la red:** Los recursos de cómputo en la nube están disponibles a través de internet. Los usuarios pueden acceder a estos recursos desde cualquier lugar con una conexión a internet, lo que facilita el acceso remoto y la colaboración en línea. Además, la infraestructura en la nube está distribuida geográficamente, lo que puede mejorar la disponibilidad y la redundancia de los servicios.\n",
        "\n",
        "3. **Economías de escala:** Los proveedores de servicios en la nube operan grandes centros de datos con una infraestructura masiva. Esto les permite aprovechar economías de escala para ofrecer recursos informáticos a un costo más bajo que si cada usuario tuviera que gestionar su propia infraestructura local. Los usuarios comparten los costos operativos y de mantenimiento con otros usuarios del servicio en la nube.\n",
        "\n",
        "4. **Elasticidad:** La elasticidad se refiere a la capacidad de los recursos en la nube para adaptarse dinámicamente a las necesidades cambiantes de la carga de trabajo. Los usuarios pueden escalar vertical u horizontalmente sus recursos de manera rápida y eficiente en función de la demanda. Esto significa que pueden aumentar o reducir la capacidad de cómputo, el almacenamiento y otros recursos según sea necesario, lo que optimiza el uso de recursos y reduce los costos.\n",
        "\n",
        "5. **Servicio medido:** En el cómputo en la nube, los usuarios suelen pagar solo por los recursos que realmente consumen. Los proveedores de servicios en la nube utilizan modelos de precios basados en el uso, lo que significa que los usuarios son facturados en función de la cantidad de recursos que consumen y el tiempo que los utilizan. Esto proporciona transparencia en los costos y permite a los usuarios controlar y optimizar sus gastos.\n",
        "\n",
        "![](https://cloud.google.com/static/images/locations/edgepoint-map-popup.jpg?hl=es)\n",
        "[Ver más](https://cloud.google.com/infrastructure?hl=es)\n",
        "\n",
        "\n",
        "\n",
        "<iframe width=\"560\" height=\"315\" src=\"https://www.youtube.com/embed/kd33UVZhnAA?si=utsSFgCHgf_efHuE\" title=\"YouTube video player\" frameborder=\"0\" allow=\"accelerometer; autoplay; clipboard-write; encrypted-media; gyroscope; picture-in-picture; web-share\" allowfullscreen></iframe>\n"
      ],
      "metadata": {
        "id": "4dRCnUs25mOP"
      }
    },
    {
      "cell_type": "markdown",
      "source": [],
      "metadata": {
        "id": "Ebfe4_jHQc7C"
      }
    },
    {
      "cell_type": "markdown",
      "source": [
        "## Datacenter\n",
        "\n",
        "Un datacenter (o centro de datos, en español) es una instalación física diseñada para alojar y gestionar una gran cantidad de equipos informáticos, servidores, sistemas de almacenamiento de datos y otros componentes de infraestructura tecnológica. Su principal función es proporcionar un entorno seguro y controlado para el almacenamiento, procesamiento y gestión de datos, aplicaciones y servicios de tecnología de la información.\n",
        "\n",
        "Aquí hay algunas características clave de un datacenter:\n",
        "\n",
        "1. **Alojamiento de servidores y equipos:** Los datacenters albergan servidores, que son computadoras especializadas diseñadas para ejecutar aplicaciones, servicios y sistemas de almacenamiento. Estos servidores pueden ser propiedad de la organización que opera el datacenter o de terceros que alquilan espacio en el datacenter para alojar sus equipos.\n",
        "\n",
        "2. **Condiciones ambientales controladas:** Los datacenters están diseñados para mantener condiciones ambientales óptimas, incluida la temperatura, la humedad y la calidad del aire. Esto es esencial para garantizar el funcionamiento confiable de los equipos y reducir el riesgo de fallas debido al sobrecalentamiento u otras condiciones adversas.\n",
        "\n",
        "3. **Seguridad física:** Los datacenters suelen contar con medidas de seguridad física rigurosas, como sistemas de acceso restringido, vigilancia por video, sistemas de detección de intrusos y alarmas. Esto se hace para proteger los activos valiosos de hardware y datos almacenados en el datacenter.\n",
        "\n",
        "4. **Alimentación ininterrumpida (UPS) y generadores de respaldo:** Para garantizar la disponibilidad continua de servicios, los datacenters suelen contar con sistemas de alimentación ininterrumpida (UPS) y generadores de respaldo que entran en acción en caso de interrupciones en la energía eléctrica.\n",
        "\n",
        "5. **Conexión de red redundante:** Los datacenters están conectados a múltiples proveedores de servicios de Internet para garantizar una conectividad de red confiable y redundante. Esto ayuda a prevenir la interrupción de servicios debido a fallos de red.\n",
        "\n",
        "6. **Mantenimiento y administración:** Los datacenters requieren un mantenimiento constante y una gestión efectiva para garantizar que los equipos funcionen de manera eficiente y segura. Esto incluye actualizaciones de hardware, reparaciones, gestión de parches de seguridad y otras tareas de administración.\n",
        "\n",
        "7. **Escalabilidad:** Los datacenters suelen estar diseñados con la capacidad de escalar su infraestructura para satisfacer las necesidades cambiantes de las organizaciones. Esto permite agregar más servidores y recursos según sea necesario.\n",
        "\n",
        "Los datacenters desempeñan un papel fundamental en la infraestructura tecnológica de muchas organizaciones, ya que proporcionan el espacio y la infraestructura necesarios para alojar servidores y sistemas críticos, respaldar aplicaciones empresariales y almacenar datos importantes. Además, con la creciente importancia de la nube y los servicios en línea, los datacenters también pueden servir como la base para ofrecer servicios en la nube a gran escala."
      ],
      "metadata": {
        "id": "TWHZXUp18zI4"
      }
    },
    {
      "cell_type": "code",
      "source": [
        "# @title\n",
        "from IPython.display import YouTubeVideo\n",
        "\n",
        "# Inserta el video de YouTube utilizando su ID\n",
        "YouTubeVideo('XZmGGAbHqa0', width=560, height=315)\n"
      ],
      "metadata": {
        "colab": {
          "base_uri": "https://localhost:8080/",
          "height": 337
        },
        "id": "nzqkKTlP59h8",
        "outputId": "881762d7-f501-4ec2-e21f-dd988431a375"
      },
      "execution_count": null,
      "outputs": [
        {
          "output_type": "execute_result",
          "data": {
            "text/plain": [
              "<IPython.lib.display.YouTubeVideo at 0x7cbaae3b3b20>"
            ],
            "text/html": [
              "\n",
              "        <iframe\n",
              "            width=\"560\"\n",
              "            height=\"315\"\n",
              "            src=\"https://www.youtube.com/embed/XZmGGAbHqa0\"\n",
              "            frameborder=\"0\"\n",
              "            allowfullscreen\n",
              "            \n",
              "        ></iframe>\n",
              "        "
            ],
            "image/jpeg": "[encoded data removed]"
          },
          "metadata": {},
          "execution_count": 1
        }
      ]
    },
    {
      "cell_type": "markdown",
      "source": [
        "### Como crear una cuenta en GCP\n",
        "\n",
        "\n",
        "1. Crea una cuenta de gmail o usa una cuenta cualquiera, luego de esto dirigete al siguiente enlace [GCP](https://console.cloud.google.com/getting-started)\n",
        "\n",
        "2. Selecciona el páis y acepta las condiciones del servicio, llegarás a esta pantalla\n",
        "\n",
        "\n",
        "\n",
        "\n",
        "\n",
        "<img src=\"https://github.com/jazaineam1/jazaineam1.github.io/blob/main/Images/GCP/1.png?raw=true\" alt=\"drawing\" width=\"800\"/>\n",
        "\n",
        "3. Da click en probar gratis  y acepta condciones e ingresa la información solicitada.\n",
        "4. Para esto debes tener una tarjeta de crédito te recomiendo crear una tarjeta de crédito recargable en nequi y no usar la tuya personal, aunque hay forma de desvincular la TC de la cuenta o no generar cargos por uso, hay ocaciones en donde la persona que lo usa puede olvidar hacerlo y generarse cobros.\n",
        "\n",
        "5. llegaras a la siguiente página y darás click a iniciar prueba gratis, GCP nos da 300 usd para uso en su plataforma para gastos en 30 días\n",
        "\n",
        "<img src=\"https://github.com/jazaineam1/jazaineam1.github.io/blob/main/Images/GCP/2.png?raw=true\" alt=\"drawing\" width=\"800\"/>\n",
        "\n",
        "6. La página te redirigirá a la bienvenida\n",
        "\n",
        "<img src=\"https://github.com/jazaineam1/jazaineam1.github.io/blob/main/Images/GCP/3.png?raw=true\" alt=\"drawing\" width=\"800\"/>\n",
        "\n",
        "7. Puedes revisar tus cargos y que se encuentre activado el crédito de 300 usd en la parte de facturación, puedes aprender más en el label aprendizaje en donde te muestran algunos instructivos sobre la herramienta que este consultando.\n",
        "\n",
        "<img src=\"https://github.com/jazaineam1/jazaineam1.github.io/blob/main/Images/GCP/4.png?raw=true\" alt=\"drawing\" width=\"800\"/>\n",
        "\n",
        "\n",
        "\n",
        "Dentro de GCP puedes encontrar las siguientes herramientas:\n",
        "\n",
        "<img src=\"https://github.com/jazaineam1/jazaineam1.github.io/blob/main/Images/GCP/5.png?raw=true\" alt=\"drawing\" width=\"800\"/>\n",
        "\n",
        "\n",
        "una arquitectura referencial que pueda ser usada es la siguiente:\n",
        "\n",
        "<img src=\"https://github.com/jazaineam1/jazaineam1.github.io/blob/main/Images/GCP/6.png?raw=true\" alt=\"drawing\" width=\"800\"/>\n",
        "\n",
        "\n",
        "### Ingesta\n",
        "\n",
        "\n",
        "\n",
        "1. **Cloud Pub/Sub** 📢\n",
        "   - Descripción: Cloud Pub/Sub es un servicio de mensajería en la nube que permite la comunicación entre componentes y aplicaciones en tiempo real. Puede utilizarse para transmitir datos y eventos de manera segura y escalable.\n",
        "\n",
        "2. **DataTransfer** 🔄\n",
        "   - Descripción: DataTransfer es una herramienta que facilita la transferencia de datos entre diferentes servicios y ubicaciones en Google Cloud. Permite mover datos de manera eficiente y programada.\n",
        "\n",
        "\n",
        "### Flujo y procesamiento\n",
        "\n",
        "\n",
        "1. **Cloud Dataproc** ☁️🐘\n",
        "   - Descripción: Cloud Dataproc es un servicio de administración y ejecución de clústeres de Hadoop y Spark en la nube. Permite el procesamiento distribuido y escalable de grandes conjuntos de datos utilizando herramientas familiares como Hadoop y Spark, sin preocuparse por la infraestructura subyacente.\n",
        "\n",
        "2. **Cloud Dataprep** ☁️🧹\n",
        "   - Descripción: Cloud Dataprep es una herramienta de preparación de datos visual que simplifica y agiliza el proceso de limpieza, transformación y preparación de datos para su análisis. Ofrece una interfaz intuitiva para limpiar y dar forma a los datos antes de cargarlos en sistemas de análisis.\n",
        "\n",
        "### Análisis y almacenamiento\n",
        "\n",
        "\n",
        "\n",
        "1. **BigQuery** ☁️🔍\n",
        "   - Descripción: BigQuery es un servicio de almacén de datos completamente administrado y un motor de consulta de Google Cloud. Permite a las organizaciones analizar grandes conjuntos de datos de manera rápida y escalable utilizando SQL estándar. BigQuery se utiliza para ejecutar consultas analíticas en tiempo real y generar informes a partir de datos almacenados en la nube.\n",
        "\n",
        "2. **Cloud Storage** ☁️📂\n",
        "   - Descripción: Cloud Storage es un servicio de almacenamiento en la nube de Google que permite a las empresas almacenar, gestionar y acceder a datos de manera segura y escalable. Se utiliza para almacenar una amplia variedad de tipos de datos, incluidos archivos, imágenes, videos y datos estructurados o no estructurados. Cloud Storage proporciona una alta durabilidad y disponibilidad de datos, lo que lo convierte en una opción confiable para la gestión de datos en la nube.\n",
        "\n",
        "### Accionables e inteligencia\n",
        "\n",
        "\n",
        "1. **Looker** 👁️🔍\n",
        "   - Descripción: Looker es una plataforma de inteligencia empresarial (BI) y análisis de datos que permite a las organizaciones explorar y visualizar datos, crear informes y paneles interactivos, y compartir información con los equipos de toda la empresa. Looker facilita la toma de decisiones basadas en datos al proporcionar acceso a análisis en tiempo real y datos actualizados.\n",
        "\n",
        "2. **Vertex** 🌐💡\n",
        "   - Descripción: Vertex es una plataforma de administración de impuestos en la nube de Google Cloud que ayuda a las organizaciones a calcular y gestionar impuestos de manera más eficiente y precisa. Ofrece capacidades avanzadas de cálculo de impuestos, cumplimiento normativo y automatización de procesos fiscales.\n",
        "\n",
        "3. **Connected Sheets** 📊✨\n",
        "   - Descripción: Connected Sheets es una característica de Google Sheets que permite a los usuarios de GCP explorar y analizar datos directamente desde Google Sheets utilizando fuentes de datos en la nube, como BigQuery. Permite a los usuarios aprovechar la potencia de las bases de datos en la nube para realizar análisis en hojas de cálculo familiares, lo que facilita la colaboración y el análisis de datos en tiempo real.\n",
        "\n",
        "\n",
        "\n",
        "\n"
      ],
      "metadata": {
        "id": "jnyn3bq0Uzea"
      }
    },
    {
      "cell_type": "markdown",
      "source": [
        "## Exploración de Google Cloud Platform\n",
        "\n",
        "\n",
        "1. Ingresa al home de GCP en el enlace [https://console.cloud.google.com/home](https://console.cloud.google.com/home)\n",
        "\n",
        "2. en las 3 lineas en la parte superior derecha busca el servicio de BigQuery\n",
        "\n",
        "<img src=\"https://github.com/jazaineam1/jazaineam1.github.io/blob/main/Images/GCP/7.png?raw=true\" alt=\"drawing\" width=\"800\"/>\n"
      ],
      "metadata": {
        "id": "c-PLLveOjiCO"
      }
    },
    {
      "cell_type": "markdown",
      "source": [
        "Sigue los pasos del siguiente video"
      ],
      "metadata": {
        "id": "a3EhsSwMCysq"
      }
    },
    {
      "cell_type": "code",
      "source": [
        "# @title\n",
        "from IPython.display import YouTubeVideo\n",
        "\n",
        "# Inserta el video de YouTube utilizando su ID\n",
        "YouTubeVideo('4QyLYJkLgik', width=560, height=315)"
      ],
      "metadata": {
        "colab": {
          "base_uri": "https://localhost:8080/",
          "height": 336
        },
        "cellView": "form",
        "id": "BpABplUiCWjR",
        "outputId": "d5382f68-d66e-4fc5-941f-ab39982a1922"
      },
      "execution_count": null,
      "outputs": [
        {
          "output_type": "execute_result",
          "data": {
            "text/plain": [
              "<IPython.lib.display.YouTubeVideo at 0x7a2b28996950>"
            ],
            "text/html": [
              "\n",
              "        <iframe\n",
              "            width=\"560\"\n",
              "            height=\"315\"\n",
              "            src=\"https://www.youtube.com/embed/4QyLYJkLgik\"\n",
              "            frameborder=\"0\"\n",
              "            allowfullscreen\n",
              "            \n",
              "        ></iframe>\n",
              "        "
            ],
            "image/jpeg": "[encoded data removed]"
          },
          "metadata": {},
          "execution_count": 18
        }
      ]
    },
    {
      "cell_type": "markdown",
      "source": [
        "Si quieres realizar algunas consultas existen los siguientes ejemplos:\n",
        "\n",
        "\n",
        "¿Cuáles son las estaciones de Citi Bike más populares?\n",
        "Primero, veamos las estaciones de Citi Bike más populares, incluyendo su nombre, ubicación y número de viajes. Ejecute esta consulta en BigQuery.\n",
        "\n",
        "```sql\n",
        "#standardSQL\n",
        "SELECT\n",
        "  start_station_name,\n",
        "  start_station_latitude,\n",
        "  start_station_longitude,\n",
        "  COUNT(*) AS num_trips\n",
        "FROM\n",
        "  `bigquery-public-data.new_york.citibike_trips`\n",
        "GROUP BY\n",
        "  1,\n",
        "  2,\n",
        "  3\n",
        "ORDER BY\n",
        "  num_trips DESC\n",
        "LIMIT\n",
        "  10\n",
        "```\n",
        "\n",
        "¿Cuáles son las rutas más populares por tipo de suscriptor?\n",
        "A continuación, veamos las rutas más populares por tipo de suscriptor, donde \"Suscriptores\" son miembros de Citibike y \"Clientes\" son usuarios ocasionales. Esta consulta utiliza CONCAT para obtener la ruta. Ejecute esta consulta en BigQuery.\n",
        "\n",
        "```sql\n",
        "SELECT\n",
        "  usertype,\n",
        "  CONCAT(start_station_name, \" to \", end_station_name) as route,\n",
        "  COUNT(*) as num_trips,\n",
        "  ROUND(AVG(cast(tripduration as int64) / 60),2) as duration\n",
        "FROM\n",
        "  `bigquery-public-data.new_york.citibike_trips`\n",
        "GROUP BY\n",
        "  start_station_name, end_station_name, usertype\n",
        "ORDER BY\n",
        "  num_trips DESC\n",
        "LIMIT 10\n",
        "```\n",
        "\n",
        "¿Cuáles son las rutas principales por género?\n",
        "Esta consulta analiza las rutas principales por género. Aquí obtenemos las rutas principales para mujeres en 2016. Esta consulta se puede editar fácilmente para diferentes años y géneros. Ejecute esta consulta en BigQuery.\n",
        "\n",
        "```sql\n",
        "SELECT\n",
        "  CONCAT(start_station_name, \" to \", end_station_name) AS route,\n",
        "  COUNT(*) AS num_trips\n",
        "FROM\n",
        "  `bigquery-public-data.new_york.citibike_trips`\n",
        "WHERE\n",
        "  gender = \"female\"\n",
        "  AND CAST(starttime AS string) LIKE '2016%'\n",
        "GROUP BY\n",
        "  start_station_name,\n",
        "  end_station_name\n",
        "ORDER BY\n",
        "  num_trips DESC\n",
        "LIMIT\n",
        "  5\n",
        "```"
      ],
      "metadata": {
        "id": "nOtxG_TOFFTd"
      }
    },
    {
      "cell_type": "markdown",
      "source": [
        "### Carga de conjunto de datos en BigQuery\n",
        "\n",
        "1. Descarga el siguiente conjunto de datos [Icfes](https://raw.githubusercontent.com/jazaineam1/BigData2023_2/main/Datos/Saber_11__2019-2.csv)\n",
        "2. Crea un nuevo conjunto de datos, dale un nombre en mi caso _datos_icfes_, veras que el nombre aparecerá en los recursos a mano izquierda, luego da click en los 3 puntos y selecciona crear tabla.\n",
        "<img src=\"https://github.com/jazaineam1/jazaineam1.github.io/blob/main/Images/GCP/8.png?raw=true\" alt=\"drawing\" width=\"800\"/>\n",
        "\n",
        "selecciona las siguientes opciones:\n",
        "* Crear tabla desde: Subir.\n",
        "* Seleccione archivo desde: explorar y carga el archivo Saber_11_2019-2.csv\n",
        "* formato: csv\n",
        "* Tabla: dale un nombre a la tabla en mi caso _icefes_2019_\n",
        "* Esquema: Detección automática\n",
        "\n",
        "y click en crear tabla.\n",
        " debe ser algo similar a la siguiente pantalla, en caso de no mostrase la tabla debes recargar la página.\n",
        "\n",
        "<img src=\"https://github.com/jazaineam1/jazaineam1.github.io/blob/main/Images/GCP/9.png?raw=true\" alt=\"drawing\" width=\"800\"/>\n",
        "\n",
        "\n",
        "**Reto**\n",
        "\n",
        "Revisa la información de esquema, Detalles y vista previa, da click en consulta y realiza una consulta usando lenguaje SQL con el conjunto de datos."
      ],
      "metadata": {
        "id": "ENMq-aE6GEqe"
      }
    },
    {
      "cell_type": "markdown",
      "source": [
        "### Uso de cuentas de servicio, descarga de clave y uso de BigQuery desde python\n",
        "\n",
        "\n",
        "Una cuenta de servicio en Google Cloud Platform (GCP) es una identidad que representa a una aplicación o un servicio en lugar de a una persona. Está diseñada para permitir que las aplicaciones y servicios accedan a los recursos de GCP de manera segura sin necesidad de utilizar las credenciales de un usuario individual. Las cuentas de servicio son una parte fundamental de la gestión de la identidad y el acceso en GCP y se utilizan en una variedad de casos, como la autenticación de aplicaciones, el acceso a APIs de GCP y la automatización de tareas.\n",
        "\n",
        "Aquí hay algunas características clave de las cuentas de servicio en GCP:\n",
        "\n",
        "1. **Identidad no humana:** Las cuentas de servicio no están asociadas con usuarios humanos. Son utilizadas por aplicaciones, máquinas o servicios para autenticarse en GCP.\n",
        "\n",
        "2. **Acceso controlado:** Puedes configurar políticas de acceso y permisos para limitar las acciones que una cuenta de servicio puede realizar en los recursos de GCP. Esto garantiza la seguridad y el control de acceso.\n",
        "\n",
        "3. **Autenticación segura:** Las cuentas de servicio utilizan claves de autenticación (a menudo en formato JSON) para autenticarse en GCP. Estas claves se utilizan en lugar de contraseñas de usuario.\n",
        "\n",
        "4. **Utilización en servicios gestionados:** Muchos servicios de Google Cloud utilizan cuentas de servicio de manera interna para interactuar con otros servicios o recursos de GCP de manera segura.\n",
        "\n",
        "5. **Escalabilidad y automatización:** Las cuentas de servicio son esenciales para la automatización de tareas en GCP, como la implementación de aplicaciones, la administración de recursos y la gestión de la infraestructura.\n",
        "\n",
        "Algunos ejemplos de casos de uso comunes para cuentas de servicio incluyen la creación de instancias de máquinas virtuales con acceso a APIs de Google, la autenticación de aplicaciones web que interactúan con recursos de GCP, y la gestión de flujos de trabajo de procesamiento de datos en BigQuery o Cloud Dataflow.\n",
        "\n",
        "1. Ingresa a la pagina de gcp de nuevo y busca opción cuenta de servicio dentro del apartado IAM.\n",
        "\n",
        "<img src=\"https://github.com/jazaineam1/jazaineam1.github.io/blob/main/Images/GCP/10.png?raw=true\" alt=\"drawing\" width=\"800\"/>\n",
        "\n",
        "2. crea una nueva cuenta de servicio, dale un nombre y una descripción y continuar, otorga permisos de básico- editor en el apartado rol y por último dale click a listo y veras tu clave en un listado dale click .\n",
        "\n",
        "\n",
        "<img src=\"https://github.com/jazaineam1/jazaineam1.github.io/blob/main/Images/GCP/11.png?raw=true\" alt=\"drawing\" width=\"800\"/>\n",
        "\n",
        "3. Ve al apartado claves , agregar clave y crear nueva clave, selecciona la opción json y descarga tu clave.\n",
        "\n",
        "  \n",
        "<img src=\"https://github.com/jazaineam1/jazaineam1.github.io/blob/main/Images/GCP/12.png?raw=true\" alt=\"drawing\" width=\"800\"/>\n",
        "\n",
        "Ahora seguiremos en python ..."
      ],
      "metadata": {
        "id": "T-nlmMEvJohk"
      }
    },
    {
      "cell_type": "markdown",
      "source": [],
      "metadata": {
        "id": "twbIOx_nN7bP"
      }
    },
    {
      "cell_type": "markdown",
      "source": [
        "Intala la libreria de bigquery con el siguiente comando"
      ],
      "metadata": {
        "id": "9bL25Ce1Lryv"
      }
    },
    {
      "cell_type": "code",
      "source": [
        "%%capture\n",
        "pip install --upgrade google-cloud-bigquery"
      ],
      "metadata": {
        "id": "VXfn2bR2XGV5"
      },
      "execution_count": null,
      "outputs": []
    },
    {
      "cell_type": "markdown",
      "source": [
        "carga tu archivo en el ambiente de colab y remplaza por el nombre de tu llave en la linea de keypath, si tienes un nombre de proyecto, dataset o nombre de tabla diferente en tu tabbla icfes, reemplazala en las 3 últimas lineas de de el siguiente código."
      ],
      "metadata": {
        "id": "Tqf-k5m9LxDP"
      }
    },
    {
      "cell_type": "code",
      "source": [
        "from google.cloud import storage\n",
        "\n",
        "import pandas as pd\n",
        "import numpy as np\n",
        "from google.cloud import bigquery\n",
        "from google.oauth2 import service_account\n",
        "\n",
        "key_path = \"/content/encoded-metrics-398203-ede8fa5ae406.json\" # cambiala por el nombre de tu llave\n",
        "credentials = service_account.Credentials.from_service_account_file(\n",
        "    key_path, scopes=[\"https://www.googleapis.com/auth/cloud-platform\"],\n",
        ")\n",
        "\n",
        "client = bigquery.Client(credentials=credentials, project=credentials.project_id,)\n",
        "# Define the connection parameters\n",
        "project_id = \"encoded-metrics-398203\" #nombre de tu proyecto\n",
        "dataset_id = \"datos_icfes\" # nombre de tu dataset\n",
        "table_id = \"icefes_2019\" #nombre de tu tabla"
      ],
      "metadata": {
        "id": "e53LhLazvSe1"
      },
      "execution_count": null,
      "outputs": []
    },
    {
      "cell_type": "markdown",
      "source": [
        "ejecuta la siguiente linea, puedes cambiar el query por el que realizaste arriba."
      ],
      "metadata": {
        "id": "zmP5-MluMVl8"
      }
    },
    {
      "cell_type": "code",
      "source": [
        "# Define custom functions\n",
        "def bq_query_to_df(query):\n",
        "    query_job = client.query(query)\n",
        "    return query_job.to_dataframe()\n",
        "\n",
        "\n",
        "query1='''\n",
        "SELECT * FROM `encoded-metrics-398203.datos_icfes.icefes_2019` LIMIT 1000\n",
        "'''\n",
        "\n",
        "df=bq_query_to_df(query1)"
      ],
      "metadata": {
        "id": "Sf4yfisQyzzb"
      },
      "execution_count": null,
      "outputs": []
    },
    {
      "cell_type": "code",
      "source": [
        "df.head()\n"
      ],
      "metadata": {
        "colab": {
          "base_uri": "https://localhost:8080/",
          "height": 244
        },
        "id": "gFK8Yo_M7byz",
        "outputId": "5bf08972-ce7a-4852-9968-b6b211b77604"
      },
      "execution_count": null,
      "outputs": [
        {
          "output_type": "execute_result",
          "data": {
            "text/plain": [
              "  ESTU_DEPTO_RESIDE FAMI_ESTRATOVIVIENDA  PUNT_LECTURA_CRITICA  \\\n",
              "0              None                 None                    38   \n",
              "1         ATLANTICO                    -                    57   \n",
              "2            BOGOTÁ                    -                    47   \n",
              "3         ANTIOQUIA                    -                    60   \n",
              "4         SANTANDER                    -                    57   \n",
              "\n",
              "   PUNT_MATEMATICAS  PUNT_C_NATURALES  PUNT_SOCIALES_CIUDADANAS  PUNT_INGLES  \\\n",
              "0                44                46                        30           43   \n",
              "1                61                50                        35           57   \n",
              "2                63                51                        45           49   \n",
              "3                56                47                        47           39   \n",
              "4                50                49                        49           52   \n",
              "\n",
              "   PUNT_GLOBAL  Nueva variable  \n",
              "0          199               1  \n",
              "1          256               1  \n",
              "2          257               1  \n",
              "3          257               1  \n",
              "4          257               1  "
            ],
            "text/html": [
              "\n",
              "  <div id=\"df-0b7b09ff-6a6e-441a-9c56-ce2de1494b72\" class=\"colab-df-container\">\n",
              "    <div>\n",
              "<style scoped>\n",
              "    .dataframe tbody tr th:only-of-type {\n",
              "        vertical-align: middle;\n",
              "    }\n",
              "\n",
              "    .dataframe tbody tr th {\n",
              "        vertical-align: top;\n",
              "    }\n",
              "\n",
              "    .dataframe thead th {\n",
              "        text-align: right;\n",
              "    }\n",
              "</style>\n",
              "<table border=\"1\" class=\"dataframe\">\n",
              "  <thead>\n",
              "    <tr style=\"text-align: right;\">\n",
              "      <th></th>\n",
              "      <th>ESTU_DEPTO_RESIDE</th>\n",
              "      <th>FAMI_ESTRATOVIVIENDA</th>\n",
              "      <th>PUNT_LECTURA_CRITICA</th>\n",
              "      <th>PUNT_MATEMATICAS</th>\n",
              "      <th>PUNT_C_NATURALES</th>\n",
              "      <th>PUNT_SOCIALES_CIUDADANAS</th>\n",
              "      <th>PUNT_INGLES</th>\n",
              "      <th>PUNT_GLOBAL</th>\n",
              "      <th>Nueva variable</th>\n",
              "    </tr>\n",
              "  </thead>\n",
              "  <tbody>\n",
              "    <tr>\n",
              "      <th>0</th>\n",
              "      <td>None</td>\n",
              "      <td>None</td>\n",
              "      <td>38</td>\n",
              "      <td>44</td>\n",
              "      <td>46</td>\n",
              "      <td>30</td>\n",
              "      <td>43</td>\n",
              "      <td>199</td>\n",
              "      <td>1</td>\n",
              "    </tr>\n",
              "    <tr>\n",
              "      <th>1</th>\n",
              "      <td>ATLANTICO</td>\n",
              "      <td>-</td>\n",
              "      <td>57</td>\n",
              "      <td>61</td>\n",
              "      <td>50</td>\n",
              "      <td>35</td>\n",
              "      <td>57</td>\n",
              "      <td>256</td>\n",
              "      <td>1</td>\n",
              "    </tr>\n",
              "    <tr>\n",
              "      <th>2</th>\n",
              "      <td>BOGOTÁ</td>\n",
              "      <td>-</td>\n",
              "      <td>47</td>\n",
              "      <td>63</td>\n",
              "      <td>51</td>\n",
              "      <td>45</td>\n",
              "      <td>49</td>\n",
              "      <td>257</td>\n",
              "      <td>1</td>\n",
              "    </tr>\n",
              "    <tr>\n",
              "      <th>3</th>\n",
              "      <td>ANTIOQUIA</td>\n",
              "      <td>-</td>\n",
              "      <td>60</td>\n",
              "      <td>56</td>\n",
              "      <td>47</td>\n",
              "      <td>47</td>\n",
              "      <td>39</td>\n",
              "      <td>257</td>\n",
              "      <td>1</td>\n",
              "    </tr>\n",
              "    <tr>\n",
              "      <th>4</th>\n",
              "      <td>SANTANDER</td>\n",
              "      <td>-</td>\n",
              "      <td>57</td>\n",
              "      <td>50</td>\n",
              "      <td>49</td>\n",
              "      <td>49</td>\n",
              "      <td>52</td>\n",
              "      <td>257</td>\n",
              "      <td>1</td>\n",
              "    </tr>\n",
              "  </tbody>\n",
              "</table>\n",
              "</div>\n",
              "    <div class=\"colab-df-buttons\">\n",
              "\n",
              "  <div class=\"colab-df-container\">\n",
              "    <button class=\"colab-df-convert\" onclick=\"convertToInteractive('df-0b7b09ff-6a6e-441a-9c56-ce2de1494b72')\"\n",
              "            title=\"Convert this dataframe to an interactive table.\"\n",
              "            style=\"display:none;\">\n",
              "\n",
              "  <svg xmlns=\"http://www.w3.org/2000/svg\" height=\"24px\" viewBox=\"0 -960 960 960\">\n",
              "    <path d=\"M120-120v-720h720v720H120Zm60-500h600v-160H180v160Zm220 220h160v-160H400v160Zm0 220h160v-160H400v160ZM180-400h160v-160H180v160Zm440 0h160v-160H620v160ZM180-180h160v-160H180v160Zm440 0h160v-160H620v160Z\"/>\n",
              "  </svg>\n",
              "    </button>\n",
              "\n",
              "  <style>\n",
              "    .colab-df-container {\n",
              "      display:flex;\n",
              "      gap: 12px;\n",
              "    }\n",
              "\n",
              "    .colab-df-convert {\n",
              "      background-color: #E8F0FE;\n",
              "      border: none;\n",
              "      border-radius: 50%;\n",
              "      cursor: pointer;\n",
              "      display: none;\n",
              "      fill: #1967D2;\n",
              "      height: 32px;\n",
              "      padding: 0 0 0 0;\n",
              "      width: 32px;\n",
              "    }\n",
              "\n",
              "    .colab-df-convert:hover {\n",
              "      background-color: #E2EBFA;\n",
              "      box-shadow: 0px 1px 2px rgba(60, 64, 67, 0.3), 0px 1px 3px 1px rgba(60, 64, 67, 0.15);\n",
              "      fill: #174EA6;\n",
              "    }\n",
              "\n",
              "    .colab-df-buttons div {\n",
              "      margin-bottom: 4px;\n",
              "    }\n",
              "\n",
              "    [theme=dark] .colab-df-convert {\n",
              "      background-color: #3B4455;\n",
              "      fill: #D2E3FC;\n",
              "    }\n",
              "\n",
              "    [theme=dark] .colab-df-convert:hover {\n",
              "      background-color: #434B5C;\n",
              "      box-shadow: 0px 1px 3px 1px rgba(0, 0, 0, 0.15);\n",
              "      filter: drop-shadow(0px 1px 2px rgba(0, 0, 0, 0.3));\n",
              "      fill: #FFFFFF;\n",
              "    }\n",
              "  </style>\n",
              "\n",
              "    <script>\n",
              "      const buttonEl =\n",
              "        document.querySelector('#df-0b7b09ff-6a6e-441a-9c56-ce2de1494b72 button.colab-df-convert');\n",
              "      buttonEl.style.display =\n",
              "        google.colab.kernel.accessAllowed ? 'block' : 'none';\n",
              "\n",
              "      async function convertToInteractive(key) {\n",
              "        const element = document.querySelector('#df-0b7b09ff-6a6e-441a-9c56-ce2de1494b72');\n",
              "        const dataTable =\n",
              "          await google.colab.kernel.invokeFunction('convertToInteractive',\n",
              "                                                    [key], {});\n",
              "        if (!dataTable) return;\n",
              "\n",
              "        const docLinkHtml = 'Like what you see? Visit the ' +\n",
              "          '<a target=\"_blank\" href=https://colab.research.google.com/notebooks/data_table.ipynb>data table notebook</a>'\n",
              "          + ' to learn more about interactive tables.';\n",
              "        element.innerHTML = '';\n",
              "        dataTable['output_type'] = 'display_data';\n",
              "        await google.colab.output.renderOutput(dataTable, element);\n",
              "        const docLink = document.createElement('div');\n",
              "        docLink.innerHTML = docLinkHtml;\n",
              "        element.appendChild(docLink);\n",
              "      }\n",
              "    </script>\n",
              "  </div>\n",
              "\n",
              "\n",
              "<div id=\"df-1d0f5073-e43e-439c-a4af-6b50fc1a3bd5\">\n",
              "  <button class=\"colab-df-quickchart\" onclick=\"quickchart('df-1d0f5073-e43e-439c-a4af-6b50fc1a3bd5')\"\n",
              "            title=\"Suggest charts.\"\n",
              "            style=\"display:none;\">\n",
              "\n",
              "<svg xmlns=\"http://www.w3.org/2000/svg\" height=\"24px\"viewBox=\"0 0 24 24\"\n",
              "     width=\"24px\">\n",
              "    <g>\n",
              "        <path d=\"M19 3H5c-1.1 0-2 .9-2 2v14c0 1.1.9 2 2 2h14c1.1 0 2-.9 2-2V5c0-1.1-.9-2-2-2zM9 17H7v-7h2v7zm4 0h-2V7h2v10zm4 0h-2v-4h2v4z\"/>\n",
              "    </g>\n",
              "</svg>\n",
              "  </button>\n",
              "\n",
              "<style>\n",
              "  .colab-df-quickchart {\n",
              "      --bg-color: #E8F0FE;\n",
              "      --fill-color: #1967D2;\n",
              "      --hover-bg-color: #E2EBFA;\n",
              "      --hover-fill-color: #174EA6;\n",
              "      --disabled-fill-color: #AAA;\n",
              "      --disabled-bg-color: #DDD;\n",
              "  }\n",
              "\n",
              "  [theme=dark] .colab-df-quickchart {\n",
              "      --bg-color: #3B4455;\n",
              "      --fill-color: #D2E3FC;\n",
              "      --hover-bg-color: #434B5C;\n",
              "      --hover-fill-color: #FFFFFF;\n",
              "      --disabled-bg-color: #3B4455;\n",
              "      --disabled-fill-color: #666;\n",
              "  }\n",
              "\n",
              "  .colab-df-quickchart {\n",
              "    background-color: var(--bg-color);\n",
              "    border: none;\n",
              "    border-radius: 50%;\n",
              "    cursor: pointer;\n",
              "    display: none;\n",
              "    fill: var(--fill-color);\n",
              "    height: 32px;\n",
              "    padding: 0;\n",
              "    width: 32px;\n",
              "  }\n",
              "\n",
              "  .colab-df-quickchart:hover {\n",
              "    background-color: var(--hover-bg-color);\n",
              "    box-shadow: 0 1px 2px rgba(60, 64, 67, 0.3), 0 1px 3px 1px rgba(60, 64, 67, 0.15);\n",
              "    fill: var(--button-hover-fill-color);\n",
              "  }\n",
              "\n",
              "  .colab-df-quickchart-complete:disabled,\n",
              "  .colab-df-quickchart-complete:disabled:hover {\n",
              "    background-color: var(--disabled-bg-color);\n",
              "    fill: var(--disabled-fill-color);\n",
              "    box-shadow: none;\n",
              "  }\n",
              "\n",
              "  .colab-df-spinner {\n",
              "    border: 2px solid var(--fill-color);\n",
              "    border-color: transparent;\n",
              "    border-bottom-color: var(--fill-color);\n",
              "    animation:\n",
              "      spin 1s steps(1) infinite;\n",
              "  }\n",
              "\n",
              "  @keyframes spin {\n",
              "    0% {\n",
              "      border-color: transparent;\n",
              "      border-bottom-color: var(--fill-color);\n",
              "      border-left-color: var(--fill-color);\n",
              "    }\n",
              "    20% {\n",
              "      border-color: transparent;\n",
              "      border-left-color: var(--fill-color);\n",
              "      border-top-color: var(--fill-color);\n",
              "    }\n",
              "    30% {\n",
              "      border-color: transparent;\n",
              "      border-left-color: var(--fill-color);\n",
              "      border-top-color: var(--fill-color);\n",
              "      border-right-color: var(--fill-color);\n",
              "    }\n",
              "    40% {\n",
              "      border-color: transparent;\n",
              "      border-right-color: var(--fill-color);\n",
              "      border-top-color: var(--fill-color);\n",
              "    }\n",
              "    60% {\n",
              "      border-color: transparent;\n",
              "      border-right-color: var(--fill-color);\n",
              "    }\n",
              "    80% {\n",
              "      border-color: transparent;\n",
              "      border-right-color: var(--fill-color);\n",
              "      border-bottom-color: var(--fill-color);\n",
              "    }\n",
              "    90% {\n",
              "      border-color: transparent;\n",
              "      border-bottom-color: var(--fill-color);\n",
              "    }\n",
              "  }\n",
              "</style>\n",
              "\n",
              "  <script>\n",
              "    async function quickchart(key) {\n",
              "      const quickchartButtonEl =\n",
              "        document.querySelector('#' + key + ' button');\n",
              "      quickchartButtonEl.disabled = true;  // To prevent multiple clicks.\n",
              "      quickchartButtonEl.classList.add('colab-df-spinner');\n",
              "      try {\n",
              "        const charts = await google.colab.kernel.invokeFunction(\n",
              "            'suggestCharts', [key], {});\n",
              "      } catch (error) {\n",
              "        console.error('Error during call to suggestCharts:', error);\n",
              "      }\n",
              "      quickchartButtonEl.classList.remove('colab-df-spinner');\n",
              "      quickchartButtonEl.classList.add('colab-df-quickchart-complete');\n",
              "    }\n",
              "    (() => {\n",
              "      let quickchartButtonEl =\n",
              "        document.querySelector('#df-1d0f5073-e43e-439c-a4af-6b50fc1a3bd5 button');\n",
              "      quickchartButtonEl.style.display =\n",
              "        google.colab.kernel.accessAllowed ? 'block' : 'none';\n",
              "    })();\n",
              "  </script>\n",
              "</div>\n",
              "    </div>\n",
              "  </div>\n"
            ]
          },
          "metadata": {},
          "execution_count": 20
        }
      ]
    },
    {
      "cell_type": "code",
      "source": [
        "#creamos una nueva variable\n",
        "df['Nueva variable']=1"
      ],
      "metadata": {
        "id": "JSpDViat7kaB"
      },
      "execution_count": null,
      "outputs": []
    },
    {
      "cell_type": "markdown",
      "source": [
        "Realizamos la carga en una tabla nueva llamada icefes_2019_v2 en donde se carga nuestro nuevo dataframe"
      ],
      "metadata": {
        "id": "AHg-J1yqMjN-"
      }
    },
    {
      "cell_type": "code",
      "source": [
        "from pandas_gbq import to_gbq\n",
        "\n",
        "destination_table='encoded-metrics-398203.datos_icfes.icefes_2019_v2'\n",
        "to_gbq(df,destination_table,project_id=project_id,if_exists='replace')"
      ],
      "metadata": {
        "colab": {
          "base_uri": "https://localhost:8080/"
        },
        "id": "YViFbYdH7pCa",
        "outputId": "1628b431-ebb0-405b-9579-f5757708914d"
      },
      "execution_count": null,
      "outputs": [
        {
          "output_type": "stream",
          "name": "stderr",
          "text": [
            "100%|██████████| 1/1 [00:00<00:00, 5210.32it/s]\n"
          ]
        }
      ]
    },
    {
      "cell_type": "markdown",
      "source": [
        "**Adicional**\n",
        "\n",
        "Revisión de modelos de ML y estadística en BigQuery\n",
        "\n",
        "```SQL\n",
        "CREATE OR REPLACE MODEL `encoded-metrics-398203.datos_icfes.tu-modelo` OPTIONS(model_type='linear_reg') AS\n",
        "SELECT\n",
        "  PUNT_GLOBAL AS label,\n",
        "  FAMI_ESTRATOVIVIENDA,\n",
        "  PUNT_MATEMATICAS,\n",
        "  PUNT_C_NATURALES,\n",
        "  PUNT_SOCIALES_CIUDADANAS,\n",
        "  PUNT_INGLES\n",
        "FROM\n",
        "  `encoded-metrics-398203.datos_icfes.icefes_2019`;\n",
        "\n",
        "```\n",
        "\n",
        "prueba el código en una consulta dentro de bigquery\n",
        "\n",
        "revisa el siguiente enlace [https://cloud.google.com/bigquery/docs/bqml-introduction?hl=es-419](https://cloud.google.com/bigquery/docs/bqml-introduction?hl=es-419)\n",
        "\n"
      ],
      "metadata": {
        "id": "qzrj0Gv1N9gO"
      }
    }
  ]
}
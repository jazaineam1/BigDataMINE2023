{
  "nbformat": 4,
  "nbformat_minor": 0,
  "metadata": {
    "colab": {
      "provenance": [],
      "include_colab_link": true
    },
    "kernelspec": {
      "name": "python3",
      "display_name": "Python 3"
    },
    "language_info": {
      "name": "python"
    }
  },
  "cells": [
    {
      "cell_type": "markdown",
      "metadata": {
        "id": "view-in-github",
        "colab_type": "text"
      },
      "source": [
        "<a href=\"https://colab.research.google.com/github/jazaineam1/BigDataMINE2023/blob/main/Copia_de_7_Pyspark_y_ML.ipynb\" target=\"_parent\"><img src=\"https://colab.research.google.com/assets/colab-badge.svg\" alt=\"Open In Colab\"/></a>"
      ]
    },
    {
      "cell_type": "markdown",
      "source": [
        "# ***Spark intro 2***\n",
        "\n",
        "\n",
        "## ***Universidad Externado de Colombia***\n",
        "\n",
        ">## ***Maestría en Inteligencia de Negocios***\n",
        "![Imágen1](https://www.uexternado.edu.co/wp-content/uploads/2020/07/logo-uec.png)\n",
        "\n",
        "jazaineam@unal.edu.co\n",
        "\n",
        "\n",
        ">## ***Big Data.***\n",
        ">## ***Docente: Antonino Zainea Maya.***"
      ],
      "metadata": {
        "id": "5rbwQEAY3Pb8"
      }
    },
    {
      "cell_type": "code",
      "source": [
        "!pip install pyspark"
      ],
      "metadata": {
        "colab": {
          "base_uri": "https://localhost:8080/"
        },
        "id": "HzzYvcZP3aXf",
        "outputId": "91c9fc04-a661-4301-ae9a-918bd5f4594b"
      },
      "execution_count": 1,
      "outputs": [
        {
          "output_type": "stream",
          "name": "stdout",
          "text": [
            "Collecting pyspark\n",
            "  Downloading pyspark-3.5.0.tar.gz (316.9 MB)\n",
            "\u001b[2K     \u001b[90m━━━━━━━━━━━━━━━━━━━━━━━━━━━━━━━━━━━━━━━━\u001b[0m \u001b[32m316.9/316.9 MB\u001b[0m \u001b[31m2.2 MB/s\u001b[0m eta \u001b[36m0:00:00\u001b[0m\n",
            "\u001b[?25h  Preparing metadata (setup.py) ... \u001b[?25l\u001b[?25hdone\n",
            "Requirement already satisfied: py4j==0.10.9.7 in /usr/local/lib/python3.10/dist-packages (from pyspark) (0.10.9.7)\n",
            "Building wheels for collected packages: pyspark\n",
            "  Building wheel for pyspark (setup.py) ... \u001b[?25l\u001b[?25hdone\n",
            "  Created wheel for pyspark: filename=pyspark-3.5.0-py2.py3-none-any.whl size=317425345 sha256=091465fdb30891ef8860670510bcf9f701a8ad899bf2eaa9039dfb2681ead364\n",
            "  Stored in directory: /root/.cache/pip/wheels/41/4e/10/c2cf2467f71c678cfc8a6b9ac9241e5e44a01940da8fbb17fc\n",
            "Successfully built pyspark\n",
            "Installing collected packages: pyspark\n",
            "Successfully installed pyspark-3.5.0\n"
          ]
        }
      ]
    },
    {
      "cell_type": "code",
      "source": [
        "import numpy as np\n",
        "import pandas as pd\n",
        "import matplotlib.pyplot as plt\n",
        "import seaborn as sns\n",
        "import sklearn\n",
        "import random\n",
        "import os\n",
        "\n",
        "from pyspark.sql import SparkSession\n",
        "from pyspark.ml  import Pipeline\n",
        "from pyspark.sql import SQLContext\n",
        "from pyspark.sql.functions import *\n",
        "# from pyspark.ml.feature import StringIndexer, VectorAssembler\n",
        "# from pyspark.ml.evaluation import MulticlassClassificationEvaluator\n",
        "# from pyspark.ml.feature import QuantileDiscretizer"
      ],
      "metadata": {
        "id": "vH59xbwT3dLH"
      },
      "execution_count": 2,
      "outputs": []
    },
    {
      "cell_type": "markdown",
      "source": [
        "# **1. Información de Secop II Contratos** <a class=\"anchor\" id=\"1\"></a>\n",
        "\n",
        "\n",
        "En primer lugar, debemos crear un contenedor de Spark llamando a SparkSession. Este paso es necesario antes de realizar cualquier acción."
      ],
      "metadata": {
        "id": "9kcjJJLA3jze"
      }
    },
    {
      "cell_type": "code",
      "source": [
        "# Create SparkSession\n",
        "spark = SparkSession.builder.appName('Ejemplo Secop II').getOrCreate()"
      ],
      "metadata": {
        "id": "l_g6nsG83kXu"
      },
      "execution_count": 3,
      "outputs": []
    },
    {
      "cell_type": "markdown",
      "source": [
        "Descarguemos la información correspondiente a los contratos del Secop II y contiene las siguientes variables:\n",
        "\n",
        "**Nombre Entidad:** Nombre de la entidad gubernamental o institución pública que realiza la contratación.\n",
        "\n",
        "**Nit Entidad:** Número de Identificación Tributaria de la entidad contratante.\n",
        "\n",
        "**Departamento:** Departamento de Colombia donde se ubica la entidad contratante.\n",
        "\n",
        "**Ciudad:**Ciudad donde se ubica la entidad contratante.\n",
        "\n",
        "**Sector:** Sector gubernamental al que pertenece la entidad contratante (ejemplo: salud, educación, defensa).\n",
        "\n",
        "**Estado Contrato:** Estado actual del contrato (ejemplo: en ejecución, finalizado, liquidado).\n",
        "\n",
        "**Descripción del Proceso:** Breve descripción del proceso de contratación o del objeto a contratar.\n",
        "\n",
        "**Tipo de Contrato**: Clasificación del contrato según su naturaleza (ejemplo: obra, suministro, servicio).\n",
        "\n",
        "**Modalidad de Contratación:** Método utilizado para seleccionar al proveedor (ejemplo: licitación pública, contratación directa).\n",
        "\n",
        "**Fecha de Firma:** Fecha en la que se firma el contrato entre la entidad y el proveedor.\n",
        "\n",
        "**Fecha de Inicio del Contrato**: Fecha en la que comienza la ejecución del contrato.\n",
        "\n",
        "**Fecha de Fin del Contrato:** Fecha prevista para la finalización del contrato.\n",
        "\n",
        "**Documento Proveedor:** Número de identificación o NIT del proveedor o contratista adjudicado.\n",
        "\n",
        "**Proveedor Adjudicado:** Nombre del proveedor o contratista al que se le adjudica el contrato.\n",
        "\n",
        "**Es Pyme:** Indica si el proveedor adjudicado es una pequeña o mediana empresa (Pyme).\n",
        "\n",
        "**Valor del Contrato:** Monto económico total del contrato.\n",
        "\n",
        "**URLProceso:** Enlace a la página web donde se pueden consultar los detalles del proceso de contratación.\n",
        "\n",
        "**Nacionalidad Representante Legal:** Nacionalidad del representante legal del proveedor adjudicado.\n",
        "\n",
        "**Género Representante Legal:** Género (masculino, femenino, otro) del representante legal del proveedor.\n",
        "\n",
        "**Objeto del Contrato:** Descripción detallada del servicio, bien o obra objeto del contrato."
      ],
      "metadata": {
        "id": "0YXS_FfF3tWA"
      }
    },
    {
      "cell_type": "code",
      "source": [
        "# Descargar el archivo ZIP de la carpeta\n",
        "!wget https://github.com/jazaineam1/BigDataMINE2023/archive/refs/heads/main.zip -O repo.zip\n",
        "\n",
        "# Extraer solo la carpeta que necesitas\n",
        "!unzip -j repo.zip \"BigDataMINE2023-main/data/Secop_II_Contratos/*\" -d SecopII_data\n",
        "\n",
        "# Eliminar el archivo ZIP\n",
        "!rm repo.zip\n"
      ],
      "metadata": {
        "colab": {
          "base_uri": "https://localhost:8080/"
        },
        "id": "T4QUjzBf4W9i",
        "outputId": "46071fec-f220-4a78-c63e-a6083c2941dc"
      },
      "execution_count": 4,
      "outputs": [
        {
          "output_type": "stream",
          "name": "stdout",
          "text": [
            "--2024-02-10 06:50:49--  https://github.com/jazaineam1/BigDataMINE2023/archive/refs/heads/main.zip\n",
            "Resolving github.com (github.com)... 20.27.177.113\n",
            "Connecting to github.com (github.com)|20.27.177.113|:443... connected.\n",
            "HTTP request sent, awaiting response... 302 Found\n",
            "Location: https://codeload.github.com/jazaineam1/BigDataMINE2023/zip/refs/heads/main [following]\n",
            "--2024-02-10 06:50:50--  https://codeload.github.com/jazaineam1/BigDataMINE2023/zip/refs/heads/main\n",
            "Resolving codeload.github.com (codeload.github.com)... 20.27.177.114\n",
            "Connecting to codeload.github.com (codeload.github.com)|20.27.177.114|:443... connected.\n",
            "HTTP request sent, awaiting response... 200 OK\n",
            "Length: unspecified [application/zip]\n",
            "Saving to: ‘repo.zip’\n",
            "\n",
            "repo.zip                [             <=>    ]   1.21G  15.9MB/s    in 86s     \n",
            "\n",
            "2024-02-10 06:52:16 (14.4 MB/s) - ‘repo.zip’ saved [1305113906]\n",
            "\n",
            "Archive:  repo.zip\n",
            "1909eef3aca383772d42c9b2dfef65728d26b242\n",
            "  inflating: SecopII_data/Secop_ii_0.parquet  \n",
            "  inflating: SecopII_data/Secop_ii_1.parquet  \n",
            "  inflating: SecopII_data/Secop_ii_10.parquet  \n",
            "  inflating: SecopII_data/Secop_ii_11.parquet  \n",
            "  inflating: SecopII_data/Secop_ii_12.parquet  \n",
            "  inflating: SecopII_data/Secop_ii_13.parquet  \n",
            "  inflating: SecopII_data/Secop_ii_14.parquet  \n",
            "  inflating: SecopII_data/Secop_ii_15.parquet  \n",
            "  inflating: SecopII_data/Secop_ii_16.parquet  \n",
            "  inflating: SecopII_data/Secop_ii_17.parquet  \n",
            "  inflating: SecopII_data/Secop_ii_18.parquet  \n",
            "  inflating: SecopII_data/Secop_ii_19.parquet  \n",
            "  inflating: SecopII_data/Secop_ii_2.parquet  \n",
            "  inflating: SecopII_data/Secop_ii_20.parquet  \n",
            "  inflating: SecopII_data/Secop_ii_21.parquet  \n",
            "  inflating: SecopII_data/Secop_ii_22.parquet  \n",
            "  inflating: SecopII_data/Secop_ii_23.parquet  \n",
            "  inflating: SecopII_data/Secop_ii_24.parquet  \n",
            "  inflating: SecopII_data/Secop_ii_25.parquet  \n",
            "  inflating: SecopII_data/Secop_ii_26.parquet  \n",
            "  inflating: SecopII_data/Secop_ii_27.parquet  \n",
            "  inflating: SecopII_data/Secop_ii_28.parquet  \n",
            "  inflating: SecopII_data/Secop_ii_29.parquet  \n",
            "  inflating: SecopII_data/Secop_ii_3.parquet  \n",
            "  inflating: SecopII_data/Secop_ii_30.parquet  \n",
            "  inflating: SecopII_data/Secop_ii_31.parquet  \n",
            "  inflating: SecopII_data/Secop_ii_32.parquet  \n",
            "  inflating: SecopII_data/Secop_ii_33.parquet  \n",
            "  inflating: SecopII_data/Secop_ii_34.parquet  \n",
            "  inflating: SecopII_data/Secop_ii_35.parquet  \n",
            "  inflating: SecopII_data/Secop_ii_36.parquet  \n",
            "  inflating: SecopII_data/Secop_ii_37.parquet  \n",
            "  inflating: SecopII_data/Secop_ii_38.parquet  \n",
            "  inflating: SecopII_data/Secop_ii_39.parquet  \n",
            "  inflating: SecopII_data/Secop_ii_4.parquet  \n",
            "  inflating: SecopII_data/Secop_ii_40.parquet  \n",
            "  inflating: SecopII_data/Secop_ii_41.parquet  \n",
            "  inflating: SecopII_data/Secop_ii_42.parquet  \n",
            "  inflating: SecopII_data/Secop_ii_43.parquet  \n",
            "  inflating: SecopII_data/Secop_ii_5.parquet  \n",
            "  inflating: SecopII_data/Secop_ii_6.parquet  \n",
            "  inflating: SecopII_data/Secop_ii_7.parquet  \n",
            "  inflating: SecopII_data/Secop_ii_8.parquet  \n",
            "  inflating: SecopII_data/Secop_ii_9.parquet  \n",
            " extracting: SecopII_data/a          \n"
          ]
        }
      ]
    },
    {
      "cell_type": "code",
      "source": [
        "# Directorio que contiene los archivos Parquet\n",
        "directory = \"SecopII_data/\"\n",
        "\n",
        "# Carga los archivos Parquet en un DataFrame\n",
        "df = spark.read.parquet(directory)"
      ],
      "metadata": {
        "id": "q1DOLcLYgsQr"
      },
      "execution_count": 22,
      "outputs": []
    },
    {
      "cell_type": "code",
      "source": [
        "df.show(5)"
      ],
      "metadata": {
        "id": "pH8gy9CIgvmC",
        "outputId": "f2b2d613-ea6c-4a16-f61d-e21804c9e097",
        "colab": {
          "base_uri": "https://localhost:8080/"
        }
      },
      "execution_count": 6,
      "outputs": [
        {
          "output_type": "stream",
          "name": "stdout",
          "text": [
            "+--------------------+-----------+--------------------+------+--------------------+---------------+-----------------------+--------------------+-------------------------+--------------+----------------------------+-------------------------+-------------------+--------------------+-------+------------------+--------------------+--------------------------------+--------------------------+--------------------+\n",
            "|      Nombre Entidad|Nit Entidad|        Departamento|Ciudad|              Sector|Estado Contrato|Descripcion del Proceso|    Tipo de Contrato|Modalidad de Contratacion|Fecha de Firma|Fecha de Inicio del Contrato|Fecha de Fin del Contrato|Documento Proveedor|Proveedor Adjudicado|Es Pyme|Valor del Contrato|          URLProceso|Nacionalidad Representante Legal|Género Representante Legal| Objeto del Contrato|\n",
            "+--------------------+-----------+--------------------+------+--------------------+---------------+-----------------------+--------------------+-------------------------+--------------+----------------------------+-------------------------+-------------------+--------------------+-------+------------------+--------------------+--------------------------------+--------------------------+--------------------+\n",
            "|SENADO DE LA REPÚ...|899,999,103|Distrito Capital ...|Bogotá|No aplica/No pert...|     Modificado|   El CONTRATISTA SE...|Prestación de ser...|     Contratación directa|    03/17/2023|                  03/21/2023|               06/30/2023|            4646766|JORGE DARIO CAMPO...|     No|        17,500,000|https://community...|                              CO|               No Definido|El CONTRATISTA SE...|\n",
            "|MUNICIPIO DE SAN ...|890,501,434|  Norte de Santander|Cúcuta|    Servicio Público|     Modificado|   2023B-58 PRESTAR ...|Prestación de ser...|     Contratación directa|    02/02/2023|                  02/02/2023|               11/02/2023|            8829339|OLMER ENRIQUE AGU...|     No|        16,200,000|https://community...|                              CO|               No Definido|2023B-58 PRESTAR ...|\n",
            "|DANE - DIRECCION ...|899,999,027|Distrito Capital ...|Bogotá|Información Estad...|        Cerrado|   CENSO_ECONOMICO_2...|Prestación de ser...|     Contratación directa|    01/20/2021|                  01/21/2021|               04/21/2021|            4153397|fermin emigdio es...|     No|        10,493,431|https://community...|                              CO|               No Definido|CENSO_ECONOMICO_2...|\n",
            "|SUBRED INTEGRADA ...|900,958,564|Distrito Capital ...|Bogotá|Salud y Protecció...|      Cancelado|   PRESTAR SERVICIOS...|Prestación de ser...|     Contratación régi...|          NULL|                        NULL|               09/01/2020|         1010176186|  LEIDY LORENA ARIAS|     No|         6,772,106|https://community...|                              CO|               No Definido|PRESTAR SERVICIOS...|\n",
            "|SIC SUPERINTENDEN...|800,176,089|Distrito Capital ...|Bogotá|           Industria|        Cerrado|   Prestación de ser...|Prestación de ser...|     Contratación directa|    01/15/2020|                  01/15/2020|               12/18/2020|         1015421088|DIANA CAROLINA GÓ...|     No|        97,764,167|https://community...|                              CO|                  Femenino|Prestación de ser...|\n",
            "+--------------------+-----------+--------------------+------+--------------------+---------------+-----------------------+--------------------+-------------------------+--------------+----------------------------+-------------------------+-------------------+--------------------+-------+------------------+--------------------+--------------------------------+--------------------------+--------------------+\n",
            "only showing top 5 rows\n",
            "\n"
          ]
        }
      ]
    },
    {
      "cell_type": "code",
      "source": [
        "\n",
        "df.limit(3).toPandas()"
      ],
      "metadata": {
        "colab": {
          "base_uri": "https://localhost:8080/",
          "height": 371
        },
        "id": "1iXxfF-23t_c",
        "outputId": "ba3b611d-ada2-4e97-a1fb-e180d2a38238"
      },
      "execution_count": 7,
      "outputs": [
        {
          "output_type": "execute_result",
          "data": {
            "text/plain": [
              "                        Nombre Entidad  Nit Entidad  \\\n",
              "0               SENADO DE LA REPÚBLICA  899,999,103   \n",
              "1      MUNICIPIO DE SAN JOSE DE CUCUTA  890,501,434   \n",
              "2  DANE - DIRECCION TERRITORIAL CENTRO  899,999,027   \n",
              "\n",
              "                 Departamento  Ciudad                   Sector  \\\n",
              "0  Distrito Capital de Bogotá  Bogotá   No aplica/No pertenece   \n",
              "1          Norte de Santander  Cúcuta         Servicio Público   \n",
              "2  Distrito Capital de Bogotá  Bogotá  Información Estadística   \n",
              "\n",
              "  Estado Contrato                            Descripcion del Proceso  \\\n",
              "0      Modificado  El CONTRATISTA SE OBLIGA A LA PRESTACIÓN DE SE...   \n",
              "1      Modificado  2023B-58 PRESTAR LOS SERVICIOS OPERATIVOS Y AS...   \n",
              "2         Cerrado  CENSO_ECONOMICO_2021_DIG_TH_TU_ OT_MN Prestaci...   \n",
              "\n",
              "          Tipo de Contrato Modalidad de Contratacion Fecha de Firma  \\\n",
              "0  Prestación de servicios      Contratación directa     03/17/2023   \n",
              "1  Prestación de servicios      Contratación directa     02/02/2023   \n",
              "2  Prestación de servicios      Contratación directa     01/20/2021   \n",
              "\n",
              "  Fecha de Inicio del Contrato Fecha de Fin del Contrato Documento Proveedor  \\\n",
              "0                   03/21/2023                06/30/2023             4646766   \n",
              "1                   02/02/2023                11/02/2023             8829339   \n",
              "2                   01/21/2021                04/21/2021             4153397   \n",
              "\n",
              "            Proveedor Adjudicado Es Pyme Valor del Contrato  \\\n",
              "0        JORGE DARIO CAMPO BOMBA      No         17,500,000   \n",
              "1    OLMER ENRIQUE AGUIRRE ROJAS      No         16,200,000   \n",
              "2  fermin emigdio estrada santos      No         10,493,431   \n",
              "\n",
              "                                          URLProceso  \\\n",
              "0  https://community.secop.gov.co/Public/Tenderin...   \n",
              "1  https://community.secop.gov.co/Public/Tenderin...   \n",
              "2  https://community.secop.gov.co/Public/Tenderin...   \n",
              "\n",
              "  Nacionalidad Representante Legal Género Representante Legal  \\\n",
              "0                               CO                No Definido   \n",
              "1                               CO                No Definido   \n",
              "2                               CO                No Definido   \n",
              "\n",
              "                                 Objeto del Contrato  \n",
              "0  El CONTRATISTA SE OBLIGA A LA PRESTACIÓN DE SE...  \n",
              "1  2023B-58 PRESTAR LOS SERVICIOS OPERATIVOS Y AS...  \n",
              "2  CENSO_ECONOMICO_2021_DIG_TH_TU_ OT_MN Prestaci...  "
            ],
            "text/html": [
              "\n",
              "  <div id=\"df-3b60b0f8-51a8-4bbb-984d-1002a3cbf18d\" class=\"colab-df-container\">\n",
              "    <div>\n",
              "<style scoped>\n",
              "    .dataframe tbody tr th:only-of-type {\n",
              "        vertical-align: middle;\n",
              "    }\n",
              "\n",
              "    .dataframe tbody tr th {\n",
              "        vertical-align: top;\n",
              "    }\n",
              "\n",
              "    .dataframe thead th {\n",
              "        text-align: right;\n",
              "    }\n",
              "</style>\n",
              "<table border=\"1\" class=\"dataframe\">\n",
              "  <thead>\n",
              "    <tr style=\"text-align: right;\">\n",
              "      <th></th>\n",
              "      <th>Nombre Entidad</th>\n",
              "      <th>Nit Entidad</th>\n",
              "      <th>Departamento</th>\n",
              "      <th>Ciudad</th>\n",
              "      <th>Sector</th>\n",
              "      <th>Estado Contrato</th>\n",
              "      <th>Descripcion del Proceso</th>\n",
              "      <th>Tipo de Contrato</th>\n",
              "      <th>Modalidad de Contratacion</th>\n",
              "      <th>Fecha de Firma</th>\n",
              "      <th>Fecha de Inicio del Contrato</th>\n",
              "      <th>Fecha de Fin del Contrato</th>\n",
              "      <th>Documento Proveedor</th>\n",
              "      <th>Proveedor Adjudicado</th>\n",
              "      <th>Es Pyme</th>\n",
              "      <th>Valor del Contrato</th>\n",
              "      <th>URLProceso</th>\n",
              "      <th>Nacionalidad Representante Legal</th>\n",
              "      <th>Género Representante Legal</th>\n",
              "      <th>Objeto del Contrato</th>\n",
              "    </tr>\n",
              "  </thead>\n",
              "  <tbody>\n",
              "    <tr>\n",
              "      <th>0</th>\n",
              "      <td>SENADO DE LA REPÚBLICA</td>\n",
              "      <td>899,999,103</td>\n",
              "      <td>Distrito Capital de Bogotá</td>\n",
              "      <td>Bogotá</td>\n",
              "      <td>No aplica/No pertenece</td>\n",
              "      <td>Modificado</td>\n",
              "      <td>El CONTRATISTA SE OBLIGA A LA PRESTACIÓN DE SE...</td>\n",
              "      <td>Prestación de servicios</td>\n",
              "      <td>Contratación directa</td>\n",
              "      <td>03/17/2023</td>\n",
              "      <td>03/21/2023</td>\n",
              "      <td>06/30/2023</td>\n",
              "      <td>4646766</td>\n",
              "      <td>JORGE DARIO CAMPO BOMBA</td>\n",
              "      <td>No</td>\n",
              "      <td>17,500,000</td>\n",
              "      <td>https://community.secop.gov.co/Public/Tenderin...</td>\n",
              "      <td>CO</td>\n",
              "      <td>No Definido</td>\n",
              "      <td>El CONTRATISTA SE OBLIGA A LA PRESTACIÓN DE SE...</td>\n",
              "    </tr>\n",
              "    <tr>\n",
              "      <th>1</th>\n",
              "      <td>MUNICIPIO DE SAN JOSE DE CUCUTA</td>\n",
              "      <td>890,501,434</td>\n",
              "      <td>Norte de Santander</td>\n",
              "      <td>Cúcuta</td>\n",
              "      <td>Servicio Público</td>\n",
              "      <td>Modificado</td>\n",
              "      <td>2023B-58 PRESTAR LOS SERVICIOS OPERATIVOS Y AS...</td>\n",
              "      <td>Prestación de servicios</td>\n",
              "      <td>Contratación directa</td>\n",
              "      <td>02/02/2023</td>\n",
              "      <td>02/02/2023</td>\n",
              "      <td>11/02/2023</td>\n",
              "      <td>8829339</td>\n",
              "      <td>OLMER ENRIQUE AGUIRRE ROJAS</td>\n",
              "      <td>No</td>\n",
              "      <td>16,200,000</td>\n",
              "      <td>https://community.secop.gov.co/Public/Tenderin...</td>\n",
              "      <td>CO</td>\n",
              "      <td>No Definido</td>\n",
              "      <td>2023B-58 PRESTAR LOS SERVICIOS OPERATIVOS Y AS...</td>\n",
              "    </tr>\n",
              "    <tr>\n",
              "      <th>2</th>\n",
              "      <td>DANE - DIRECCION TERRITORIAL CENTRO</td>\n",
              "      <td>899,999,027</td>\n",
              "      <td>Distrito Capital de Bogotá</td>\n",
              "      <td>Bogotá</td>\n",
              "      <td>Información Estadística</td>\n",
              "      <td>Cerrado</td>\n",
              "      <td>CENSO_ECONOMICO_2021_DIG_TH_TU_ OT_MN Prestaci...</td>\n",
              "      <td>Prestación de servicios</td>\n",
              "      <td>Contratación directa</td>\n",
              "      <td>01/20/2021</td>\n",
              "      <td>01/21/2021</td>\n",
              "      <td>04/21/2021</td>\n",
              "      <td>4153397</td>\n",
              "      <td>fermin emigdio estrada santos</td>\n",
              "      <td>No</td>\n",
              "      <td>10,493,431</td>\n",
              "      <td>https://community.secop.gov.co/Public/Tenderin...</td>\n",
              "      <td>CO</td>\n",
              "      <td>No Definido</td>\n",
              "      <td>CENSO_ECONOMICO_2021_DIG_TH_TU_ OT_MN Prestaci...</td>\n",
              "    </tr>\n",
              "  </tbody>\n",
              "</table>\n",
              "</div>\n",
              "    <div class=\"colab-df-buttons\">\n",
              "\n",
              "  <div class=\"colab-df-container\">\n",
              "    <button class=\"colab-df-convert\" onclick=\"convertToInteractive('df-3b60b0f8-51a8-4bbb-984d-1002a3cbf18d')\"\n",
              "            title=\"Convert this dataframe to an interactive table.\"\n",
              "            style=\"display:none;\">\n",
              "\n",
              "  <svg xmlns=\"http://www.w3.org/2000/svg\" height=\"24px\" viewBox=\"0 -960 960 960\">\n",
              "    <path d=\"M120-120v-720h720v720H120Zm60-500h600v-160H180v160Zm220 220h160v-160H400v160Zm0 220h160v-160H400v160ZM180-400h160v-160H180v160Zm440 0h160v-160H620v160ZM180-180h160v-160H180v160Zm440 0h160v-160H620v160Z\"/>\n",
              "  </svg>\n",
              "    </button>\n",
              "\n",
              "  <style>\n",
              "    .colab-df-container {\n",
              "      display:flex;\n",
              "      gap: 12px;\n",
              "    }\n",
              "\n",
              "    .colab-df-convert {\n",
              "      background-color: #E8F0FE;\n",
              "      border: none;\n",
              "      border-radius: 50%;\n",
              "      cursor: pointer;\n",
              "      display: none;\n",
              "      fill: #1967D2;\n",
              "      height: 32px;\n",
              "      padding: 0 0 0 0;\n",
              "      width: 32px;\n",
              "    }\n",
              "\n",
              "    .colab-df-convert:hover {\n",
              "      background-color: #E2EBFA;\n",
              "      box-shadow: 0px 1px 2px rgba(60, 64, 67, 0.3), 0px 1px 3px 1px rgba(60, 64, 67, 0.15);\n",
              "      fill: #174EA6;\n",
              "    }\n",
              "\n",
              "    .colab-df-buttons div {\n",
              "      margin-bottom: 4px;\n",
              "    }\n",
              "\n",
              "    [theme=dark] .colab-df-convert {\n",
              "      background-color: #3B4455;\n",
              "      fill: #D2E3FC;\n",
              "    }\n",
              "\n",
              "    [theme=dark] .colab-df-convert:hover {\n",
              "      background-color: #434B5C;\n",
              "      box-shadow: 0px 1px 3px 1px rgba(0, 0, 0, 0.15);\n",
              "      filter: drop-shadow(0px 1px 2px rgba(0, 0, 0, 0.3));\n",
              "      fill: #FFFFFF;\n",
              "    }\n",
              "  </style>\n",
              "\n",
              "    <script>\n",
              "      const buttonEl =\n",
              "        document.querySelector('#df-3b60b0f8-51a8-4bbb-984d-1002a3cbf18d button.colab-df-convert');\n",
              "      buttonEl.style.display =\n",
              "        google.colab.kernel.accessAllowed ? 'block' : 'none';\n",
              "\n",
              "      async function convertToInteractive(key) {\n",
              "        const element = document.querySelector('#df-3b60b0f8-51a8-4bbb-984d-1002a3cbf18d');\n",
              "        const dataTable =\n",
              "          await google.colab.kernel.invokeFunction('convertToInteractive',\n",
              "                                                    [key], {});\n",
              "        if (!dataTable) return;\n",
              "\n",
              "        const docLinkHtml = 'Like what you see? Visit the ' +\n",
              "          '<a target=\"_blank\" href=https://colab.research.google.com/notebooks/data_table.ipynb>data table notebook</a>'\n",
              "          + ' to learn more about interactive tables.';\n",
              "        element.innerHTML = '';\n",
              "        dataTable['output_type'] = 'display_data';\n",
              "        await google.colab.output.renderOutput(dataTable, element);\n",
              "        const docLink = document.createElement('div');\n",
              "        docLink.innerHTML = docLinkHtml;\n",
              "        element.appendChild(docLink);\n",
              "      }\n",
              "    </script>\n",
              "  </div>\n",
              "\n",
              "\n",
              "<div id=\"df-36ca96b1-1fea-45f7-8d1f-03ad82a6e4b9\">\n",
              "  <button class=\"colab-df-quickchart\" onclick=\"quickchart('df-36ca96b1-1fea-45f7-8d1f-03ad82a6e4b9')\"\n",
              "            title=\"Suggest charts\"\n",
              "            style=\"display:none;\">\n",
              "\n",
              "<svg xmlns=\"http://www.w3.org/2000/svg\" height=\"24px\"viewBox=\"0 0 24 24\"\n",
              "     width=\"24px\">\n",
              "    <g>\n",
              "        <path d=\"M19 3H5c-1.1 0-2 .9-2 2v14c0 1.1.9 2 2 2h14c1.1 0 2-.9 2-2V5c0-1.1-.9-2-2-2zM9 17H7v-7h2v7zm4 0h-2V7h2v10zm4 0h-2v-4h2v4z\"/>\n",
              "    </g>\n",
              "</svg>\n",
              "  </button>\n",
              "\n",
              "<style>\n",
              "  .colab-df-quickchart {\n",
              "      --bg-color: #E8F0FE;\n",
              "      --fill-color: #1967D2;\n",
              "      --hover-bg-color: #E2EBFA;\n",
              "      --hover-fill-color: #174EA6;\n",
              "      --disabled-fill-color: #AAA;\n",
              "      --disabled-bg-color: #DDD;\n",
              "  }\n",
              "\n",
              "  [theme=dark] .colab-df-quickchart {\n",
              "      --bg-color: #3B4455;\n",
              "      --fill-color: #D2E3FC;\n",
              "      --hover-bg-color: #434B5C;\n",
              "      --hover-fill-color: #FFFFFF;\n",
              "      --disabled-bg-color: #3B4455;\n",
              "      --disabled-fill-color: #666;\n",
              "  }\n",
              "\n",
              "  .colab-df-quickchart {\n",
              "    background-color: var(--bg-color);\n",
              "    border: none;\n",
              "    border-radius: 50%;\n",
              "    cursor: pointer;\n",
              "    display: none;\n",
              "    fill: var(--fill-color);\n",
              "    height: 32px;\n",
              "    padding: 0;\n",
              "    width: 32px;\n",
              "  }\n",
              "\n",
              "  .colab-df-quickchart:hover {\n",
              "    background-color: var(--hover-bg-color);\n",
              "    box-shadow: 0 1px 2px rgba(60, 64, 67, 0.3), 0 1px 3px 1px rgba(60, 64, 67, 0.15);\n",
              "    fill: var(--button-hover-fill-color);\n",
              "  }\n",
              "\n",
              "  .colab-df-quickchart-complete:disabled,\n",
              "  .colab-df-quickchart-complete:disabled:hover {\n",
              "    background-color: var(--disabled-bg-color);\n",
              "    fill: var(--disabled-fill-color);\n",
              "    box-shadow: none;\n",
              "  }\n",
              "\n",
              "  .colab-df-spinner {\n",
              "    border: 2px solid var(--fill-color);\n",
              "    border-color: transparent;\n",
              "    border-bottom-color: var(--fill-color);\n",
              "    animation:\n",
              "      spin 1s steps(1) infinite;\n",
              "  }\n",
              "\n",
              "  @keyframes spin {\n",
              "    0% {\n",
              "      border-color: transparent;\n",
              "      border-bottom-color: var(--fill-color);\n",
              "      border-left-color: var(--fill-color);\n",
              "    }\n",
              "    20% {\n",
              "      border-color: transparent;\n",
              "      border-left-color: var(--fill-color);\n",
              "      border-top-color: var(--fill-color);\n",
              "    }\n",
              "    30% {\n",
              "      border-color: transparent;\n",
              "      border-left-color: var(--fill-color);\n",
              "      border-top-color: var(--fill-color);\n",
              "      border-right-color: var(--fill-color);\n",
              "    }\n",
              "    40% {\n",
              "      border-color: transparent;\n",
              "      border-right-color: var(--fill-color);\n",
              "      border-top-color: var(--fill-color);\n",
              "    }\n",
              "    60% {\n",
              "      border-color: transparent;\n",
              "      border-right-color: var(--fill-color);\n",
              "    }\n",
              "    80% {\n",
              "      border-color: transparent;\n",
              "      border-right-color: var(--fill-color);\n",
              "      border-bottom-color: var(--fill-color);\n",
              "    }\n",
              "    90% {\n",
              "      border-color: transparent;\n",
              "      border-bottom-color: var(--fill-color);\n",
              "    }\n",
              "  }\n",
              "</style>\n",
              "\n",
              "  <script>\n",
              "    async function quickchart(key) {\n",
              "      const quickchartButtonEl =\n",
              "        document.querySelector('#' + key + ' button');\n",
              "      quickchartButtonEl.disabled = true;  // To prevent multiple clicks.\n",
              "      quickchartButtonEl.classList.add('colab-df-spinner');\n",
              "      try {\n",
              "        const charts = await google.colab.kernel.invokeFunction(\n",
              "            'suggestCharts', [key], {});\n",
              "      } catch (error) {\n",
              "        console.error('Error during call to suggestCharts:', error);\n",
              "      }\n",
              "      quickchartButtonEl.classList.remove('colab-df-spinner');\n",
              "      quickchartButtonEl.classList.add('colab-df-quickchart-complete');\n",
              "    }\n",
              "    (() => {\n",
              "      let quickchartButtonEl =\n",
              "        document.querySelector('#df-36ca96b1-1fea-45f7-8d1f-03ad82a6e4b9 button');\n",
              "      quickchartButtonEl.style.display =\n",
              "        google.colab.kernel.accessAllowed ? 'block' : 'none';\n",
              "    })();\n",
              "  </script>\n",
              "</div>\n",
              "\n",
              "    </div>\n",
              "  </div>\n"
            ]
          },
          "metadata": {},
          "execution_count": 7
        }
      ]
    },
    {
      "cell_type": "code",
      "source": [
        "df"
      ],
      "metadata": {
        "id": "nkFZKaqqVbi5",
        "outputId": "9a3666ab-7516-4ca3-9bef-93d9e6214188",
        "colab": {
          "base_uri": "https://localhost:8080/"
        }
      },
      "execution_count": null,
      "outputs": [
        {
          "output_type": "execute_result",
          "data": {
            "text/plain": [
              "DataFrame[Entidad: string, Nit Entidad: bigint, Departamento Entidad: string, Ciudad Entidad: string, OrdenEntidad: string, Entidad Centralizada: string, ID del Proceso: string, Referencia del Proceso: string, PCI: string, ID del Portafolio: string, Nombre del Procedimiento: string, Descripción del Procedimiento: string, Fase: string, Fecha de Publicacion del Proceso: string, Fecha de Ultima Publicación: string, Fecha de Publicacion (Fase Planeacion Precalificacion): double, Fecha de Publicacion (Fase Seleccion Precalificacion): double, Fecha de Publicacion (Manifestacion de Interes): string, Fecha de Publicacion (Fase Borrador): string, Fecha de Publicacion (Fase Seleccion): string, Precio Base: bigint, Modalidad de Contratacion: string, Justificación Modalidad de Contratación: string, Duracion: bigint, Unidad de Duracion: string, Fecha de Recepcion de Respuestas: string, Fecha de Apertura de Respuesta: string, Fecha de Apertura Efectiva: string, Ciudad de la Unidad de Contratación: string, Nombre de la Unidad de Contratación: string, Proveedores Invitados: bigint, Proveedores con Invitacion Directa: bigint, Visualizaciones del Procedimiento: bigint, Proveedores que Manifestaron Interes: bigint, Respuestas al Procedimiento: bigint, Respuestas Externas: bigint, Conteo de Respuestas a Ofertas: bigint, Proveedores Unicos con Respuestas: bigint, Numero de Lotes: bigint, Estado del Procedimiento: string, ID Estado del Procedimiento: bigint, Adjudicado: string, ID Adjudicacion: string, CodigoProveedor: string, Departamento Proveedor: string, Ciudad Proveedor: string, Fecha Adjudicacion: string, Valor Total Adjudicacion: bigint, Nombre del Adjudicador: string, Nombre del Proveedor Adjudicado: string, NIT del Proveedor Adjudicado: string, Codigo Principal de Categoria: string, Estado de Apertura del Proceso: string, Tipo de Contrato: string, Subtipo de Contrato: string, Categorias Adicionales: string, URLProceso: string, Codigo Entidad: bigint, Estado Resumen: string]"
            ]
          },
          "metadata": {},
          "execution_count": 35
        }
      ]
    },
    {
      "cell_type": "markdown",
      "source": [
        "Nuestra tarea consiste en predecir y devolver una lista de recomendaciones de películas para un usuario en particular.\n",
        "\n",
        "Usamos el método `printSchema()` para obtener una vista rápida de los tipos de datos de las características en nuestros datos. Esto nos permite comprender la estructura de los datos y verificar cómo están organizadas las columnas en el conjunto de datos."
      ],
      "metadata": {
        "id": "esdbvpIA56eh"
      }
    },
    {
      "cell_type": "code",
      "source": [
        "df.printSchema()"
      ],
      "metadata": {
        "colab": {
          "base_uri": "https://localhost:8080/"
        },
        "id": "DJzbRMgd567u",
        "outputId": "74582783-94a9-4328-c5ac-083da4412152"
      },
      "execution_count": 8,
      "outputs": [
        {
          "output_type": "stream",
          "name": "stdout",
          "text": [
            "root\n",
            " |-- Nombre Entidad: string (nullable = true)\n",
            " |-- Nit Entidad: string (nullable = true)\n",
            " |-- Departamento: string (nullable = true)\n",
            " |-- Ciudad: string (nullable = true)\n",
            " |-- Sector: string (nullable = true)\n",
            " |-- Estado Contrato: string (nullable = true)\n",
            " |-- Descripcion del Proceso: string (nullable = true)\n",
            " |-- Tipo de Contrato: string (nullable = true)\n",
            " |-- Modalidad de Contratacion: string (nullable = true)\n",
            " |-- Fecha de Firma: string (nullable = true)\n",
            " |-- Fecha de Inicio del Contrato: string (nullable = true)\n",
            " |-- Fecha de Fin del Contrato: string (nullable = true)\n",
            " |-- Documento Proveedor: string (nullable = true)\n",
            " |-- Proveedor Adjudicado: string (nullable = true)\n",
            " |-- Es Pyme: string (nullable = true)\n",
            " |-- Valor del Contrato: string (nullable = true)\n",
            " |-- URLProceso: string (nullable = true)\n",
            " |-- Nacionalidad Representante Legal: string (nullable = true)\n",
            " |-- Género Representante Legal: string (nullable = true)\n",
            " |-- Objeto del Contrato: string (nullable = true)\n",
            "\n"
          ]
        }
      ]
    },
    {
      "cell_type": "code",
      "source": [
        "df.limit(10000).describe().show()"
      ],
      "metadata": {
        "id": "lm5sU78Iis5o",
        "outputId": "0a08d4da-adb5-4406-805e-a2e2f6261e09",
        "colab": {
          "base_uri": "https://localhost:8080/"
        }
      },
      "execution_count": 9,
      "outputs": [
        {
          "output_type": "stream",
          "name": "stdout",
          "text": [
            "+-------+--------------------+-------------+------------+---------+--------------------+---------------+-----------------------+--------------------+-------------------------+--------------+----------------------------+-------------------------+--------------------+--------------------+-------+------------------+--------------------+--------------------------------+--------------------------+--------------------+\n",
            "|summary|      Nombre Entidad|  Nit Entidad|Departamento|   Ciudad|              Sector|Estado Contrato|Descripcion del Proceso|    Tipo de Contrato|Modalidad de Contratacion|Fecha de Firma|Fecha de Inicio del Contrato|Fecha de Fin del Contrato| Documento Proveedor|Proveedor Adjudicado|Es Pyme|Valor del Contrato|          URLProceso|Nacionalidad Representante Legal|Género Representante Legal| Objeto del Contrato|\n",
            "+-------+--------------------+-------------+------------+---------+--------------------+---------------+-----------------------+--------------------+-------------------------+--------------+----------------------------+-------------------------+--------------------+--------------------+-------+------------------+--------------------+--------------------------------+--------------------------+--------------------+\n",
            "|  count|               10000|        10000|       10000|    10000|               10000|          10000|                  10000|               10000|                    10000|          9284|                        9188|                     9860|               10000|               10000|  10000|             10000|               10000|                           10000|                     10000|               10000|\n",
            "|   mean|                NULL|         NULL|        NULL|     NULL|                NULL|           NULL|                   NULL|                NULL|                     NULL|          NULL|                        NULL|                     NULL|9.748432006744946E10| 7.234579758333334E8|   NULL|0.0778816199376947|                NULL|                            NULL|                      NULL|                NULL|\n",
            "| stddev|                NULL|         NULL|        NULL|     NULL|                NULL|           NULL|                   NULL|                NULL|                     NULL|          NULL|                        NULL|                     NULL|9.497478954598752E12| 5.239916375325771E8|   NULL|0.7847231986136053|                NULL|                            NULL|                      NULL|                NULL|\n",
            "|    min|(Secretaría Distr...|8,000,068,503|    Amazonas|   Abrego|Ambiente y Desarr...|         Activo|   (034) La prestaci...|Acuerdo Marco de ...|     CCE-20-Concurso_M...|    01/01/2023|                  01/01/2023|               01/01/2017|       1.098.639.624|(Secretaría Distr...|     No|                 0|https://community...|                              AF|                  Femenino|(034) La prestaci...|\n",
            "|    max|ÁREA METROPOLITAN...|  901,541,302|     Vichada|Zipaquirá|            interior|      terminado|   «Prestar los serv...|     Venta inmuebles|     Selección abrevia...|    12/31/2023|                  12/31/2023|               12/31/2032|                   x|Álvaro Yesid Cani...|     Si|       999,102,324|https://community...|                              VE|               No Definido|«Prestar los serv...|\n",
            "+-------+--------------------+-------------+------------+---------+--------------------+---------------+-----------------------+--------------------+-------------------------+--------------+----------------------------+-------------------------+--------------------+--------------------+-------+------------------+--------------------+--------------------------------+--------------------------+--------------------+\n",
            "\n"
          ]
        }
      ]
    },
    {
      "source": [
        "df2=df.filter((df[\"Nit Entidad\"] == \"899,999,027\") & (df['Estado Contrato']=='Activo'))\n",
        "df2.show()\n"
      ],
      "cell_type": "code",
      "metadata": {
        "id": "DCPQ5GJSnc9m",
        "colab": {
          "base_uri": "https://localhost:8080/"
        },
        "outputId": "70ec4e70-7e44-468b-d71f-379d17c48ab8"
      },
      "execution_count": 51,
      "outputs": [
        {
          "output_type": "stream",
          "name": "stdout",
          "text": [
            "+--------------------+-----------+--------------------+-----------+--------------------+---------------+-----------------------+--------------------+-------------------------+--------------+----------------------------+-------------------------+-------------------+--------------------+-------+------------------+--------------------+--------------------------------+--------------------------+--------------------+\n",
            "|      Nombre Entidad|Nit Entidad|        Departamento|     Ciudad|              Sector|Estado Contrato|Descripcion del Proceso|    Tipo de Contrato|Modalidad de Contratacion|Fecha de Firma|Fecha de Inicio del Contrato|Fecha de Fin del Contrato|Documento Proveedor|Proveedor Adjudicado|Es Pyme|Valor del Contrato|          URLProceso|Nacionalidad Representante Legal|Género Representante Legal| Objeto del Contrato|\n",
            "+--------------------+-----------+--------------------+-----------+--------------------+---------------+-----------------------+--------------------+-------------------------+--------------+----------------------------+-------------------------+-------------------+--------------------+-------+------------------+--------------------+--------------------------------+--------------------------+--------------------+\n",
            "|DEPARTAMENTO ADMI...|899,999,027|Distrito Capital ...|     Bogotá|Información Estad...|         Activo|   DSCN_CT_2018_TH: ...|Prestación de ser...|     Contratación directa|    01/26/2018|                  01/26/2018|               10/16/2018|         1032366046|Camilo Andrés Cas...|     No|        66,500,000|https://community...|                              CO|               No Definido|DSCN_CT_2018_TH: ...|\n",
            "|DEPARTAMENTO ADMI...|899,999,027|Distrito Capital ...|     Bogotá|Información Estad...|         Activo|   CSDM_TH - Prestac...|Prestación de ser...|     Contratación directa|    12/13/2017|                  12/12/2017|               07/01/2018|         1022405621|  Angie Camila Parra|     No|         9,380,000|https://community...|                              CO|               No Definido|CSDM_TH - Prestac...|\n",
            "|DEPARTAMENTO ADMI...|899,999,027|     Valle del Cauca|       Cali|Información Estad...|         Activo|   GEIH_U_TH_TU_OT P...|Prestación de ser...|     Contratación directa|    07/16/2018|                  07/09/2018|               11/30/2018|         1088973403|NATALIA ERAZO VALLES|     No|         8,696,206|https://community...|                              CO|                  Femenino|GEIH_U_TH_TU_OT P...|\n",
            "|DEPARTAMENTO ADMI...|899,999,027|     Valle del Cauca|       Cali|Información Estad...|         Activo|   CSDM_CNPV_2018 Pr...|Prestación de ser...|     Contratación directa|    12/21/2018|                  12/12/2018|               12/29/2018|         1087200628|OMAIRA ALEJANDRA ...|     No|         3,708,440|https://community...|                              CO|               No Definido|CSDM_CNPV_2018 Pr...|\n",
            "|DANE - DIRECCION ...|899,999,027|Distrito Capital ...|     Bogotá|Información Estad...|         Activo|            No Definido|Prestación de ser...|     Contratación directa|    08/28/2018|                  08/29/2018|               11/28/2018|         1014250415|KATHERIN JULIETH ...|     No|         1,000,000|https://community...|                              CO|               No Definido|              objeto|\n",
            "|DANE - DIRECCION ...|899,999,027|           Atlántico|No Definido|Información Estad...|         Activo|   GEIH_U_TH_TU_OT P...|Prestación de ser...|     Contratación directa|    07/10/2018|                  07/10/2018|               12/01/2018|           64570661|LIDYS ESTHER PERE...|     No|         7,581,952|https://community...|                              CO|                  Femenino|GEIH_U_TH_TU_OT P...|\n",
            "|DEPARTAMENTO ADMI...|899,999,027|Distrito Capital ...|     Bogotá|Información Estad...|         Activo|   39791 CSDM_ETN_20...|Prestación de ser...|     Contratación directa|    01/10/2020|                  01/10/2020|               12/25/2020|           39623925|Eleonora Ardila S...|     No|        88,837,500|https://community...|                              CO|                  Femenino|39791 CSDM_ETN_20...|\n",
            "|DANE - DIRECCION ...|899,999,027|Distrito Capital ...|     Bogotá|Información Estad...|         Activo|   MERCADO_GEIH_ND_V...|Prestación de ser...|     Contratación directa|    12/04/2018|                  12/04/2018|               04/08/2019|         1013612148|Ray Alberto Cita ...|     No|         9,031,427|https://community...|                              CO|               No Definido|MERCADO_GEIH_ND_V...|\n",
            "|DANE - DIRECCION ...|899,999,027|Distrito Capital ...|     Bogotá|Información Estad...|         Activo|   PRECIOS_2020_IPC_...|Prestación de ser...|     Contratación directa|    04/01/2020|                  04/02/2020|               07/01/2020|            7182010|FREDY ALBERTO SAN...|     No|         5,299,122|https://community...|                              CO|               No Definido|PRECIOS_2020_IPC_...|\n",
            "|DEPARTAMENTO ADMI...|899,999,027|     Valle del Cauca|       Cali|Información Estad...|         Activo|   POBREZA_2020_EGIT...|Prestación de ser...|     Contratación directa|    02/04/2020|                  02/16/2020|               04/01/2020|         1062081581|    JULIANA GUERRERO|     No|         3,102,935|https://community...|                              CO|                  Femenino|POBREZA_2020_EGIT...|\n",
            "|DANE CENTRO OCCID...|899,999,027|              Caldas|  Manizales|    Servicio Público|         Activo|   GEIH_U_TH_TU_OT P...|Prestación de ser...|     Contratación directa|    07/12/2018|                  07/12/2018|               12/01/2018|         1088275653|jessica liseth ra...|     No|         8,385,526|https://community...|                              CO|                  Femenino|GEIH_U_TH_TU_OT P...|\n",
            "|DEPARTAMENTO ADMI...|899,999,027|Distrito Capital ...|     Bogotá|Información Estad...|         Activo|   BDMGN_AMGN_TH_Pre...|Prestación de ser...|     Contratación directa|    01/17/2018|                  01/12/2018|               10/11/2018|           80913019| FERNANDO MORA CAÑAS|     No|        31,995,000|https://community...|                              CO|               No Definido|BDMGN_AMGN_TH_Pre...|\n",
            "|DEPARTAMENTO ADMI...|899,999,027|Distrito Capital ...|     Bogotá|Información Estad...|         Activo|   Prestación de ser...|Prestación de ser...|     Contratación directa|    01/18/2018|                  01/15/2018|               07/31/2018|           37547666|MERY LILIANA PINT...|     No|        25,200,000|https://community...|                              CO|                  Femenino|Prestación de ser...|\n",
            "|DEPARTAMENTO ADMI...|899,999,027|Distrito Capital ...|     Bogotá|Información Estad...|         Activo|   SUBDR_TRV_2019_LO...|Prestación de ser...|     Contratación directa|    02/20/2019|                  02/21/2019|               08/20/2019|         1053804377|JUAN CAMILO GONZA...|     No|        18,000,000|https://community...|                              CO|               No Definido|SUBDR_TRV_2019_LO...|\n",
            "|DEPARTAMENTO ADMI...|899,999,027|Distrito Capital ...|     Bogotá|Información Estad...|         Activo|   43341ARQ_APL_TH_ ...|Prestación de ser...|     Contratación directa|    01/28/2020|                  01/28/2020|               12/27/2020|         1105690791|Daniel Steven Pol...|     No|        35,200,000|https://community...|                              CO|               No Definido|43341ARQ_APL_TH_ ...|\n",
            "|DANE - DIRECCION ...|899,999,027|           Atlántico|No Definido|Información Estad...|         Activo|   GEIH_U_TH_TU_ Pre...|Prestación de ser...|     Contratación directa|    07/09/2018|                  07/10/2018|               12/01/2018|           40986073|DIANA ROSA IGUARA...|     No|         9,634,626|https://community...|                              CO|                  Femenino|GEIH_U_TH_TU_ Pre...|\n",
            "|DANE CENTRO OCCID...|899,999,027|              Caldas|  Manizales|    Servicio Público|         Activo|   GEIH_U_TH_TU_OT P...|Prestación de ser...|     Contratación directa|    07/09/2018|                  07/10/2018|               12/01/2018|            7561471|             NIVALDO|     No|         8,385,526|https://community...|                              CO|               No Definido|GEIH_U_TH_TU_OT P...|\n",
            "|DANE - DIRECCION ...|899,999,027|           Atlántico|No Definido|Información Estad...|         Activo|   AGRO_SIPSA_MN_VIG...|Prestación de ser...|     Contratación directa|    12/01/2018|                  12/01/2018|               05/01/2019|           92554239|Rodrigo Rafael Co...|     No|        10,987,400|https://community...|                              CO|               No Definido|AGRO_SIPSA_MN_VIG...|\n",
            "|DEPARTAMENTO ADMI...|899,999,027|Distrito Capital ...|     Bogotá|Información Estad...|         Activo|   36510 - 40276 TE_...|Prestación de ser...|     Contratación directa|    01/17/2020|                  01/16/2020|               12/31/2020|           41576404|DORA SANCHEZ DE A...|     No|       171,810,000|https://community...|                              CO|               No Definido|36510 - 40276 TE_...|\n",
            "|DANE - DIRECCION ...|899,999,027|Distrito Capital ...|     Bogotá|Información Estad...|         Activo|   PRECIOS_2020_IPC_...|Prestación de ser...|     Contratación directa|    04/02/2020|                  04/03/2020|               07/01/2020|         1030566755|NESTOR SAUL MURIL...|     No|         4,993,428|https://community...|                              CO|               No Definido|PRECIOS_2020_IPC_...|\n",
            "+--------------------+-----------+--------------------+-----------+--------------------+---------------+-----------------------+--------------------+-------------------------+--------------+----------------------------+-------------------------+-------------------+--------------------+-------+------------------+--------------------+--------------------------------+--------------------------+--------------------+\n",
            "only showing top 20 rows\n",
            "\n"
          ]
        }
      ]
    },
    {
      "cell_type": "code",
      "source": [
        "df2.select('Nombre Entidad').show()"
      ],
      "metadata": {
        "colab": {
          "base_uri": "https://localhost:8080/"
        },
        "id": "IuJ0ysQJ0V19",
        "outputId": "39f2bf80-aa19-4cc0-f790-174c5ce050da"
      },
      "execution_count": 28,
      "outputs": [
        {
          "output_type": "stream",
          "name": "stdout",
          "text": [
            "+--------------------+\n",
            "|      Nombre Entidad|\n",
            "+--------------------+\n",
            "|DEPARTAMENTO ADMI...|\n",
            "|DEPARTAMENTO ADMI...|\n",
            "|DEPARTAMENTO ADMI...|\n",
            "|DEPARTAMENTO ADMI...|\n",
            "|DANE - DIRECCION ...|\n",
            "|DANE - DIRECCION ...|\n",
            "|DEPARTAMENTO ADMI...|\n",
            "|DANE - DIRECCION ...|\n",
            "|DANE - DIRECCION ...|\n",
            "|DEPARTAMENTO ADMI...|\n",
            "|DANE CENTRO OCCID...|\n",
            "|DEPARTAMENTO ADMI...|\n",
            "|DEPARTAMENTO ADMI...|\n",
            "|DEPARTAMENTO ADMI...|\n",
            "|DEPARTAMENTO ADMI...|\n",
            "|DANE - DIRECCION ...|\n",
            "|DANE CENTRO OCCID...|\n",
            "|DANE - DIRECCION ...|\n",
            "|DEPARTAMENTO ADMI...|\n",
            "|DANE - DIRECCION ...|\n",
            "+--------------------+\n",
            "only showing top 20 rows\n",
            "\n"
          ]
        }
      ]
    },
    {
      "cell_type": "code",
      "source": [
        "print(df2.count(),len(df2.columns))"
      ],
      "metadata": {
        "id": "wl8g7fW0mq_j",
        "outputId": "849be4cf-c9e2-43fb-8b02-8ad77eff20e0",
        "colab": {
          "base_uri": "https://localhost:8080/"
        }
      },
      "execution_count": 26,
      "outputs": [
        {
          "output_type": "stream",
          "name": "stdout",
          "text": [
            "5414 20\n"
          ]
        }
      ]
    },
    {
      "cell_type": "markdown",
      "source": [
        "## Comprobación de valores nulos en PySpark:\n",
        "\n",
        "- `isnan()` es una función del paquete `pyspark.sql.functions` y debemos especificar qué columna queremos utilizar como argumento de la función.\n",
        "- `isNull()` pertenece al paquete `pyspark.sql.Column` y se utiliza para verificar el estado nulo de una columna en particular.\n",
        "\n",
        "Para verificar valores nulos en PySpark, utilizamos ambas funciones mencionadas anteriormente."
      ],
      "metadata": {
        "id": "6c3KpgqF8Cy2"
      }
    },
    {
      "cell_type": "code",
      "source": [
        "\n",
        "df2.select(count(when(col('Es Pyme').isNull(),1)).alias('Nulos es pyme')).show()\n"
      ],
      "metadata": {
        "colab": {
          "base_uri": "https://localhost:8080/"
        },
        "id": "zvI-Sogr0l61",
        "outputId": "573bb8df-0757-44e1-92da-d301e803df4a"
      },
      "execution_count": 44,
      "outputs": [
        {
          "output_type": "stream",
          "name": "stdout",
          "text": [
            "+-------------+\n",
            "|Nulos es pyme|\n",
            "+-------------+\n",
            "|            0|\n",
            "+-------------+\n",
            "\n"
          ]
        }
      ]
    },
    {
      "cell_type": "code",
      "source": [
        "df2.select([count(when(isnan(c) | col(c).isNull(), c)).alias(c) for c in df2.columns]).show()"
      ],
      "metadata": {
        "colab": {
          "base_uri": "https://localhost:8080/"
        },
        "id": "k_TnqO3d8iia",
        "outputId": "e80d9457-0c7d-46ad-ad05-fc4988f4249c"
      },
      "execution_count": 45,
      "outputs": [
        {
          "output_type": "stream",
          "name": "stdout",
          "text": [
            "+--------------+-----------+------------+------+------+---------------+-----------------------+----------------+-------------------------+--------------+----------------------------+-------------------------+-------------------+--------------------+-------+------------------+----------+--------------------------------+--------------------------+-------------------+\n",
            "|Nombre Entidad|Nit Entidad|Departamento|Ciudad|Sector|Estado Contrato|Descripcion del Proceso|Tipo de Contrato|Modalidad de Contratacion|Fecha de Firma|Fecha de Inicio del Contrato|Fecha de Fin del Contrato|Documento Proveedor|Proveedor Adjudicado|Es Pyme|Valor del Contrato|URLProceso|Nacionalidad Representante Legal|Género Representante Legal|Objeto del Contrato|\n",
            "+--------------+-----------+------------+------+------+---------------+-----------------------+----------------+-------------------------+--------------+----------------------------+-------------------------+-------------------+--------------------+-------+------------------+----------+--------------------------------+--------------------------+-------------------+\n",
            "|             0|          0|           0|     0|     0|              0|                      0|               0|                        0|             0|                          72|                        0|                  0|                   0|      0|                 0|         0|                               0|                         0|                  0|\n",
            "+--------------+-----------+------------+------+------+---------------+-----------------------+----------------+-------------------------+--------------+----------------------------+-------------------------+-------------------+--------------------+-------+------------------+----------+--------------------------------+--------------------------+-------------------+\n",
            "\n"
          ]
        }
      ]
    },
    {
      "cell_type": "code",
      "source": [
        "df2=df2.drop(\"URLProceso\")\n"
      ],
      "metadata": {
        "id": "lAURxzJc8ld4"
      },
      "execution_count": 58,
      "outputs": []
    },
    {
      "cell_type": "code",
      "source": [
        "df2.columns"
      ],
      "metadata": {
        "colab": {
          "base_uri": "https://localhost:8080/"
        },
        "id": "QqWv9_Hp3gEW",
        "outputId": "014d09a0-d3d0-4bbf-b25c-9d415fc2ef32"
      },
      "execution_count": 60,
      "outputs": [
        {
          "output_type": "execute_result",
          "data": {
            "text/plain": [
              "['Nombre Entidad',\n",
              " 'Nit Entidad',\n",
              " 'Departamento',\n",
              " 'Ciudad',\n",
              " 'Sector',\n",
              " 'Estado Contrato',\n",
              " 'Descripcion del Proceso',\n",
              " 'Tipo de Contrato',\n",
              " 'Modalidad de Contratacion',\n",
              " 'Fecha de Firma',\n",
              " 'Fecha de Inicio del Contrato',\n",
              " 'Fecha de Fin del Contrato',\n",
              " 'Documento Proveedor',\n",
              " 'Proveedor Adjudicado',\n",
              " 'Es Pyme',\n",
              " 'Valor del Contrato',\n",
              " 'Nacionalidad Representante Legal',\n",
              " 'Género Representante Legal',\n",
              " 'Objeto del Contrato']"
            ]
          },
          "metadata": {},
          "execution_count": 60
        }
      ]
    },
    {
      "cell_type": "markdown",
      "source": [
        "Para reemplazar estos valores \",\" en la variable Valor del contrato.\n",
        "\n",
        "En la característica 'Name' (nombre), podemos ver que los nombres tienen una salutación como Sr. o Sra. Por lo tanto, podemos asignar los valores promedio de Sr. y Sra. a los grupos respectivos.\n",
        "\n",
        "**Utilizando la expresión regular \"[A-Za-z]+).\" extraemos las iniciales del nombre. Esta expresión busca cadenas que se encuentran entre A-Z o a-z y están seguidas por un punto (.).**"
      ],
      "metadata": {
        "id": "y_ikTaBO8rP6"
      }
    },
    {
      "cell_type": "code",
      "source": [
        "df2 = df2.withColumn('Valor del Contrato', regexp_replace(col('Valor del Contrato'), ',', ''))\n",
        "df2.limit(3).show()\n"
      ],
      "metadata": {
        "colab": {
          "base_uri": "https://localhost:8080/"
        },
        "id": "Mi7ml3ml8r18",
        "outputId": "33e9d476-3bdd-4f42-b0ad-8473c452d692"
      },
      "execution_count": 61,
      "outputs": [
        {
          "output_type": "stream",
          "name": "stdout",
          "text": [
            "+--------------------+-----------+--------------------+------+--------------------+---------------+-----------------------+--------------------+-------------------------+--------------+----------------------------+-------------------------+-------------------+--------------------+-------+------------------+--------------------------------+--------------------------+--------------------+\n",
            "|      Nombre Entidad|Nit Entidad|        Departamento|Ciudad|              Sector|Estado Contrato|Descripcion del Proceso|    Tipo de Contrato|Modalidad de Contratacion|Fecha de Firma|Fecha de Inicio del Contrato|Fecha de Fin del Contrato|Documento Proveedor|Proveedor Adjudicado|Es Pyme|Valor del Contrato|Nacionalidad Representante Legal|Género Representante Legal| Objeto del Contrato|\n",
            "+--------------------+-----------+--------------------+------+--------------------+---------------+-----------------------+--------------------+-------------------------+--------------+----------------------------+-------------------------+-------------------+--------------------+-------+------------------+--------------------------------+--------------------------+--------------------+\n",
            "|DEPARTAMENTO ADMI...|899,999,027|Distrito Capital ...|Bogotá|Información Estad...|         Activo|   DSCN_CT_2018_TH: ...|Prestación de ser...|     Contratación directa|    01/26/2018|                  01/26/2018|               10/16/2018|         1032366046|Camilo Andrés Cas...|     No|          66500000|                              CO|               No Definido|DSCN_CT_2018_TH: ...|\n",
            "|DEPARTAMENTO ADMI...|899,999,027|Distrito Capital ...|Bogotá|Información Estad...|         Activo|   CSDM_TH - Prestac...|Prestación de ser...|     Contratación directa|    12/13/2017|                  12/12/2017|               07/01/2018|         1022405621|  Angie Camila Parra|     No|           9380000|                              CO|               No Definido|CSDM_TH - Prestac...|\n",
            "|DEPARTAMENTO ADMI...|899,999,027|     Valle del Cauca|  Cali|Información Estad...|         Activo|   GEIH_U_TH_TU_OT P...|Prestación de ser...|     Contratación directa|    07/16/2018|                  07/09/2018|               11/30/2018|         1088973403|NATALIA ERAZO VALLES|     No|           8696206|                              CO|                  Femenino|GEIH_U_TH_TU_OT P...|\n",
            "+--------------------+-----------+--------------------+------+--------------------+---------------+-----------------------+--------------------+-------------------------+--------------+----------------------------+-------------------------+-------------------+--------------------+-------+------------------+--------------------------------+--------------------------+--------------------+\n",
            "\n"
          ]
        }
      ]
    },
    {
      "cell_type": "code",
      "source": [
        "df2.printSchema()"
      ],
      "metadata": {
        "colab": {
          "base_uri": "https://localhost:8080/"
        },
        "id": "i731AerX4Un3",
        "outputId": "e4f214cb-00a2-43f9-ce82-3046992cd521"
      },
      "execution_count": 63,
      "outputs": [
        {
          "output_type": "stream",
          "name": "stdout",
          "text": [
            "root\n",
            " |-- Nombre Entidad: string (nullable = true)\n",
            " |-- Nit Entidad: string (nullable = true)\n",
            " |-- Departamento: string (nullable = true)\n",
            " |-- Ciudad: string (nullable = true)\n",
            " |-- Sector: string (nullable = true)\n",
            " |-- Estado Contrato: string (nullable = true)\n",
            " |-- Descripcion del Proceso: string (nullable = true)\n",
            " |-- Tipo de Contrato: string (nullable = true)\n",
            " |-- Modalidad de Contratacion: string (nullable = true)\n",
            " |-- Fecha de Firma: string (nullable = true)\n",
            " |-- Fecha de Inicio del Contrato: string (nullable = true)\n",
            " |-- Fecha de Fin del Contrato: string (nullable = true)\n",
            " |-- Documento Proveedor: string (nullable = true)\n",
            " |-- Proveedor Adjudicado: string (nullable = true)\n",
            " |-- Es Pyme: string (nullable = true)\n",
            " |-- Valor del Contrato: string (nullable = true)\n",
            " |-- Nacionalidad Representante Legal: string (nullable = true)\n",
            " |-- Género Representante Legal: string (nullable = true)\n",
            " |-- Objeto del Contrato: string (nullable = true)\n",
            "\n"
          ]
        }
      ]
    },
    {
      "cell_type": "code",
      "source": [
        "df2 = df2.withColumn('Valor del Contrato', df2['Valor del Contrato'].cast('float'))"
      ],
      "metadata": {
        "id": "xs40xOuU4ZSM"
      },
      "execution_count": 66,
      "outputs": []
    },
    {
      "cell_type": "code",
      "source": [
        "df2.select('Valor del Contrato')"
      ],
      "metadata": {
        "colab": {
          "base_uri": "https://localhost:8080/"
        },
        "id": "M_EmlWVl4js7",
        "outputId": "168644b1-90f8-4217-cc94-abf8f6e7a817"
      },
      "execution_count": 68,
      "outputs": [
        {
          "output_type": "execute_result",
          "data": {
            "text/plain": [
              "DataFrame[Valor del Contrato: float]"
            ]
          },
          "metadata": {},
          "execution_count": 68
        }
      ]
    },
    {
      "cell_type": "code",
      "source": [
        "# Embarked columns has two missing values, let check it\n",
        "df2.groupBy(\"Departamento\").agg(sum('Valor del Contrato')/1000000).show()"
      ],
      "metadata": {
        "colab": {
          "base_uri": "https://localhost:8080/"
        },
        "id": "vnIZXm6Z86yd",
        "outputId": "6b83eb3c-bc42-48d6-918f-6d17ad98be6b"
      },
      "execution_count": 71,
      "outputs": [
        {
          "output_type": "stream",
          "name": "stdout",
          "text": [
            "+--------------------+-----------------------------------+\n",
            "|        Departamento|(sum(Valor del Contrato) / 1000000)|\n",
            "+--------------------+-----------------------------------+\n",
            "|           Antioquia|                        3979.586118|\n",
            "|           Atlántico|                        6212.848891|\n",
            "|Distrito Capital ...|                         83588.7334|\n",
            "|     Valle del Cauca|                        4941.758931|\n",
            "|              Caldas|                        3147.685367|\n",
            "|           Santander|                            23.6555|\n",
            "+--------------------+-----------------------------------+\n",
            "\n"
          ]
        }
      ]
    },
    {
      "cell_type": "markdown",
      "source": [
        "Usamos `PysparkDataFrame.na.fill()` para llenar un valor en una columna específica."
      ],
      "metadata": {
        "id": "Gn5KdfaJ8-tm"
      }
    },
    {
      "cell_type": "code",
      "source": [
        "# As we can see, Majority Passengers boarded from \"S\". We can assign missing value with \"S\"\n",
        "df2 = df2.na.fill({\"Fecha de Inicio del Contrato\" : 'Sin Información'})\n",
        "# Check again the missing value status\n",
        "df2.select([count(when(isnan(c) | col(c).isNull(), c)).alias(c) for c in df2.columns]).show()"
      ],
      "metadata": {
        "colab": {
          "base_uri": "https://localhost:8080/"
        },
        "id": "UEbx9GTn8_Uv",
        "outputId": "ae656f2a-161a-47f0-9f72-58d57c4c4795"
      },
      "execution_count": 72,
      "outputs": [
        {
          "output_type": "stream",
          "name": "stdout",
          "text": [
            "+--------------+-----------+------------+------+------+---------------+-----------------------+----------------+-------------------------+--------------+----------------------------+-------------------------+-------------------+--------------------+-------+------------------+--------------------------------+--------------------------+-------------------+\n",
            "|Nombre Entidad|Nit Entidad|Departamento|Ciudad|Sector|Estado Contrato|Descripcion del Proceso|Tipo de Contrato|Modalidad de Contratacion|Fecha de Firma|Fecha de Inicio del Contrato|Fecha de Fin del Contrato|Documento Proveedor|Proveedor Adjudicado|Es Pyme|Valor del Contrato|Nacionalidad Representante Legal|Género Representante Legal|Objeto del Contrato|\n",
            "+--------------+-----------+------------+------+------+---------------+-----------------------+----------------+-------------------------+--------------+----------------------------+-------------------------+-------------------+--------------------+-------+------------------+--------------------------------+--------------------------+-------------------+\n",
            "|             0|          0|           0|     0|     0|              0|                      0|               0|                        0|             0|                           0|                        0|                  0|                   0|      0|                 0|                               0|                         0|                  0|\n",
            "+--------------+-----------+------------+------+------+---------------+-----------------------+----------------+-------------------------+--------------+----------------------------+-------------------------+-------------------+--------------------+-------+------------------+--------------------------------+--------------------------+-------------------+\n",
            "\n"
          ]
        }
      ]
    },
    {
      "cell_type": "code",
      "source": [
        "df2 = df2.withColumn(\"Valor del Contrato M\",col('Valor del Contrato')/1000000)\n",
        "df2 = df2.withColumn('Variable nueva',lit('Ejemplo'))\n",
        "df2 = df2.withColumn(\"Millonario?\",when(df2[\"Valor del Contrato\"] >1, 'Si').otherwise('No'))\n",
        "df2.show()\n"
      ],
      "metadata": {
        "id": "PMKi6mp_9PaM",
        "colab": {
          "base_uri": "https://localhost:8080/"
        },
        "outputId": "9453a220-2567-42c1-bf6d-dd8c8e9c3303"
      },
      "execution_count": 74,
      "outputs": [
        {
          "output_type": "stream",
          "name": "stdout",
          "text": [
            "+--------------------+-----------+--------------------+-----------+--------------------+---------------+-----------------------+--------------------+-------------------------+--------------+----------------------------+-------------------------+-------------------+--------------------+-------+------------------+--------------------------------+--------------------------+--------------------+--------------------+--------------+-----------+\n",
            "|      Nombre Entidad|Nit Entidad|        Departamento|     Ciudad|              Sector|Estado Contrato|Descripcion del Proceso|    Tipo de Contrato|Modalidad de Contratacion|Fecha de Firma|Fecha de Inicio del Contrato|Fecha de Fin del Contrato|Documento Proveedor|Proveedor Adjudicado|Es Pyme|Valor del Contrato|Nacionalidad Representante Legal|Género Representante Legal| Objeto del Contrato|Valor del Contrato M|Variable nueva|Millonario?|\n",
            "+--------------------+-----------+--------------------+-----------+--------------------+---------------+-----------------------+--------------------+-------------------------+--------------+----------------------------+-------------------------+-------------------+--------------------+-------+------------------+--------------------------------+--------------------------+--------------------+--------------------+--------------+-----------+\n",
            "|DEPARTAMENTO ADMI...|899,999,027|Distrito Capital ...|     Bogotá|Información Estad...|         Activo|   DSCN_CT_2018_TH: ...|Prestación de ser...|     Contratación directa|    01/26/2018|                  01/26/2018|               10/16/2018|         1032366046|Camilo Andrés Cas...|     No|            6.65E7|                              CO|               No Definido|DSCN_CT_2018_TH: ...|                66.5|       Ejemplo|         Si|\n",
            "|DEPARTAMENTO ADMI...|899,999,027|Distrito Capital ...|     Bogotá|Información Estad...|         Activo|   CSDM_TH - Prestac...|Prestación de ser...|     Contratación directa|    12/13/2017|                  12/12/2017|               07/01/2018|         1022405621|  Angie Camila Parra|     No|         9380000.0|                              CO|               No Definido|CSDM_TH - Prestac...|                9.38|       Ejemplo|         Si|\n",
            "|DEPARTAMENTO ADMI...|899,999,027|     Valle del Cauca|       Cali|Información Estad...|         Activo|   GEIH_U_TH_TU_OT P...|Prestación de ser...|     Contratación directa|    07/16/2018|                  07/09/2018|               11/30/2018|         1088973403|NATALIA ERAZO VALLES|     No|         8696206.0|                              CO|                  Femenino|GEIH_U_TH_TU_OT P...|            8.696206|       Ejemplo|         Si|\n",
            "|DEPARTAMENTO ADMI...|899,999,027|     Valle del Cauca|       Cali|Información Estad...|         Activo|   CSDM_CNPV_2018 Pr...|Prestación de ser...|     Contratación directa|    12/21/2018|                  12/12/2018|               12/29/2018|         1087200628|OMAIRA ALEJANDRA ...|     No|         3708440.0|                              CO|               No Definido|CSDM_CNPV_2018 Pr...|             3.70844|       Ejemplo|         Si|\n",
            "|DANE - DIRECCION ...|899,999,027|Distrito Capital ...|     Bogotá|Información Estad...|         Activo|            No Definido|Prestación de ser...|     Contratación directa|    08/28/2018|                  08/29/2018|               11/28/2018|         1014250415|KATHERIN JULIETH ...|     No|         1000000.0|                              CO|               No Definido|              objeto|                 1.0|       Ejemplo|         Si|\n",
            "|DANE - DIRECCION ...|899,999,027|           Atlántico|No Definido|Información Estad...|         Activo|   GEIH_U_TH_TU_OT P...|Prestación de ser...|     Contratación directa|    07/10/2018|                  07/10/2018|               12/01/2018|           64570661|LIDYS ESTHER PERE...|     No|         7581952.0|                              CO|                  Femenino|GEIH_U_TH_TU_OT P...|            7.581952|       Ejemplo|         Si|\n",
            "|DEPARTAMENTO ADMI...|899,999,027|Distrito Capital ...|     Bogotá|Información Estad...|         Activo|   39791 CSDM_ETN_20...|Prestación de ser...|     Contratación directa|    01/10/2020|                  01/10/2020|               12/25/2020|           39623925|Eleonora Ardila S...|     No|       8.8837504E7|                              CO|                  Femenino|39791 CSDM_ETN_20...|           88.837504|       Ejemplo|         Si|\n",
            "|DANE - DIRECCION ...|899,999,027|Distrito Capital ...|     Bogotá|Información Estad...|         Activo|   MERCADO_GEIH_ND_V...|Prestación de ser...|     Contratación directa|    12/04/2018|                  12/04/2018|               04/08/2019|         1013612148|Ray Alberto Cita ...|     No|         9031427.0|                              CO|               No Definido|MERCADO_GEIH_ND_V...|            9.031427|       Ejemplo|         Si|\n",
            "|DANE - DIRECCION ...|899,999,027|Distrito Capital ...|     Bogotá|Información Estad...|         Activo|   PRECIOS_2020_IPC_...|Prestación de ser...|     Contratación directa|    04/01/2020|                  04/02/2020|               07/01/2020|            7182010|FREDY ALBERTO SAN...|     No|         5299122.0|                              CO|               No Definido|PRECIOS_2020_IPC_...|            5.299122|       Ejemplo|         Si|\n",
            "|DEPARTAMENTO ADMI...|899,999,027|     Valle del Cauca|       Cali|Información Estad...|         Activo|   POBREZA_2020_EGIT...|Prestación de ser...|     Contratación directa|    02/04/2020|                  02/16/2020|               04/01/2020|         1062081581|    JULIANA GUERRERO|     No|         3102935.0|                              CO|                  Femenino|POBREZA_2020_EGIT...|            3.102935|       Ejemplo|         Si|\n",
            "|DANE CENTRO OCCID...|899,999,027|              Caldas|  Manizales|    Servicio Público|         Activo|   GEIH_U_TH_TU_OT P...|Prestación de ser...|     Contratación directa|    07/12/2018|                  07/12/2018|               12/01/2018|         1088275653|jessica liseth ra...|     No|         8385526.0|                              CO|                  Femenino|GEIH_U_TH_TU_OT P...|            8.385526|       Ejemplo|         Si|\n",
            "|DEPARTAMENTO ADMI...|899,999,027|Distrito Capital ...|     Bogotá|Información Estad...|         Activo|   BDMGN_AMGN_TH_Pre...|Prestación de ser...|     Contratación directa|    01/17/2018|                  01/12/2018|               10/11/2018|           80913019| FERNANDO MORA CAÑAS|     No|          3.1995E7|                              CO|               No Definido|BDMGN_AMGN_TH_Pre...|              31.995|       Ejemplo|         Si|\n",
            "|DEPARTAMENTO ADMI...|899,999,027|Distrito Capital ...|     Bogotá|Información Estad...|         Activo|   Prestación de ser...|Prestación de ser...|     Contratación directa|    01/18/2018|                  01/15/2018|               07/31/2018|           37547666|MERY LILIANA PINT...|     No|            2.52E7|                              CO|                  Femenino|Prestación de ser...|                25.2|       Ejemplo|         Si|\n",
            "|DEPARTAMENTO ADMI...|899,999,027|Distrito Capital ...|     Bogotá|Información Estad...|         Activo|   SUBDR_TRV_2019_LO...|Prestación de ser...|     Contratación directa|    02/20/2019|                  02/21/2019|               08/20/2019|         1053804377|JUAN CAMILO GONZA...|     No|             1.8E7|                              CO|               No Definido|SUBDR_TRV_2019_LO...|                18.0|       Ejemplo|         Si|\n",
            "|DEPARTAMENTO ADMI...|899,999,027|Distrito Capital ...|     Bogotá|Información Estad...|         Activo|   43341ARQ_APL_TH_ ...|Prestación de ser...|     Contratación directa|    01/28/2020|                  01/28/2020|               12/27/2020|         1105690791|Daniel Steven Pol...|     No|            3.52E7|                              CO|               No Definido|43341ARQ_APL_TH_ ...|                35.2|       Ejemplo|         Si|\n",
            "|DANE - DIRECCION ...|899,999,027|           Atlántico|No Definido|Información Estad...|         Activo|   GEIH_U_TH_TU_ Pre...|Prestación de ser...|     Contratación directa|    07/09/2018|                  07/10/2018|               12/01/2018|           40986073|DIANA ROSA IGUARA...|     No|         9634626.0|                              CO|                  Femenino|GEIH_U_TH_TU_ Pre...|            9.634626|       Ejemplo|         Si|\n",
            "|DANE CENTRO OCCID...|899,999,027|              Caldas|  Manizales|    Servicio Público|         Activo|   GEIH_U_TH_TU_OT P...|Prestación de ser...|     Contratación directa|    07/09/2018|                  07/10/2018|               12/01/2018|            7561471|             NIVALDO|     No|         8385526.0|                              CO|               No Definido|GEIH_U_TH_TU_OT P...|            8.385526|       Ejemplo|         Si|\n",
            "|DANE - DIRECCION ...|899,999,027|           Atlántico|No Definido|Información Estad...|         Activo|   AGRO_SIPSA_MN_VIG...|Prestación de ser...|     Contratación directa|    12/01/2018|                  12/01/2018|               05/01/2019|           92554239|Rodrigo Rafael Co...|     No|         1.09874E7|                              CO|               No Definido|AGRO_SIPSA_MN_VIG...|             10.9874|       Ejemplo|         Si|\n",
            "|DEPARTAMENTO ADMI...|899,999,027|Distrito Capital ...|     Bogotá|Información Estad...|         Activo|   36510 - 40276 TE_...|Prestación de ser...|     Contratación directa|    01/17/2020|                  01/16/2020|               12/31/2020|           41576404|DORA SANCHEZ DE A...|     No|          1.7181E8|                              CO|               No Definido|36510 - 40276 TE_...|              171.81|       Ejemplo|         Si|\n",
            "|DANE - DIRECCION ...|899,999,027|Distrito Capital ...|     Bogotá|Información Estad...|         Activo|   PRECIOS_2020_IPC_...|Prestación de ser...|     Contratación directa|    04/02/2020|                  04/03/2020|               07/01/2020|         1030566755|NESTOR SAUL MURIL...|     No|         4993428.0|                              CO|               No Definido|PRECIOS_2020_IPC_...|            4.993428|       Ejemplo|         Si|\n",
            "+--------------------+-----------+--------------------+-----------+--------------------+---------------+-----------------------+--------------------+-------------------------+--------------+----------------------------+-------------------------+-------------------+--------------------+-------+------------------+--------------------------------+--------------------------+--------------------+--------------------+--------------+-----------+\n",
            "only showing top 20 rows\n",
            "\n"
          ]
        }
      ]
    },
    {
      "cell_type": "code",
      "source": [
        "df2.filter(df2['Millonario?']=='No').count()"
      ],
      "metadata": {
        "colab": {
          "base_uri": "https://localhost:8080/"
        },
        "id": "7Qd2oRf86ikN",
        "outputId": "fc5473a2-a8c4-4c9f-cc35-36e0dc3a83d7"
      },
      "execution_count": 78,
      "outputs": [
        {
          "output_type": "execute_result",
          "data": {
            "text/plain": [
              "10"
            ]
          },
          "metadata": {},
          "execution_count": 78
        }
      ]
    },
    {
      "cell_type": "markdown",
      "source": [
        "### Ejercicio avance 1\n",
        "\n",
        "Con los datos disponibles en su proyecto, realice los siguientes pasos:\n",
        "\n",
        "1. Cree un nuevo proyecto en Google Cloud Platform (GCP).\n",
        "2. Establezca un nuevo \"bucket\" en GCP y almacene allí la información de su proyecto.\n",
        "\n",
        "Si su objetivo es desarrollar un modelo de predicción de aprendizaje automático, siga estos pasos adicionales:\n",
        "\n",
        "3.1. Construya una tabla en BigQuery utilizando los datos de su proyecto.\n",
        "\n",
        "3.2. Configure un clúster en Dataproc y realice la limpieza de datos usando Spark.\n",
        "\n",
        "\n"
      ],
      "metadata": {
        "id": "zOJ1iN5c_yOg"
      }
    }
  ]
}